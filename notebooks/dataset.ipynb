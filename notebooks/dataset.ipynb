{
 "cells": [
  {
   "cell_type": "code",
   "execution_count": 1,
   "metadata": {},
   "outputs": [],
   "source": [
    "import os\n",
    "import sys\n",
    "from importlib import reload\n",
    "sys.path.append('../src')\n",
    "\n",
    "import pandas as pd\n",
    "import numpy as np\n",
    "\n",
    "import matplotlib.pyplot as plt\n",
    "import seaborn as sns\n",
    "import tqdm"
   ]
  },
  {
   "cell_type": "code",
   "execution_count": 2,
   "metadata": {},
   "outputs": [],
   "source": [
    "import transformers"
   ]
  },
  {
   "cell_type": "code",
   "execution_count": 3,
   "metadata": {},
   "outputs": [],
   "source": [
    "import torch.utils.data as D"
   ]
  },
  {
   "cell_type": "code",
   "execution_count": 6,
   "metadata": {},
   "outputs": [],
   "source": [
    "import dataset\n",
    "import transforms"
   ]
  },
  {
   "cell_type": "markdown",
   "metadata": {},
   "source": [
    "# Dataset"
   ]
  },
  {
   "cell_type": "code",
   "execution_count": 87,
   "metadata": {},
   "outputs": [],
   "source": [
    "reload(dataset)\n",
    "valid = dataset.TokenizerDataset('../input/validation.csv')"
   ]
  },
  {
   "cell_type": "code",
   "execution_count": 88,
   "metadata": {},
   "outputs": [
    {
     "name": "stdout",
     "output_type": "stream",
     "text": [
      "CPU times: user 3.09 ms, sys: 0 ns, total: 3.09 ms\n",
      "Wall time: 2.72 ms\n"
     ]
    }
   ],
   "source": [
    "%%time\n",
    "item = valid[35]"
   ]
  },
  {
   "cell_type": "markdown",
   "metadata": {},
   "source": [
    "#### Pre-tokenized version"
   ]
  },
  {
   "cell_type": "code",
   "execution_count": 183,
   "metadata": {},
   "outputs": [],
   "source": [
    "reload(dataset)\n",
    "valid = dataset.Dataset('../input/validation.npz')"
   ]
  },
  {
   "cell_type": "markdown",
   "metadata": {},
   "source": [
    "## Sampling"
   ]
  },
  {
   "cell_type": "markdown",
   "metadata": {},
   "source": [
    "We will create weighted random sampler that will produce random samples with replacement for each epoch with approximately equal amount of positiva and negative samples"
   ]
  },
  {
   "cell_type": "code",
   "execution_count": 184,
   "metadata": {},
   "outputs": [],
   "source": [
    "sampler = valid.weighted_sampler()"
   ]
  },
  {
   "cell_type": "code",
   "execution_count": 205,
   "metadata": {},
   "outputs": [
    {
     "data": {
      "text/plain": [
       "((array([0, 1], dtype=uint8), array([1228, 1232])), 2460)"
      ]
     },
     "execution_count": 205,
     "metadata": {},
     "output_type": "execute_result"
    }
   ],
   "source": [
    "# rerun this cell to ensure that values will be different for each epoch\n",
    "sampled = [i for i in sampler]\n",
    "np.unique(valid.y[sampled], return_counts=True), len(sampled)"
   ]
  },
  {
   "cell_type": "markdown",
   "metadata": {},
   "source": [
    "## Text transforms"
   ]
  },
  {
   "cell_type": "code",
   "execution_count": 76,
   "metadata": {},
   "outputs": [
    {
     "data": {
      "text/plain": [
       "<module 'transforms' from '../src/transforms.py'>"
      ]
     },
     "execution_count": 76,
     "metadata": {},
     "output_type": "execute_result"
    }
   ],
   "source": [
    "reload(transforms)"
   ]
  },
  {
   "cell_type": "code",
   "execution_count": 93,
   "metadata": {},
   "outputs": [
    {
     "data": {
      "text/plain": [
       "' Si racconta che in quel momento una voce dal Cielo proclamò: «Tu sei beato Akiva, il tuo respiro si è spento con  Echad . Tu sei beato Akiva, avrai una parte nel Mondo Avvenire.»[4]  Una frase simile non e  appropriata in un enciclopedia. Che una simile panzana sia stata raccontata e  fuori discussione, che si racconti ora, ridicolo.'"
      ]
     },
     "execution_count": 93,
     "metadata": {},
     "output_type": "execute_result"
    }
   ],
   "source": [
    "sent = valid.df[valid.text_column][500]\n",
    "sent"
   ]
  },
  {
   "cell_type": "code",
   "execution_count": 70,
   "metadata": {},
   "outputs": [
    {
     "data": {
      "text/plain": [
       "'Tu sei beato Akiva, avrai una parte nel Mondo Avvenire.»[4]  Una frase simile non e  appropriata in un enciclopedia.  Si racconta che in quel momento una voce dal Cielo proclamò: «Tu sei beato Akiva, il tuo respiro si è spento con  Echad . Che una simile panzana sia stata raccontata e  fuori discussione, che si racconti ora, ridicolo.'"
      ]
     },
     "execution_count": 70,
     "metadata": {},
     "output_type": "execute_result"
    }
   ],
   "source": [
    "shuffle_sent = transforms.ShuffleSentences(p=1)\n",
    "shuffle_sent(sent)"
   ]
  },
  {
   "cell_type": "code",
   "execution_count": 71,
   "metadata": {},
   "outputs": [
    {
     "name": "stdout",
     "output_type": "stream",
     "text": [
      "81.3 µs ± 663 ns per loop (mean ± std. dev. of 7 runs, 10000 loops each)\n"
     ]
    }
   ],
   "source": [
    "%timeit _ = shuffle_sent(sent)"
   ]
  },
  {
   "cell_type": "code",
   "execution_count": 73,
   "metadata": {},
   "outputs": [
    {
     "data": {
      "text/plain": [
       "'Si racconta che in quel momento una voce dal Cielo proclamò: «Tu beato sei Akiva, il tuo respiro si è spento con Echad . Tu sei beato Akiva, avrai una parte nel Avvenire.»[4] Mondo frase Una simile non e appropriata in un enciclopedia. Che una simile sia panzana stata raccontata fuori discussione, e che si ora, ridicolo. racconti'"
      ]
     },
     "execution_count": 73,
     "metadata": {},
     "output_type": "execute_result"
    }
   ],
   "source": [
    "shuffle_word = transforms.SwapWords(p=1, swap_p=0.1)\n",
    "shuffle_word(sent)"
   ]
  },
  {
   "cell_type": "code",
   "execution_count": 74,
   "metadata": {},
   "outputs": [
    {
     "name": "stdout",
     "output_type": "stream",
     "text": [
      "152 µs ± 42.8 µs per loop (mean ± std. dev. of 7 runs, 1000 loops each)\n"
     ]
    }
   ],
   "source": [
    "%timeit _ = shuffle_word(sent)"
   ]
  },
  {
   "cell_type": "code",
   "execution_count": 77,
   "metadata": {},
   "outputs": [
    {
     "data": {
      "text/plain": [
       "'Si racconta che in quel momento voce dal Cielo proclamò: «Tu sei Akiva, il tuo respiro si è spento con Echad . Tu sei beato avrai una parte nel Mondo Avvenire.»[4] Una frase simile non appropriata in un enciclopedia. Che una simile panzana sia stata raccontata e fuori discussione, che si racconti ora, ridicolo.'"
      ]
     },
     "execution_count": 77,
     "metadata": {},
     "output_type": "execute_result"
    }
   ],
   "source": [
    "drop_word = transforms.DropWords(p=1, drop_p=0.1)\n",
    "drop_word(sent)"
   ]
  },
  {
   "cell_type": "code",
   "execution_count": 78,
   "metadata": {},
   "outputs": [
    {
     "name": "stdout",
     "output_type": "stream",
     "text": [
      "157 µs ± 45 µs per loop (mean ± std. dev. of 7 runs, 1000 loops each)\n"
     ]
    }
   ],
   "source": [
    "%timeit _ = drop_word(sent)"
   ]
  },
  {
   "cell_type": "code",
   "execution_count": 80,
   "metadata": {},
   "outputs": [
    {
     "data": {
      "text/plain": [
       "'Tu sei beato Akiva, avrai una parte nel Mondo Avvenire.»[4]  Una frase simile non e  appropriata in un enciclopedia.  Si racconta che in quel momento una voce dal Cielo proclamò: «Tu sei beato Akiva, il tuo respiro si è spento con  Echad . Che una simile panzana sia stata raccontata e  fuori discussione, che si racconti ora, ridicolo.'"
      ]
     },
     "execution_count": 80,
     "metadata": {},
     "output_type": "execute_result"
    }
   ],
   "source": [
    "all_transforms = transforms.Compose([\n",
    "    transforms.ShuffleSentences(p=0.5),\n",
    "    transforms.SwapWords(swap_p=0.1),\n",
    "    transforms.DropWords(drop_p=0.1),\n",
    "])\n",
    "all_transforms(sent)"
   ]
  },
  {
   "cell_type": "code",
   "execution_count": 81,
   "metadata": {},
   "outputs": [
    {
     "name": "stdout",
     "output_type": "stream",
     "text": [
      "200 µs ± 49.9 µs per loop (mean ± std. dev. of 7 runs, 1000 loops each)\n"
     ]
    }
   ],
   "source": [
    "%timeit _ = all_transforms(sent)"
   ]
  },
  {
   "cell_type": "markdown",
   "metadata": {},
   "source": [
    "### Token transforms "
   ]
  },
  {
   "cell_type": "code",
   "execution_count": 128,
   "metadata": {},
   "outputs": [
    {
     "data": {
      "text/plain": [
       "<module 'transforms' from '../src/transforms.py'>"
      ]
     },
     "execution_count": 128,
     "metadata": {},
     "output_type": "execute_result"
    }
   ],
   "source": [
    "reload(transforms)"
   ]
  },
  {
   "cell_type": "code",
   "execution_count": 129,
   "metadata": {},
   "outputs": [
    {
     "name": "stdout",
     "output_type": "stream",
     "text": [
      " Si racconta che in quel momento una voce dal Cielo proclamò: «Tu sei beato Akiva, il tuo respiro si è spento con  Echad . Tu sei beato Akiva, avrai una parte nel Mondo Avvenire.»[4]  Una frase simile non e  appropriata in un enciclopedia. Che una simile panzana sia stata raccontata e  fuori discussione, che si racconti ora, ridicolo.\n"
     ]
    },
    {
     "data": {
      "text/plain": [
       "array([     0,    602,  54963,    290,     23,  19488,   3594,    220,\n",
       "        26845,   1640,   2079,   8242,    502,  60397,   2516,     12,\n",
       "           94,  15665,   7583,    186,   2832,  36851,    330,      4,\n",
       "          211,   3860, 225565,     78,    565,  66933,     31,    158,\n",
       "        74242,   8408,      6,      5,   1371,   7583,    186,   2832,\n",
       "        36851,    330,      4,    185,   8287,    220,   1235,   1718,\n",
       "       168054,   4908])"
      ]
     },
     "execution_count": 129,
     "metadata": {},
     "output_type": "execute_result"
    }
   ],
   "source": [
    "print(valid.df[valid.text_column][500])\n",
    "sent = valid[500][0].numpy()\n",
    "sent[:50]"
   ]
  },
  {
   "cell_type": "code",
   "execution_count": 130,
   "metadata": {},
   "outputs": [
    {
     "data": {
      "text/plain": [
       "'Si racconta che in quel momento una voce dal Cielo proclamò: «Tu sei beato Akiva, il tuo respiro si è spento con Echad. Che una simile panzana sia stata raccontata e fuori discussione, che si racconti ora, ridicolo. Tu sei beato Akiva, avrai una parte nel Mondo Avvenire.»[] Una frase simile non e appropriata in un enciclopedia.'"
      ]
     },
     "execution_count": 130,
     "metadata": {},
     "output_type": "execute_result"
    }
   ],
   "source": [
    "shuffle_sent = transforms.TokenShuffleSentences(p=1)\n",
    "valid.tokenizer.decode(shuffle_sent(sent)[shuffle_sent.mask(sent)])"
   ]
  },
  {
   "cell_type": "code",
   "execution_count": 123,
   "metadata": {},
   "outputs": [
    {
     "name": "stdout",
     "output_type": "stream",
     "text": [
      "29.5 µs ± 4.63 µs per loop (mean ± std. dev. of 7 runs, 10000 loops each)\n"
     ]
    }
   ],
   "source": [
    "%timeit _ = shuffle_sent(sent)"
   ]
  },
  {
   "cell_type": "code",
   "execution_count": 131,
   "metadata": {},
   "outputs": [
    {
     "data": {
      "text/plain": [
       "'Si racconta che in quel momento una voce dalelo pro Ciclamò: «Tu sei beatova Aki, il respiro tuo si è spento con Echad. Tu sei beato Akiva, avrai una nel parte Mondo Avvenire.[»] Una frase simile non e appropriata in en unciclopedia. Che una simile panzana sia stata raccontata e fuorie discussion, che si racconti ora, ridicolo.'"
      ]
     },
     "execution_count": 131,
     "metadata": {},
     "output_type": "execute_result"
    }
   ],
   "source": [
    "shuffle_word = transforms.TokenSwapWords(p=1, swap_p=0.1)\n",
    "valid.tokenizer.decode(shuffle_word(sent)[shuffle_word.mask(sent)])"
   ]
  },
  {
   "cell_type": "code",
   "execution_count": 132,
   "metadata": {},
   "outputs": [
    {
     "name": "stdout",
     "output_type": "stream",
     "text": [
      "1.4 ms ± 319 µs per loop (mean ± std. dev. of 7 runs, 100 loops each)\n"
     ]
    }
   ],
   "source": [
    "%timeit _ = shuffle_word(sent)"
   ]
  },
  {
   "cell_type": "code",
   "execution_count": 133,
   "metadata": {},
   "outputs": [
    {
     "data": {
      "text/plain": [
       "'Si racconta in quel momento voce dal Ci proclamò: «Tu seiato Akiva, il tuo respiro si è spento Echad. Tu seiato Akiva, avrai una parte nel Mondo Avvenire.»[ Una frase simile non e appropriata in unciclopedia. Che una simile panzana sia stata raccontata e fuori discussione, che si racconti ora,olo.</s><pad><pad><pad><pad><pad><pad><pad><pad>'"
      ]
     },
     "execution_count": 133,
     "metadata": {},
     "output_type": "execute_result"
    }
   ],
   "source": [
    "drop_word = transforms.TokenDropWords(p=1, drop_p=0.1)\n",
    "valid.tokenizer.decode(drop_word(sent)[drop_word.mask(sent)])"
   ]
  },
  {
   "cell_type": "code",
   "execution_count": 134,
   "metadata": {},
   "outputs": [
    {
     "name": "stdout",
     "output_type": "stream",
     "text": [
      "1.38 ms ± 351 µs per loop (mean ± std. dev. of 7 runs, 100 loops each)\n"
     ]
    }
   ],
   "source": [
    "%timeit _ = drop_word(sent)"
   ]
  },
  {
   "cell_type": "code",
   "execution_count": 137,
   "metadata": {},
   "outputs": [
    {
     "data": {
      "text/plain": [
       "'Tu sei beato Akiva, avrai una parte nel Mondo Avvenire. Si racconta in quel momento una voce dal Cielo proclamò: «Tu beato Akiva, il tuo respiro si è spento con Echad. Che una simile panzana sia stata raccontata e fuorie, che si racconti ora, ridicolo.»[] Una frase simile non e appropriata in enciclopedia.</s><pad><pad><pad>'"
      ]
     },
     "execution_count": 137,
     "metadata": {},
     "output_type": "execute_result"
    }
   ],
   "source": [
    "all_transforms = transforms.Compose([\n",
    "    transforms.TokenShuffleSentences(p=0.5),\n",
    "    transforms.TokenSwapWords(swap_p=0.1),\n",
    "    transforms.TokenDropWords(drop_p=0.1),\n",
    "])\n",
    "valid.tokenizer.decode(all_transforms(sent)[drop_word.mask(sent)])"
   ]
  },
  {
   "cell_type": "code",
   "execution_count": 138,
   "metadata": {},
   "outputs": [
    {
     "name": "stdout",
     "output_type": "stream",
     "text": [
      "1.32 ms ± 380 µs per loop (mean ± std. dev. of 7 runs, 100 loops each)\n"
     ]
    }
   ],
   "source": [
    "%timeit _ = all_transforms(sent)"
   ]
  },
  {
   "cell_type": "code",
   "execution_count": null,
   "metadata": {},
   "outputs": [],
   "source": []
  }
 ],
 "metadata": {
  "kernelspec": {
   "display_name": "peenv (conda)",
   "language": "python",
   "name": "peenv36"
  },
  "language_info": {
   "codemirror_mode": {
    "name": "ipython",
    "version": 3
   },
   "file_extension": ".py",
   "mimetype": "text/x-python",
   "name": "python",
   "nbconvert_exporter": "python",
   "pygments_lexer": "ipython3",
   "version": "3.7.4"
  }
 },
 "nbformat": 4,
 "nbformat_minor": 4
}
