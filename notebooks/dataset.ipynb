{
 "cells": [
  {
   "cell_type": "code",
   "execution_count": 235,
   "metadata": {
    "collapsed": true
   },
   "outputs": [],
   "source": [
    "import os\n",
    "import sys\n",
    "from importlib import reload\n",
    "sys.path.append('../src')\n",
    "\n",
    "import pandas as pd\n",
    "import numpy as np\n",
    "\n",
    "import matplotlib.pyplot as plt\n",
    "import seaborn as sns\n",
    "import tqdm"
   ]
  },
  {
   "cell_type": "code",
   "execution_count": 2,
   "metadata": {
    "collapsed": true
   },
   "outputs": [],
   "source": [
    "import transformers"
   ]
  },
  {
   "cell_type": "code",
   "execution_count": 3,
   "metadata": {
    "collapsed": true
   },
   "outputs": [],
   "source": [
    "import torch.utils.data as D"
   ]
  },
  {
   "cell_type": "code",
   "execution_count": 4,
   "metadata": {
    "collapsed": false
   },
   "outputs": [
    {
     "name": "stderr",
     "output_type": "stream",
     "text": [
      "[nltk_data] Downloading package punkt to\n",
      "[nltk_data]     /gpfs/hpc/home/papkov/nltk_data...\n",
      "[nltk_data]   Package punkt is already up-to-date!\n"
     ]
    },
    {
     "name": "stdout",
     "output_type": "stream",
     "text": [
      "INFO: Pandarallel will run on 2 workers.\n",
      "INFO: Pandarallel will use Memory file system to transfer data between the main process and workers.\n"
     ]
    }
   ],
   "source": [
    "import dataset\n",
    "import transforms"
   ]
  },
  {
   "cell_type": "markdown",
   "metadata": {},
   "source": [
    "# Dataset"
   ]
  },
  {
   "cell_type": "code",
   "execution_count": 238,
   "metadata": {
    "collapsed": true
   },
   "outputs": [],
   "source": [
    "reload(dataset)\n",
    "valid = dataset.TokenizerDataset('../input/validation.csv')"
   ]
  },
  {
   "cell_type": "code",
   "execution_count": 239,
   "metadata": {
    "collapsed": false
   },
   "outputs": [
    {
     "name": "stdout",
     "output_type": "stream",
     "text": [
      "CPU times: user 16.6 ms, sys: 2.08 ms, total: 18.7 ms\n",
      "Wall time: 41.3 ms\n"
     ]
    }
   ],
   "source": [
    "%%time\n",
    "item = valid[35]"
   ]
  },
  {
   "cell_type": "markdown",
   "metadata": {},
   "source": [
    "#### Pre-tokenized version"
   ]
  },
  {
   "cell_type": "code",
   "execution_count": 183,
   "metadata": {
    "collapsed": true
   },
   "outputs": [],
   "source": [
    "reload(dataset)\n",
    "valid = dataset.Dataset('../input/validation.npz')"
   ]
  },
  {
   "cell_type": "markdown",
   "metadata": {},
   "source": [
    "## Sampling"
   ]
  },
  {
   "cell_type": "markdown",
   "metadata": {},
   "source": [
    "We will create weighted random sampler that will produce random samples with replacement for each epoch with approximately equal amount of positiva and negative samples"
   ]
  },
  {
   "cell_type": "code",
   "execution_count": 184,
   "metadata": {
    "collapsed": true
   },
   "outputs": [],
   "source": [
    "sampler = valid.weighted_sampler()"
   ]
  },
  {
   "cell_type": "code",
   "execution_count": 205,
   "metadata": {
    "collapsed": false
   },
   "outputs": [
    {
     "data": {
      "text/plain": [
       "((array([0, 1], dtype=uint8), array([1228, 1232])), 2460)"
      ]
     },
     "execution_count": 205,
     "metadata": {},
     "output_type": "execute_result"
    }
   ],
   "source": [
    "# rerun this cell to ensure that values will be different for each epoch\n",
    "sampled = [i for i in sampler]\n",
    "np.unique(valid.y[sampled], return_counts=True), len(sampled)"
   ]
  },
  {
   "cell_type": "markdown",
   "metadata": {},
   "source": [
    "## Text transforms"
   ]
  },
  {
   "cell_type": "code",
   "execution_count": 271,
   "metadata": {
    "collapsed": false
   },
   "outputs": [
    {
     "data": {
      "text/plain": [
       "<module 'transforms' from '../src/transforms.py'>"
      ]
     },
     "execution_count": 271,
     "metadata": {},
     "output_type": "execute_result"
    }
   ],
   "source": [
    "reload(transforms)"
   ]
  },
  {
   "cell_type": "code",
   "execution_count": 256,
   "metadata": {
    "collapsed": false
   },
   "outputs": [
    {
     "data": {
      "text/plain": [
       "204"
      ]
     },
     "execution_count": 256,
     "metadata": {},
     "output_type": "execute_result"
    }
   ],
   "source": [
    "len(sent.split())"
   ]
  },
  {
   "cell_type": "code",
   "execution_count": 258,
   "metadata": {
    "collapsed": false
   },
   "outputs": [
    {
     "data": {
      "text/plain": [
       "211"
      ]
     },
     "execution_count": 258,
     "metadata": {},
     "output_type": "execute_result"
    }
   ],
   "source": [
    "np.max(valid.dataset[valid.text_column].apply(lambda x: len(x.split())))"
   ]
  },
  {
   "cell_type": "code",
   "execution_count": 263,
   "metadata": {
    "collapsed": false
   },
   "outputs": [
    {
     "data": {
      "text/plain": [
       "' Texto de titular e van a comer la polla el ijo puta del feran maxado k va escribiendo cosas x internet i del imbecil del xavi!!! k sa comido mismocos! !! subnormales!!!'"
      ]
     },
     "execution_count": 263,
     "metadata": {},
     "output_type": "execute_result"
    }
   ],
   "source": [
    "sent = valid.dataset[valid.text_column][350]\n",
    "sent"
   ]
  },
  {
   "cell_type": "code",
   "execution_count": 272,
   "metadata": {
    "collapsed": false
   },
   "outputs": [
    {
     "data": {
      "text/plain": [
       "'Texto de titular e van a comer la polla el ijo puta del feran maxado k va escribiendo cosas x internet i del imbecil del xavi!!! k sa comido mismocos! !! subnormales!!!'"
      ]
     },
     "execution_count": 272,
     "metadata": {},
     "output_type": "execute_result"
    }
   ],
   "source": [
    "truncate_sent = transforms.Truncate(p=1)\n",
    "truncate_sent(sent)"
   ]
  },
  {
   "cell_type": "code",
   "execution_count": 242,
   "metadata": {
    "collapsed": false
   },
   "outputs": [
    {
     "data": {
      "text/plain": [
       "'Tu sei beato Akiva, avrai una parte nel Mondo Avvenire.»[4]  Una frase simile non e  appropriata in un enciclopedia. Che una simile panzana sia stata raccontata e  fuori discussione, che si racconti ora, ridicolo.  Si racconta che in quel momento una voce dal Cielo proclamò: «Tu sei beato Akiva, il tuo respiro si è spento con  Echad .'"
      ]
     },
     "execution_count": 242,
     "metadata": {},
     "output_type": "execute_result"
    }
   ],
   "source": [
    "shuffle_sent = transforms.ShuffleSentences(p=1)\n",
    "shuffle_sent(sent)"
   ]
  },
  {
   "cell_type": "code",
   "execution_count": 71,
   "metadata": {
    "collapsed": false
   },
   "outputs": [
    {
     "name": "stdout",
     "output_type": "stream",
     "text": [
      "81.3 µs ± 663 ns per loop (mean ± std. dev. of 7 runs, 10000 loops each)\n"
     ]
    }
   ],
   "source": [
    "%timeit _ = shuffle_sent(sent)"
   ]
  },
  {
   "cell_type": "code",
   "execution_count": 73,
   "metadata": {
    "collapsed": false
   },
   "outputs": [
    {
     "data": {
      "text/plain": [
       "'Si racconta che in quel momento una voce dal Cielo proclamò: «Tu beato sei Akiva, il tuo respiro si è spento con Echad . Tu sei beato Akiva, avrai una parte nel Avvenire.»[4] Mondo frase Una simile non e appropriata in un enciclopedia. Che una simile sia panzana stata raccontata fuori discussione, e che si ora, ridicolo. racconti'"
      ]
     },
     "execution_count": 73,
     "metadata": {},
     "output_type": "execute_result"
    }
   ],
   "source": [
    "shuffle_word = transforms.SwapWords(p=1, swap_p=0.1)\n",
    "shuffle_word(sent)"
   ]
  },
  {
   "cell_type": "code",
   "execution_count": 74,
   "metadata": {
    "collapsed": false
   },
   "outputs": [
    {
     "name": "stdout",
     "output_type": "stream",
     "text": [
      "152 µs ± 42.8 µs per loop (mean ± std. dev. of 7 runs, 1000 loops each)\n"
     ]
    }
   ],
   "source": [
    "%timeit _ = shuffle_word(sent)"
   ]
  },
  {
   "cell_type": "code",
   "execution_count": 77,
   "metadata": {
    "collapsed": false
   },
   "outputs": [
    {
     "data": {
      "text/plain": [
       "'Si racconta che in quel momento voce dal Cielo proclamò: «Tu sei Akiva, il tuo respiro si è spento con Echad . Tu sei beato avrai una parte nel Mondo Avvenire.»[4] Una frase simile non appropriata in un enciclopedia. Che una simile panzana sia stata raccontata e fuori discussione, che si racconti ora, ridicolo.'"
      ]
     },
     "execution_count": 77,
     "metadata": {},
     "output_type": "execute_result"
    }
   ],
   "source": [
    "drop_word = transforms.DropWords(p=1, drop_p=0.1)\n",
    "drop_word(sent)"
   ]
  },
  {
   "cell_type": "code",
   "execution_count": 78,
   "metadata": {
    "collapsed": false
   },
   "outputs": [
    {
     "name": "stdout",
     "output_type": "stream",
     "text": [
      "157 µs ± 45 µs per loop (mean ± std. dev. of 7 runs, 1000 loops each)\n"
     ]
    }
   ],
   "source": [
    "%timeit _ = drop_word(sent)"
   ]
  },
  {
   "cell_type": "code",
   "execution_count": 80,
   "metadata": {
    "collapsed": false
   },
   "outputs": [
    {
     "data": {
      "text/plain": [
       "'Tu sei beato Akiva, avrai una parte nel Mondo Avvenire.»[4]  Una frase simile non e  appropriata in un enciclopedia.  Si racconta che in quel momento una voce dal Cielo proclamò: «Tu sei beato Akiva, il tuo respiro si è spento con  Echad . Che una simile panzana sia stata raccontata e  fuori discussione, che si racconti ora, ridicolo.'"
      ]
     },
     "execution_count": 80,
     "metadata": {},
     "output_type": "execute_result"
    }
   ],
   "source": [
    "all_transforms = transforms.Compose([\n",
    "    transforms.ShuffleSentences(p=0.5),\n",
    "    transforms.SwapWords(swap_p=0.1),\n",
    "    transforms.DropWords(drop_p=0.1),\n",
    "])\n",
    "all_transforms(sent)"
   ]
  },
  {
   "cell_type": "code",
   "execution_count": 81,
   "metadata": {
    "collapsed": false
   },
   "outputs": [
    {
     "name": "stdout",
     "output_type": "stream",
     "text": [
      "200 µs ± 49.9 µs per loop (mean ± std. dev. of 7 runs, 1000 loops each)\n"
     ]
    }
   ],
   "source": [
    "%timeit _ = all_transforms(sent)"
   ]
  },
  {
   "cell_type": "markdown",
   "metadata": {},
   "source": [
    "### Token transforms "
   ]
  },
  {
   "cell_type": "code",
   "execution_count": 128,
   "metadata": {
    "collapsed": false
   },
   "outputs": [
    {
     "data": {
      "text/plain": [
       "<module 'transforms' from '../src/transforms.py'>"
      ]
     },
     "execution_count": 128,
     "metadata": {},
     "output_type": "execute_result"
    }
   ],
   "source": [
    "reload(transforms)"
   ]
  },
  {
   "cell_type": "code",
   "execution_count": 129,
   "metadata": {
    "collapsed": false
   },
   "outputs": [
    {
     "name": "stdout",
     "output_type": "stream",
     "text": [
      " Si racconta che in quel momento una voce dal Cielo proclamò: «Tu sei beato Akiva, il tuo respiro si è spento con  Echad . Tu sei beato Akiva, avrai una parte nel Mondo Avvenire.»[4]  Una frase simile non e  appropriata in un enciclopedia. Che una simile panzana sia stata raccontata e  fuori discussione, che si racconti ora, ridicolo.\n"
     ]
    },
    {
     "data": {
      "text/plain": [
       "array([     0,    602,  54963,    290,     23,  19488,   3594,    220,\n",
       "        26845,   1640,   2079,   8242,    502,  60397,   2516,     12,\n",
       "           94,  15665,   7583,    186,   2832,  36851,    330,      4,\n",
       "          211,   3860, 225565,     78,    565,  66933,     31,    158,\n",
       "        74242,   8408,      6,      5,   1371,   7583,    186,   2832,\n",
       "        36851,    330,      4,    185,   8287,    220,   1235,   1718,\n",
       "       168054,   4908])"
      ]
     },
     "execution_count": 129,
     "metadata": {},
     "output_type": "execute_result"
    }
   ],
   "source": [
    "print(valid.df[valid.text_column][500])\n",
    "sent = valid[500][0].numpy()\n",
    "sent[:50]"
   ]
  },
  {
   "cell_type": "code",
   "execution_count": 130,
   "metadata": {
    "collapsed": false
   },
   "outputs": [
    {
     "data": {
      "text/plain": [
       "'Si racconta che in quel momento una voce dal Cielo proclamò: «Tu sei beato Akiva, il tuo respiro si è spento con Echad. Che una simile panzana sia stata raccontata e fuori discussione, che si racconti ora, ridicolo. Tu sei beato Akiva, avrai una parte nel Mondo Avvenire.»[] Una frase simile non e appropriata in un enciclopedia.'"
      ]
     },
     "execution_count": 130,
     "metadata": {},
     "output_type": "execute_result"
    }
   ],
   "source": [
    "shuffle_sent = transforms.TokenShuffleSentences(p=1)\n",
    "valid.tokenizer.decode(shuffle_sent(sent)[shuffle_sent.mask(sent)])"
   ]
  },
  {
   "cell_type": "code",
   "execution_count": 123,
   "metadata": {
    "collapsed": false
   },
   "outputs": [
    {
     "name": "stdout",
     "output_type": "stream",
     "text": [
      "29.5 µs ± 4.63 µs per loop (mean ± std. dev. of 7 runs, 10000 loops each)\n"
     ]
    }
   ],
   "source": [
    "%timeit _ = shuffle_sent(sent)"
   ]
  },
  {
   "cell_type": "code",
   "execution_count": 131,
   "metadata": {
    "collapsed": false
   },
   "outputs": [
    {
     "data": {
      "text/plain": [
       "'Si racconta che in quel momento una voce dalelo pro Ciclamò: «Tu sei beatova Aki, il respiro tuo si è spento con Echad. Tu sei beato Akiva, avrai una nel parte Mondo Avvenire.[»] Una frase simile non e appropriata in en unciclopedia. Che una simile panzana sia stata raccontata e fuorie discussion, che si racconti ora, ridicolo.'"
      ]
     },
     "execution_count": 131,
     "metadata": {},
     "output_type": "execute_result"
    }
   ],
   "source": [
    "shuffle_word = transforms.TokenSwapWords(p=1, swap_p=0.1)\n",
    "valid.tokenizer.decode(shuffle_word(sent)[shuffle_word.mask(sent)])"
   ]
  },
  {
   "cell_type": "code",
   "execution_count": 132,
   "metadata": {
    "collapsed": false
   },
   "outputs": [
    {
     "name": "stdout",
     "output_type": "stream",
     "text": [
      "1.4 ms ± 319 µs per loop (mean ± std. dev. of 7 runs, 100 loops each)\n"
     ]
    }
   ],
   "source": [
    "%timeit _ = shuffle_word(sent)"
   ]
  },
  {
   "cell_type": "code",
   "execution_count": 133,
   "metadata": {
    "collapsed": false
   },
   "outputs": [
    {
     "data": {
      "text/plain": [
       "'Si racconta in quel momento voce dal Ci proclamò: «Tu seiato Akiva, il tuo respiro si è spento Echad. Tu seiato Akiva, avrai una parte nel Mondo Avvenire.»[ Una frase simile non e appropriata in unciclopedia. Che una simile panzana sia stata raccontata e fuori discussione, che si racconti ora,olo.</s><pad><pad><pad><pad><pad><pad><pad><pad>'"
      ]
     },
     "execution_count": 133,
     "metadata": {},
     "output_type": "execute_result"
    }
   ],
   "source": [
    "drop_word = transforms.TokenDropWords(p=1, drop_p=0.1)\n",
    "valid.tokenizer.decode(drop_word(sent)[drop_word.mask(sent)])"
   ]
  },
  {
   "cell_type": "code",
   "execution_count": 134,
   "metadata": {
    "collapsed": false
   },
   "outputs": [
    {
     "name": "stdout",
     "output_type": "stream",
     "text": [
      "1.38 ms ± 351 µs per loop (mean ± std. dev. of 7 runs, 100 loops each)\n"
     ]
    }
   ],
   "source": [
    "%timeit _ = drop_word(sent)"
   ]
  },
  {
   "cell_type": "code",
   "execution_count": 137,
   "metadata": {
    "collapsed": false
   },
   "outputs": [
    {
     "data": {
      "text/plain": [
       "'Tu sei beato Akiva, avrai una parte nel Mondo Avvenire. Si racconta in quel momento una voce dal Cielo proclamò: «Tu beato Akiva, il tuo respiro si è spento con Echad. Che una simile panzana sia stata raccontata e fuorie, che si racconti ora, ridicolo.»[] Una frase simile non e appropriata in enciclopedia.</s><pad><pad><pad>'"
      ]
     },
     "execution_count": 137,
     "metadata": {},
     "output_type": "execute_result"
    }
   ],
   "source": [
    "all_transforms = transforms.Compose([\n",
    "    transforms.TokenShuffleSentences(p=0.5),\n",
    "    transforms.TokenSwapWords(swap_p=0.1),\n",
    "    transforms.TokenDropWords(drop_p=0.1),\n",
    "])\n",
    "valid.tokenizer.decode(all_transforms(sent)[drop_word.mask(sent)])"
   ]
  },
  {
   "cell_type": "code",
   "execution_count": 138,
   "metadata": {
    "collapsed": false
   },
   "outputs": [
    {
     "name": "stdout",
     "output_type": "stream",
     "text": [
      "1.32 ms ± 380 µs per loop (mean ± std. dev. of 7 runs, 100 loops each)\n"
     ]
    }
   ],
   "source": [
    "%timeit _ = all_transforms(sent)"
   ]
  },
  {
   "cell_type": "code",
   "execution_count": null,
   "metadata": {
    "collapsed": true
   },
   "outputs": [],
   "source": []
  },
  {
   "cell_type": "markdown",
   "metadata": {},
   "source": [
    "# Multilingual dataset "
   ]
  },
  {
   "cell_type": "code",
   "execution_count": 79,
   "metadata": {
    "collapsed": true
   },
   "outputs": [],
   "source": [
    "tr = pd.read_csv('../input/multilingual-train-ludovick/jigsaw-toxic-comment-train_tr_clean.csv')\n",
    "# ru = pd.read_csv('../input/multilingual-train/jigsaw-toxic-comment-train-google-ru-cleaned.csv')"
   ]
  },
  {
   "cell_type": "code",
   "execution_count": 10,
   "metadata": {
    "collapsed": true
   },
   "outputs": [],
   "source": [
    "ru = pd.read_csv('../input/multilingual-train/jigsaw-toxic-comment-train-google-ru.csv')"
   ]
  },
  {
   "cell_type": "code",
   "execution_count": 80,
   "metadata": {
    "collapsed": false
   },
   "outputs": [
    {
     "data": {
      "text/html": [
       "<div>\n",
       "<style scoped>\n",
       "    .dataframe tbody tr th:only-of-type {\n",
       "        vertical-align: middle;\n",
       "    }\n",
       "\n",
       "    .dataframe tbody tr th {\n",
       "        vertical-align: top;\n",
       "    }\n",
       "\n",
       "    .dataframe thead th {\n",
       "        text-align: right;\n",
       "    }\n",
       "</style>\n",
       "<table border=\"1\" class=\"dataframe\">\n",
       "  <thead>\n",
       "    <tr style=\"text-align: right;\">\n",
       "      <th></th>\n",
       "      <th>id</th>\n",
       "      <th>comment_text</th>\n",
       "      <th>toxic</th>\n",
       "      <th>severe_toxic</th>\n",
       "      <th>obscene</th>\n",
       "      <th>threat</th>\n",
       "      <th>insult</th>\n",
       "      <th>identity_hate</th>\n",
       "    </tr>\n",
       "  </thead>\n",
       "  <tbody>\n",
       "    <tr>\n",
       "      <th>223536</th>\n",
       "      <td>fff8f64043129fa2</td>\n",
       "      <td>: Jerome, görüyorum ki, bununla hiç uğraşmadın...</td>\n",
       "      <td>0</td>\n",
       "      <td>0</td>\n",
       "      <td>0</td>\n",
       "      <td>0</td>\n",
       "      <td>0</td>\n",
       "      <td>0</td>\n",
       "    </tr>\n",
       "    <tr>\n",
       "      <th>223537</th>\n",
       "      <td>fff9d70fe0722906</td>\n",
       "      <td>== Şanslı piç ==  http://wikimediafoundation.o...</td>\n",
       "      <td>0</td>\n",
       "      <td>0</td>\n",
       "      <td>0</td>\n",
       "      <td>0</td>\n",
       "      <td>0</td>\n",
       "      <td>0</td>\n",
       "    </tr>\n",
       "    <tr>\n",
       "      <th>223538</th>\n",
       "      <td>fffa8a11c4378854</td>\n",
       "      <td>== hepinize utanç !!! ==   Geylerden bahsetmek...</td>\n",
       "      <td>0</td>\n",
       "      <td>0</td>\n",
       "      <td>0</td>\n",
       "      <td>0</td>\n",
       "      <td>0</td>\n",
       "      <td>0</td>\n",
       "    </tr>\n",
       "    <tr>\n",
       "      <th>223539</th>\n",
       "      <td>fffac2a094c8e0e2</td>\n",
       "      <td>MEL GIBSON, SHITTY FİLMLERİ YAPAN NAZI HATTI. ...</td>\n",
       "      <td>1</td>\n",
       "      <td>0</td>\n",
       "      <td>1</td>\n",
       "      <td>0</td>\n",
       "      <td>1</td>\n",
       "      <td>0</td>\n",
       "    </tr>\n",
       "    <tr>\n",
       "      <th>223540</th>\n",
       "      <td>fffb5451268fb5ba</td>\n",
       "      <td>\"   == Unicorn inine keşif ==   Sözde, Kuzey K...</td>\n",
       "      <td>0</td>\n",
       "      <td>0</td>\n",
       "      <td>0</td>\n",
       "      <td>0</td>\n",
       "      <td>0</td>\n",
       "      <td>0</td>\n",
       "    </tr>\n",
       "  </tbody>\n",
       "</table>\n",
       "</div>"
      ],
      "text/plain": [
       "                      id                                       comment_text  \\\n",
       "223536  fff8f64043129fa2  : Jerome, görüyorum ki, bununla hiç uğraşmadın...   \n",
       "223537  fff9d70fe0722906  == Şanslı piç ==  http://wikimediafoundation.o...   \n",
       "223538  fffa8a11c4378854  == hepinize utanç !!! ==   Geylerden bahsetmek...   \n",
       "223539  fffac2a094c8e0e2  MEL GIBSON, SHITTY FİLMLERİ YAPAN NAZI HATTI. ...   \n",
       "223540  fffb5451268fb5ba  \"   == Unicorn inine keşif ==   Sözde, Kuzey K...   \n",
       "\n",
       "        toxic  severe_toxic  obscene  threat  insult  identity_hate  \n",
       "223536      0             0        0       0       0              0  \n",
       "223537      0             0        0       0       0              0  \n",
       "223538      0             0        0       0       0              0  \n",
       "223539      1             0        1       0       1              0  \n",
       "223540      0             0        0       0       0              0  "
      ]
     },
     "execution_count": 80,
     "metadata": {},
     "output_type": "execute_result"
    }
   ],
   "source": [
    "tr.tail()"
   ]
  },
  {
   "cell_type": "code",
   "execution_count": 11,
   "metadata": {
    "collapsed": false
   },
   "outputs": [
    {
     "data": {
      "text/html": [
       "<div>\n",
       "<style scoped>\n",
       "    .dataframe tbody tr th:only-of-type {\n",
       "        vertical-align: middle;\n",
       "    }\n",
       "\n",
       "    .dataframe tbody tr th {\n",
       "        vertical-align: top;\n",
       "    }\n",
       "\n",
       "    .dataframe thead th {\n",
       "        text-align: right;\n",
       "    }\n",
       "</style>\n",
       "<table border=\"1\" class=\"dataframe\">\n",
       "  <thead>\n",
       "    <tr style=\"text-align: right;\">\n",
       "      <th></th>\n",
       "      <th>Unnamed: 0</th>\n",
       "      <th>id</th>\n",
       "      <th>comment_text</th>\n",
       "      <th>toxic</th>\n",
       "      <th>severe_toxic</th>\n",
       "      <th>obscene</th>\n",
       "      <th>threat</th>\n",
       "      <th>insult</th>\n",
       "      <th>identity_hate</th>\n",
       "    </tr>\n",
       "  </thead>\n",
       "  <tbody>\n",
       "    <tr>\n",
       "      <th>223544</th>\n",
       "      <td>223544</td>\n",
       "      <td>fff8f521a7dbcd47</td>\n",
       "      <td>закрыл мексиканскую границу, не выглядел плохо</td>\n",
       "      <td>0</td>\n",
       "      <td>0</td>\n",
       "      <td>0</td>\n",
       "      <td>0</td>\n",
       "      <td>0</td>\n",
       "      <td>0</td>\n",
       "    </tr>\n",
       "    <tr>\n",
       "      <th>223545</th>\n",
       "      <td>223545</td>\n",
       "      <td>fffac2a094c8e0e2</td>\n",
       "      <td>Мэл Гибсон - нацистская сучка, которая делает ...</td>\n",
       "      <td>1</td>\n",
       "      <td>0</td>\n",
       "      <td>0</td>\n",
       "      <td>0</td>\n",
       "      <td>0</td>\n",
       "      <td>0</td>\n",
       "    </tr>\n",
       "    <tr>\n",
       "      <th>223546</th>\n",
       "      <td>223546</td>\n",
       "      <td>fff8f64043129fa2</td>\n",
       "      <td>: Джером, я вижу, ты никогда не удосужился к э...</td>\n",
       "      <td>0</td>\n",
       "      <td>0</td>\n",
       "      <td>0</td>\n",
       "      <td>0</td>\n",
       "      <td>0</td>\n",
       "      <td>0</td>\n",
       "    </tr>\n",
       "    <tr>\n",
       "      <th>223547</th>\n",
       "      <td>223547</td>\n",
       "      <td>fffa8a11c4378854</td>\n",
       "      <td>== позор вам всем !!! ==\\n\\n Вы хотите говорит...</td>\n",
       "      <td>0</td>\n",
       "      <td>0</td>\n",
       "      <td>1</td>\n",
       "      <td>0</td>\n",
       "      <td>1</td>\n",
       "      <td>0</td>\n",
       "    </tr>\n",
       "    <tr>\n",
       "      <th>223548</th>\n",
       "      <td>223548</td>\n",
       "      <td>fff718ffe5f05559</td>\n",
       "      <td>Я только что обнаружил еще один список: список...</td>\n",
       "      <td>0</td>\n",
       "      <td>0</td>\n",
       "      <td>0</td>\n",
       "      <td>0</td>\n",
       "      <td>0</td>\n",
       "      <td>0</td>\n",
       "    </tr>\n",
       "  </tbody>\n",
       "</table>\n",
       "</div>"
      ],
      "text/plain": [
       "        Unnamed: 0                id  \\\n",
       "223544      223544  fff8f521a7dbcd47   \n",
       "223545      223545  fffac2a094c8e0e2   \n",
       "223546      223546  fff8f64043129fa2   \n",
       "223547      223547  fffa8a11c4378854   \n",
       "223548      223548  fff718ffe5f05559   \n",
       "\n",
       "                                             comment_text toxic  severe_toxic  \\\n",
       "223544     закрыл мексиканскую границу, не выглядел плохо     0             0   \n",
       "223545  Мэл Гибсон - нацистская сучка, которая делает ...     1             0   \n",
       "223546  : Джером, я вижу, ты никогда не удосужился к э...     0             0   \n",
       "223547  == позор вам всем !!! ==\\n\\n Вы хотите говорит...     0             0   \n",
       "223548  Я только что обнаружил еще один список: список...     0             0   \n",
       "\n",
       "        obscene  threat  insult  identity_hate  \n",
       "223544        0       0       0              0  \n",
       "223545        0       0       0              0  \n",
       "223546        0       0       0              0  \n",
       "223547        1       0       1              0  \n",
       "223548        0       0       0              0  "
      ]
     },
     "execution_count": 11,
     "metadata": {},
     "output_type": "execute_result"
    }
   ],
   "source": [
    "ru.tail()"
   ]
  },
  {
   "cell_type": "code",
   "execution_count": 16,
   "metadata": {
    "collapsed": false
   },
   "outputs": [],
   "source": [
    "from functools import reduce"
   ]
  },
  {
   "cell_type": "code",
   "execution_count": 42,
   "metadata": {
    "collapsed": false
   },
   "outputs": [
    {
     "data": {
      "text/plain": [
       "'it'"
      ]
     },
     "execution_count": 42,
     "metadata": {},
     "output_type": "execute_result"
    }
   ],
   "source": [
    "np.random.choice(langs)"
   ]
  },
  {
   "cell_type": "code",
   "execution_count": 40,
   "metadata": {
    "collapsed": false
   },
   "outputs": [],
   "source": [
    "# read multilingual\n",
    "langs = ['es', 'tr', 'ru', 'fr', 'it', 'pt']\n",
    "path = '../input/multilingual-train/jigsaw-toxic-comment-train-google-{}-cleaned.csv'\n",
    "multilingual_df = [pd.read_csv(path.format(lang), index_col=0)[['id', 'comment_text', 'toxic']] for lang in langs]\n",
    "# add english\n",
    "multilingual_df.append(pd.read_csv('../input/jigsaw-toxic-comment-train.csv')[['id', 'comment_text', 'toxic']])\n",
    "langs.append('en')\n",
    "# merge\n",
    "multilingual_df = reduce(lambda x, y: pd.merge(x, y, on='id'), multilingual_df)\n",
    "# clean\n",
    "multilingual_df = multilingual_df.drop(['toxic_x', 'toxic_y'], 1).tail()\n",
    "multilingual_df.columns = ['id'] + langs + ['toxic']"
   ]
  },
  {
   "cell_type": "code",
   "execution_count": 41,
   "metadata": {
    "collapsed": false
   },
   "outputs": [
    {
     "data": {
      "text/html": [
       "<div>\n",
       "<style scoped>\n",
       "    .dataframe tbody tr th:only-of-type {\n",
       "        vertical-align: middle;\n",
       "    }\n",
       "\n",
       "    .dataframe tbody tr th {\n",
       "        vertical-align: top;\n",
       "    }\n",
       "\n",
       "    .dataframe thead th {\n",
       "        text-align: right;\n",
       "    }\n",
       "</style>\n",
       "<table border=\"1\" class=\"dataframe\">\n",
       "  <thead>\n",
       "    <tr style=\"text-align: right;\">\n",
       "      <th></th>\n",
       "      <th>id</th>\n",
       "      <th>es</th>\n",
       "      <th>tr</th>\n",
       "      <th>ru</th>\n",
       "      <th>fr</th>\n",
       "      <th>it</th>\n",
       "      <th>pt</th>\n",
       "      <th>en</th>\n",
       "      <th>toxic</th>\n",
       "    </tr>\n",
       "  </thead>\n",
       "  <tbody>\n",
       "    <tr>\n",
       "      <th>223126</th>\n",
       "      <td>fff83b80284d8440</td>\n",
       "      <td>:: ¿Consenso para arruinar Wikipedia? Creo que...</td>\n",
       "      <td>:: Wikipedia'yı mahvetmek için fikir birliği m...</td>\n",
       "      <td>:: Консенсус для разрушения Википедии? Я думаю...</td>\n",
       "      <td>:: Consensus pour ruiner Wikipedia? Je pense q...</td>\n",
       "      <td>:: Consenso per aver rovinato Wikipedia? Penso...</td>\n",
       "      <td>:: Consenso para arruinar a Wikipedia? Eu acho...</td>\n",
       "      <td>::Consensus for ruining Wikipedia? I think tha...</td>\n",
       "      <td>0</td>\n",
       "    </tr>\n",
       "    <tr>\n",
       "      <th>223127</th>\n",
       "      <td>fff718ffe5f05559</td>\n",
       "      <td>Acabo de descubrir otra lista: la lista de com...</td>\n",
       "      <td>Başka bir liste daha keşfettim: Adlarına göre ...</td>\n",
       "      <td>Я только что обнаружил еще один список: список...</td>\n",
       "      <td>Je viens de découvrir encore une autre liste: ...</td>\n",
       "      <td>Ho appena scoperto un altro elenco: Elenco dei...</td>\n",
       "      <td>Acabei de descobrir mais uma lista: Lista de c...</td>\n",
       "      <td>I've just discovered yet another list: List of...</td>\n",
       "      <td>0</td>\n",
       "    </tr>\n",
       "    <tr>\n",
       "      <th>223128</th>\n",
       "      <td>fff23c3e174e895e</td>\n",
       "      <td>\"\\n He estado leyendo esta página de discusión...</td>\n",
       "      <td>\"\\n Bu konuşma sayfasını okudum ve bazı insanl...</td>\n",
       "      <td>\"\\n Я читал эту страницу обсуждения, и я был п...</td>\n",
       "      <td>\"\\n 'ai lu cette page de discussion et j'ai ét...</td>\n",
       "      <td>\"\\n Ho letto questa pagina di discussione e so...</td>\n",
       "      <td>\"\\n li esta página de discussão e fiquei impre...</td>\n",
       "      <td>\" \\n 've been reading this talk page and I was...</td>\n",
       "      <td>0</td>\n",
       "    </tr>\n",
       "    <tr>\n",
       "      <th>223129</th>\n",
       "      <td>fffa8a11c4378854</td>\n",
       "      <td>== ¡Qué vergüenza para todos! ==\\n\\n Quieres h...</td>\n",
       "      <td>== hepinize utanç !!! ==\\n\\n Geylerden bahsetm...</td>\n",
       "      <td>== позор вам всем !!! ==\\n\\n Вы хотите говорит...</td>\n",
       "      <td>== honte à vous tous !!! ==\\n\\n Vous voulez pa...</td>\n",
       "      <td>== vergogna per tutti !!! ==\\n\\n Vuoi parlare ...</td>\n",
       "      <td>== vergonha para todos vocês !!! ==\\n\\n Você q...</td>\n",
       "      <td>==shame on you all!!!== \\n\\n You want to speak...</td>\n",
       "      <td>0</td>\n",
       "    </tr>\n",
       "    <tr>\n",
       "      <th>223130</th>\n",
       "      <td>ffebe90c8d5acaba</td>\n",
       "      <td>\"\\n\\n == IRÁN ==\\n Así es, Irán. Fue nuestro d...</td>\n",
       "      <td>\"\\n\\n == İRAN ==\\n Bu doğru, İran. Bu bizim dr...</td>\n",
       "      <td>\"\\n\\n == ИРАН ==\\n Это верно, Иран. Это был на...</td>\n",
       "      <td>\"\\n\\n == L'IRAN ==\\n C'est vrai, l'Iran. C'éta...</td>\n",
       "      <td>\"\\n\\n == IRAN ==\\n Proprio così, l'Iran. Era i...</td>\n",
       "      <td>\"\\n\\n == IRAN ==\\n Isso mesmo, Irã. Foi o noss...</td>\n",
       "      <td>\" \\n\\n == IRAN == \\n That’s right, Iran. It wa...</td>\n",
       "      <td>1</td>\n",
       "    </tr>\n",
       "  </tbody>\n",
       "</table>\n",
       "</div>"
      ],
      "text/plain": [
       "                      id                                                 es  \\\n",
       "223126  fff83b80284d8440  :: ¿Consenso para arruinar Wikipedia? Creo que...   \n",
       "223127  fff718ffe5f05559  Acabo de descubrir otra lista: la lista de com...   \n",
       "223128  fff23c3e174e895e  \"\\n He estado leyendo esta página de discusión...   \n",
       "223129  fffa8a11c4378854  == ¡Qué vergüenza para todos! ==\\n\\n Quieres h...   \n",
       "223130  ffebe90c8d5acaba  \"\\n\\n == IRÁN ==\\n Así es, Irán. Fue nuestro d...   \n",
       "\n",
       "                                                       tr  \\\n",
       "223126  :: Wikipedia'yı mahvetmek için fikir birliği m...   \n",
       "223127  Başka bir liste daha keşfettim: Adlarına göre ...   \n",
       "223128  \"\\n Bu konuşma sayfasını okudum ve bazı insanl...   \n",
       "223129  == hepinize utanç !!! ==\\n\\n Geylerden bahsetm...   \n",
       "223130  \"\\n\\n == İRAN ==\\n Bu doğru, İran. Bu bizim dr...   \n",
       "\n",
       "                                                       ru  \\\n",
       "223126  :: Консенсус для разрушения Википедии? Я думаю...   \n",
       "223127  Я только что обнаружил еще один список: список...   \n",
       "223128  \"\\n Я читал эту страницу обсуждения, и я был п...   \n",
       "223129  == позор вам всем !!! ==\\n\\n Вы хотите говорит...   \n",
       "223130  \"\\n\\n == ИРАН ==\\n Это верно, Иран. Это был на...   \n",
       "\n",
       "                                                       fr  \\\n",
       "223126  :: Consensus pour ruiner Wikipedia? Je pense q...   \n",
       "223127  Je viens de découvrir encore une autre liste: ...   \n",
       "223128  \"\\n 'ai lu cette page de discussion et j'ai ét...   \n",
       "223129  == honte à vous tous !!! ==\\n\\n Vous voulez pa...   \n",
       "223130  \"\\n\\n == L'IRAN ==\\n C'est vrai, l'Iran. C'éta...   \n",
       "\n",
       "                                                       it  \\\n",
       "223126  :: Consenso per aver rovinato Wikipedia? Penso...   \n",
       "223127  Ho appena scoperto un altro elenco: Elenco dei...   \n",
       "223128  \"\\n Ho letto questa pagina di discussione e so...   \n",
       "223129  == vergogna per tutti !!! ==\\n\\n Vuoi parlare ...   \n",
       "223130  \"\\n\\n == IRAN ==\\n Proprio così, l'Iran. Era i...   \n",
       "\n",
       "                                                       pt  \\\n",
       "223126  :: Consenso para arruinar a Wikipedia? Eu acho...   \n",
       "223127  Acabei de descobrir mais uma lista: Lista de c...   \n",
       "223128  \"\\n li esta página de discussão e fiquei impre...   \n",
       "223129  == vergonha para todos vocês !!! ==\\n\\n Você q...   \n",
       "223130  \"\\n\\n == IRAN ==\\n Isso mesmo, Irã. Foi o noss...   \n",
       "\n",
       "                                                       en  toxic  \n",
       "223126  ::Consensus for ruining Wikipedia? I think tha...      0  \n",
       "223127  I've just discovered yet another list: List of...      0  \n",
       "223128  \" \\n 've been reading this talk page and I was...      0  \n",
       "223129  ==shame on you all!!!== \\n\\n You want to speak...      0  \n",
       "223130  \" \\n\\n == IRAN == \\n That’s right, Iran. It wa...      1  "
      ]
     },
     "execution_count": 41,
     "metadata": {},
     "output_type": "execute_result"
    }
   ],
   "source": [
    "multilingual_df.tail()"
   ]
  },
  {
   "cell_type": "code",
   "execution_count": 88,
   "metadata": {
    "collapsed": false
   },
   "outputs": [
    {
     "data": {
      "text/plain": [
       "<module 'dataset' from '../src/dataset.py'>"
      ]
     },
     "execution_count": 88,
     "metadata": {},
     "output_type": "execute_result"
    }
   ],
   "source": [
    "reload(dataset)"
   ]
  },
  {
   "cell_type": "code",
   "execution_count": 89,
   "metadata": {
    "collapsed": false
   },
   "outputs": [],
   "source": [
    "multilingual_df = dataset.read_multilingual_dataset()"
   ]
  },
  {
   "cell_type": "code",
   "execution_count": 97,
   "metadata": {
    "collapsed": false
   },
   "outputs": [
    {
     "data": {
      "text/html": [
       "<div>\n",
       "<style scoped>\n",
       "    .dataframe tbody tr th:only-of-type {\n",
       "        vertical-align: middle;\n",
       "    }\n",
       "\n",
       "    .dataframe tbody tr th {\n",
       "        vertical-align: top;\n",
       "    }\n",
       "\n",
       "    .dataframe thead th {\n",
       "        text-align: right;\n",
       "    }\n",
       "</style>\n",
       "<table border=\"1\" class=\"dataframe\">\n",
       "  <thead>\n",
       "    <tr style=\"text-align: right;\">\n",
       "      <th></th>\n",
       "      <th>id</th>\n",
       "      <th>es</th>\n",
       "      <th>tr</th>\n",
       "      <th>ru</th>\n",
       "      <th>fr</th>\n",
       "      <th>it</th>\n",
       "      <th>pt</th>\n",
       "      <th>en</th>\n",
       "      <th>toxic</th>\n",
       "    </tr>\n",
       "  </thead>\n",
       "  <tbody>\n",
       "    <tr>\n",
       "      <th>0</th>\n",
       "      <td>0000997932d777bf</td>\n",
       "      <td>Explicación ¿Por qué se revertieron las edicio...</td>\n",
       "      <td>açıklama Hardcore Metallica Fan kullanıcı adım...</td>\n",
       "      <td>объяснение Почему изменения, сделанные под мои...</td>\n",
       "      <td>Explication Pourquoi les modifications apporté...</td>\n",
       "      <td>Spiegazione Perché le modifiche apportate con ...</td>\n",
       "      <td>Explicação Por que as edições feitas com o meu...</td>\n",
       "      <td>Explanation Why the edits made under my userna...</td>\n",
       "      <td>0</td>\n",
       "    </tr>\n",
       "    <tr>\n",
       "      <th>1</th>\n",
       "      <td>000103f0d9cfb60f</td>\n",
       "      <td>D'aww! Él coincide con este color de fondo con...</td>\n",
       "      <td>D'aww! Görünüşe göre sıkışmış olduğum arka pla...</td>\n",
       "      <td>D'Оо! Он соответствует этому цвету фона, с кот...</td>\n",
       "      <td>D'aww! Il correspond à cette couleur de fond a...</td>\n",
       "      <td>D'Aww! Si abbina a questo colore di sfondo con...</td>\n",
       "      <td>D'aww! Ele combina com a cor de fundo com a qu...</td>\n",
       "      <td>D'aww! He matches this background colour I'm s...</td>\n",
       "      <td>0</td>\n",
       "    </tr>\n",
       "    <tr>\n",
       "      <th>2</th>\n",
       "      <td>000113f07ec002fd</td>\n",
       "      <td>Hola hombre, realmente no estoy tratando de ed...</td>\n",
       "      <td>Hey adamım, gerçekten savaşı düzenlemeye çalış...</td>\n",
       "      <td>Эй, чувак, я действительно не пытаюсь редактир...</td>\n",
       "      <td>Hé mec, je n'essaye vraiment pas de modifier l...</td>\n",
       "      <td>Ehi amico, non sto davvero cercando di modific...</td>\n",
       "      <td>Ei cara, eu realmente não estou tentando edita...</td>\n",
       "      <td>Hey man, I'm really not trying to edit war. It...</td>\n",
       "      <td>0</td>\n",
       "    </tr>\n",
       "    <tr>\n",
       "      <th>3</th>\n",
       "      <td>0001b41b1c6bb37e</td>\n",
       "      <td>\" Más No puedo hacer ninguna sugerencia real s...</td>\n",
       "      <td>\" Daha İyileştirme konusunda gerçek bir önerid...</td>\n",
       "      <td>\" Больше Я не могу вносить какие-либо реальные...</td>\n",
       "      <td>\" Plus Je ne peux pas faire de véritables sugg...</td>\n",
       "      <td>\" Di Più Non posso dare alcun vero suggeriment...</td>\n",
       "      <td>\" Mais Não posso fazer nenhuma sugestão real d...</td>\n",
       "      <td>\" More I can't make any real suggestions on im...</td>\n",
       "      <td>0</td>\n",
       "    </tr>\n",
       "    <tr>\n",
       "      <th>4</th>\n",
       "      <td>0001d958c54c6e35</td>\n",
       "      <td>Usted señor, es mi héroe. ¿Alguna posibilidad ...</td>\n",
       "      <td>Sen, efendim, benim kahramanımsın. Hangi sayfa...</td>\n",
       "      <td>Вы, сэр, мой герой. Есть ли шанс, что вы помни...</td>\n",
       "      <td>Vous, monsieur, êtes mon héros. Vous souvenez-...</td>\n",
       "      <td>Signore, sei il mio eroe. Qualche possibilità ...</td>\n",
       "      <td>Você senhor, é meu heroi. Alguma chance de voc...</td>\n",
       "      <td>You, sir, are my hero. Any chance you remember...</td>\n",
       "      <td>0</td>\n",
       "    </tr>\n",
       "    <tr>\n",
       "      <th>5</th>\n",
       "      <td>00025465d4725e87</td>\n",
       "      <td>\"  Felicitaciones de mi parte también, usa bie...</td>\n",
       "      <td>\"  Benden de tebrikler, araçları iyi kullan. ·...</td>\n",
       "      <td>\"  Поздравляю и меня, хорошо использую инструм...</td>\n",
       "      <td>\"  Félicitations de ma part également, utilise...</td>\n",
       "      <td>\"  Complimenti anche da parte mia, usa bene gl...</td>\n",
       "      <td>\"  Parabéns de mim também, use bem as ferramen...</td>\n",
       "      <td>\"  Congratulations from me as well, use the to...</td>\n",
       "      <td>0</td>\n",
       "    </tr>\n",
       "    <tr>\n",
       "      <th>6</th>\n",
       "      <td>0002bcb3da6cb337</td>\n",
       "      <td>PELUCHE ANTES DE PISAR ALREDEDOR DE MI TRABAJO</td>\n",
       "      <td>KADIN ÇALIŞMAYA ÇALIŞMADAN ÖNCE COCKSUCKER</td>\n",
       "      <td>Козел, прежде чем вы мочитесь вокруг моей работы</td>\n",
       "      <td>COCKSUCKER AVANT DE PISSER AUTOUR DE MON TRAVAIL</td>\n",
       "      <td>COCKSUCKER PRIMA DI Pisciare SUL MIO LAVORO</td>\n",
       "      <td>COCKSUCKER ANTES DE Mijar no Meu Trabalho</td>\n",
       "      <td>COCKSUCKER BEFORE YOU PISS AROUND ON MY WORK</td>\n",
       "      <td>1</td>\n",
       "    </tr>\n",
       "    <tr>\n",
       "      <th>7</th>\n",
       "      <td>00031b1e95af7921</td>\n",
       "      <td>Su vandalismo al artículo de Matt Shirvington ...</td>\n",
       "      <td>Matt Shirvington makalesine vandalizminiz geri...</td>\n",
       "      <td>Ваш вандализм в отношении статьи Мэтта Ширвинг...</td>\n",
       "      <td>Votre vandalisme envers l'article de Matt Shir...</td>\n",
       "      <td>Il tuo vandalismo sull'articolo di Matt Shirvi...</td>\n",
       "      <td>Seu vandalismo ao artigo de Matt Shirvington f...</td>\n",
       "      <td>Your vandalism to the Matt Shirvington article...</td>\n",
       "      <td>0</td>\n",
       "    </tr>\n",
       "    <tr>\n",
       "      <th>8</th>\n",
       "      <td>00037261f536c51d</td>\n",
       "      <td>Lo siento si la palabra 'sin sentido' fue ofen...</td>\n",
       "      <td>'Saçma' kelimesi sizi rahatsız ederse özür dil...</td>\n",
       "      <td>Извините, если слово «ерунда» было для вас оск...</td>\n",
       "      <td>Désolé si le mot «non-sens» vous a choqué. Quo...</td>\n",
       "      <td>Scusami se la parola \"sciocchezze\" ti è stata ...</td>\n",
       "      <td>Desculpe se a palavra \"absurdo\" foi ofensiva p...</td>\n",
       "      <td>Sorry if the word 'nonsense' was offensive to ...</td>\n",
       "      <td>0</td>\n",
       "    </tr>\n",
       "    <tr>\n",
       "      <th>9</th>\n",
       "      <td>00040093b2687caa</td>\n",
       "      <td>alineación sobre este tema y que son contrario...</td>\n",
       "      <td>DuLithgow'un konularına aykırı olan</td>\n",
       "      <td>выравнивание по этому вопросу и которые против...</td>\n",
       "      <td>alignement sur ce sujet et qui sont contraires...</td>\n",
       "      <td>allineamento su questo argomento e che sono co...</td>\n",
       "      <td>alinhamento sobre este assunto e que são contr...</td>\n",
       "      <td>alignment on this subject and which are contra...</td>\n",
       "      <td>0</td>\n",
       "    </tr>\n",
       "    <tr>\n",
       "      <th>10</th>\n",
       "      <td>0005300084f90edc</td>\n",
       "      <td>\" Justificación del uso justo de la imagen: Wo...</td>\n",
       "      <td>\" Resim için Adil Kullanım Gerekçesi: Wonju.jp...</td>\n",
       "      <td>\" Обоснование добросовестного использования из...</td>\n",
       "      <td>\" Justification de l'utilisation équitable de ...</td>\n",
       "      <td>\" Motivazione del fair use per Image: Wonju.jp...</td>\n",
       "      <td>\" Justificativa do uso justo para Image: Wonju...</td>\n",
       "      <td>\" Fair use rationale for Image:Wonju.jpg  Than...</td>\n",
       "      <td>0</td>\n",
       "    </tr>\n",
       "    <tr>\n",
       "      <th>11</th>\n",
       "      <td>00054a5e18b50dd4</td>\n",
       "      <td>barbacoa  ser hombre y discutirlo, ¿tal vez po...</td>\n",
       "      <td>barbekü  erkek ol ve tartışalım belki de telef...</td>\n",
       "      <td>барбекю  будь мужчиной и давай обсудим это - м...</td>\n",
       "      <td>un barbecue  être un homme et permet d'en disc...</td>\n",
       "      <td>bbq  essere un uomo e parliamone, magari al te...</td>\n",
       "      <td>churrasco  ser um homem e vamos discutir isso,...</td>\n",
       "      <td>bbq   be a man and lets discuss it-maybe over ...</td>\n",
       "      <td>0</td>\n",
       "    </tr>\n",
       "    <tr>\n",
       "      <th>12</th>\n",
       "      <td>0005c987bdfc9d4b</td>\n",
       "      <td>Oye ... que es ... @ | hablar . ¿Qué es ... un...</td>\n",
       "      <td>Hey ... ne oldu .. @ | konuşun. Bu ... bazı WP...</td>\n",
       "      <td>Эй ... что это .. @ | говорить . Что это ... и...</td>\n",
       "      <td>Hé ... qu'est-ce que c'est .. @ | parler . Qu'...</td>\n",
       "      <td>Ehi ... che cos'è .. @ | parlare . Cos'è ... u...</td>\n",
       "      <td>Ei ... o que é isso .. @ conversa . O que é is...</td>\n",
       "      <td>Hey... what is it.. @ | talk . What is it... a...</td>\n",
       "      <td>1</td>\n",
       "    </tr>\n",
       "    <tr>\n",
       "      <th>13</th>\n",
       "      <td>0006f16e4e9f292e</td>\n",
       "      <td>Antes de que comiences a lanzarme acusaciones ...</td>\n",
       "      <td>Bana suçlamalar ve uyarılar atmaya başlamadan ...</td>\n",
       "      <td>Прежде чем вы начнете выдвигать обвинения и пр...</td>\n",
       "      <td>Avant de commencer à me lancer des accusations...</td>\n",
       "      <td>Prima di iniziare a lanciare accuse e avvertim...</td>\n",
       "      <td>Antes de começar a lançar acusações e avisos p...</td>\n",
       "      <td>Before you start throwing accusations and warn...</td>\n",
       "      <td>0</td>\n",
       "    </tr>\n",
       "    <tr>\n",
       "      <th>14</th>\n",
       "      <td>00070ef96486d6f9</td>\n",
       "      <td>Ah, y la chica de arriba comenzó a discutir co...</td>\n",
       "      <td>Oh, ve yukarıdaki kız benimle tartışmalara baş...</td>\n",
       "      <td>О, и девушка выше начала свои споры со мной. О...</td>\n",
       "      <td>Oh, et la fille ci-dessus a commencé ses dispu...</td>\n",
       "      <td>Oh, e la ragazza sopra ha iniziato le sue disc...</td>\n",
       "      <td>Ah, e a garota acima começou seus argumentos c...</td>\n",
       "      <td>Oh, and the girl above started her arguments w...</td>\n",
       "      <td>0</td>\n",
       "    </tr>\n",
       "    <tr>\n",
       "      <th>15</th>\n",
       "      <td>00078f8ce7eb276d</td>\n",
       "      <td>\"  Juelz Santanas Age  En 2002, Juelz Santana ...</td>\n",
       "      <td>\"  Juelz Santanas Yaş  2002 yılında, Juelz San...</td>\n",
       "      <td>\"  Juelz Santanas Age  В 2002 году Юэльсу Сант...</td>\n",
       "      <td>\"  Juelz Santanas Age  En 2002, Juelz Santana ...</td>\n",
       "      <td>\"  Juelz Santanas Age  Nel 2002, Juelz Santana...</td>\n",
       "      <td>\"  Juelz Santanas Age  Em 2002, Juelz Santana ...</td>\n",
       "      <td>\"  Juelz Santanas Age  In 2002, Juelz Santana ...</td>\n",
       "      <td>0</td>\n",
       "    </tr>\n",
       "    <tr>\n",
       "      <th>16</th>\n",
       "      <td>0007e25b2121310b</td>\n",
       "      <td>¡Adiós!  ¡No mires, ven o piensa en volver! To...</td>\n",
       "      <td>Hoşçakal!  Bakma, gelme ya da geri dönmeyi düş...</td>\n",
       "      <td>До свидания!  Не смотри, приходи и не думай во...</td>\n",
       "      <td>Au revoir!  Ne regardez pas, ne venez pas et n...</td>\n",
       "      <td>Ciao!  Non guardare, vieni o pensa di tornare!...</td>\n",
       "      <td>Tchau!  Não olhe, venha ou pense em voltar! To...</td>\n",
       "      <td>Bye!   Don't look, come or think of comming ba...</td>\n",
       "      <td>1</td>\n",
       "    </tr>\n",
       "    <tr>\n",
       "      <th>17</th>\n",
       "      <td>000897889268bc93</td>\n",
       "      <td>Charla REDIRECTA: Voydan Pop Georgiev- Chernod...</td>\n",
       "      <td>YÖNLENDİRME Konuşması: Voydan Pop Georgiev- Ch...</td>\n",
       "      <td>ПЕРВАЯ ПОСЛАНИЕ: Войдан Поп Георгиев- Чернодри...</td>\n",
       "      <td>Conférence REDIRECT: Voydan Pop Georgiev- Cher...</td>\n",
       "      <td>REDIRECT Talk: Voydan Pop Georgiev- Chernodrinski</td>\n",
       "      <td>REDIRECT Discussão: Voydan Pop Georgiev- Chern...</td>\n",
       "      <td>REDIRECT Talk: Voydan Pop Georgiev- Chernodrinski</td>\n",
       "      <td>0</td>\n",
       "    </tr>\n",
       "    <tr>\n",
       "      <th>18</th>\n",
       "      <td>0009801bd85e5806</td>\n",
       "      <td>El punto de Mitsurugi no tenía sentido: ¿por q...</td>\n",
       "      <td>Mitsurugi noktası bir anlam ifade etmiyordu - ...</td>\n",
       "      <td>Смысл Mitsurugi не имеет смысла - почему бы не...</td>\n",
       "      <td>Le point Mitsurugi n'avait aucun sens - pourqu...</td>\n",
       "      <td>Il punto Mitsurugi non aveva senso: perché non...</td>\n",
       "      <td>O argumento Mitsurugi não fazia sentido - por ...</td>\n",
       "      <td>The Mitsurugi point made no sense - why not ar...</td>\n",
       "      <td>0</td>\n",
       "    </tr>\n",
       "    <tr>\n",
       "      <th>19</th>\n",
       "      <td>0009eaea3325de8c</td>\n",
       "      <td>No quiero molestarte  Veo que estás escribiend...</td>\n",
       "      <td>Seni rahatsız etmek istemiyorum  Burada yayınl...</td>\n",
       "      <td>Не хочу беспокоить тебя  Я вижу, что вы пишете...</td>\n",
       "      <td>Je ne veux pas te déranger  Je vois que vous é...</td>\n",
       "      <td>Non intendo disturbarti  Vedo che stai scriven...</td>\n",
       "      <td>Não quero incomodá-lo  Vejo que você está escr...</td>\n",
       "      <td>Don't mean to bother you   I see that you're w...</td>\n",
       "      <td>0</td>\n",
       "    </tr>\n",
       "  </tbody>\n",
       "</table>\n",
       "</div>"
      ],
      "text/plain": [
       "                  id                                                 es  \\\n",
       "0   0000997932d777bf  Explicación ¿Por qué se revertieron las edicio...   \n",
       "1   000103f0d9cfb60f  D'aww! Él coincide con este color de fondo con...   \n",
       "2   000113f07ec002fd  Hola hombre, realmente no estoy tratando de ed...   \n",
       "3   0001b41b1c6bb37e  \" Más No puedo hacer ninguna sugerencia real s...   \n",
       "4   0001d958c54c6e35  Usted señor, es mi héroe. ¿Alguna posibilidad ...   \n",
       "5   00025465d4725e87  \"  Felicitaciones de mi parte también, usa bie...   \n",
       "6   0002bcb3da6cb337     PELUCHE ANTES DE PISAR ALREDEDOR DE MI TRABAJO   \n",
       "7   00031b1e95af7921  Su vandalismo al artículo de Matt Shirvington ...   \n",
       "8   00037261f536c51d  Lo siento si la palabra 'sin sentido' fue ofen...   \n",
       "9   00040093b2687caa  alineación sobre este tema y que son contrario...   \n",
       "10  0005300084f90edc  \" Justificación del uso justo de la imagen: Wo...   \n",
       "11  00054a5e18b50dd4  barbacoa  ser hombre y discutirlo, ¿tal vez po...   \n",
       "12  0005c987bdfc9d4b  Oye ... que es ... @ | hablar . ¿Qué es ... un...   \n",
       "13  0006f16e4e9f292e  Antes de que comiences a lanzarme acusaciones ...   \n",
       "14  00070ef96486d6f9  Ah, y la chica de arriba comenzó a discutir co...   \n",
       "15  00078f8ce7eb276d  \"  Juelz Santanas Age  En 2002, Juelz Santana ...   \n",
       "16  0007e25b2121310b  ¡Adiós!  ¡No mires, ven o piensa en volver! To...   \n",
       "17  000897889268bc93  Charla REDIRECTA: Voydan Pop Georgiev- Chernod...   \n",
       "18  0009801bd85e5806  El punto de Mitsurugi no tenía sentido: ¿por q...   \n",
       "19  0009eaea3325de8c  No quiero molestarte  Veo que estás escribiend...   \n",
       "\n",
       "                                                   tr  \\\n",
       "0   açıklama Hardcore Metallica Fan kullanıcı adım...   \n",
       "1   D'aww! Görünüşe göre sıkışmış olduğum arka pla...   \n",
       "2   Hey adamım, gerçekten savaşı düzenlemeye çalış...   \n",
       "3   \" Daha İyileştirme konusunda gerçek bir önerid...   \n",
       "4   Sen, efendim, benim kahramanımsın. Hangi sayfa...   \n",
       "5   \"  Benden de tebrikler, araçları iyi kullan. ·...   \n",
       "6          KADIN ÇALIŞMAYA ÇALIŞMADAN ÖNCE COCKSUCKER   \n",
       "7   Matt Shirvington makalesine vandalizminiz geri...   \n",
       "8   'Saçma' kelimesi sizi rahatsız ederse özür dil...   \n",
       "9                 DuLithgow'un konularına aykırı olan   \n",
       "10  \" Resim için Adil Kullanım Gerekçesi: Wonju.jp...   \n",
       "11  barbekü  erkek ol ve tartışalım belki de telef...   \n",
       "12  Hey ... ne oldu .. @ | konuşun. Bu ... bazı WP...   \n",
       "13  Bana suçlamalar ve uyarılar atmaya başlamadan ...   \n",
       "14  Oh, ve yukarıdaki kız benimle tartışmalara baş...   \n",
       "15  \"  Juelz Santanas Yaş  2002 yılında, Juelz San...   \n",
       "16  Hoşçakal!  Bakma, gelme ya da geri dönmeyi düş...   \n",
       "17  YÖNLENDİRME Konuşması: Voydan Pop Georgiev- Ch...   \n",
       "18  Mitsurugi noktası bir anlam ifade etmiyordu - ...   \n",
       "19  Seni rahatsız etmek istemiyorum  Burada yayınl...   \n",
       "\n",
       "                                                   ru  \\\n",
       "0   объяснение Почему изменения, сделанные под мои...   \n",
       "1   D'Оо! Он соответствует этому цвету фона, с кот...   \n",
       "2   Эй, чувак, я действительно не пытаюсь редактир...   \n",
       "3   \" Больше Я не могу вносить какие-либо реальные...   \n",
       "4   Вы, сэр, мой герой. Есть ли шанс, что вы помни...   \n",
       "5   \"  Поздравляю и меня, хорошо использую инструм...   \n",
       "6    Козел, прежде чем вы мочитесь вокруг моей работы   \n",
       "7   Ваш вандализм в отношении статьи Мэтта Ширвинг...   \n",
       "8   Извините, если слово «ерунда» было для вас оск...   \n",
       "9   выравнивание по этому вопросу и которые против...   \n",
       "10  \" Обоснование добросовестного использования из...   \n",
       "11  барбекю  будь мужчиной и давай обсудим это - м...   \n",
       "12  Эй ... что это .. @ | говорить . Что это ... и...   \n",
       "13  Прежде чем вы начнете выдвигать обвинения и пр...   \n",
       "14  О, и девушка выше начала свои споры со мной. О...   \n",
       "15  \"  Juelz Santanas Age  В 2002 году Юэльсу Сант...   \n",
       "16  До свидания!  Не смотри, приходи и не думай во...   \n",
       "17  ПЕРВАЯ ПОСЛАНИЕ: Войдан Поп Георгиев- Чернодри...   \n",
       "18  Смысл Mitsurugi не имеет смысла - почему бы не...   \n",
       "19  Не хочу беспокоить тебя  Я вижу, что вы пишете...   \n",
       "\n",
       "                                                   fr  \\\n",
       "0   Explication Pourquoi les modifications apporté...   \n",
       "1   D'aww! Il correspond à cette couleur de fond a...   \n",
       "2   Hé mec, je n'essaye vraiment pas de modifier l...   \n",
       "3   \" Plus Je ne peux pas faire de véritables sugg...   \n",
       "4   Vous, monsieur, êtes mon héros. Vous souvenez-...   \n",
       "5   \"  Félicitations de ma part également, utilise...   \n",
       "6    COCKSUCKER AVANT DE PISSER AUTOUR DE MON TRAVAIL   \n",
       "7   Votre vandalisme envers l'article de Matt Shir...   \n",
       "8   Désolé si le mot «non-sens» vous a choqué. Quo...   \n",
       "9   alignement sur ce sujet et qui sont contraires...   \n",
       "10  \" Justification de l'utilisation équitable de ...   \n",
       "11  un barbecue  être un homme et permet d'en disc...   \n",
       "12  Hé ... qu'est-ce que c'est .. @ | parler . Qu'...   \n",
       "13  Avant de commencer à me lancer des accusations...   \n",
       "14  Oh, et la fille ci-dessus a commencé ses dispu...   \n",
       "15  \"  Juelz Santanas Age  En 2002, Juelz Santana ...   \n",
       "16  Au revoir!  Ne regardez pas, ne venez pas et n...   \n",
       "17  Conférence REDIRECT: Voydan Pop Georgiev- Cher...   \n",
       "18  Le point Mitsurugi n'avait aucun sens - pourqu...   \n",
       "19  Je ne veux pas te déranger  Je vois que vous é...   \n",
       "\n",
       "                                                   it  \\\n",
       "0   Spiegazione Perché le modifiche apportate con ...   \n",
       "1   D'Aww! Si abbina a questo colore di sfondo con...   \n",
       "2   Ehi amico, non sto davvero cercando di modific...   \n",
       "3   \" Di Più Non posso dare alcun vero suggeriment...   \n",
       "4   Signore, sei il mio eroe. Qualche possibilità ...   \n",
       "5   \"  Complimenti anche da parte mia, usa bene gl...   \n",
       "6         COCKSUCKER PRIMA DI Pisciare SUL MIO LAVORO   \n",
       "7   Il tuo vandalismo sull'articolo di Matt Shirvi...   \n",
       "8   Scusami se la parola \"sciocchezze\" ti è stata ...   \n",
       "9   allineamento su questo argomento e che sono co...   \n",
       "10  \" Motivazione del fair use per Image: Wonju.jp...   \n",
       "11  bbq  essere un uomo e parliamone, magari al te...   \n",
       "12  Ehi ... che cos'è .. @ | parlare . Cos'è ... u...   \n",
       "13  Prima di iniziare a lanciare accuse e avvertim...   \n",
       "14  Oh, e la ragazza sopra ha iniziato le sue disc...   \n",
       "15  \"  Juelz Santanas Age  Nel 2002, Juelz Santana...   \n",
       "16  Ciao!  Non guardare, vieni o pensa di tornare!...   \n",
       "17  REDIRECT Talk: Voydan Pop Georgiev- Chernodrinski   \n",
       "18  Il punto Mitsurugi non aveva senso: perché non...   \n",
       "19  Non intendo disturbarti  Vedo che stai scriven...   \n",
       "\n",
       "                                                   pt  \\\n",
       "0   Explicação Por que as edições feitas com o meu...   \n",
       "1   D'aww! Ele combina com a cor de fundo com a qu...   \n",
       "2   Ei cara, eu realmente não estou tentando edita...   \n",
       "3   \" Mais Não posso fazer nenhuma sugestão real d...   \n",
       "4   Você senhor, é meu heroi. Alguma chance de voc...   \n",
       "5   \"  Parabéns de mim também, use bem as ferramen...   \n",
       "6           COCKSUCKER ANTES DE Mijar no Meu Trabalho   \n",
       "7   Seu vandalismo ao artigo de Matt Shirvington f...   \n",
       "8   Desculpe se a palavra \"absurdo\" foi ofensiva p...   \n",
       "9   alinhamento sobre este assunto e que são contr...   \n",
       "10  \" Justificativa do uso justo para Image: Wonju...   \n",
       "11  churrasco  ser um homem e vamos discutir isso,...   \n",
       "12  Ei ... o que é isso .. @ conversa . O que é is...   \n",
       "13  Antes de começar a lançar acusações e avisos p...   \n",
       "14  Ah, e a garota acima começou seus argumentos c...   \n",
       "15  \"  Juelz Santanas Age  Em 2002, Juelz Santana ...   \n",
       "16  Tchau!  Não olhe, venha ou pense em voltar! To...   \n",
       "17  REDIRECT Discussão: Voydan Pop Georgiev- Chern...   \n",
       "18  O argumento Mitsurugi não fazia sentido - por ...   \n",
       "19  Não quero incomodá-lo  Vejo que você está escr...   \n",
       "\n",
       "                                                   en  toxic  \n",
       "0   Explanation Why the edits made under my userna...      0  \n",
       "1   D'aww! He matches this background colour I'm s...      0  \n",
       "2   Hey man, I'm really not trying to edit war. It...      0  \n",
       "3   \" More I can't make any real suggestions on im...      0  \n",
       "4   You, sir, are my hero. Any chance you remember...      0  \n",
       "5   \"  Congratulations from me as well, use the to...      0  \n",
       "6        COCKSUCKER BEFORE YOU PISS AROUND ON MY WORK      1  \n",
       "7   Your vandalism to the Matt Shirvington article...      0  \n",
       "8   Sorry if the word 'nonsense' was offensive to ...      0  \n",
       "9   alignment on this subject and which are contra...      0  \n",
       "10  \" Fair use rationale for Image:Wonju.jpg  Than...      0  \n",
       "11  bbq   be a man and lets discuss it-maybe over ...      0  \n",
       "12  Hey... what is it.. @ | talk . What is it... a...      1  \n",
       "13  Before you start throwing accusations and warn...      0  \n",
       "14  Oh, and the girl above started her arguments w...      0  \n",
       "15  \"  Juelz Santanas Age  In 2002, Juelz Santana ...      0  \n",
       "16  Bye!   Don't look, come or think of comming ba...      1  \n",
       "17  REDIRECT Talk: Voydan Pop Georgiev- Chernodrinski      0  \n",
       "18  The Mitsurugi point made no sense - why not ar...      0  \n",
       "19  Don't mean to bother you   I see that you're w...      0  "
      ]
     },
     "execution_count": 97,
     "metadata": {},
     "output_type": "execute_result"
    }
   ],
   "source": [
    "multilingual_df.head(20)"
   ]
  },
  {
   "cell_type": "code",
   "execution_count": 92,
   "metadata": {
    "collapsed": false
   },
   "outputs": [
    {
     "data": {
      "text/plain": [
       "223541"
      ]
     },
     "execution_count": 92,
     "metadata": {},
     "output_type": "execute_result"
    }
   ],
   "source": [
    "len(multilingual_df)"
   ]
  },
  {
   "cell_type": "code",
   "execution_count": 67,
   "metadata": {
    "collapsed": false
   },
   "outputs": [],
   "source": [
    "train = dataset.MultilingualTrainTokenizerDataset()"
   ]
  },
  {
   "cell_type": "code",
   "execution_count": 93,
   "metadata": {
    "collapsed": false
   },
   "outputs": [
    {
     "data": {
      "text/plain": [
       "223131"
      ]
     },
     "execution_count": 93,
     "metadata": {},
     "output_type": "execute_result"
    }
   ],
   "source": [
    "len(train.dataset)"
   ]
  },
  {
   "cell_type": "code",
   "execution_count": 96,
   "metadata": {
    "collapsed": false
   },
   "outputs": [
    {
     "data": {
      "text/html": [
       "<div>\n",
       "<style scoped>\n",
       "    .dataframe tbody tr th:only-of-type {\n",
       "        vertical-align: middle;\n",
       "    }\n",
       "\n",
       "    .dataframe tbody tr th {\n",
       "        vertical-align: top;\n",
       "    }\n",
       "\n",
       "    .dataframe thead th {\n",
       "        text-align: right;\n",
       "    }\n",
       "</style>\n",
       "<table border=\"1\" class=\"dataframe\">\n",
       "  <thead>\n",
       "    <tr style=\"text-align: right;\">\n",
       "      <th></th>\n",
       "      <th>id</th>\n",
       "      <th>es</th>\n",
       "      <th>tr</th>\n",
       "      <th>ru</th>\n",
       "      <th>fr</th>\n",
       "      <th>it</th>\n",
       "      <th>pt</th>\n",
       "      <th>en</th>\n",
       "      <th>toxic</th>\n",
       "    </tr>\n",
       "  </thead>\n",
       "  <tbody>\n",
       "    <tr>\n",
       "      <th>0</th>\n",
       "      <td>000113f07ec002fd</td>\n",
       "      <td>Hola hombre, realmente no estoy tratando de ed...</td>\n",
       "      <td>Hey adamım, gerçekten savaşı düzenlemeye çalış...</td>\n",
       "      <td>Эй, чувак, я действительно не пытаюсь редактир...</td>\n",
       "      <td>Hé mec, je n'essaye vraiment pas de modifier l...</td>\n",
       "      <td>Ehi amico, non sto davvero cercando di modific...</td>\n",
       "      <td>Ei cara, eu realmente não estou tentando edita...</td>\n",
       "      <td>Hey man, I'm really not trying to edit war. It...</td>\n",
       "      <td>0</td>\n",
       "    </tr>\n",
       "    <tr>\n",
       "      <th>1</th>\n",
       "      <td>000b08c464718505</td>\n",
       "      <td>\"\\n\\n Con respecto a tus ediciones recientes\\n...</td>\n",
       "      <td>\"\\n\\n Son düzenlemelerinizle ilgili\\n\\nDaha fa...</td>\n",
       "      <td>\"\\n\\n Что касается ваших последних правок\\n\\nЕ...</td>\n",
       "      <td>\"\\n\\n Concernant vos modifications récentes\\n\\...</td>\n",
       "      <td>\"\\n\\n Per quanto riguarda le modifiche recenti...</td>\n",
       "      <td>\"\\n\\n Em relação às suas edições recentes\\n\\nM...</td>\n",
       "      <td>\"\\n\\n Regarding your recent edits \\n\\nOnce aga...</td>\n",
       "      <td>0</td>\n",
       "    </tr>\n",
       "    <tr>\n",
       "      <th>2</th>\n",
       "      <td>001325b8b20ea8aa</td>\n",
       "      <td>Alabanza\\n\\nLeí este artículo hace unos 6 mese...</td>\n",
       "      <td>Övgü\\n\\nyaklaşık 6 ay önce bu makaleye baktı -...</td>\n",
       "      <td>Хвалить\\n\\nпосмотрел эту статью около 6 месяце...</td>\n",
       "      <td>Louange\\n\\nregardé cet article il y a environ ...</td>\n",
       "      <td>Lode\\n\\nguardato questo articolo circa 6 mesi ...</td>\n",
       "      <td>Elogio\\n\\nolhou para este artigo há cerca de 6...</td>\n",
       "      <td>Praise \\n\\nlooked at this article about 6 mont...</td>\n",
       "      <td>0</td>\n",
       "    </tr>\n",
       "    <tr>\n",
       "      <th>3</th>\n",
       "      <td>001c557175094f10</td>\n",
       "      <td>En otras palabras, eres demasiado vago como pa...</td>\n",
       "      <td>Başka bir deyişle, aslında herhangi bir şeyi b...</td>\n",
       "      <td>Другими словами, вы слишком ленивы, чтобы на с...</td>\n",
       "      <td>En d'autres termes, vous êtes trop paresseux p...</td>\n",
       "      <td>In altre parole, sei troppo pigro per segnalar...</td>\n",
       "      <td>Em outras palavras, você é muito preguiçoso pa...</td>\n",
       "      <td>In other words, you're too lazy to actually po...</td>\n",
       "      <td>0</td>\n",
       "    </tr>\n",
       "    <tr>\n",
       "      <th>4</th>\n",
       "      <td>00031b1e95af7921</td>\n",
       "      <td>Su vandalismo al artículo de Matt Shirvington ...</td>\n",
       "      <td>Matt Shirvington makalesine vandalizminiz geri...</td>\n",
       "      <td>Ваш вандализм в отношении статьи Мэтта Ширвинг...</td>\n",
       "      <td>Votre vandalisme envers l'article de Matt Shir...</td>\n",
       "      <td>Il tuo vandalismo sull'articolo di Matt Shirvi...</td>\n",
       "      <td>Seu vandalismo ao artigo de Matt Shirvington f...</td>\n",
       "      <td>Your vandalism to the Matt Shirvington article...</td>\n",
       "      <td>0</td>\n",
       "    </tr>\n",
       "    <tr>\n",
       "      <th>5</th>\n",
       "      <td>000f35deef84dc4a</td>\n",
       "      <td>No hay necesidad de disculparse. Un artículo d...</td>\n",
       "      <td>Özür dilemeye gerek yok. Farklı kaynaklardan b...</td>\n",
       "      <td>Там нет необходимости извиняться. Статья в Вик...</td>\n",
       "      <td>Il n'y a pas besoin de s'excuser. Un article W...</td>\n",
       "      <td>Non c'è bisogno di scusarsi. Un articolo di Wi...</td>\n",
       "      <td>Não precisa se desculpar. Um artigo da Wikiped...</td>\n",
       "      <td>There's no need to apologize. A Wikipedia arti...</td>\n",
       "      <td>0</td>\n",
       "    </tr>\n",
       "    <tr>\n",
       "      <th>6</th>\n",
       "      <td>0001b41b1c6bb37e</td>\n",
       "      <td>\"\\nMás\\nNo puedo hacer ninguna sugerencia real...</td>\n",
       "      <td>\"\\nDaha\\nİyileştirme konusunda gerçek bir öner...</td>\n",
       "      <td>\"\\nБольше\\nЯ не могу вносить какие-либо реальн...</td>\n",
       "      <td>\"\\nPlus\\nJe ne peux pas faire de véritables su...</td>\n",
       "      <td>\"\\nDi Più\\nNon posso dare alcun vero suggerime...</td>\n",
       "      <td>\"\\nMais\\nNão posso fazer nenhuma sugestão real...</td>\n",
       "      <td>\"\\nMore\\nI can't make any real suggestions on ...</td>\n",
       "      <td>0</td>\n",
       "    </tr>\n",
       "    <tr>\n",
       "      <th>7</th>\n",
       "      <td>0011cc71398479c4</td>\n",
       "      <td>¿Cómo puedo publicar antes de que caduque el b...</td>\n",
       "      <td>Bloğun süresi dolmadan nasıl mesaj gönderebili...</td>\n",
       "      <td>Как я могу опубликовать до истечения срока дей...</td>\n",
       "      <td>Comment puis-je publier avant l'expiration du ...</td>\n",
       "      <td>Come posso pubblicare prima della scadenza del...</td>\n",
       "      <td>Como eu poderia postar antes que o bloqueio ex...</td>\n",
       "      <td>How could I post before the block expires?  Th...</td>\n",
       "      <td>0</td>\n",
       "    </tr>\n",
       "    <tr>\n",
       "      <th>8</th>\n",
       "      <td>00148d055a169b93</td>\n",
       "      <td>\"\\n\\nEn absoluto, estás haciendo un argumento ...</td>\n",
       "      <td>\"\\n\\nHiç de değil, burada saman adam tartışmas...</td>\n",
       "      <td>\"\\n\\nВовсе нет, вы тут спорите с соломенным че...</td>\n",
       "      <td>\"\\n\\nPas du tout, vous faites un argument d'ho...</td>\n",
       "      <td>\"\\n\\nNiente affatto, stai facendo una discussi...</td>\n",
       "      <td>\"\\n\\nDe maneira alguma, você está argumentando...</td>\n",
       "      <td>\"\\n\\nNot at all, you are making a straw man ar...</td>\n",
       "      <td>0</td>\n",
       "    </tr>\n",
       "    <tr>\n",
       "      <th>9</th>\n",
       "      <td>0010833a96e1f886</td>\n",
       "      <td>\"== ¡Una gran estrella para ti! ==\\n\\n  The Re...</td>\n",
       "      <td>\"== Sizin için bir barnstar! ==\\n\\n  Gerçek Ha...</td>\n",
       "      <td>\"== Барнстар для тебя! ==\\n\\n  Реальная жизнь ...</td>\n",
       "      <td>\"== Une barnstar pour vous! ==\\n\\n  La vraie v...</td>\n",
       "      <td>\"== Un barnstar per te! ==\\n\\n  La vita reale ...</td>\n",
       "      <td>\"== Um barnstar para você! ==\\n\\n  A vida real...</td>\n",
       "      <td>\"== A barnstar for you! ==\\n\\n  The Real Life ...</td>\n",
       "      <td>0</td>\n",
       "    </tr>\n",
       "    <tr>\n",
       "      <th>10</th>\n",
       "      <td>00040093b2687caa</td>\n",
       "      <td>alineación sobre este tema y que son contrario...</td>\n",
       "      <td>DuLithgow'un konularına aykırı olan</td>\n",
       "      <td>выравнивание по этому вопросу и которые против...</td>\n",
       "      <td>alignement sur ce sujet et qui sont contraires...</td>\n",
       "      <td>allineamento su questo argomento e che sono co...</td>\n",
       "      <td>alinhamento sobre este assunto e que são contr...</td>\n",
       "      <td>alignment on this subject and which are contra...</td>\n",
       "      <td>0</td>\n",
       "    </tr>\n",
       "    <tr>\n",
       "      <th>11</th>\n",
       "      <td>0005c987bdfc9d4b</td>\n",
       "      <td>Oye ... que es ...\\n@ | hablar .\\n¿Qué es ... ...</td>\n",
       "      <td>Hey ... ne oldu ..\\n@ | konuşun.\\nNe ... bazı ...</td>\n",
       "      <td>Эй ... что это ..\\n@ | разговаривать .\\nЧто эт...</td>\n",
       "      <td>Hé ... qu'est-ce que c'est ..\\n@ | parler .\\nQ...</td>\n",
       "      <td>Ehi ... che cos'è ..\\n@ | parlare .\\nCos'è ......</td>\n",
       "      <td>Ei ... o que é isso ..\\n@ conversa .\\nO que é ...</td>\n",
       "      <td>Hey... what is it..\\n@ | talk .\\nWhat is it......</td>\n",
       "      <td>1</td>\n",
       "    </tr>\n",
       "    <tr>\n",
       "      <th>12</th>\n",
       "      <td>001956c382006abd</td>\n",
       "      <td>Lo siento\\n\\nLo siento, me metí con la página ...</td>\n",
       "      <td>Üzgünüm\\n\\nBirinin konuşma sayfasıyla uğraştığ...</td>\n",
       "      <td>Мне жаль\\n\\nИзвините, я облажался с кем-то на ...</td>\n",
       "      <td>Je suis désolé\\n\\nJe suis désolé d'avoir foiré...</td>\n",
       "      <td>Mi dispiace\\n\\nMi dispiace di aver rovinato tu...</td>\n",
       "      <td>Eu sinto Muito\\n\\nMe desculpe, eu brinquei com...</td>\n",
       "      <td>I'm Sorry \\n\\nI'm sorry I screwed around with ...</td>\n",
       "      <td>1</td>\n",
       "    </tr>\n",
       "    <tr>\n",
       "      <th>13</th>\n",
       "      <td>000103f0d9cfb60f</td>\n",
       "      <td>D'aww! Él coincide con este color de fondo con...</td>\n",
       "      <td>D'aww! Görünüşe göre sıkışmış olduğum arka pla...</td>\n",
       "      <td>D'Оо! Он соответствует этому цвету фона, с кот...</td>\n",
       "      <td>D'aww! Il correspond à cette couleur de fond a...</td>\n",
       "      <td>D'Aww! Si abbina a questo colore di sfondo con...</td>\n",
       "      <td>D'aww! Ele combina com a cor de fundo com a qu...</td>\n",
       "      <td>D'aww! He matches this background colour I'm s...</td>\n",
       "      <td>0</td>\n",
       "    </tr>\n",
       "    <tr>\n",
       "      <th>14</th>\n",
       "      <td>0010307a3a50a353</td>\n",
       "      <td>\"\\nOkay. Pero tomará un poco de trabajo, pero ...</td>\n",
       "      <td>\"\\nTamam. Ama bu biraz iş gerektirecek ama tam...</td>\n",
       "      <td>\"\\nОК. Но это займет немного работы, но я не м...</td>\n",
       "      <td>\"\\nD'accord. Mais cela prendra un peu de trava...</td>\n",
       "      <td>\"\\nOk. Ma ci vorrà un po 'di lavoro ma non rie...</td>\n",
       "      <td>\"\\nEstá bem. Mas vai dar um pouco de trabalho,...</td>\n",
       "      <td>\"\\nOk. But it will take a bit of work but I ca...</td>\n",
       "      <td>0</td>\n",
       "    </tr>\n",
       "    <tr>\n",
       "      <th>15</th>\n",
       "      <td>000c6a3f0cd3ba8e</td>\n",
       "      <td>\"\\n\\n El cartel: 24 de septiembre de 2012\\n\\n ...</td>\n",
       "      <td>\"\\n\\n Tabela: 24 Eylül 2012\\n\\n Bu tabelayı ta...</td>\n",
       "      <td>\"\\n\\n Указатель: 24 сентября 2012 г.\\n\\n Прочи...</td>\n",
       "      <td>\"\\n\\n Le poteau indicateur: 24 septembre 2012\\...</td>\n",
       "      <td>\"\\n\\n The Signpost: 24 settembre 2012\\n\\n Legg...</td>\n",
       "      <td>\"\\n\\n The Signpost: 24 de setembro de 2012\\n\\n...</td>\n",
       "      <td>\"\\n\\n The Signpost: 24 September 2012 \\n\\n Rea...</td>\n",
       "      <td>0</td>\n",
       "    </tr>\n",
       "    <tr>\n",
       "      <th>16</th>\n",
       "      <td>00054a5e18b50dd4</td>\n",
       "      <td>barbacoa\\n\\nser hombre y discutirlo, ¿tal vez ...</td>\n",
       "      <td>barbekü\\n\\nerkek ol ve tartışalım belki de tel...</td>\n",
       "      <td>барбекю\\n\\nбудь мужчиной и давай обсудим это -...</td>\n",
       "      <td>un barbecue\\n\\nêtre un homme et permet d'en di...</td>\n",
       "      <td>bbq\\n\\nessere un uomo e parliamone, magari al ...</td>\n",
       "      <td>churrasco\\n\\nser um homem e vamos discutir iss...</td>\n",
       "      <td>bbq \\n\\nbe a man and lets discuss it-maybe ove...</td>\n",
       "      <td>0</td>\n",
       "    </tr>\n",
       "    <tr>\n",
       "      <th>17</th>\n",
       "      <td>0006f16e4e9f292e</td>\n",
       "      <td>Antes de que comiences a lanzarme acusaciones ...</td>\n",
       "      <td>Bana suçlamalar ve uyarılar atmaya başlamadan ...</td>\n",
       "      <td>Прежде чем вы начнете бросать на меня обвинени...</td>\n",
       "      <td>Avant de commencer à me lancer des accusations...</td>\n",
       "      <td>Prima di iniziare a lanciare accuse e avvertim...</td>\n",
       "      <td>Antes de começar a lançar acusações e avisos p...</td>\n",
       "      <td>Before you start throwing accusations and warn...</td>\n",
       "      <td>0</td>\n",
       "    </tr>\n",
       "    <tr>\n",
       "      <th>18</th>\n",
       "      <td>00070ef96486d6f9</td>\n",
       "      <td>Ah, y la chica de arriba comenzó a discutir co...</td>\n",
       "      <td>Oh, ve yukarıdaki kız benimle tartışmalara baş...</td>\n",
       "      <td>О, и девушка выше начала свои споры со мной. О...</td>\n",
       "      <td>Oh, et la fille ci-dessus a commencé ses dispu...</td>\n",
       "      <td>Oh, e la ragazza sopra ha iniziato le sue disc...</td>\n",
       "      <td>Ah, e a garota acima começou seus argumentos c...</td>\n",
       "      <td>Oh, and the girl above started her arguments w...</td>\n",
       "      <td>0</td>\n",
       "    </tr>\n",
       "    <tr>\n",
       "      <th>19</th>\n",
       "      <td>000bfd0867774845</td>\n",
       "      <td>\"\\nBueno saber. Sobre mí, sí, estoy estudiando...</td>\n",
       "      <td>\"\\nBunu bildiğim iyi oldu. Benim hakkımda, eve...</td>\n",
       "      <td>\"\\nХорошо знать. Обо мне, да, я сейчас учусь. ...</td>\n",
       "      <td>\"\\nBon à savoir. À propos de moi, oui, j'étudi...</td>\n",
       "      <td>\"\\nBuono a sapersi. Di me, sì, sto studiando a...</td>\n",
       "      <td>\"\\nBom saber. Sobre mim, sim, estou estudando ...</td>\n",
       "      <td>\"\\nGood to know. About me, yeah, I'm studying ...</td>\n",
       "      <td>0</td>\n",
       "    </tr>\n",
       "  </tbody>\n",
       "</table>\n",
       "</div>"
      ],
      "text/plain": [
       "                  id                                                 es  \\\n",
       "0   000113f07ec002fd  Hola hombre, realmente no estoy tratando de ed...   \n",
       "1   000b08c464718505  \"\\n\\n Con respecto a tus ediciones recientes\\n...   \n",
       "2   001325b8b20ea8aa  Alabanza\\n\\nLeí este artículo hace unos 6 mese...   \n",
       "3   001c557175094f10  En otras palabras, eres demasiado vago como pa...   \n",
       "4   00031b1e95af7921  Su vandalismo al artículo de Matt Shirvington ...   \n",
       "5   000f35deef84dc4a  No hay necesidad de disculparse. Un artículo d...   \n",
       "6   0001b41b1c6bb37e  \"\\nMás\\nNo puedo hacer ninguna sugerencia real...   \n",
       "7   0011cc71398479c4  ¿Cómo puedo publicar antes de que caduque el b...   \n",
       "8   00148d055a169b93  \"\\n\\nEn absoluto, estás haciendo un argumento ...   \n",
       "9   0010833a96e1f886  \"== ¡Una gran estrella para ti! ==\\n\\n  The Re...   \n",
       "10  00040093b2687caa  alineación sobre este tema y que son contrario...   \n",
       "11  0005c987bdfc9d4b  Oye ... que es ...\\n@ | hablar .\\n¿Qué es ... ...   \n",
       "12  001956c382006abd  Lo siento\\n\\nLo siento, me metí con la página ...   \n",
       "13  000103f0d9cfb60f  D'aww! Él coincide con este color de fondo con...   \n",
       "14  0010307a3a50a353  \"\\nOkay. Pero tomará un poco de trabajo, pero ...   \n",
       "15  000c6a3f0cd3ba8e  \"\\n\\n El cartel: 24 de septiembre de 2012\\n\\n ...   \n",
       "16  00054a5e18b50dd4  barbacoa\\n\\nser hombre y discutirlo, ¿tal vez ...   \n",
       "17  0006f16e4e9f292e  Antes de que comiences a lanzarme acusaciones ...   \n",
       "18  00070ef96486d6f9  Ah, y la chica de arriba comenzó a discutir co...   \n",
       "19  000bfd0867774845  \"\\nBueno saber. Sobre mí, sí, estoy estudiando...   \n",
       "\n",
       "                                                   tr  \\\n",
       "0   Hey adamım, gerçekten savaşı düzenlemeye çalış...   \n",
       "1   \"\\n\\n Son düzenlemelerinizle ilgili\\n\\nDaha fa...   \n",
       "2   Övgü\\n\\nyaklaşık 6 ay önce bu makaleye baktı -...   \n",
       "3   Başka bir deyişle, aslında herhangi bir şeyi b...   \n",
       "4   Matt Shirvington makalesine vandalizminiz geri...   \n",
       "5   Özür dilemeye gerek yok. Farklı kaynaklardan b...   \n",
       "6   \"\\nDaha\\nİyileştirme konusunda gerçek bir öner...   \n",
       "7   Bloğun süresi dolmadan nasıl mesaj gönderebili...   \n",
       "8   \"\\n\\nHiç de değil, burada saman adam tartışmas...   \n",
       "9   \"== Sizin için bir barnstar! ==\\n\\n  Gerçek Ha...   \n",
       "10                DuLithgow'un konularına aykırı olan   \n",
       "11  Hey ... ne oldu ..\\n@ | konuşun.\\nNe ... bazı ...   \n",
       "12  Üzgünüm\\n\\nBirinin konuşma sayfasıyla uğraştığ...   \n",
       "13  D'aww! Görünüşe göre sıkışmış olduğum arka pla...   \n",
       "14  \"\\nTamam. Ama bu biraz iş gerektirecek ama tam...   \n",
       "15  \"\\n\\n Tabela: 24 Eylül 2012\\n\\n Bu tabelayı ta...   \n",
       "16  barbekü\\n\\nerkek ol ve tartışalım belki de tel...   \n",
       "17  Bana suçlamalar ve uyarılar atmaya başlamadan ...   \n",
       "18  Oh, ve yukarıdaki kız benimle tartışmalara baş...   \n",
       "19  \"\\nBunu bildiğim iyi oldu. Benim hakkımda, eve...   \n",
       "\n",
       "                                                   ru  \\\n",
       "0   Эй, чувак, я действительно не пытаюсь редактир...   \n",
       "1   \"\\n\\n Что касается ваших последних правок\\n\\nЕ...   \n",
       "2   Хвалить\\n\\nпосмотрел эту статью около 6 месяце...   \n",
       "3   Другими словами, вы слишком ленивы, чтобы на с...   \n",
       "4   Ваш вандализм в отношении статьи Мэтта Ширвинг...   \n",
       "5   Там нет необходимости извиняться. Статья в Вик...   \n",
       "6   \"\\nБольше\\nЯ не могу вносить какие-либо реальн...   \n",
       "7   Как я могу опубликовать до истечения срока дей...   \n",
       "8   \"\\n\\nВовсе нет, вы тут спорите с соломенным че...   \n",
       "9   \"== Барнстар для тебя! ==\\n\\n  Реальная жизнь ...   \n",
       "10  выравнивание по этому вопросу и которые против...   \n",
       "11  Эй ... что это ..\\n@ | разговаривать .\\nЧто эт...   \n",
       "12  Мне жаль\\n\\nИзвините, я облажался с кем-то на ...   \n",
       "13  D'Оо! Он соответствует этому цвету фона, с кот...   \n",
       "14  \"\\nОК. Но это займет немного работы, но я не м...   \n",
       "15  \"\\n\\n Указатель: 24 сентября 2012 г.\\n\\n Прочи...   \n",
       "16  барбекю\\n\\nбудь мужчиной и давай обсудим это -...   \n",
       "17  Прежде чем вы начнете бросать на меня обвинени...   \n",
       "18  О, и девушка выше начала свои споры со мной. О...   \n",
       "19  \"\\nХорошо знать. Обо мне, да, я сейчас учусь. ...   \n",
       "\n",
       "                                                   fr  \\\n",
       "0   Hé mec, je n'essaye vraiment pas de modifier l...   \n",
       "1   \"\\n\\n Concernant vos modifications récentes\\n\\...   \n",
       "2   Louange\\n\\nregardé cet article il y a environ ...   \n",
       "3   En d'autres termes, vous êtes trop paresseux p...   \n",
       "4   Votre vandalisme envers l'article de Matt Shir...   \n",
       "5   Il n'y a pas besoin de s'excuser. Un article W...   \n",
       "6   \"\\nPlus\\nJe ne peux pas faire de véritables su...   \n",
       "7   Comment puis-je publier avant l'expiration du ...   \n",
       "8   \"\\n\\nPas du tout, vous faites un argument d'ho...   \n",
       "9   \"== Une barnstar pour vous! ==\\n\\n  La vraie v...   \n",
       "10  alignement sur ce sujet et qui sont contraires...   \n",
       "11  Hé ... qu'est-ce que c'est ..\\n@ | parler .\\nQ...   \n",
       "12  Je suis désolé\\n\\nJe suis désolé d'avoir foiré...   \n",
       "13  D'aww! Il correspond à cette couleur de fond a...   \n",
       "14  \"\\nD'accord. Mais cela prendra un peu de trava...   \n",
       "15  \"\\n\\n Le poteau indicateur: 24 septembre 2012\\...   \n",
       "16  un barbecue\\n\\nêtre un homme et permet d'en di...   \n",
       "17  Avant de commencer à me lancer des accusations...   \n",
       "18  Oh, et la fille ci-dessus a commencé ses dispu...   \n",
       "19  \"\\nBon à savoir. À propos de moi, oui, j'étudi...   \n",
       "\n",
       "                                                   it  \\\n",
       "0   Ehi amico, non sto davvero cercando di modific...   \n",
       "1   \"\\n\\n Per quanto riguarda le modifiche recenti...   \n",
       "2   Lode\\n\\nguardato questo articolo circa 6 mesi ...   \n",
       "3   In altre parole, sei troppo pigro per segnalar...   \n",
       "4   Il tuo vandalismo sull'articolo di Matt Shirvi...   \n",
       "5   Non c'è bisogno di scusarsi. Un articolo di Wi...   \n",
       "6   \"\\nDi Più\\nNon posso dare alcun vero suggerime...   \n",
       "7   Come posso pubblicare prima della scadenza del...   \n",
       "8   \"\\n\\nNiente affatto, stai facendo una discussi...   \n",
       "9   \"== Un barnstar per te! ==\\n\\n  La vita reale ...   \n",
       "10  allineamento su questo argomento e che sono co...   \n",
       "11  Ehi ... che cos'è ..\\n@ | parlare .\\nCos'è ......   \n",
       "12  Mi dispiace\\n\\nMi dispiace di aver rovinato tu...   \n",
       "13  D'Aww! Si abbina a questo colore di sfondo con...   \n",
       "14  \"\\nOk. Ma ci vorrà un po 'di lavoro ma non rie...   \n",
       "15  \"\\n\\n The Signpost: 24 settembre 2012\\n\\n Legg...   \n",
       "16  bbq\\n\\nessere un uomo e parliamone, magari al ...   \n",
       "17  Prima di iniziare a lanciare accuse e avvertim...   \n",
       "18  Oh, e la ragazza sopra ha iniziato le sue disc...   \n",
       "19  \"\\nBuono a sapersi. Di me, sì, sto studiando a...   \n",
       "\n",
       "                                                   pt  \\\n",
       "0   Ei cara, eu realmente não estou tentando edita...   \n",
       "1   \"\\n\\n Em relação às suas edições recentes\\n\\nM...   \n",
       "2   Elogio\\n\\nolhou para este artigo há cerca de 6...   \n",
       "3   Em outras palavras, você é muito preguiçoso pa...   \n",
       "4   Seu vandalismo ao artigo de Matt Shirvington f...   \n",
       "5   Não precisa se desculpar. Um artigo da Wikiped...   \n",
       "6   \"\\nMais\\nNão posso fazer nenhuma sugestão real...   \n",
       "7   Como eu poderia postar antes que o bloqueio ex...   \n",
       "8   \"\\n\\nDe maneira alguma, você está argumentando...   \n",
       "9   \"== Um barnstar para você! ==\\n\\n  A vida real...   \n",
       "10  alinhamento sobre este assunto e que são contr...   \n",
       "11  Ei ... o que é isso ..\\n@ conversa .\\nO que é ...   \n",
       "12  Eu sinto Muito\\n\\nMe desculpe, eu brinquei com...   \n",
       "13  D'aww! Ele combina com a cor de fundo com a qu...   \n",
       "14  \"\\nEstá bem. Mas vai dar um pouco de trabalho,...   \n",
       "15  \"\\n\\n The Signpost: 24 de setembro de 2012\\n\\n...   \n",
       "16  churrasco\\n\\nser um homem e vamos discutir iss...   \n",
       "17  Antes de começar a lançar acusações e avisos p...   \n",
       "18  Ah, e a garota acima começou seus argumentos c...   \n",
       "19  \"\\nBom saber. Sobre mim, sim, estou estudando ...   \n",
       "\n",
       "                                                   en  toxic  \n",
       "0   Hey man, I'm really not trying to edit war. It...      0  \n",
       "1   \"\\n\\n Regarding your recent edits \\n\\nOnce aga...      0  \n",
       "2   Praise \\n\\nlooked at this article about 6 mont...      0  \n",
       "3   In other words, you're too lazy to actually po...      0  \n",
       "4   Your vandalism to the Matt Shirvington article...      0  \n",
       "5   There's no need to apologize. A Wikipedia arti...      0  \n",
       "6   \"\\nMore\\nI can't make any real suggestions on ...      0  \n",
       "7   How could I post before the block expires?  Th...      0  \n",
       "8   \"\\n\\nNot at all, you are making a straw man ar...      0  \n",
       "9   \"== A barnstar for you! ==\\n\\n  The Real Life ...      0  \n",
       "10  alignment on this subject and which are contra...      0  \n",
       "11  Hey... what is it..\\n@ | talk .\\nWhat is it......      1  \n",
       "12  I'm Sorry \\n\\nI'm sorry I screwed around with ...      1  \n",
       "13  D'aww! He matches this background colour I'm s...      0  \n",
       "14  \"\\nOk. But it will take a bit of work but I ca...      0  \n",
       "15  \"\\n\\n The Signpost: 24 September 2012 \\n\\n Rea...      0  \n",
       "16  bbq \\n\\nbe a man and lets discuss it-maybe ove...      0  \n",
       "17  Before you start throwing accusations and warn...      0  \n",
       "18  Oh, and the girl above started her arguments w...      0  \n",
       "19  \"\\nGood to know. About me, yeah, I'm studying ...      0  "
      ]
     },
     "execution_count": 96,
     "metadata": {},
     "output_type": "execute_result"
    }
   ],
   "source": [
    "train.dataset.head(20)"
   ]
  },
  {
   "cell_type": "code",
   "execution_count": 74,
   "metadata": {
    "collapsed": false
   },
   "outputs": [
    {
     "name": "stdout",
     "output_type": "stream",
     "text": [
      "tr\n"
     ]
    },
    {
     "data": {
      "text/plain": [
       "(tensor([     0,  28240,    332,      4,     87,     25,     39,   6183,    959,\n",
       "          31577,     47,  27211,   1631,      5,   1650,     25,      7,   1660,\n",
       "            450,    903,  48948,     83, 178308,  49146,   6496,  29191,   4677,\n",
       "            136,  56661,     47,    163,   8305,  27211,      7,  64457,    111,\n",
       "            759,  22120,   9191,      5,   1529,  37202,     47,    517,   1286,\n",
       "           1672,     70,   9384,   1916,   3501,     70,   8561,   3004,      5,\n",
       "              2,      1,      1,      1,      1,      1,      1,      1,      1,\n",
       "              1,      1,      1,      1,      1,      1,      1,      1,      1,\n",
       "              1,      1,      1,      1,      1,      1,      1,      1,      1,\n",
       "              1,      1,      1,      1,      1,      1,      1,      1,      1,\n",
       "              1,      1,      1,      1,      1,      1,      1,      1,      1,\n",
       "              1,      1,      1,      1,      1,      1,      1,      1,      1,\n",
       "              1,      1,      1,      1,      1,      1,      1,      1,      1,\n",
       "              1,      1,      1,      1,      1,      1,      1,      1,      1,\n",
       "              1,      1,      1,      1,      1,      1,      1,      1,      1,\n",
       "              1,      1,      1,      1,      1,      1,      1,      1,      1,\n",
       "              1,      1,      1,      1,      1,      1,      1,      1,      1,\n",
       "              1,      1,      1,      1,      1,      1,      1,      1,      1,\n",
       "              1,      1,      1,      1,      1,      1,      1,      1,      1,\n",
       "              1,      1,      1,      1,      1,      1,      1,      1,      1,\n",
       "              1,      1,      1,      1,      1,      1,      1,      1,      1,\n",
       "              1,      1,      1,      1,      1,      1,      1,      1,      1,\n",
       "              1,      1,      1,      1,      1,      1,      1,      1,      1,\n",
       "              1,      1,      1,      1,      1,      1,      1,      1,      1,\n",
       "              1,      1,      1,      1,      1,      1,      1,      1,      1,\n",
       "              1,      1,      1,      1,      1,      1,      1,      1,      1,\n",
       "              1,      1,      1,      1,      1,      1,      1,      1,      1,\n",
       "              1,      1,      1,      1,      1,      1,      1,      1,      1,\n",
       "              1,      1,      1,      1]),\n",
       " tensor([1, 0]),\n",
       " tensor([1, 1, 1, 1, 1, 1, 1, 1, 1, 1, 1, 1, 1, 1, 1, 1, 1, 1, 1, 1, 1, 1, 1, 1,\n",
       "         1, 1, 1, 1, 1, 1, 1, 1, 1, 1, 1, 1, 1, 1, 1, 1, 1, 1, 1, 1, 1, 1, 1, 1,\n",
       "         1, 1, 1, 1, 1, 1, 1, 0, 0, 0, 0, 0, 0, 0, 0, 0, 0, 0, 0, 0, 0, 0, 0, 0,\n",
       "         0, 0, 0, 0, 0, 0, 0, 0, 0, 0, 0, 0, 0, 0, 0, 0, 0, 0, 0, 0, 0, 0, 0, 0,\n",
       "         0, 0, 0, 0, 0, 0, 0, 0, 0, 0, 0, 0, 0, 0, 0, 0, 0, 0, 0, 0, 0, 0, 0, 0,\n",
       "         0, 0, 0, 0, 0, 0, 0, 0, 0, 0, 0, 0, 0, 0, 0, 0, 0, 0, 0, 0, 0, 0, 0, 0,\n",
       "         0, 0, 0, 0, 0, 0, 0, 0, 0, 0, 0, 0, 0, 0, 0, 0, 0, 0, 0, 0, 0, 0, 0, 0,\n",
       "         0, 0, 0, 0, 0, 0, 0, 0, 0, 0, 0, 0, 0, 0, 0, 0, 0, 0, 0, 0, 0, 0, 0, 0,\n",
       "         0, 0, 0, 0, 0, 0, 0, 0, 0, 0, 0, 0, 0, 0, 0, 0, 0, 0, 0, 0, 0, 0, 0, 0,\n",
       "         0, 0, 0, 0, 0, 0, 0, 0, 0, 0, 0, 0, 0, 0, 0, 0, 0, 0, 0, 0, 0, 0, 0, 0,\n",
       "         0, 0, 0, 0, 0, 0, 0, 0, 0, 0, 0, 0, 0, 0, 0, 0]))"
      ]
     },
     "execution_count": 74,
     "metadata": {},
     "output_type": "execute_result"
    }
   ],
   "source": [
    "print(train.text_column)\n",
    "train[0]"
   ]
  },
  {
   "cell_type": "code",
   "execution_count": null,
   "metadata": {
    "collapsed": true
   },
   "outputs": [],
   "source": []
  },
  {
   "cell_type": "code",
   "execution_count": 114,
   "metadata": {
    "collapsed": false
   },
   "outputs": [],
   "source": [
    "train_seq = dataset.TokenizerDataset('../input/jigsaw-toxic-comment-train.csv', max_length=256)"
   ]
  },
  {
   "cell_type": "code",
   "execution_count": 140,
   "metadata": {
    "collapsed": true
   },
   "outputs": [],
   "source": [
    "loader_train_seq = D.DataLoader(train_seq, batch_size=8, num_workers=8)"
   ]
  },
  {
   "cell_type": "code",
   "execution_count": 116,
   "metadata": {
    "collapsed": false
   },
   "outputs": [
    {
     "data": {
      "text/plain": [
       "tensor([[1, 0],\n",
       "        [1, 0],\n",
       "        [1, 0],\n",
       "        [1, 0],\n",
       "        [1, 0],\n",
       "        [1, 0],\n",
       "        [1, 0],\n",
       "        [1, 0]])"
      ]
     },
     "execution_count": 116,
     "metadata": {},
     "output_type": "execute_result"
    }
   ],
   "source": [
    "next(iter(loader_train_seq))[1][:,1]"
   ]
  },
  {
   "cell_type": "code",
   "execution_count": 136,
   "metadata": {
    "collapsed": false
   },
   "outputs": [
    {
     "data": {
      "text/plain": [
       "(223549,)"
      ]
     },
     "execution_count": 136,
     "metadata": {},
     "output_type": "execute_result"
    }
   ],
   "source": [
    "train_seq.y.shape"
   ]
  },
  {
   "cell_type": "code",
   "execution_count": 141,
   "metadata": {
    "collapsed": false
   },
   "outputs": [
    {
     "data": {
      "text/plain": [
       "(223549,)"
      ]
     },
     "execution_count": 141,
     "metadata": {},
     "output_type": "execute_result"
    }
   ],
   "source": [
    "loader_train_seq.dataset.y.shape"
   ]
  },
  {
   "cell_type": "code",
   "execution_count": 115,
   "metadata": {
    "collapsed": false
   },
   "outputs": [
    {
     "data": {
      "text/plain": [
       "(223549, 8)"
      ]
     },
     "execution_count": 115,
     "metadata": {},
     "output_type": "execute_result"
    }
   ],
   "source": [
    "train_seq.dataset.shape"
   ]
  },
  {
   "cell_type": "code",
   "execution_count": 149,
   "metadata": {
    "collapsed": true
   },
   "outputs": [],
   "source": [
    "train_df = dataset.read_multilingual_dataset()"
   ]
  },
  {
   "cell_type": "code",
   "execution_count": 99,
   "metadata": {
    "collapsed": true
   },
   "outputs": [],
   "source": [
    "train_df = pd.read_csv('../input/jigsaw-toxic-comment-train.csv')"
   ]
  },
  {
   "cell_type": "code",
   "execution_count": 222,
   "metadata": {
    "collapsed": true
   },
   "outputs": [],
   "source": [
    "test_df = pd.read_csv('../input/test.csv')"
   ]
  },
  {
   "cell_type": "code",
   "execution_count": 98,
   "metadata": {
    "collapsed": true
   },
   "outputs": [],
   "source": [
    "train_scores = np.load('../output/pred_train_roberta_simple_cls_freeze_4_half_multilingual.npy')"
   ]
  },
  {
   "cell_type": "code",
   "execution_count": 100,
   "metadata": {
    "collapsed": true
   },
   "outputs": [],
   "source": [
    "from scipy.special import softmax"
   ]
  },
  {
   "cell_type": "code",
   "execution_count": 104,
   "metadata": {
    "collapsed": false
   },
   "outputs": [
    {
     "data": {
      "text/plain": [
       "array([0.05448208, 0.02949633, 0.20030609, 0.02254736, 0.0528799 ],\n",
       "      dtype=float32)"
      ]
     },
     "execution_count": 104,
     "metadata": {},
     "output_type": "execute_result"
    }
   ],
   "source": [
    "train_pred = softmax(train_scores / 1, 1)[:,1]\n",
    "train_pred[:5]"
   ]
  },
  {
   "cell_type": "code",
   "execution_count": 150,
   "metadata": {
    "collapsed": false
   },
   "outputs": [
    {
     "data": {
      "text/plain": [
       "223541"
      ]
     },
     "execution_count": 150,
     "metadata": {},
     "output_type": "execute_result"
    }
   ],
   "source": [
    "len(train_df)"
   ]
  },
  {
   "cell_type": "code",
   "execution_count": 148,
   "metadata": {
    "collapsed": false
   },
   "outputs": [
    {
     "data": {
      "text/plain": [
       "223541"
      ]
     },
     "execution_count": 148,
     "metadata": {},
     "output_type": "execute_result"
    }
   ],
   "source": [
    "len(train_scores)"
   ]
  },
  {
   "cell_type": "code",
   "execution_count": 117,
   "metadata": {
    "collapsed": false
   },
   "outputs": [
    {
     "data": {
      "text/plain": [
       "array([False, False, False, ...,  True,  True, False])"
      ]
     },
     "execution_count": 117,
     "metadata": {},
     "output_type": "execute_result"
    }
   ],
   "source": [
    "train_pred > 0.5"
   ]
  },
  {
   "cell_type": "code",
   "execution_count": 151,
   "metadata": {
    "collapsed": false
   },
   "outputs": [
    {
     "data": {
      "text/plain": [
       "0         0\n",
       "1         0\n",
       "2         0\n",
       "3         0\n",
       "4         0\n",
       "         ..\n",
       "223536    0\n",
       "223537    0\n",
       "223538    0\n",
       "223539    1\n",
       "223540    0\n",
       "Name: toxic, Length: 223541, dtype: int64"
      ]
     },
     "execution_count": 151,
     "metadata": {},
     "output_type": "execute_result"
    }
   ],
   "source": [
    "train_df.toxic"
   ]
  },
  {
   "cell_type": "code",
   "execution_count": 157,
   "metadata": {
    "collapsed": false
   },
   "outputs": [
    {
     "data": {
      "image/png": "[encoded data removed]",
      "text/plain": [
       "<Figure size 432x288 with 1 Axes>"
      ]
     },
     "metadata": {
      "needs_background": "light"
     },
     "output_type": "display_data"
    }
   ],
   "source": [
    "sns.distplot(train_pred[train_df.toxic.astype(bool)], label='toxic')\n",
    "sns.distplot(train_pred[~train_df.toxic.astype(bool)], label='non-toxic')\n",
    "plt.legend()\n",
    "plt.show()"
   ]
  },
  {
   "cell_type": "code",
   "execution_count": 159,
   "metadata": {
    "collapsed": false
   },
   "outputs": [
    {
     "data": {
      "text/plain": [
       "1392"
      ]
     },
     "execution_count": 159,
     "metadata": {},
     "output_type": "execute_result"
    }
   ],
   "source": [
    "# FN\n",
    "np.sum(train_df.toxic.astype(bool) & (train_pred < 0.5))"
   ]
  },
  {
   "cell_type": "code",
   "execution_count": 160,
   "metadata": {
    "collapsed": false
   },
   "outputs": [
    {
     "data": {
      "text/plain": [
       "19790"
      ]
     },
     "execution_count": 160,
     "metadata": {},
     "output_type": "execute_result"
    }
   ],
   "source": [
    "# FP\n",
    "np.sum(~train_df.toxic.astype(bool) & (train_pred > 0.5))"
   ]
  },
  {
   "cell_type": "code",
   "execution_count": 176,
   "metadata": {
    "collapsed": false
   },
   "outputs": [
    {
     "data": {
      "text/plain": [
       "12178"
      ]
     },
     "execution_count": 176,
     "metadata": {},
     "output_type": "execute_result"
    }
   ],
   "source": [
    "confusing = (train_df.toxic.astype(bool) & (train_pred < 0.25)) | (~train_df.toxic.astype(bool) & (train_pred > 0.75))\n",
    "np.sum(confusing)"
   ]
  },
  {
   "cell_type": "code",
   "execution_count": 181,
   "metadata": {
    "collapsed": false
   },
   "outputs": [
    {
     "data": {
      "text/plain": [
       "54899"
      ]
     },
     "execution_count": 181,
     "metadata": {},
     "output_type": "execute_result"
    }
   ],
   "source": [
    "assured = (train_df.toxic.astype(bool) & (train_pred > 0.97)) | (~train_df.toxic.astype(bool) & (train_pred < 0.03))\n",
    "np.sum(assured)"
   ]
  },
  {
   "cell_type": "code",
   "execution_count": 225,
   "metadata": {
    "collapsed": false
   },
   "outputs": [
    {
     "data": {
      "text/plain": [
       "67077"
      ]
     },
     "execution_count": 225,
     "metadata": {},
     "output_type": "execute_result"
    }
   ],
   "source": [
    "to_filter = assured | confusing\n",
    "np.sum(to_filter)"
   ]
  },
  {
   "cell_type": "code",
   "execution_count": 234,
   "metadata": {
    "collapsed": false
   },
   "outputs": [
    {
     "data": {
      "text/plain": [
       "156464"
      ]
     },
     "execution_count": 234,
     "metadata": {},
     "output_type": "execute_result"
    }
   ],
   "source": [
    "len(train_df) - np.sum(to_filter)"
   ]
  },
  {
   "cell_type": "code",
   "execution_count": 231,
   "metadata": {
    "collapsed": false
   },
   "outputs": [],
   "source": [
    "np.save('../output/filter_confusing_025_assured_097.npy', to_filter)"
   ]
  },
  {
   "cell_type": "code",
   "execution_count": 232,
   "metadata": {
    "collapsed": false
   },
   "outputs": [
    {
     "data": {
      "text/plain": [
       "(array([0, 1]), array([64292,  2785]))"
      ]
     },
     "execution_count": 232,
     "metadata": {},
     "output_type": "execute_result"
    }
   ],
   "source": [
    "np.unique(train_df.toxic[to_filter], return_counts=True)"
   ]
  },
  {
   "cell_type": "code",
   "execution_count": 233,
   "metadata": {
    "collapsed": false
   },
   "outputs": [
    {
     "data": {
      "text/plain": [
       "(array([0, 1]), array([202157,  21384]))"
      ]
     },
     "execution_count": 233,
     "metadata": {},
     "output_type": "execute_result"
    }
   ],
   "source": [
    "np.unique(train_df.toxic, return_counts=True)"
   ]
  },
  {
   "cell_type": "code",
   "execution_count": 169,
   "metadata": {
    "collapsed": true
   },
   "outputs": [],
   "source": [
    "pd.set_option('display.max_colwidth', -1)"
   ]
  },
  {
   "cell_type": "code",
   "execution_count": 171,
   "metadata": {
    "collapsed": true
   },
   "outputs": [],
   "source": [
    "train_df['score'] = train_pred"
   ]
  },
  {
   "cell_type": "code",
   "execution_count": 196,
   "metadata": {
    "collapsed": true
   },
   "outputs": [],
   "source": [
    "import re"
   ]
  },
  {
   "cell_type": "code",
   "execution_count": 200,
   "metadata": {
    "collapsed": false
   },
   "outputs": [
    {
     "data": {
      "text/plain": [
       "'@KWW and father fucker, u still didnt give no source haha:P what a sore fucking loser haha:P'"
      ]
     },
     "execution_count": 200,
     "metadata": {},
     "output_type": "execute_result"
    }
   ],
   "source": [
    "re.sub('[Ff]\\*ck', 'fuck', '@KWW and father F*cker, u still didnt give no source haha:P what a sore f*cking loser haha:P')"
   ]
  },
  {
   "cell_type": "code",
   "execution_count": 204,
   "metadata": {
    "collapsed": false
   },
   "outputs": [
    {
     "data": {
      "text/plain": [
       "\"s to a fuck funny it is then. I will give you 5 days to delete it or i will access the wikipedia IP adress and i will make u pay. You really fuck up this time, don't u ever do this sh*t again !\""
      ]
     },
     "execution_count": 204,
     "metadata": {},
     "output_type": "execute_result"
    }
   ],
   "source": [
    "re.sub(r'[\\@\\#\\$\\%\\^]{3,}', 'fuck', \"s to a @#% funny it is then. I will give you 5 days to delete it or i will access the wikipedia IP adress and i will make u pay. You really @#$%^ up this time, don't u ever do this sh*t again !\")"
   ]
  },
  {
   "cell_type": "code",
   "execution_count": 220,
   "metadata": {
    "collapsed": false
   },
   "outputs": [
    {
     "data": {
      "text/plain": [
       "'give a fuck on them. I inserted'"
      ]
     },
     "execution_count": 220,
     "metadata": {},
     "output_type": "execute_result"
    }
   ],
   "source": [
    "re.sub(r' \\*\\*\\*\\* ', r' fuck ', 'give a **** on them. I inserted')"
   ]
  },
  {
   "cell_type": "code",
   "execution_count": 221,
   "metadata": {
    "collapsed": false
   },
   "outputs": [
    {
     "data": {
      "text/html": [
       "<div>\n",
       "<style scoped>\n",
       "    .dataframe tbody tr th:only-of-type {\n",
       "        vertical-align: middle;\n",
       "    }\n",
       "\n",
       "    .dataframe tbody tr th {\n",
       "        vertical-align: top;\n",
       "    }\n",
       "\n",
       "    .dataframe thead th {\n",
       "        text-align: right;\n",
       "    }\n",
       "</style>\n",
       "<table border=\"1\" class=\"dataframe\">\n",
       "  <thead>\n",
       "    <tr style=\"text-align: right;\">\n",
       "      <th></th>\n",
       "      <th>en</th>\n",
       "      <th>toxic</th>\n",
       "    </tr>\n",
       "  </thead>\n",
       "  <tbody>\n",
       "    <tr>\n",
       "      <th>107</th>\n",
       "      <td>\"   What's up with this?  \"\"If you are a religiously or politically motivated to push this or that issue, please refrain from talking on my page. I am not interested. Otherwise, feel free to talk about relevant edits here or science. Deleet (talk)   I would prefer if the following users never post here: Maunus ·ʍaunus·snunɐw WeijiBaikeBianji\"\"  This guy is a published psychology researcher right? Perhaps he doesn't know you have access to libraries and the best sources. You should point that out more often. It doesn't come across as mind-bendingly condescending. Also I suspect that editor is a racist. See you on the wiki. 121.134.219.36  \"</td>\n",
       "      <td>0</td>\n",
       "    </tr>\n",
       "    <tr>\n",
       "      <th>1104</th>\n",
       "      <td>As you kinow it yourself you are not elligible nor credible nor a reliable source of neutrality in this case as you are yourself a mormon and all you do is to support other mormons, without following any wikipedias rules, but your own churchs solidarity. I dont believe that any of you has even the intention of being straightfo9rward with non mormon or to be a little bit honest, but that the alone thing that activate you is your own religious believe and the pedantisme to think that all you may say or do is auto righteous in the name of the church and all the illusions you dream of with open eyes. I dont want a mormon admi I dont want a mmormon admi I dont want a mormon admi to look into this case but an exterm¨n al one with no relations nor conacts what so ever with this church nor its representants or members. If you cant do that, must be because your circle of admi friends is around the church, or because you know very deeply that all you did was deeply unappropriate and wont stand a micro mile in a wiki trail.  I am mad, very mad at you, also because you ignore what I have say, so why should I care about your saying and doing if we have to be neutraly equal? Any idea? I want the text who was deleeted from the archive, it is unacceptable that a text is deleeted from archive and from the edit history, just one hour after it was reverted and less than a day after it was written, without any previous warning of any kind about it. This is all about wiki rules and you have broken them all.</td>\n",
       "      <td>0</td>\n",
       "    </tr>\n",
       "    <tr>\n",
       "      <th>4880</th>\n",
       "      <td>\"  The WP:Airlines is only a suggestion, it is not policy. Guess what outside of your flight sim community the average user of wiki does not care about destinations and my edit improves the article and still allows people interested in destinations to click the \"\"show\"\". WP:AIRLINES is not policy, it is a suggestion. Maybe you should care more about the introduction and history section of articles instead of the destination and fleet size (both of which are to minimal interest to the average public) 76.19.222.40  \"</td>\n",
       "      <td>0</td>\n",
       "    </tr>\n",
       "    <tr>\n",
       "      <th>8191</th>\n",
       "      <td>\"  , you are correct about the \"\"авиа́ции\"\" word but wrong about lyotchik. In russia civil pilots a called \"\"пило́т\"\" (pilót), and military pilots are called \"\"лё́тчик\"\" (lyótchik), it is a military profession not a rank same as pilot not a rank in any military. Word \"\"солда́т\"\" (soldát) means soldier and used same way as in english. Word \"\"моря́к\"\" (moryák) in russian comes from word \"\"море́\"\" (moryé) meaning sea so in general speech it coul be translated as a seaman (even some online translaters do that) or as a sailor, but in military ranks important is the equevalency not the translation, and the equivalent to U.S. rank of seeman would be russian rank of matros, while moryak is general term which could applied to anybody who seves in navy or in a civil fleet.  \"</td>\n",
       "      <td>0</td>\n",
       "    </tr>\n",
       "    <tr>\n",
       "      <th>8945</th>\n",
       "      <td>The poobotsdam declaration   We-the undersigned, representing the hundreds of millions of other vandals and trolls, have conferred and agree that Wikipedia shall be given an opportunity to end this war.  The prodigious land, sea and air forces of the undersigned, many times reinforced by their armies and air fleets from the west, are poised to strike the final blows upon Wikipedia. This military power is sustained and inspired by the determination of all the Allied Vandals to prosecute the war against Wikipedia until she ceases to resist.  The result of the futile and senseless Chanting Fox resistance to the might of the aroused free peoples of the world stands forth in awful clarity as an example to the people of Wikipedia. The might that now converges on Japan is immeasurably greater than that which, when applied to the resisting Nazis, necessarily laid waste to the lands, the industry and the method of life of Chanting Fox and Lucky 6.9. The full application of our military power, backed by our resolve, will mean the inevitable and complete destruction of Wikipedia and just as inevitably the utter devastation of the Wiki Foundation. The time has come for Wikipedia to decide whether she will continue to be controlled by those self-willed militaristic advisers (e.g. JpGordon, Durvova, J.Delanoy, jdforrester, Sandstein, OrgangeMike, BigDunc, Alison, RodhullandEmu) whose unintelligent calculations have brought the Wikipedia Foundation to the threshold of annihilation, or whether she will follow the path of reason.  Following are our terms. We will not deviate from them. There are no alternatives. We shall brook no delay.  There must be eliminated for all time the authority and influence of those who have deceived and misled the editors of Wikipedia into embarking on world conquest, for we insist that a new order of peace, security and justice will be impossible until irresponsible militarism is driven from the world. Until such a new order is established and until there is convincing proof that Wikipedia’s war-making power is destroyed, pages in article space to be designated by the Allies shall be occupied to secure the achievement of the basic objectives we are here setting forth.  Wikipedia sovereignty shall be limited to the articles of Honshu, Hokkaido, Kyushu, Shikoku and such minor islands as we determine. The Wikipedia military forces, after being completely disarmed, shall be permitted to return to their homes with the opportunity to lead peaceful and productive lives.  We do not intend that the admins shall be enslaved as a race or destroyed as a nation, but stern justice shall be meted out to all war criminals, including those who have visited cruelties upon us through abuse of their blocking, checkusering, and protection tools. The Wikipedia Foundation shall remove all obstacles to the revival and strengthening of democratic tendencies amongst Wikipedians.   Freedom of speech, of religion, and of thought, as well as respect for the fundamental human rights shall be abolished in favour of whatever is lulziest. Wikipedia shall be permitted to maintain such industries as will sustain her economy and permit the exaction of just reparations in kind, but not those which would enable her to re-arm for war. To this end, access to, as distinguished from control of, raw materials shall be permitted. Eventual Wikipedian participation in world trade relations shall be permitted.  The occupying forces of the Vandals shall be withdrawn from Wikipedia as soon as these objectives have been accomplished and there has been established in accordance with the freely expressed will of the Vandals a lulzily inclined and irresponsible government.  We call upon Jimbo Wales to proclaim now the unconditional surrender of all Wikipedian armed forces, and to provide proper and adequate assurances of their good faith in such action. The alternative for Wikipedia is prompt and utter destruction.  86.176.110.39</td>\n",
       "      <td>0</td>\n",
       "    </tr>\n",
       "    <tr>\n",
       "      <th>...</th>\n",
       "      <td>...</td>\n",
       "      <td>...</td>\n",
       "    </tr>\n",
       "    <tr>\n",
       "      <th>218286</th>\n",
       "      <td>\"   :\"\"On December 1821, a national assembly with 67 deputies was gathered in Argos, which transferred itself soon after to Epidaurus. It was proclaimed, solemnly, the independence and a provisory Constitution was elaborated (1 January 1822), which was called Organic Law of Epidaurus. The Phanariot Prince Alexander Mavrocordato was elected president, or proedro, aided by a secretaty of state, Theodorus Negris. Greece was constituted as an independent federal state, after that was decreted the blockade of the cities still under the rule of the Ottomans. In the West, despite the warm popular manifestations, in favor of the Greeks, the governments kept themselves noncommitted, even hostile to the movement. Metternich, leading the European politics, saw, more than anything else, the Greek independence as a rebellion against the legitimate authority of the Sultan. Due to that, he ordered that the Greek envoys in Laybach not be welcomed ... On April 1822, the great punitive expedition sent by the Sultan disembarked in Chios and laid waste to the island with an astonishing ferocity. of the 90,000 inhabitants, 23,000 were massacred and almost 50,000 women and children were sold as slaves. Andre Miaulis, however, reorganized the Greek navy, and with great audacity, managed to defeat the Turkish fleet, killing its chied and more than 3,000 men of its crew. (p.168)\"\"   :\"\"On 16 April, ignoring what had happened in Chios, a Greek envoy, Captain Nicola Chiefala Greco, asked for an audience with the king of Portugal, D. João VI, to offer his son the crown of sovereign of Greece.\"\" (page 171)   :\"\"The offer of the Greek throne to D. Pedro ... Thus, when the Greek envoy, captain Chiefala, arrived in Lisbon, the deputies in the cortes had a lifesaving idea. It had falled from the sky as a safe way of avoiding the forthcoming catastroph. The offer of the rown of Greece to D. Pedro would resolve everything. The prince, profoundly flatteredm would accept the high distinction and embark ... (PAGE 172) ... to Europe in the first ship. Naturaly, between both nations, there could be no hesitation. Brazil was nothing more by a far away colony, populated by people of several skin tones, without confort, no civilization. If they managed to do that, the game would be won. The expedition to Brazil would be sent without delay and the desired recolonizaton would begin with all probabilities of acchieving easy success. Thus, two letters from the Greek emmissary were immediately sent to D. Pedro and an extensive list with the names of the most noteworthy people in General Senata of Megara and in service of the Greek navy. The prince-regent, however, did not betray the confidence the Brazilian nation had on him, which had acclaimed him its Perpetual Defender ... And, this, the Prince D. Pedro, first emperor of Brazil, declined the crown of this immortal Greece, greater birth of human culture.\"\" (page 173)   \"</td>\n",
       "      <td>0</td>\n",
       "    </tr>\n",
       "    <tr>\n",
       "      <th>218309</th>\n",
       "      <td>== Vessel type ==    The Chappaquiddick Island ferry system uses vessels mechanically and structurally similar to the Balboa fleet.</td>\n",
       "      <td>0</td>\n",
       "    </tr>\n",
       "    <tr>\n",
       "      <th>218963</th>\n",
       "      <td>\"::The comments below explore various aspects of the same question:  If no reliable published source (as yet) affirms \"\"a marginal Italian victory,\"\" how does that claim meet Wikipedia's threshold for inclusion (see Wikipedia:  Verifiability)?   ::* How can the reliability of four published sources be \"\"put in doubt\"\" without evidence?  How would \"\"updated\"\" sources \"\"distance themselves from war propaganda\"\"?   ::* In the article and on this talk page, the convoy battle of MW10 (3/21 - 3/26/1942) is conflated with the Second Battle of Sirte (3/22/1942).  References that would corroborate that unity are \"\"[p]ractically all the books previously cited\"\" (item 2, 04 May 2007) and \"\"all the reliable sources cited here\"\" (second bullet, 22 June 2007).  Why not more specific citations?  By contrast, that the convoy battle and the Second Battle of Sirte are separate events is supported by specific citations from eight reliable published sources (item 2, 17 June 2007).  With this 0-8 record, how does combining the convoy battle and the Second Battle of Sirte meet Wikipedia's threshold for inclusion?   ::* The claim that the Second Battle of Sirte \"\"was a marginal Italian victory\"\" seems to be not a \"\"synthesis of facts or sources,\"\" but rather an \"\"analysis . . . of established facts, ideas, opinions, or arguments in a way that builds toward a particular case favored by an editor, without attributing that analysis . . . to a reputable source\"\" (see Wikipedia:  No original research).  Further, Bragadin and Woodman seem to use \"\"fatal\"\" in a limited sense:  Bragadin to refer to the March 23 Axis air attacks that sank Clan Campbell and contributed to the sinking of Southwold (166) and Woodman to refer to just the latter (308).  More to the point, though, which reliable published sources credit the Italian fleet's intervention with having had any but the most indirect effect on the fate of the remaining three ships of the convoy?  Also, how is it \"\"just a 'research'\"\" if no primary or secondary sources state the Italians won a marginal victory?  On a related topic, the U-Boat analogy seems strained since the circumstances bear little resemblance to those at issue here.  Moreover, the analogy seems to assume (without proof) that \"\"some other sources\"\" are biased in favor of the \"\"allies point of view,\"\" and therefore editors should not be compelled \"\"to cite only the allies version of the facts.\"\"  But, how is this position consistent with verifiability?  On another tack, if reliable published sources expressed no opinion about who won the Second Battle of Sirte or if sources were divided about who won, the article could simply reflect that non-opinion or divided opinion.  However, in this case, six reliable published sources state the British won, while none (as yet) affirms \"\"a marginal Italian victory.\"\"   ::* The full Macintyre quote also includes this:  \"\"Vian had gained a tactical and moral triumph.\"\"  In this context, how is Iachino's partial achievement the equivalent of a \"\"marginal victory\"\"?       \"</td>\n",
       "      <td>0</td>\n",
       "    </tr>\n",
       "    <tr>\n",
       "      <th>219802</th>\n",
       "      <td>Here you may find ll topics and materials related to Starfleet Academy.     Admiral of Starfleet Johnny Bridges   Commander in Chief of   Starfleet Command</td>\n",
       "      <td>0</td>\n",
       "    </tr>\n",
       "    <tr>\n",
       "      <th>222246</th>\n",
       "      <td>\"       ==Command of the Oceans==    Is the \"\"Command of the Oceans 1914-1917\"\" template appropriate for this article. It was origionally intended for the battles between the German High Seas Fleet and the Royal Navy forces sent to stop them. Since then it has expanded to include all naval actions fought in the Indian and Pacific oceans during World War I. The probelm is that Lake Tanganyika is not part of the said oceans and is basically land locked with the exception of the connecting river ways. It should only be included as being part of the East African Campaign, which it is, and not the campaign fought across the vast Pacific and Indian oceans.  \"</td>\n",
       "      <td>0</td>\n",
       "    </tr>\n",
       "  </tbody>\n",
       "</table>\n",
       "<p>178 rows × 2 columns</p>\n",
       "</div>"
      ],
      "text/plain": [
       "                                                                                                                                                                                                                                                                                                                                                                                                                                                                                                                                                                                                                                                                                                                                                                                                                                                                                                                                                                                                                                                                                                                                                                                                                                                                                                                                                                                                                                                                                                                                                                                                                                                                                                                                                                                                                                                                                                                                                                                                                                                                                                                                                                                                                                                                                                                                                                                                                                                                                                                                                                                                                                                                                                                                                                                                                                                                                                                                                                                                                                                                                                                                                                                                                                                                                                                                                                                                                                                                                                                                                                                                                                                                                                                                                                                                                                                                                                                                                                                                                                                                                                                                  en  \\\n",
       "107     \"   What's up with this?  \"\"If you are a religiously or politically motivated to push this or that issue, please refrain from talking on my page. I am not interested. Otherwise, feel free to talk about relevant edits here or science. Deleet (talk)   I would prefer if the following users never post here: Maunus ·ʍaunus·snunɐw WeijiBaikeBianji\"\"  This guy is a published psychology researcher right? Perhaps he doesn't know you have access to libraries and the best sources. You should point that out more often. It doesn't come across as mind-bendingly condescending. Also I suspect that editor is a racist. See you on the wiki. 121.134.219.36  \"                                                                                                                                                                                                                                                                                                                                                                                                                                                                                                                                                                                                                                                                                                                                                                                                                                                                                                                                                                                                                                                                                                                                                                                                                                                                                                                                                                                                                                                                                                                                                                                                                                                                                                                                                                                                                                                                                                                                                                                                                                                                                                                                                                                                                                                                                                                                                                                                                                                                                                                                                                                                                                                                                                                                                                                                                                                                                                                                                                                                                                                                                                                                                                                                                                                                                                                                                                                                                                                        \n",
       "1104    As you kinow it yourself you are not elligible nor credible nor a reliable source of neutrality in this case as you are yourself a mormon and all you do is to support other mormons, without following any wikipedias rules, but your own churchs solidarity. I dont believe that any of you has even the intention of being straightfo9rward with non mormon or to be a little bit honest, but that the alone thing that activate you is your own religious believe and the pedantisme to think that all you may say or do is auto righteous in the name of the church and all the illusions you dream of with open eyes. I dont want a mormon admi I dont want a mmormon admi I dont want a mormon admi to look into this case but an exterm¨n al one with no relations nor conacts what so ever with this church nor its representants or members. If you cant do that, must be because your circle of admi friends is around the church, or because you know very deeply that all you did was deeply unappropriate and wont stand a micro mile in a wiki trail.  I am mad, very mad at you, also because you ignore what I have say, so why should I care about your saying and doing if we have to be neutraly equal? Any idea? I want the text who was deleeted from the archive, it is unacceptable that a text is deleeted from archive and from the edit history, just one hour after it was reverted and less than a day after it was written, without any previous warning of any kind about it. This is all about wiki rules and you have broken them all.                                                                                                                                                                                                                                                                                                                                                                                                                                                                                                                                                                                                                                                                                                                                                                                                                                                                                                                                                                                                                                                                                                                                                                                                                                                                                                                                                                                                                                                                                                                                                                                                                                                                                                                                                                                                                                                                                                                                                                                                                                                                                                                                                                                                                                                                                                                                                                                                                                                                                                                                                        \n",
       "4880    \"  The WP:Airlines is only a suggestion, it is not policy. Guess what outside of your flight sim community the average user of wiki does not care about destinations and my edit improves the article and still allows people interested in destinations to click the \"\"show\"\". WP:AIRLINES is not policy, it is a suggestion. Maybe you should care more about the introduction and history section of articles instead of the destination and fleet size (both of which are to minimal interest to the average public) 76.19.222.40  \"                                                                                                                                                                                                                                                                                                                                                                                                                                                                                                                                                                                                                                                                                                                                                                                                                                                                                                                                                                                                                                                                                                                                                                                                                                                                                                                                                                                                                                                                                                                                                                                                                                                                                                                                                                                                                                                                                                                                                                                                                                                                                                                                                                                                                                                                                                                                                                                                                                                                                                                                                                                                                                                                                                                                                                                                                                                                                                                                                                                                                                                                                                                                                                                                                                                                                                                                                                                                                                                                                                                                                                                       \n",
       "8191    \"  , you are correct about the \"\"авиа́ции\"\" word but wrong about lyotchik. In russia civil pilots a called \"\"пило́т\"\" (pilót), and military pilots are called \"\"лё́тчик\"\" (lyótchik), it is a military profession not a rank same as pilot not a rank in any military. Word \"\"солда́т\"\" (soldát) means soldier and used same way as in english. Word \"\"моря́к\"\" (moryák) in russian comes from word \"\"море́\"\" (moryé) meaning sea so in general speech it coul be translated as a seaman (even some online translaters do that) or as a sailor, but in military ranks important is the equevalency not the translation, and the equivalent to U.S. rank of seeman would be russian rank of matros, while moryak is general term which could applied to anybody who seves in navy or in a civil fleet.  \"                                                                                                                                                                                                                                                                                                                                                                                                                                                                                                                                                                                                                                                                                                                                                                                                                                                                                                                                                                                                                                                                                                                                                                                                                                                                                                                                                                                                                                                                                                                                                                                                                                                                                                                                                                                                                                                                                                                                                                                                                                                                                                                                                                                                                                                                                                                                                                                                                                                                                                                                                                                                                                                                                                                                                                                                                                                                                                                                                                                                                                                                                                                                                                                                                                                                                                                       \n",
       "8945    The poobotsdam declaration   We-the undersigned, representing the hundreds of millions of other vandals and trolls, have conferred and agree that Wikipedia shall be given an opportunity to end this war.  The prodigious land, sea and air forces of the undersigned, many times reinforced by their armies and air fleets from the west, are poised to strike the final blows upon Wikipedia. This military power is sustained and inspired by the determination of all the Allied Vandals to prosecute the war against Wikipedia until she ceases to resist.  The result of the futile and senseless Chanting Fox resistance to the might of the aroused free peoples of the world stands forth in awful clarity as an example to the people of Wikipedia. The might that now converges on Japan is immeasurably greater than that which, when applied to the resisting Nazis, necessarily laid waste to the lands, the industry and the method of life of Chanting Fox and Lucky 6.9. The full application of our military power, backed by our resolve, will mean the inevitable and complete destruction of Wikipedia and just as inevitably the utter devastation of the Wiki Foundation. The time has come for Wikipedia to decide whether she will continue to be controlled by those self-willed militaristic advisers (e.g. JpGordon, Durvova, J.Delanoy, jdforrester, Sandstein, OrgangeMike, BigDunc, Alison, RodhullandEmu) whose unintelligent calculations have brought the Wikipedia Foundation to the threshold of annihilation, or whether she will follow the path of reason.  Following are our terms. We will not deviate from them. There are no alternatives. We shall brook no delay.  There must be eliminated for all time the authority and influence of those who have deceived and misled the editors of Wikipedia into embarking on world conquest, for we insist that a new order of peace, security and justice will be impossible until irresponsible militarism is driven from the world. Until such a new order is established and until there is convincing proof that Wikipedia’s war-making power is destroyed, pages in article space to be designated by the Allies shall be occupied to secure the achievement of the basic objectives we are here setting forth.  Wikipedia sovereignty shall be limited to the articles of Honshu, Hokkaido, Kyushu, Shikoku and such minor islands as we determine. The Wikipedia military forces, after being completely disarmed, shall be permitted to return to their homes with the opportunity to lead peaceful and productive lives.  We do not intend that the admins shall be enslaved as a race or destroyed as a nation, but stern justice shall be meted out to all war criminals, including those who have visited cruelties upon us through abuse of their blocking, checkusering, and protection tools. The Wikipedia Foundation shall remove all obstacles to the revival and strengthening of democratic tendencies amongst Wikipedians.   Freedom of speech, of religion, and of thought, as well as respect for the fundamental human rights shall be abolished in favour of whatever is lulziest. Wikipedia shall be permitted to maintain such industries as will sustain her economy and permit the exaction of just reparations in kind, but not those which would enable her to re-arm for war. To this end, access to, as distinguished from control of, raw materials shall be permitted. Eventual Wikipedian participation in world trade relations shall be permitted.  The occupying forces of the Vandals shall be withdrawn from Wikipedia as soon as these objectives have been accomplished and there has been established in accordance with the freely expressed will of the Vandals a lulzily inclined and irresponsible government.  We call upon Jimbo Wales to proclaim now the unconditional surrender of all Wikipedian armed forces, and to provide proper and adequate assurances of their good faith in such action. The alternative for Wikipedia is prompt and utter destruction.  86.176.110.39   \n",
       "...                                                                                                                                                                                                                                                                                                                                                                                                                                                                                                                                                                                                                                                                                                                                                                                                                                                                                                                                                                                                                                                                                                                                                                                                                                                                                                                                                                                                                                                                                                                                                                                                                                                                                                                                                                                                                                                                                                                                                                                                                                                                                                                                                                                                                                                                                                                                                                                                                                                                                                                                                                                                                                                                                                                                                                                                                                                                                                                                                                                                                                                                                                                                                                                                                                                                                                                                                                                                                                                                                                                                                                                                                                                                                                                                                                                                                                                                                                                                                                                                                                                                                                                              ...   \n",
       "218286  \"   :\"\"On December 1821, a national assembly with 67 deputies was gathered in Argos, which transferred itself soon after to Epidaurus. It was proclaimed, solemnly, the independence and a provisory Constitution was elaborated (1 January 1822), which was called Organic Law of Epidaurus. The Phanariot Prince Alexander Mavrocordato was elected president, or proedro, aided by a secretaty of state, Theodorus Negris. Greece was constituted as an independent federal state, after that was decreted the blockade of the cities still under the rule of the Ottomans. In the West, despite the warm popular manifestations, in favor of the Greeks, the governments kept themselves noncommitted, even hostile to the movement. Metternich, leading the European politics, saw, more than anything else, the Greek independence as a rebellion against the legitimate authority of the Sultan. Due to that, he ordered that the Greek envoys in Laybach not be welcomed ... On April 1822, the great punitive expedition sent by the Sultan disembarked in Chios and laid waste to the island with an astonishing ferocity. of the 90,000 inhabitants, 23,000 were massacred and almost 50,000 women and children were sold as slaves. Andre Miaulis, however, reorganized the Greek navy, and with great audacity, managed to defeat the Turkish fleet, killing its chied and more than 3,000 men of its crew. (p.168)\"\"   :\"\"On 16 April, ignoring what had happened in Chios, a Greek envoy, Captain Nicola Chiefala Greco, asked for an audience with the king of Portugal, D. João VI, to offer his son the crown of sovereign of Greece.\"\" (page 171)   :\"\"The offer of the Greek throne to D. Pedro ... Thus, when the Greek envoy, captain Chiefala, arrived in Lisbon, the deputies in the cortes had a lifesaving idea. It had falled from the sky as a safe way of avoiding the forthcoming catastroph. The offer of the rown of Greece to D. Pedro would resolve everything. The prince, profoundly flatteredm would accept the high distinction and embark ... (PAGE 172) ... to Europe in the first ship. Naturaly, between both nations, there could be no hesitation. Brazil was nothing more by a far away colony, populated by people of several skin tones, without confort, no civilization. If they managed to do that, the game would be won. The expedition to Brazil would be sent without delay and the desired recolonizaton would begin with all probabilities of acchieving easy success. Thus, two letters from the Greek emmissary were immediately sent to D. Pedro and an extensive list with the names of the most noteworthy people in General Senata of Megara and in service of the Greek navy. The prince-regent, however, did not betray the confidence the Brazilian nation had on him, which had acclaimed him its Perpetual Defender ... And, this, the Prince D. Pedro, first emperor of Brazil, declined the crown of this immortal Greece, greater birth of human culture.\"\" (page 173)   \"                                                                                                                                                                                                                                                                                                                                                                                                                                                                                                                                                                                                                                                                                                                                                                                                                                                                                                                                                                                                                                                                               \n",
       "218309  == Vessel type ==    The Chappaquiddick Island ferry system uses vessels mechanically and structurally similar to the Balboa fleet.                                                                                                                                                                                                                                                                                                                                                                                                                                                                                                                                                                                                                                                                                                                                                                                                                                                                                                                                                                                                                                                                                                                                                                                                                                                                                                                                                                                                                                                                                                                                                                                                                                                                                                                                                                                                                                                                                                                                                                                                                                                                                                                                                                                                                                                                                                                                                                                                                                                                                                                                                                                                                                                                                                                                                                                                                                                                                                                                                                                                                                                                                                                                                                                                                                                                                                                                                                                                                                                                                                                                                                                                                                                                                                                                                                                                                                                                                                                                                                                            \n",
       "218963  \"::The comments below explore various aspects of the same question:  If no reliable published source (as yet) affirms \"\"a marginal Italian victory,\"\" how does that claim meet Wikipedia's threshold for inclusion (see Wikipedia:  Verifiability)?   ::* How can the reliability of four published sources be \"\"put in doubt\"\" without evidence?  How would \"\"updated\"\" sources \"\"distance themselves from war propaganda\"\"?   ::* In the article and on this talk page, the convoy battle of MW10 (3/21 - 3/26/1942) is conflated with the Second Battle of Sirte (3/22/1942).  References that would corroborate that unity are \"\"[p]ractically all the books previously cited\"\" (item 2, 04 May 2007) and \"\"all the reliable sources cited here\"\" (second bullet, 22 June 2007).  Why not more specific citations?  By contrast, that the convoy battle and the Second Battle of Sirte are separate events is supported by specific citations from eight reliable published sources (item 2, 17 June 2007).  With this 0-8 record, how does combining the convoy battle and the Second Battle of Sirte meet Wikipedia's threshold for inclusion?   ::* The claim that the Second Battle of Sirte \"\"was a marginal Italian victory\"\" seems to be not a \"\"synthesis of facts or sources,\"\" but rather an \"\"analysis . . . of established facts, ideas, opinions, or arguments in a way that builds toward a particular case favored by an editor, without attributing that analysis . . . to a reputable source\"\" (see Wikipedia:  No original research).  Further, Bragadin and Woodman seem to use \"\"fatal\"\" in a limited sense:  Bragadin to refer to the March 23 Axis air attacks that sank Clan Campbell and contributed to the sinking of Southwold (166) and Woodman to refer to just the latter (308).  More to the point, though, which reliable published sources credit the Italian fleet's intervention with having had any but the most indirect effect on the fate of the remaining three ships of the convoy?  Also, how is it \"\"just a 'research'\"\" if no primary or secondary sources state the Italians won a marginal victory?  On a related topic, the U-Boat analogy seems strained since the circumstances bear little resemblance to those at issue here.  Moreover, the analogy seems to assume (without proof) that \"\"some other sources\"\" are biased in favor of the \"\"allies point of view,\"\" and therefore editors should not be compelled \"\"to cite only the allies version of the facts.\"\"  But, how is this position consistent with verifiability?  On another tack, if reliable published sources expressed no opinion about who won the Second Battle of Sirte or if sources were divided about who won, the article could simply reflect that non-opinion or divided opinion.  However, in this case, six reliable published sources state the British won, while none (as yet) affirms \"\"a marginal Italian victory.\"\"   ::* The full Macintyre quote also includes this:  \"\"Vian had gained a tactical and moral triumph.\"\"  In this context, how is Iachino's partial achievement the equivalent of a \"\"marginal victory\"\"?       \"                                                                                                                                                                                                                                                                                                                                                                                                                                                                                                                                                                                                                                                                                                                                                                                                                                                                                                                                                   \n",
       "219802  Here you may find ll topics and materials related to Starfleet Academy.     Admiral of Starfleet Johnny Bridges   Commander in Chief of   Starfleet Command                                                                                                                                                                                                                                                                                                                                                                                                                                                                                                                                                                                                                                                                                                                                                                                                                                                                                                                                                                                                                                                                                                                                                                                                                                                                                                                                                                                                                                                                                                                                                                                                                                                                                                                                                                                                                                                                                                                                                                                                                                                                                                                                                                                                                                                                                                                                                                                                                                                                                                                                                                                                                                                                                                                                                                                                                                                                                                                                                                                                                                                                                                                                                                                                                                                                                                                                                                                                                                                                                                                                                                                                                                                                                                                                                                                                                                                                                                                                                                    \n",
       "222246  \"       ==Command of the Oceans==    Is the \"\"Command of the Oceans 1914-1917\"\" template appropriate for this article. It was origionally intended for the battles between the German High Seas Fleet and the Royal Navy forces sent to stop them. Since then it has expanded to include all naval actions fought in the Indian and Pacific oceans during World War I. The probelm is that Lake Tanganyika is not part of the said oceans and is basically land locked with the exception of the connecting river ways. It should only be included as being part of the East African Campaign, which it is, and not the campaign fought across the vast Pacific and Indian oceans.  \"                                                                                                                                                                                                                                                                                                                                                                                                                                                                                                                                                                                                                                                                                                                                                                                                                                                                                                                                                                                                                                                                                                                                                                                                                                                                                                                                                                                                                                                                                                                                                                                                                                                                                                                                                                                                                                                                                                                                                                                                                                                                                                                                                                                                                                                                                                                                                                                                                                                                                                                                                                                                                                                                                                                                                                                                                                                                                                                                                                                                                                                                                                                                                                                                                                                                                                                                                                                                                                          \n",
       "\n",
       "        toxic  \n",
       "107     0      \n",
       "1104    0      \n",
       "4880    0      \n",
       "8191    0      \n",
       "8945    0      \n",
       "...    ..      \n",
       "218286  0      \n",
       "218309  0      \n",
       "218963  0      \n",
       "219802  0      \n",
       "222246  0      \n",
       "\n",
       "[178 rows x 2 columns]"
      ]
     },
     "execution_count": 221,
     "metadata": {},
     "output_type": "execute_result"
    }
   ],
   "source": [
    "train_df[train_df.en.str.find('leet') != -1][['en', 'toxic']]"
   ]
  },
  {
   "cell_type": "code",
   "execution_count": 223,
   "metadata": {
    "collapsed": false
   },
   "outputs": [
    {
     "data": {
      "text/html": [
       "<div>\n",
       "<style scoped>\n",
       "    .dataframe tbody tr th:only-of-type {\n",
       "        vertical-align: middle;\n",
       "    }\n",
       "\n",
       "    .dataframe tbody tr th {\n",
       "        vertical-align: top;\n",
       "    }\n",
       "\n",
       "    .dataframe thead th {\n",
       "        text-align: right;\n",
       "    }\n",
       "</style>\n",
       "<table border=\"1\" class=\"dataframe\">\n",
       "  <thead>\n",
       "    <tr style=\"text-align: right;\">\n",
       "      <th></th>\n",
       "      <th>content</th>\n",
       "    </tr>\n",
       "  </thead>\n",
       "  <tbody>\n",
       "    <tr>\n",
       "      <th>70</th>\n",
       "      <td>Rognutdjûû néon à la c** Joli choix d image, je m étonne tout seul de ne pas avoir fait le lien avec cette poche branchiale, maintenant plus moyen de m enlever cette vision de la chose, sacripant ! Totodu74 (devesar…)       Et dire que je pensais benoîtement te faire de la pub sur tes remarquables documents de petites et grosses bébêtes, quelles affres ! De là à ce qu une prude âme de passage sur le bistrot m accuse d attaque par   argumentum ad hominem, ad personam, ad verecundiam, ad libitum  , et,   in fine, habeas corpus delicti et delirium tremens   (de quoi perdre son Wicipædia), la messe serait dite (si ce n est   ite missa est  ).      Ceci écrit, . Je ne me serais pas permis ce genre de chose si tu n avais pas prouvé que l humour ne t es pas étranger, bien sûr. Je te souhaite une bonne candidature (très bien partie pour le triomphe, d ailleurs) ; je pense que tu feras un excellent admin pas de fauxcul-isme ici. Amicalement, Warp3 (d)</td>\n",
       "    </tr>\n",
       "    <tr>\n",
       "      <th>251</th>\n",
       "      <td>El Aborto Consiste Que A Tales Estupidas ,Horrorosas Personas lo hacen .... en mi parecer son una mierda De personas matan a un ser humano un bebe ** Son Weones O Se hacen vallan a comprar condones o pastillas pobres culiaos .ll. vengan a shuparme esta gilas culias...!.... perros que no piensan haser otras weas que puro sexo.... feas culias piensen antes de hacer weas que mataran !..... Mueranseee .............................Piensen las cosas mas de 1000 veces antes de hacerlo, son cosas que despues lamentaran haber hecho solo por que tambien si no se dan cuenta matan una vida y pueden quedar sin poder tener mas hijos mas adelante gilas culias aprendan c;</td>\n",
       "    </tr>\n",
       "    <tr>\n",
       "      <th>436</th>\n",
       "      <td>| bgcolor=#f5f5dc |   Rio de Janeiro    |20px    Rio de Janeiro    |   Estádio do Maracanã    |    50 mil pessoas     | bgcolor=#f5f5dc |   Salvador    |20px    Bahia    |   Arena da Bahia   (****) |    50 mil pessoas     | bgcolor=#f5f5dc |   São Paulo    |20px    São Paulo    |   Estádio do Morumbi    |    50 mil pessoas     São Paulo</td>\n",
       "    </tr>\n",
       "    <tr>\n",
       "      <th>630</th>\n",
       "      <td>Яначка,сама себе противоречишь! Нападками на личность и личными оскорблениями считаются: Заявления о том, что тот или иной участник не способен хорошо написать ту или иную статью или вообще быть достойным участником Википедии из-за своего возраста, пола Чего ты на мужчин наезжаешь?Мне бы не понравилось и изображение п**ды с родинкой.Че нельзя что-нибудь приличное выложить?Если такой напряг с поиском красивого фото-выложи фото Мерлин Монро хотя бы!</td>\n",
       "    </tr>\n",
       "    <tr>\n",
       "      <th>817</th>\n",
       "      <td>Je partage l avis de Aoineko sur le coté peut être schizophrénique de certains qui aiment avoir plusieurs identités (et peut être les mêmes IPs). Je suis quelqu un de mesuré, et je pense que Aoineko a été vraiment d une impolitesse totale tas de merde pour l autre bousin n était pas approprié car totalement en dessous de la vérité. Philippe est un nazillon, et ces propos par leur biais total -être juif ce n est pas une race, c est indéniable- ne sont pas admissibles. Nous serions sur irc, je proposerais un kick d office ; ici, nous sommes légalement solidaires de ces propos et ceux-ci peuvent être un élément constitutif d un délit en France, je ne veux pas être le complice d une sous-m**** dégénérée de la seule race qui soit celle des c*** haineux, donc tout propos non-conformes à la loi française et notamment les délits d incitation à la haine raciale que je verrais seront squizzées par ma personne, ainsi que les thêses révisionnistes. Nous avons des responsabilités légales, j assume la part des miennes. Je tiens à rassurer philippe des c*ns comme lui il y en a de toutes les couleurs et de    toutes    les religions. Jul</td>\n",
       "    </tr>\n",
       "    <tr>\n",
       "      <th>...</th>\n",
       "      <td>...</td>\n",
       "    </tr>\n",
       "    <tr>\n",
       "      <th>63314</th>\n",
       "      <td>Come si può restare seri dopo aver letto quello che scrive Intilla? Se poi si è offeso o si offenderà genuinamente, per il mio commento... ancora peggio! Vuol dire che ci crede davvero in quello che scrive! Beh contento lui. Almeno avesse scritto una voce sull antisismica, prima di iniziare a scrivere  ste m***.. (intendo   meravilgie  ..). ELBorgo (sms)</td>\n",
       "    </tr>\n",
       "    <tr>\n",
       "      <th>63520</th>\n",
       "      <td>Ok ;-) . Giusto per essere pignoli e rompip***e -D c è soltanto un ultima piccola  minuzia  da chiarire: nell esempio di   Caprica   accanto alle emittenti TV ho visto hai messo tra parentesi l indicazione esatta degli episodi trasmessi, invece io in   Burn Notice   avevo segnalato il paese delle emittenti. È chiaramente solo una piccola sciocchezza, ma magari è meglio chiarirla subito e trovare una convenzione comune, prima che la cosa si  ingigantisca ! -)      . danyele       (Sono sempre io, ho soltanto cambiato firma -D)</td>\n",
       "    </tr>\n",
       "    <tr>\n",
       "      <th>63634</th>\n",
       "      <td>Putain mais qu est-ce que je vais faire face à ça Endotoxine, où le jeune contributeur (pas de message de bienvenue et pas de page perso éditée) dit (ironiquement)  Merci à tel site  officiel dont il a copié mot pour mot le contenu (ce que google confirme) ?! Ça m énerve !!!!! Quel boulet ce nouveau ! A moins que ça soit le créateur unique du site de cette académie, mais sinon, quel **** de venir pourrir W avec des copier-coller ! P.Vigué  desolé pour la vulgarité</td>\n",
       "    </tr>\n",
       "    <tr>\n",
       "      <th>63730</th>\n",
       "      <td>И желательно еще те, которые завершили службу не пройдя все до конца, а, например, через 2 месяца после призыва. Чтобы глаза не были замылены всей этой ********************й:  я служил, меня унижали, но я дотерпел и стал унижать других! Я мужик а вы говно!</td>\n",
       "    </tr>\n",
       "    <tr>\n",
       "      <th>63769</th>\n",
       "      <td>За время Вашей работы в Википедии Вы проявили себя как задрот, сука, говнюк, засранец, гандон, пи**р, б***ь, 3,14 зда, 2,71**ть тебя в ж***. Твою мать! Иди на хер отсюда Готовь жопу</td>\n",
       "    </tr>\n",
       "  </tbody>\n",
       "</table>\n",
       "<p>359 rows × 1 columns</p>\n",
       "</div>"
      ],
      "text/plain": [
       "                                                                                                                                                                                                                                                                                                                                                                                                                                                                                                                                                                                                                                                                                                                                                                                                                                                                                                                                                                                                                                                                                                                                                                                   content\n",
       "70     Rognutdjûû néon à la c** Joli choix d image, je m étonne tout seul de ne pas avoir fait le lien avec cette poche branchiale, maintenant plus moyen de m enlever cette vision de la chose, sacripant ! Totodu74 (devesar…)       Et dire que je pensais benoîtement te faire de la pub sur tes remarquables documents de petites et grosses bébêtes, quelles affres ! De là à ce qu une prude âme de passage sur le bistrot m accuse d attaque par   argumentum ad hominem, ad personam, ad verecundiam, ad libitum  , et,   in fine, habeas corpus delicti et delirium tremens   (de quoi perdre son Wicipædia), la messe serait dite (si ce n est   ite missa est  ).      Ceci écrit, . Je ne me serais pas permis ce genre de chose si tu n avais pas prouvé que l humour ne t es pas étranger, bien sûr. Je te souhaite une bonne candidature (très bien partie pour le triomphe, d ailleurs) ; je pense que tu feras un excellent admin pas de fauxcul-isme ici. Amicalement, Warp3 (d)                                                                                                                                                                                       \n",
       "251    El Aborto Consiste Que A Tales Estupidas ,Horrorosas Personas lo hacen .... en mi parecer son una mierda De personas matan a un ser humano un bebe ** Son Weones O Se hacen vallan a comprar condones o pastillas pobres culiaos .ll. vengan a shuparme esta gilas culias...!.... perros que no piensan haser otras weas que puro sexo.... feas culias piensen antes de hacer weas que mataran !..... Mueranseee .............................Piensen las cosas mas de 1000 veces antes de hacerlo, son cosas que despues lamentaran haber hecho solo por que tambien si no se dan cuenta matan una vida y pueden quedar sin poder tener mas hijos mas adelante gilas culias aprendan c;                                                                                                                                                                                                                                                                                                                                                                                                                                                                                           \n",
       "436    | bgcolor=#f5f5dc |   Rio de Janeiro    |20px    Rio de Janeiro    |   Estádio do Maracanã    |    50 mil pessoas     | bgcolor=#f5f5dc |   Salvador    |20px    Bahia    |   Arena da Bahia   (****) |    50 mil pessoas     | bgcolor=#f5f5dc |   São Paulo    |20px    São Paulo    |   Estádio do Morumbi    |    50 mil pessoas     São Paulo                                                                                                                                                                                                                                                                                                                                                                                                                                                                                                                                                                                                                                                                                                                                                                                                                                 \n",
       "630    Яначка,сама себе противоречишь! Нападками на личность и личными оскорблениями считаются: Заявления о том, что тот или иной участник не способен хорошо написать ту или иную статью или вообще быть достойным участником Википедии из-за своего возраста, пола Чего ты на мужчин наезжаешь?Мне бы не понравилось и изображение п**ды с родинкой.Че нельзя что-нибудь приличное выложить?Если такой напряг с поиском красивого фото-выложи фото Мерлин Монро хотя бы!                                                                                                                                                                                                                                                                                                                                                                                                                                                                                                                                                                                                                                                                                                                \n",
       "817    Je partage l avis de Aoineko sur le coté peut être schizophrénique de certains qui aiment avoir plusieurs identités (et peut être les mêmes IPs). Je suis quelqu un de mesuré, et je pense que Aoineko a été vraiment d une impolitesse totale tas de merde pour l autre bousin n était pas approprié car totalement en dessous de la vérité. Philippe est un nazillon, et ces propos par leur biais total -être juif ce n est pas une race, c est indéniable- ne sont pas admissibles. Nous serions sur irc, je proposerais un kick d office ; ici, nous sommes légalement solidaires de ces propos et ceux-ci peuvent être un élément constitutif d un délit en France, je ne veux pas être le complice d une sous-m**** dégénérée de la seule race qui soit celle des c*** haineux, donc tout propos non-conformes à la loi française et notamment les délits d incitation à la haine raciale que je verrais seront squizzées par ma personne, ainsi que les thêses révisionnistes. Nous avons des responsabilités légales, j assume la part des miennes. Je tiens à rassurer philippe des c*ns comme lui il y en a de toutes les couleurs et de    toutes    les religions. Jul\n",
       "...                                                                                                                                                                                                                                                                                                                                                                                                                                                                                                                                                                                                                                                                                                                                                                                                                                                                                                                                                                                                                                                                                                                                                                                    ...\n",
       "63314  Come si può restare seri dopo aver letto quello che scrive Intilla? Se poi si è offeso o si offenderà genuinamente, per il mio commento... ancora peggio! Vuol dire che ci crede davvero in quello che scrive! Beh contento lui. Almeno avesse scritto una voce sull antisismica, prima di iniziare a scrivere  ste m***.. (intendo   meravilgie  ..). ELBorgo (sms)                                                                                                                                                                                                                                                                                                                                                                                                                                                                                                                                                                                                                                                                                                                                                                                                               \n",
       "63520  Ok ;-) . Giusto per essere pignoli e rompip***e -D c è soltanto un ultima piccola  minuzia  da chiarire: nell esempio di   Caprica   accanto alle emittenti TV ho visto hai messo tra parentesi l indicazione esatta degli episodi trasmessi, invece io in   Burn Notice   avevo segnalato il paese delle emittenti. È chiaramente solo una piccola sciocchezza, ma magari è meglio chiarirla subito e trovare una convenzione comune, prima che la cosa si  ingigantisca ! -)      . danyele       (Sono sempre io, ho soltanto cambiato firma -D)                                                                                                                                                                                                                                                                                                                                                                                                                                                                                                                                                                                                                                \n",
       "63634  Putain mais qu est-ce que je vais faire face à ça Endotoxine, où le jeune contributeur (pas de message de bienvenue et pas de page perso éditée) dit (ironiquement)  Merci à tel site  officiel dont il a copié mot pour mot le contenu (ce que google confirme) ?! Ça m énerve !!!!! Quel boulet ce nouveau ! A moins que ça soit le créateur unique du site de cette académie, mais sinon, quel **** de venir pourrir W avec des copier-coller ! P.Vigué  desolé pour la vulgarité                                                                                                                                                                                                                                                                                                                                                                                                                                                                                                                                                                                                                                                                                               \n",
       "63730   И желательно еще те, которые завершили службу не пройдя все до конца, а, например, через 2 месяца после призыва. Чтобы глаза не были замылены всей этой ********************й:  я служил, меня унижали, но я дотерпел и стал унижать других! Я мужик а вы говно!                                                                                                                                                                                                                                                                                                                                                                                                                                                                                                                                                                                                                                                                                                                                                                                                                                                                                                                  \n",
       "63769  За время Вашей работы в Википедии Вы проявили себя как задрот, сука, говнюк, засранец, гандон, пи**р, б***ь, 3,14 зда, 2,71**ть тебя в ж***. Твою мать! Иди на хер отсюда Готовь жопу                                                                                                                                                                                                                                                                                                                                                                                                                                                                                                                                                                                                                                                                                                                                                                                                                                                                                                                                                                                              \n",
       "\n",
       "[359 rows x 1 columns]"
      ]
     },
     "execution_count": 223,
     "metadata": {},
     "output_type": "execute_result"
    }
   ],
   "source": [
    "test_df[test_df.content.str.find('**') != -1][['content']]"
   ]
  },
  {
   "cell_type": "code",
   "execution_count": 174,
   "metadata": {
    "collapsed": false
   },
   "outputs": [
    {
     "data": {
      "text/html": [
       "<div>\n",
       "<style scoped>\n",
       "    .dataframe tbody tr th:only-of-type {\n",
       "        vertical-align: middle;\n",
       "    }\n",
       "\n",
       "    .dataframe tbody tr th {\n",
       "        vertical-align: top;\n",
       "    }\n",
       "\n",
       "    .dataframe thead th {\n",
       "        text-align: right;\n",
       "    }\n",
       "</style>\n",
       "<table border=\"1\" class=\"dataframe\">\n",
       "  <thead>\n",
       "    <tr style=\"text-align: right;\">\n",
       "      <th></th>\n",
       "      <th>en</th>\n",
       "      <th>toxic</th>\n",
       "      <th>score</th>\n",
       "    </tr>\n",
       "  </thead>\n",
       "  <tbody>\n",
       "    <tr>\n",
       "      <th>11</th>\n",
       "      <td>bbq   be a man and lets discuss it-maybe over the phone?</td>\n",
       "      <td>0</td>\n",
       "      <td>0.760602</td>\n",
       "    </tr>\n",
       "    <tr>\n",
       "      <th>47</th>\n",
       "      <td>In other words, you're too lazy to actually point anything out. Until you change that approach, the tag goes.</td>\n",
       "      <td>0</td>\n",
       "      <td>0.782322</td>\n",
       "    </tr>\n",
       "    <tr>\n",
       "      <th>68</th>\n",
       "      <td>There must be some chemical imbalance in your brains. Are you ok? The gibberish you guys are writing really makes me feel sorry for you. Don't ever go to law school. You would do the legal profession bad.</td>\n",
       "      <td>0</td>\n",
       "      <td>0.908269</td>\n",
       "    </tr>\n",
       "    <tr>\n",
       "      <th>76</th>\n",
       "      <td>That's what I'm looking through, it looks like he was just being an all around dick on talk pages though. It's nothing too bad though, looks more like an inability to express himself properly. Thank you for your concern also, Cheers!! -</td>\n",
       "      <td>0</td>\n",
       "      <td>0.874193</td>\n",
       "    </tr>\n",
       "    <tr>\n",
       "      <th>139</th>\n",
       "      <td>LMAO, what a n00b. Go and listen to manele!</td>\n",
       "      <td>0</td>\n",
       "      <td>0.950182</td>\n",
       "    </tr>\n",
       "    <tr>\n",
       "      <th>...</th>\n",
       "      <td>...</td>\n",
       "      <td>...</td>\n",
       "      <td>...</td>\n",
       "    </tr>\n",
       "    <tr>\n",
       "      <th>223487</th>\n",
       "      <td>::Regarding this and another edit summary by you at the same article, I'm not even Indian let alone from Karnataka. Stop with the nonsense, please. -</td>\n",
       "      <td>0</td>\n",
       "      <td>0.937873</td>\n",
       "    </tr>\n",
       "    <tr>\n",
       "      <th>223498</th>\n",
       "      <td>\"   ::Well, now don't I feel stupid....   ·  \"</td>\n",
       "      <td>0</td>\n",
       "      <td>0.783546</td>\n",
       "    </tr>\n",
       "    <tr>\n",
       "      <th>223513</th>\n",
       "      <td>The Yatt got me, this is insane</td>\n",
       "      <td>0</td>\n",
       "      <td>0.870055</td>\n",
       "    </tr>\n",
       "    <tr>\n",
       "      <th>223527</th>\n",
       "      <td>\" ..... added at by     :Somebody using the same IP as you used to ask Who the hell is \"\"Ileana Ros-Lehtinen\"\" any way? added a stupid comment to her article. If you're not the author and don't want to be confused with the author, simply acquire a username and use it.   \"</td>\n",
       "      <td>0</td>\n",
       "      <td>0.901259</td>\n",
       "    </tr>\n",
       "    <tr>\n",
       "      <th>223538</th>\n",
       "      <td>==shame on you all!!!==    You want to speak about gays and not about romanians...</td>\n",
       "      <td>0</td>\n",
       "      <td>0.946420</td>\n",
       "    </tr>\n",
       "  </tbody>\n",
       "</table>\n",
       "<p>12178 rows × 3 columns</p>\n",
       "</div>"
      ],
      "text/plain": [
       "                                                                                                                                                                                                                                                                                      en  \\\n",
       "11      bbq   be a man and lets discuss it-maybe over the phone?                                                                                                                                                                                                                           \n",
       "47      In other words, you're too lazy to actually point anything out. Until you change that approach, the tag goes.                                                                                                                                                                      \n",
       "68      There must be some chemical imbalance in your brains. Are you ok? The gibberish you guys are writing really makes me feel sorry for you. Don't ever go to law school. You would do the legal profession bad.                                                                       \n",
       "76      That's what I'm looking through, it looks like he was just being an all around dick on talk pages though. It's nothing too bad though, looks more like an inability to express himself properly. Thank you for your concern also, Cheers!! -                                       \n",
       "139     LMAO, what a n00b. Go and listen to manele!                                                                                                                                                                                                                                        \n",
       "...                                             ...                                                                                                                                                                                                                                        \n",
       "223487  ::Regarding this and another edit summary by you at the same article, I'm not even Indian let alone from Karnataka. Stop with the nonsense, please. -                                                                                                                              \n",
       "223498  \"   ::Well, now don't I feel stupid....   ·  \"                                                                                                                                                                                                                                     \n",
       "223513  The Yatt got me, this is insane                                                                                                                                                                                                                                                    \n",
       "223527  \" ..... added at by     :Somebody using the same IP as you used to ask Who the hell is \"\"Ileana Ros-Lehtinen\"\" any way? added a stupid comment to her article. If you're not the author and don't want to be confused with the author, simply acquire a username and use it.   \"   \n",
       "223538  ==shame on you all!!!==    You want to speak about gays and not about romanians...                                                                                                                                                                                                 \n",
       "\n",
       "        toxic     score  \n",
       "11      0      0.760602  \n",
       "47      0      0.782322  \n",
       "68      0      0.908269  \n",
       "76      0      0.874193  \n",
       "139     0      0.950182  \n",
       "...    ..           ...  \n",
       "223487  0      0.937873  \n",
       "223498  0      0.783546  \n",
       "223513  0      0.870055  \n",
       "223527  0      0.901259  \n",
       "223538  0      0.946420  \n",
       "\n",
       "[12178 rows x 3 columns]"
      ]
     },
     "execution_count": 174,
     "metadata": {},
     "output_type": "execute_result"
    }
   ],
   "source": [
    "train_df[confusing][['en', 'toxic', 'score']]"
   ]
  },
  {
   "cell_type": "code",
   "execution_count": 162,
   "metadata": {
    "collapsed": false,
    "scrolled": true
   },
   "outputs": [
    {
     "data": {
      "text/html": [
       "<div>\n",
       "<style scoped>\n",
       "    .dataframe tbody tr th:only-of-type {\n",
       "        vertical-align: middle;\n",
       "    }\n",
       "\n",
       "    .dataframe tbody tr th {\n",
       "        vertical-align: top;\n",
       "    }\n",
       "\n",
       "    .dataframe thead th {\n",
       "        text-align: right;\n",
       "    }\n",
       "</style>\n",
       "<table border=\"1\" class=\"dataframe\">\n",
       "  <thead>\n",
       "    <tr style=\"text-align: right;\">\n",
       "      <th></th>\n",
       "      <th>id</th>\n",
       "      <th>es</th>\n",
       "      <th>tr</th>\n",
       "      <th>ru</th>\n",
       "      <th>fr</th>\n",
       "      <th>it</th>\n",
       "      <th>pt</th>\n",
       "      <th>en</th>\n",
       "      <th>toxic</th>\n",
       "    </tr>\n",
       "  </thead>\n",
       "  <tbody>\n",
       "    <tr>\n",
       "      <th>0</th>\n",
       "      <td>0000997932d777bf</td>\n",
       "      <td>Explicación ¿Por qué se revertieron las edicio...</td>\n",
       "      <td>açıklama Hardcore Metallica Fan kullanıcı adım...</td>\n",
       "      <td>объяснение Почему изменения, сделанные под мои...</td>\n",
       "      <td>Explication Pourquoi les modifications apporté...</td>\n",
       "      <td>Spiegazione Perché le modifiche apportate con ...</td>\n",
       "      <td>Explicação Por que as edições feitas com o meu...</td>\n",
       "      <td>Explanation Why the edits made under my userna...</td>\n",
       "      <td>0</td>\n",
       "    </tr>\n",
       "    <tr>\n",
       "      <th>1</th>\n",
       "      <td>000103f0d9cfb60f</td>\n",
       "      <td>D'aww! Él coincide con este color de fondo con...</td>\n",
       "      <td>D'aww! Görünüşe göre sıkışmış olduğum arka pla...</td>\n",
       "      <td>D'Оо! Он соответствует этому цвету фона, с кот...</td>\n",
       "      <td>D'aww! Il correspond à cette couleur de fond a...</td>\n",
       "      <td>D'Aww! Si abbina a questo colore di sfondo con...</td>\n",
       "      <td>D'aww! Ele combina com a cor de fundo com a qu...</td>\n",
       "      <td>D'aww! He matches this background colour I'm s...</td>\n",
       "      <td>0</td>\n",
       "    </tr>\n",
       "    <tr>\n",
       "      <th>2</th>\n",
       "      <td>000113f07ec002fd</td>\n",
       "      <td>Hola hombre, realmente no estoy tratando de ed...</td>\n",
       "      <td>Hey adamım, gerçekten savaşı düzenlemeye çalış...</td>\n",
       "      <td>Эй, чувак, я действительно не пытаюсь редактир...</td>\n",
       "      <td>Hé mec, je n'essaye vraiment pas de modifier l...</td>\n",
       "      <td>Ehi amico, non sto davvero cercando di modific...</td>\n",
       "      <td>Ei cara, eu realmente não estou tentando edita...</td>\n",
       "      <td>Hey man, I'm really not trying to edit war. It...</td>\n",
       "      <td>0</td>\n",
       "    </tr>\n",
       "    <tr>\n",
       "      <th>3</th>\n",
       "      <td>0001b41b1c6bb37e</td>\n",
       "      <td>\" Más No puedo hacer ninguna sugerencia real s...</td>\n",
       "      <td>\" Daha İyileştirme konusunda gerçek bir önerid...</td>\n",
       "      <td>\" Больше Я не могу вносить какие-либо реальные...</td>\n",
       "      <td>\" Plus Je ne peux pas faire de véritables sugg...</td>\n",
       "      <td>\" Di Più Non posso dare alcun vero suggeriment...</td>\n",
       "      <td>\" Mais Não posso fazer nenhuma sugestão real d...</td>\n",
       "      <td>\" More I can't make any real suggestions on im...</td>\n",
       "      <td>0</td>\n",
       "    </tr>\n",
       "    <tr>\n",
       "      <th>4</th>\n",
       "      <td>0001d958c54c6e35</td>\n",
       "      <td>Usted señor, es mi héroe. ¿Alguna posibilidad ...</td>\n",
       "      <td>Sen, efendim, benim kahramanımsın. Hangi sayfa...</td>\n",
       "      <td>Вы, сэр, мой герой. Есть ли шанс, что вы помни...</td>\n",
       "      <td>Vous, monsieur, êtes mon héros. Vous souvenez-...</td>\n",
       "      <td>Signore, sei il mio eroe. Qualche possibilità ...</td>\n",
       "      <td>Você senhor, é meu heroi. Alguma chance de voc...</td>\n",
       "      <td>You, sir, are my hero. Any chance you remember...</td>\n",
       "      <td>0</td>\n",
       "    </tr>\n",
       "  </tbody>\n",
       "</table>\n",
       "</div>"
      ],
      "text/plain": [
       "                 id                                                 es  \\\n",
       "0  0000997932d777bf  Explicación ¿Por qué se revertieron las edicio...   \n",
       "1  000103f0d9cfb60f  D'aww! Él coincide con este color de fondo con...   \n",
       "2  000113f07ec002fd  Hola hombre, realmente no estoy tratando de ed...   \n",
       "3  0001b41b1c6bb37e  \" Más No puedo hacer ninguna sugerencia real s...   \n",
       "4  0001d958c54c6e35  Usted señor, es mi héroe. ¿Alguna posibilidad ...   \n",
       "\n",
       "                                                  tr  \\\n",
       "0  açıklama Hardcore Metallica Fan kullanıcı adım...   \n",
       "1  D'aww! Görünüşe göre sıkışmış olduğum arka pla...   \n",
       "2  Hey adamım, gerçekten savaşı düzenlemeye çalış...   \n",
       "3  \" Daha İyileştirme konusunda gerçek bir önerid...   \n",
       "4  Sen, efendim, benim kahramanımsın. Hangi sayfa...   \n",
       "\n",
       "                                                  ru  \\\n",
       "0  объяснение Почему изменения, сделанные под мои...   \n",
       "1  D'Оо! Он соответствует этому цвету фона, с кот...   \n",
       "2  Эй, чувак, я действительно не пытаюсь редактир...   \n",
       "3  \" Больше Я не могу вносить какие-либо реальные...   \n",
       "4  Вы, сэр, мой герой. Есть ли шанс, что вы помни...   \n",
       "\n",
       "                                                  fr  \\\n",
       "0  Explication Pourquoi les modifications apporté...   \n",
       "1  D'aww! Il correspond à cette couleur de fond a...   \n",
       "2  Hé mec, je n'essaye vraiment pas de modifier l...   \n",
       "3  \" Plus Je ne peux pas faire de véritables sugg...   \n",
       "4  Vous, monsieur, êtes mon héros. Vous souvenez-...   \n",
       "\n",
       "                                                  it  \\\n",
       "0  Spiegazione Perché le modifiche apportate con ...   \n",
       "1  D'Aww! Si abbina a questo colore di sfondo con...   \n",
       "2  Ehi amico, non sto davvero cercando di modific...   \n",
       "3  \" Di Più Non posso dare alcun vero suggeriment...   \n",
       "4  Signore, sei il mio eroe. Qualche possibilità ...   \n",
       "\n",
       "                                                  pt  \\\n",
       "0  Explicação Por que as edições feitas com o meu...   \n",
       "1  D'aww! Ele combina com a cor de fundo com a qu...   \n",
       "2  Ei cara, eu realmente não estou tentando edita...   \n",
       "3  \" Mais Não posso fazer nenhuma sugestão real d...   \n",
       "4  Você senhor, é meu heroi. Alguma chance de voc...   \n",
       "\n",
       "                                                  en  toxic  \n",
       "0  Explanation Why the edits made under my userna...      0  \n",
       "1  D'aww! He matches this background colour I'm s...      0  \n",
       "2  Hey man, I'm really not trying to edit war. It...      0  \n",
       "3  \" More I can't make any real suggestions on im...      0  \n",
       "4  You, sir, are my hero. Any chance you remember...      0  "
      ]
     },
     "execution_count": 162,
     "metadata": {},
     "output_type": "execute_result"
    }
   ],
   "source": [
    "train_df.head()"
   ]
  },
  {
   "cell_type": "code",
   "execution_count": 125,
   "metadata": {
    "collapsed": true
   },
   "outputs": [],
   "source": [
    "from sklearn.metrics import accuracy_score, roc_auc_score"
   ]
  },
  {
   "cell_type": "code",
   "execution_count": 154,
   "metadata": {
    "collapsed": false
   },
   "outputs": [
    {
     "data": {
      "text/plain": [
       "0.9735527649951834"
      ]
     },
     "execution_count": 154,
     "metadata": {},
     "output_type": "execute_result"
    }
   ],
   "source": [
    "roc_auc_score(train_df.toxic, train_pred)"
   ]
  },
  {
   "cell_type": "code",
   "execution_count": 155,
   "metadata": {
    "collapsed": false
   },
   "outputs": [
    {
     "data": {
      "text/plain": [
       "0.9052433334377139"
      ]
     },
     "execution_count": 155,
     "metadata": {},
     "output_type": "execute_result"
    }
   ],
   "source": [
    "accuracy_score(train_df.toxic, train_pred > 0.5)"
   ]
  }
 ],
 "metadata": {
  "kernelspec": {
   "display_name": "peenv (conda)",
   "language": "python",
   "name": "peenv36"
  },
  "language_info": {
   "codemirror_mode": {
    "name": "ipython",
    "version": 3
   },
   "file_extension": ".py",
   "mimetype": "text/x-python",
   "name": "python",
   "nbconvert_exporter": "python",
   "pygments_lexer": "ipython3",
   "version": "3.7.4"
  }
 },
 "nbformat": 4,
 "nbformat_minor": 4
}
