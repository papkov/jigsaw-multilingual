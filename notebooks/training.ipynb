{
 "cells": [
  {
   "cell_type": "code",
   "execution_count": 1,
   "metadata": {},
   "outputs": [],
   "source": [
    "import os\n",
    "import sys\n",
    "from importlib import reload\n",
    "\n",
    "import pandas as pd\n",
    "import numpy as np\n",
    "\n",
    "import matplotlib.pyplot as plt\n",
    "import seaborn as sns\n",
    "import tqdm\n",
    "\n",
    "import torch\n",
    "from torch.utils import data as D\n",
    "\n",
    "# Local imports\n",
    "sys.path.append('../src')\n",
    "import dataset\n",
    "import trainer\n",
    "import models\n",
    "import utils\n",
    "\n",
    "# Transformers\n",
    "import transformers\n",
    "from transformers import XLMRobertaModel, XLMRobertaTokenizer, XLMRobertaConfig\n",
    "from transformers import AdamW, get_linear_schedule_with_warmup, get_constant_schedule\n",
    "\n",
    "\n",
    "os.environ['CUDA_VISIBLE_DEVICES'] = '0'\n",
    "utils.seed_everything()"
   ]
  },
  {
   "cell_type": "markdown",
   "metadata": {},
   "source": [
    "## Datasets"
   ]
  },
  {
   "cell_type": "code",
   "execution_count": 2,
   "metadata": {},
   "outputs": [
    {
     "data": {
      "text/plain": [
       "<module 'dataset' from '../src/dataset.py'>"
      ]
     },
     "execution_count": 2,
     "metadata": {},
     "output_type": "execute_result"
    }
   ],
   "source": [
    "reload(dataset)"
   ]
  },
  {
   "cell_type": "code",
   "execution_count": 3,
   "metadata": {},
   "outputs": [
    {
     "name": "stdout",
     "output_type": "stream",
     "text": [
      "CPU times: user 4.41 ms, sys: 1.63 ms, total: 6.04 ms\n",
      "Wall time: 10.1 ms\n"
     ]
    },
    {
     "data": {
      "text/plain": [
       "((32, 512), (32,))"
      ]
     },
     "execution_count": 3,
     "metadata": {},
     "output_type": "execute_result"
    }
   ],
   "source": [
    "%%time\n",
    "valid = dataset.Dataset('../input/validatio_debug_32.npz')\n",
    "valid.x.shape, valid.y.shape"
   ]
  },
  {
   "cell_type": "code",
   "execution_count": 4,
   "metadata": {},
   "outputs": [
    {
     "name": "stdout",
     "output_type": "stream",
     "text": [
      "CPU times: user 3.26 ms, sys: 2.4 ms, total: 5.66 ms\n",
      "Wall time: 7.63 ms\n"
     ]
    },
    {
     "data": {
      "text/plain": [
       "((32, 512), (32,))"
      ]
     },
     "execution_count": 4,
     "metadata": {},
     "output_type": "execute_result"
    }
   ],
   "source": [
    "%%time\n",
    "test = dataset.Dataset('../input/test_debug_32.npz')\n",
    "test.x.shape, test.y.shape"
   ]
  },
  {
   "cell_type": "code",
   "execution_count": 5,
   "metadata": {},
   "outputs": [
    {
     "name": "stdout",
     "output_type": "stream",
     "text": [
      "CPU times: user 3.08 ms, sys: 2.12 ms, total: 5.2 ms\n",
      "Wall time: 7.09 ms\n"
     ]
    },
    {
     "data": {
      "text/plain": [
       "((32, 512), (32,))"
      ]
     },
     "execution_count": 5,
     "metadata": {},
     "output_type": "execute_result"
    }
   ],
   "source": [
    "%%time\n",
    "train = dataset.Dataset('../input/jigsaw-toxic-comment-trai_debug_32.npz')\n",
    "train.x.shape, train.y.shape"
   ]
  },
  {
   "cell_type": "markdown",
   "metadata": {},
   "source": [
    "## Data loaders"
   ]
  },
  {
   "cell_type": "code",
   "execution_count": 6,
   "metadata": {},
   "outputs": [],
   "source": [
    "batch_size = 2\n",
    "num_workers = 4\n",
    "\n",
    "loader_train = D.DataLoader(train, \n",
    "#                             sampler=train.weighted_sampler(), \n",
    "                            batch_size=batch_size, num_workers=num_workers)\n",
    "loader_valid = D.DataLoader(valid, \n",
    "                            batch_size=batch_size, num_workers=num_workers)\n",
    "loader_test = D.DataLoader(test, \n",
    "                           batch_size=batch_size, num_workers=num_workers)"
   ]
  },
  {
   "cell_type": "code",
   "execution_count": 7,
   "metadata": {},
   "outputs": [
    {
     "data": {
      "text/plain": [
       "(16, 16, 16)"
      ]
     },
     "execution_count": 7,
     "metadata": {},
     "output_type": "execute_result"
    }
   ],
   "source": [
    "len(loader_train), len(loader_valid), len(loader_test)"
   ]
  },
  {
   "cell_type": "code",
   "execution_count": 8,
   "metadata": {},
   "outputs": [],
   "source": [
    "x, y, am = next(iter(loader_train))"
   ]
  },
  {
   "cell_type": "markdown",
   "metadata": {},
   "source": [
    "## Model"
   ]
  },
  {
   "cell_type": "code",
   "execution_count": 9,
   "metadata": {},
   "outputs": [
    {
     "data": {
      "text/plain": [
       "<module 'models' from '../src/models.py'>"
      ]
     },
     "execution_count": 9,
     "metadata": {},
     "output_type": "execute_result"
    }
   ],
   "source": [
    "reload(models)"
   ]
  },
  {
   "cell_type": "code",
   "execution_count": 10,
   "metadata": {},
   "outputs": [],
   "source": [
    "backbone = XLMRobertaModel(XLMRobertaConfig.from_pretrained('xlm-roberta-large'))"
   ]
  },
  {
   "cell_type": "code",
   "execution_count": 11,
   "metadata": {},
   "outputs": [],
   "source": [
    "model = models.Model(backbone, mix=False, dropout=0)"
   ]
  },
  {
   "cell_type": "markdown",
   "metadata": {},
   "source": [
    "## Trainer"
   ]
  },
  {
   "cell_type": "code",
   "execution_count": 12,
   "metadata": {},
   "outputs": [
    {
     "data": {
      "text/plain": [
       "<module 'trainer' from '../src/trainer.py'>"
      ]
     },
     "execution_count": 12,
     "metadata": {},
     "output_type": "execute_result"
    }
   ],
   "source": [
    "reload(trainer)"
   ]
  },
  {
   "cell_type": "code",
   "execution_count": 13,
   "metadata": {},
   "outputs": [],
   "source": [
    "trnr = trainer.Trainer('base', model, \n",
    "                       loader_train, loader_valid, loader_test)"
   ]
  },
  {
   "cell_type": "markdown",
   "metadata": {},
   "source": [
    "Sanity check for output"
   ]
  },
  {
   "cell_type": "code",
   "execution_count": 21,
   "metadata": {},
   "outputs": [],
   "source": [
    "out, loss = trnr(x, y, am)"
   ]
  },
  {
   "cell_type": "code",
   "execution_count": 22,
   "metadata": {},
   "outputs": [
    {
     "data": {
      "text/plain": [
       "tensor([[1.0928, 1.2950],\n",
       "        [0.8992, 1.2395],\n",
       "        [1.1048, 1.3800],\n",
       "        [1.1402, 1.3978]], device='cuda:0', grad_fn=<AddmmBackward>)"
      ]
     },
     "execution_count": 22,
     "metadata": {},
     "output_type": "execute_result"
    }
   ],
   "source": [
    "out"
   ]
  },
  {
   "cell_type": "code",
   "execution_count": 23,
   "metadata": {},
   "outputs": [
    {
     "data": {
      "text/plain": [
       "tensor(0.6357, device='cuda:0', grad_fn=<MeanBackward0>)"
      ]
     },
     "execution_count": 23,
     "metadata": {},
     "output_type": "execute_result"
    }
   ],
   "source": [
    "loss"
   ]
  },
  {
   "cell_type": "markdown",
   "metadata": {},
   "source": [
    "## Training"
   ]
  },
  {
   "cell_type": "code",
   "execution_count": 14,
   "metadata": {},
   "outputs": [
    {
     "name": "stderr",
     "output_type": "stream",
     "text": [
      "ep. 0000 (lr 1.00e-05): 100%|##########| 16/16 [00:05<00:00,  3.09it/s, loss=0.616, acc=0.781]\n",
      "valid: 100%|##########| 16/16 [00:01<00:00, 12.60it/s]\n"
     ]
    },
    {
     "name": "stdout",
     "output_type": "stream",
     "text": [
      "Predicted. Avg loss: 1.2786, acc: 0.8125\n",
      "Saved model to ../checkpoints//base_last.pth\n"
     ]
    },
    {
     "name": "stderr",
     "output_type": "stream",
     "text": [
      "ep. 0001 (lr 1.00e-05): 100%|##########| 16/16 [00:04<00:00,  3.43it/s, loss=0.556, acc=0.906]\n",
      "valid: 100%|##########| 16/16 [00:01<00:00, 12.51it/s]\n"
     ]
    },
    {
     "name": "stdout",
     "output_type": "stream",
     "text": [
      "Predicted. Avg loss: 0.6815, acc: 0.8125\n",
      "Saved model to ../checkpoints//base_last.pth\n"
     ]
    },
    {
     "name": "stderr",
     "output_type": "stream",
     "text": [
      "ep. 0002 (lr 1.00e-05): 100%|##########| 16/16 [00:04<00:00,  3.44it/s, loss=0.345, acc=0.906]\n",
      "valid: 100%|##########| 16/16 [00:01<00:00, 12.59it/s]\n"
     ]
    },
    {
     "name": "stdout",
     "output_type": "stream",
     "text": [
      "Predicted. Avg loss: 0.7587, acc: 0.8125\n",
      "Saved model to ../checkpoints//base_last.pth\n"
     ]
    },
    {
     "name": "stderr",
     "output_type": "stream",
     "text": [
      "ep. 0003 (lr 1.00e-05): 100%|##########| 16/16 [00:04<00:00,  3.43it/s, loss=0.388, acc=0.906]\n",
      "valid: 100%|##########| 16/16 [00:01<00:00, 12.52it/s]\n"
     ]
    },
    {
     "name": "stdout",
     "output_type": "stream",
     "text": [
      "Predicted. Avg loss: 0.6942, acc: 0.8125\n",
      "Saved model to ../checkpoints//base_last.pth\n"
     ]
    },
    {
     "name": "stderr",
     "output_type": "stream",
     "text": [
      "ep. 0004 (lr 1.00e-05): 100%|##########| 16/16 [00:04<00:00,  3.45it/s, loss=0.348, acc=0.906]\n",
      "valid: 100%|##########| 16/16 [00:01<00:00, 12.60it/s]\n"
     ]
    },
    {
     "name": "stdout",
     "output_type": "stream",
     "text": [
      "Predicted. Avg loss: 0.6914, acc: 0.8125\n",
      "Saved model to ../checkpoints//base_last.pth\n"
     ]
    },
    {
     "name": "stderr",
     "output_type": "stream",
     "text": [
      "test: 100%|##########| 16/16 [00:01<00:00, 12.44it/s]\n"
     ]
    },
    {
     "data": {
      "text/plain": [
       "(array([[ 2.2840903, -1.2495248],\n",
       "        [ 2.2881947, -1.2449305],\n",
       "        [ 2.2844896, -1.2462714],\n",
       "        [ 2.2839932, -1.2443591],\n",
       "        [ 2.285874 , -1.2427415],\n",
       "        [ 2.28372  , -1.2494678],\n",
       "        [ 2.2848458, -1.2482631],\n",
       "        [ 2.2830815, -1.2506629],\n",
       "        [ 2.2853894, -1.2498363],\n",
       "        [ 2.2852354, -1.242496 ],\n",
       "        [ 2.2840648, -1.2451131],\n",
       "        [ 2.2834718, -1.2500204],\n",
       "        [ 2.284372 , -1.2443455],\n",
       "        [ 2.2860153, -1.2430453],\n",
       "        [ 2.2846813, -1.2484543],\n",
       "        [ 2.287166 , -1.2486053],\n",
       "        [ 2.281259 , -1.2475924],\n",
       "        [ 2.2850306, -1.245669 ],\n",
       "        [ 2.285458 , -1.2476667],\n",
       "        [ 2.28639  , -1.2436235],\n",
       "        [ 2.2874494, -1.2456828],\n",
       "        [ 2.28435  , -1.2477801],\n",
       "        [ 2.286283 , -1.2438145],\n",
       "        [ 2.28544  , -1.2503381],\n",
       "        [ 2.2838805, -1.2522472],\n",
       "        [ 2.2834644, -1.2434825],\n",
       "        [ 2.2877247, -1.2451212],\n",
       "        [ 2.2837992, -1.2435986],\n",
       "        [ 2.2877417, -1.2442566],\n",
       "        [ 2.2845793, -1.2463386],\n",
       "        [ 2.283371 , -1.2478257],\n",
       "        [ 2.2864294, -1.242597 ]], dtype=float32), 0.028841935098171234, 1.0)"
      ]
     },
     "execution_count": 14,
     "metadata": {},
     "output_type": "execute_result"
    }
   ],
   "source": [
    "trnr.fit()"
   ]
  },
  {
   "cell_type": "markdown",
   "metadata": {},
   "source": [
    "## Prediction"
   ]
  },
  {
   "cell_type": "code",
   "execution_count": 15,
   "metadata": {},
   "outputs": [
    {
     "name": "stderr",
     "output_type": "stream",
     "text": [
      "test: 100%|##########| 16/16 [00:01<00:00, 12.31it/s]\n"
     ]
    }
   ],
   "source": [
    "pred, loss, acc = trnr.test()"
   ]
  },
  {
   "cell_type": "code",
   "execution_count": 16,
   "metadata": {},
   "outputs": [
    {
     "data": {
      "text/plain": [
       "1.0"
      ]
     },
     "execution_count": 16,
     "metadata": {},
     "output_type": "execute_result"
    }
   ],
   "source": [
    "acc"
   ]
  }
 ],
 "metadata": {
  "kernelspec": {
   "display_name": "peenv (conda)",
   "language": "python",
   "name": "peenv36"
  },
  "language_info": {
   "codemirror_mode": {
    "name": "ipython",
    "version": 3
   },
   "file_extension": ".py",
   "mimetype": "text/x-python",
   "name": "python",
   "nbconvert_exporter": "python",
   "pygments_lexer": "ipython3",
   "version": "3.7.4"
  }
 },
 "nbformat": 4,
 "nbformat_minor": 2
}
