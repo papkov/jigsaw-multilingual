{
 "cells": [
  {
   "cell_type": "code",
   "execution_count": 2,
   "metadata": {},
   "outputs": [
    {
     "name": "stdout",
     "output_type": "stream",
     "text": [
      "use cuda\n"
     ]
    }
   ],
   "source": [
    "import os\n",
    "import sys\n",
    "from importlib import reload\n",
    "\n",
    "import pandas as pd\n",
    "import numpy as np\n",
    "\n",
    "import matplotlib.pyplot as plt\n",
    "import seaborn as sns\n",
    "import tqdm\n",
    "\n",
    "import torch\n",
    "from torch.utils import data as D\n",
    "# mixed precision\n",
    "from apex import amp\n",
    "\n",
    "# Local imports\n",
    "sys.path.append('../src')\n",
    "import dataset\n",
    "import trainer\n",
    "import models\n",
    "import utils\n",
    "import preprocessing\n",
    "import mix\n",
    "\n",
    "# Transformers\n",
    "import transformers\n",
    "from transformers import XLMRobertaModel, XLMRobertaTokenizer, XLMRobertaConfig\n",
    "from transformers import AdamW, get_linear_schedule_with_warmup, get_constant_schedule\n",
    "\n",
    "# Setup device\n",
    "os.environ['CUDA_VISIBLE_DEVICES'] = '3'\n",
    "device = 'cuda' if torch.cuda.is_available() else 'cpu'\n",
    "\n",
    "# Seed \n",
    "utils.seed_everything()\n",
    "\n",
    "print('use', device)"
   ]
  },
  {
   "cell_type": "markdown",
   "metadata": {},
   "source": [
    "## Datasets"
   ]
  },
  {
   "cell_type": "code",
   "execution_count": 3,
   "metadata": {},
   "outputs": [
    {
     "data": {
      "text/plain": [
       "<module 'dataset' from '../src/dataset.py'>"
      ]
     },
     "execution_count": 3,
     "metadata": {},
     "output_type": "execute_result"
    }
   ],
   "source": [
    "reload(dataset)"
   ]
  },
  {
   "cell_type": "code",
   "execution_count": 4,
   "metadata": {},
   "outputs": [],
   "source": [
    "debug = False\n",
    "use_features = True\n",
    "feature_slice = slice(0,3072)"
   ]
  },
  {
   "cell_type": "code",
   "execution_count": 5,
   "metadata": {},
   "outputs": [
    {
     "name": "stdout",
     "output_type": "stream",
     "text": [
      "CPU times: user 0 ns, sys: 146 ms, total: 146 ms\n",
      "Wall time: 1.96 s\n"
     ]
    },
    {
     "data": {
      "text/plain": [
       "((8000, 3072), (8000,))"
      ]
     },
     "execution_count": 5,
     "metadata": {},
     "output_type": "execute_result"
    }
   ],
   "source": [
    "%%time\n",
    "if debug:\n",
    "    valid = dataset.Dataset('../input/validatio_debug_32.npz')\n",
    "else:\n",
    "    valid = dataset.Dataset('../input/validation.npz', use_features=use_features, feature_slice=feature_slice)\n",
    "#     valid = dataset.Dataset('../input/jigsaw_miltilingual_valid_translated.npz', use_features=use_features)\n",
    "valid.x.shape, valid.y.shape"
   ]
  },
  {
   "cell_type": "code",
   "execution_count": 6,
   "metadata": {},
   "outputs": [
    {
     "name": "stdout",
     "output_type": "stream",
     "text": [
      "CPU times: user 0 ns, sys: 949 ms, total: 949 ms\n",
      "Wall time: 6.98 s\n"
     ]
    },
    {
     "data": {
      "text/plain": [
       "((63812, 3072), (63812,))"
      ]
     },
     "execution_count": 6,
     "metadata": {},
     "output_type": "execute_result"
    }
   ],
   "source": [
    "%%time\n",
    "if debug:\n",
    "    test = dataset.Dataset('../input/test_debug_32.npz')\n",
    "else:\n",
    "    test = dataset.Dataset('../input/test.npz', use_features=use_features, feature_slice=feature_slice)\n",
    "test.x.shape, test.y.shape"
   ]
  },
  {
   "cell_type": "code",
   "execution_count": 7,
   "metadata": {},
   "outputs": [
    {
     "name": "stdout",
     "output_type": "stream",
     "text": [
      "CPU times: user 500 ms, sys: 2.38 s, total: 2.88 s\n",
      "Wall time: 17.7 s\n"
     ]
    },
    {
     "data": {
      "text/plain": [
       "((223549, 3072), (223549,))"
      ]
     },
     "execution_count": 7,
     "metadata": {},
     "output_type": "execute_result"
    }
   ],
   "source": [
    "%%time\n",
    "if debug:\n",
    "    train = dataset.Dataset('../input/jigsaw-toxic-comment-trai_debug_32.npz')\n",
    "else:\n",
    "    train = dataset.Dataset('../input/jigsaw-toxic-comment-train.npz', use_features=use_features, feature_slice=feature_slice)\n",
    "train.x.shape, train.y.shape"
   ]
  },
  {
   "cell_type": "code",
   "execution_count": 8,
   "metadata": {},
   "outputs": [],
   "source": [
    "np.save('../input/jigsaw_roberta_features/jigsaw-toxic-comment-train_y.npy', train.y)\n",
    "np.save('../input/jigsaw_roberta_features/validation_y.npy', valid.y)\n",
    "np.save('../input/jigsaw_roberta_features/test_y.npy', test.y)"
   ]
  },
  {
   "cell_type": "code",
   "execution_count": 121,
   "metadata": {},
   "outputs": [
    {
     "name": "stdout",
     "output_type": "stream",
     "text": [
      "CPU times: user 14 s, sys: 28.2 s, total: 42.2 s\n",
      "Wall time: 1min 43s\n"
     ]
    },
    {
     "data": {
      "text/plain": [
       "((1902194, 3072), (1902194,))"
      ]
     },
     "execution_count": 121,
     "metadata": {},
     "output_type": "execute_result"
    }
   ],
   "source": [
    "%%time\n",
    "if debug:\n",
    "    train_aux = dataset.Dataset('../input/jigsaw-toxic-comment-trai_debug_32.npz')\n",
    "else:\n",
    "    train_aux = dataset.Dataset('../input/jigsaw-unintended-bias-train.npz', use_features=use_features)\n",
    "train_aux.x.shape, train_aux.y.shape"
   ]
  },
  {
   "cell_type": "code",
   "execution_count": 9,
   "metadata": {},
   "outputs": [],
   "source": [
    "def weighted_sampler(y):\n",
    "    labels, counts = np.unique(y, return_counts=True)\n",
    "    weights = counts[::-1] / counts.sum()\n",
    "    weights = np.array([weights[i] for i in y])\n",
    "    return torch.utils.data.sampler.WeightedRandomSampler(weights, int(counts.min() * 2))"
   ]
  },
  {
   "cell_type": "code",
   "execution_count": 11,
   "metadata": {},
   "outputs": [],
   "source": [
    "sampler = weighted_sampler(train.y)"
   ]
  },
  {
   "cell_type": "code",
   "execution_count": 12,
   "metadata": {},
   "outputs": [
    {
     "data": {
      "text/plain": [
       "tensor([0.0957, 0.0957, 0.0957,  ..., 0.0957, 0.9043, 0.0957],\n",
       "       dtype=torch.float64)"
      ]
     },
     "execution_count": 12,
     "metadata": {},
     "output_type": "execute_result"
    }
   ],
   "source": [
    "sampler.weights"
   ]
  },
  {
   "cell_type": "code",
   "execution_count": 310,
   "metadata": {},
   "outputs": [
    {
     "data": {
      "text/plain": [
       "45228"
      ]
     },
     "execution_count": 310,
     "metadata": {},
     "output_type": "execute_result"
    }
   ],
   "source": [
    "train = torch.utils.data.ConcatDataset([train, valid])\n",
    "train_y = np.concatenate([d.y for d in train.datasets])\n",
    "sampler = weighted_sampler(train_y)\n",
    "len(sampler)"
   ]
  },
  {
   "cell_type": "markdown",
   "metadata": {},
   "source": [
    "## Model"
   ]
  },
  {
   "cell_type": "code",
   "execution_count": 8,
   "metadata": {},
   "outputs": [
    {
     "data": {
      "text/plain": [
       "<module 'mix' from '../src/mix.py'>"
      ]
     },
     "execution_count": 8,
     "metadata": {},
     "output_type": "execute_result"
    }
   ],
   "source": [
    "reload(models)\n",
    "reload(mix)"
   ]
  },
  {
   "cell_type": "code",
   "execution_count": 7,
   "metadata": {},
   "outputs": [
    {
     "data": {
      "application/vnd.jupyter.widget-view+json": {
       "model_id": "a5abdea6bfdb4164bef63a16a7f10937",
       "version_major": 2,
       "version_minor": 0
      },
      "text/plain": [
       "HBox(children=(FloatProgress(value=0.0, description='Downloading', max=2244861551.0, style=ProgressStyle(descr…"
      ]
     },
     "metadata": {},
     "output_type": "display_data"
    },
    {
     "name": "stdout",
     "output_type": "stream",
     "text": [
      "\n"
     ]
    }
   ],
   "source": [
    "backbone_name = 'xlm-roberta-large'\n",
    "# backbone = XLMRobertaModel(XLMRobertaConfig.from_pretrained(backbone_name))\n",
    "backbone = XLMRobertaModel.from_pretrained(backbone_name, output_hidden_states=False, num_labels=1)"
   ]
  },
  {
   "cell_type": "code",
   "execution_count": 24,
   "metadata": {},
   "outputs": [],
   "source": [
    "# to reload the module and not overload gpu\n",
    "del model"
   ]
  },
  {
   "cell_type": "code",
   "execution_count": 25,
   "metadata": {},
   "outputs": [
    {
     "data": {
      "text/plain": [
       "TransformersPoolingHead(\n",
       "  (head): Sequential(\n",
       "    (0): Linear(in_features=3072, out_features=3072, bias=True)\n",
       "    (1): ReLU()\n",
       "    (2): Dropout(p=0.5, inplace=False)\n",
       "    (3): Linear(in_features=3072, out_features=2, bias=True)\n",
       "  )\n",
       "  (dropout): Dropout(p=0.5, inplace=False)\n",
       ")"
      ]
     },
     "execution_count": 25,
     "metadata": {},
     "output_type": "execute_result"
    }
   ],
   "source": [
    "\n",
    "\n",
    "# model = models.Model(backbone, mix=False, dropout=0.55)\n",
    "# model = models.SimplePoolingHead(mix=True, dropout=0.5)\n",
    "model = models.TransformersPoolingHead(mix=mix.Mixup(), dropout=0.5, relu=True)\n",
    "# model = models.CustomPoolingHead(mix=mix.Cutmix(continuous=False), dropout=0.5)\n",
    "# model = models.CustomPoolingHead(in_features=3072, mix=mix.Mixup(), dropout=0.5)\n",
    "model"
   ]
  },
  {
   "cell_type": "markdown",
   "metadata": {},
   "source": [
    "## Feature extraction"
   ]
  },
  {
   "cell_type": "code",
   "execution_count": 8,
   "metadata": {},
   "outputs": [
    {
     "name": "stdout",
     "output_type": "stream",
     "text": [
      "INFO: Pandarallel will run on 2 workers.\n",
      "INFO: Pandarallel will use Memory file system to transfer data between the main process and workers.\n"
     ]
    },
    {
     "name": "stderr",
     "output_type": "stream",
     "text": [
      "[nltk_data] Downloading package punkt to\n",
      "[nltk_data]     /gpfs/hpc/home/papkov/nltk_data...\n",
      "[nltk_data]   Package punkt is already up-to-date!\n"
     ]
    },
    {
     "data": {
      "text/plain": [
       "<module 'preprocessing' from '../src/preprocessing.py'>"
      ]
     },
     "execution_count": 8,
     "metadata": {},
     "output_type": "execute_result"
    }
   ],
   "source": [
    "reload(preprocessing)"
   ]
  },
  {
   "cell_type": "code",
   "execution_count": 9,
   "metadata": {},
   "outputs": [
    {
     "name": "stderr",
     "output_type": "stream",
     "text": [
      "feature extraction: 100%|##########| 63/63 [04:13<00:00,  4.02s/it]\n"
     ]
    }
   ],
   "source": [
    "preprocessing.extract_roberta_features_to_file('../input/validation.npz', backbone=backbone, device=device)"
   ]
  },
  {
   "cell_type": "code",
   "execution_count": 145,
   "metadata": {},
   "outputs": [
    {
     "name": "stderr",
     "output_type": "stream",
     "text": [
      "feature extraction: 100%|##########| 63/63 [04:14<00:00,  4.03s/it]\n"
     ]
    }
   ],
   "source": [
    "preprocessing.extract_roberta_features_to_file('../input/jigsaw_miltilingual_valid_translated.npz', backbone=backbone, device=device)"
   ]
  },
  {
   "cell_type": "code",
   "execution_count": 10,
   "metadata": {},
   "outputs": [
    {
     "name": "stderr",
     "output_type": "stream",
     "text": [
      "feature extraction: 100%|##########| 499/499 [34:04<00:00,  4.10s/it]\n"
     ]
    }
   ],
   "source": [
    "preprocessing.extract_roberta_features_to_file('../input/test.npz', backbone=backbone, device=device)"
   ]
  },
  {
   "cell_type": "code",
   "execution_count": 9,
   "metadata": {},
   "outputs": [
    {
     "name": "stderr",
     "output_type": "stream",
     "text": [
      "feature extraction: 100%|##########| 63/63 [04:13<00:00,  4.02s/it]\n"
     ]
    }
   ],
   "source": [
    "preprocessing.extract_roberta_features_to_file('../input/jigsaw_miltilingual_test_translated.npz', backbone=backbone, device=device)"
   ]
  },
  {
   "cell_type": "code",
   "execution_count": 11,
   "metadata": {},
   "outputs": [
    {
     "name": "stderr",
     "output_type": "stream",
     "text": [
      "feature extraction: 100%|##########| 1747/1747 [1:58:03<00:00,  4.05s/it]\n"
     ]
    }
   ],
   "source": [
    "preprocessing.extract_roberta_features_to_file('../input/jigsaw-toxic-comment-train.npz', backbone=backbone, device=device, batch_size=128)"
   ]
  },
  {
   "cell_type": "code",
   "execution_count": 113,
   "metadata": {},
   "outputs": [
    {
     "name": "stderr",
     "output_type": "stream",
     "text": [
      "feature extraction:  21%|##        | 3065/14861 [3:26:57<13:17:12,  4.05s/it]IOPub message rate exceeded.\n",
      "The notebook server will temporarily stop sending output\n",
      "to the client in order to avoid crashing it.\n",
      "To change this limit, set the config variable\n",
      "`--NotebookApp.iopub_msg_rate_limit`.\n",
      "\n",
      "Current values:\n",
      "NotebookApp.iopub_msg_rate_limit=1000.0 (msgs/sec)\n",
      "NotebookApp.rate_limit_window=3.0 (secs)\n",
      "\n",
      "feature extraction: 100%|##########| 14861/14861 [16:47:01<00:00,  4.07s/it]  \n"
     ]
    }
   ],
   "source": [
    "preprocessing.extract_roberta_features_to_file('../input/jigsaw-unintended-bias-train.npz', backbone=backbone, device=device, batch_size=128)"
   ]
  },
  {
   "cell_type": "markdown",
   "metadata": {},
   "source": [
    "## Data loaders"
   ]
  },
  {
   "cell_type": "code",
   "execution_count": 10,
   "metadata": {},
   "outputs": [],
   "source": [
    "batch_size = 64\n",
    "num_workers = 8\n",
    "\n",
    "loader_train = D.DataLoader(train, \n",
    "                            sampler=train.weighted_sampler(), \n",
    "#                             sampler=sampler, \n",
    "#                             shuffle=True,\n",
    "                            batch_size=batch_size, num_workers=num_workers)\n",
    "loader_valid = D.DataLoader(valid, \n",
    "                            batch_size=batch_size, num_workers=num_workers)\n",
    "loader_test = D.DataLoader(test, \n",
    "                           batch_size=batch_size, num_workers=num_workers)"
   ]
  },
  {
   "cell_type": "code",
   "execution_count": 11,
   "metadata": {},
   "outputs": [
    {
     "data": {
      "text/plain": [
       "(669, 125, 998)"
      ]
     },
     "execution_count": 11,
     "metadata": {},
     "output_type": "execute_result"
    }
   ],
   "source": [
    "len(loader_train), len(loader_valid), len(loader_test)"
   ]
  },
  {
   "cell_type": "markdown",
   "metadata": {},
   "source": [
    "## Trainer"
   ]
  },
  {
   "cell_type": "code",
   "execution_count": 26,
   "metadata": {},
   "outputs": [
    {
     "data": {
      "text/plain": [
       "<module 'trainer' from '../src/trainer.py'>"
      ]
     },
     "execution_count": 26,
     "metadata": {},
     "output_type": "execute_result"
    }
   ],
   "source": [
    "reload(trainer)"
   ]
  },
  {
   "cell_type": "code",
   "execution_count": 27,
   "metadata": {},
   "outputs": [
    {
     "name": "stdout",
     "output_type": "stream",
     "text": [
      "Use automatic mixed precision at opt_level=O1\n",
      "Selected optimization level O1:  Insert automatic casts around Pytorch functions and Tensor methods.\n",
      "\n",
      "Defaults for this optimization level are:\n",
      "enabled                : True\n",
      "opt_level              : O1\n",
      "cast_model_type        : None\n",
      "patch_torch_functions  : True\n",
      "keep_batchnorm_fp32    : None\n",
      "master_weights         : None\n",
      "loss_scale             : dynamic\n",
      "Processing user overrides (additional kwargs that are not None)...\n",
      "After processing overrides, optimization options are:\n",
      "enabled                : True\n",
      "opt_level              : O1\n",
      "cast_model_type        : None\n",
      "patch_torch_functions  : True\n",
      "keep_batchnorm_fp32    : None\n",
      "master_weights         : None\n",
      "loss_scale             : dynamic\n"
     ]
    }
   ],
   "source": [
    "# we may optimize only head (with encoder pretrained)\n",
    "# optimizer = AdamW(model.head.parameters(), lr=1e-4)\n",
    "optimizer = AdamW(model.parameters(), lr=1e-4)\n",
    "# scheduler = torch.optim.lr_scheduler.CosineAnnealingWarmRestarts(optimizer, 4, T_mult=2, eta_min=0, last_epoch=-1)\n",
    "# criterion = trainer.FocalLoss(gamma=2)\n",
    "# criterion = trainer.DenseCrossEntropy(label_smoothing=0.1)\n",
    "# scheduler = get_linear_schedule_with_warmup(optimizer, 5, 5)\n",
    "\n",
    "trnr = trainer.Trainer('transformer_relu_O1', model, \n",
    "                       loader_train, loader_valid, loader_test,\n",
    "                       epochs=20,\n",
    "                       monitor='val_loss',\n",
    "                       optimizer=optimizer,\n",
    "                       opt_level='O1',\n",
    "#                        criterion=criterion,\n",
    "#                        scheduler=scheduler,\n",
    "                      )"
   ]
  },
  {
   "cell_type": "markdown",
   "metadata": {},
   "source": [
    "## Training"
   ]
  },
  {
   "cell_type": "code",
   "execution_count": 28,
   "metadata": {},
   "outputs": [
    {
     "name": "stderr",
     "output_type": "stream",
     "text": [
      "ep. 0000 (lr 1.00e-04): 100%|##########| 669/669 [00:15<00:00, 42.19it/s, loss=0.531, acc=0.754]\n",
      "/gpfs/hpc/home/papkov/.conda/envs/peenv36/lib/python3.7/site-packages/torch/optim/lr_scheduler.py:113: UserWarning: Seems like `optimizer.step()` has been overridden after learning rate scheduler initialization. Please, make sure to call `optimizer.step()` before `lr_scheduler.step()`. See more details at https://pytorch.org/docs/stable/optim.html#how-to-adjust-learning-rate\n",
      "  \"https://pytorch.org/docs/stable/optim.html#how-to-adjust-learning-rate\", UserWarning)\n",
      "valid: 100%|##########| 125/125 [00:00<00:00, 164.05it/s]\n"
     ]
    },
    {
     "name": "stdout",
     "output_type": "stream",
     "text": [
      "Epoch 0 complete. loss=0.4026, val_loss=0.3114, val_acc=0.8819, val_auc=0.8906\n",
      "Saved model to ../checkpoints//transformer_relu_O1_last.pth\n"
     ]
    },
    {
     "name": "stderr",
     "output_type": "stream",
     "text": [
      "ep. 0001 (lr 9.94e-05): 100%|##########| 669/669 [00:06<00:00, 99.42it/s, loss=0.463, acc=0.812] \n",
      "valid: 100%|##########| 125/125 [00:00<00:00, 216.74it/s]\n"
     ]
    },
    {
     "name": "stdout",
     "output_type": "stream",
     "text": [
      "Epoch 1 complete. loss=0.3933, val_loss=0.3184, val_acc=0.8824, val_auc=0.8978\n",
      "Saved model to ../checkpoints//transformer_relu_O1_last.pth\n"
     ]
    },
    {
     "name": "stderr",
     "output_type": "stream",
     "text": [
      "ep. 0002 (lr 9.76e-05): 100%|##########| 669/669 [00:06<00:00, 108.87it/s, loss=0.445, acc=0.824]\n",
      "valid: 100%|##########| 125/125 [00:00<00:00, 205.55it/s]\n"
     ]
    },
    {
     "name": "stdout",
     "output_type": "stream",
     "text": [
      "Epoch 2 complete. loss=0.5488, val_loss=0.3316, val_acc=0.8784, val_auc=0.8979\n",
      "Saved model to ../checkpoints//transformer_relu_O1_last.pth\n"
     ]
    },
    {
     "name": "stderr",
     "output_type": "stream",
     "text": [
      "ep. 0003 (lr 9.46e-05):  17%|#6        | 112/669 [00:01<00:05, 105.64it/s, loss=0.448, acc=0.821]"
     ]
    },
    {
     "name": "stdout",
     "output_type": "stream",
     "text": [
      "Gradient overflow.  Skipping step, loss scaler 0 reducing loss scale to 65536.0\n"
     ]
    },
    {
     "name": "stderr",
     "output_type": "stream",
     "text": [
      "ep. 0003 (lr 9.46e-05): 100%|##########| 669/669 [00:05<00:00, 113.05it/s, loss=0.445, acc=0.824]\n",
      "valid: 100%|##########| 125/125 [00:00<00:00, 230.58it/s]\n"
     ]
    },
    {
     "name": "stdout",
     "output_type": "stream",
     "text": [
      "Epoch 3 complete. loss=0.4267, val_loss=0.3181, val_acc=0.8845, val_auc=0.8971\n",
      "Saved model to ../checkpoints//transformer_relu_O1_last.pth\n"
     ]
    },
    {
     "name": "stderr",
     "output_type": "stream",
     "text": [
      "ep. 0004 (lr 9.05e-05): 100%|##########| 669/669 [00:06<00:00, 107.78it/s, loss=0.439, acc=0.828]\n",
      "valid: 100%|##########| 125/125 [00:00<00:00, 210.56it/s]\n"
     ]
    },
    {
     "name": "stdout",
     "output_type": "stream",
     "text": [
      "Epoch 4 complete. loss=0.2934, val_loss=0.3233, val_acc=0.8828, val_auc=0.8998\n",
      "Saved model to ../checkpoints//transformer_relu_O1_last.pth\n"
     ]
    },
    {
     "name": "stderr",
     "output_type": "stream",
     "text": [
      "ep. 0005 (lr 8.54e-05): 100%|##########| 669/669 [00:06<00:00, 100.48it/s, loss=0.437, acc=0.829]\n",
      "valid: 100%|##########| 125/125 [00:00<00:00, 174.47it/s]\n"
     ]
    },
    {
     "name": "stdout",
     "output_type": "stream",
     "text": [
      "Epoch 5 complete. loss=0.5332, val_loss=0.3163, val_acc=0.8849, val_auc=0.9016\n",
      "Saved model to ../checkpoints//transformer_relu_O1_last.pth\n"
     ]
    },
    {
     "name": "stderr",
     "output_type": "stream",
     "text": [
      "ep. 0006 (lr 7.94e-05): 100%|##########| 669/669 [00:06<00:00, 107.13it/s, loss=0.432, acc=0.834]\n",
      "valid: 100%|##########| 125/125 [00:00<00:00, 193.40it/s]\n"
     ]
    },
    {
     "name": "stdout",
     "output_type": "stream",
     "text": [
      "Epoch 6 complete. loss=0.3650, val_loss=0.3057, val_acc=0.8844, val_auc=0.8985\n",
      "Saved model to ../checkpoints//transformer_relu_O1.pth\n"
     ]
    },
    {
     "name": "stderr",
     "output_type": "stream",
     "text": [
      "ep. 0007 (lr 7.27e-05): 100%|##########| 669/669 [00:06<00:00, 101.53it/s, loss=0.433, acc=0.834]\n",
      "valid: 100%|##########| 125/125 [00:00<00:00, 210.64it/s]\n"
     ]
    },
    {
     "name": "stdout",
     "output_type": "stream",
     "text": [
      "Epoch 7 complete. loss=0.4630, val_loss=0.3271, val_acc=0.8802, val_auc=0.8994\n",
      "Saved model to ../checkpoints//transformer_relu_O1_last.pth\n"
     ]
    },
    {
     "name": "stderr",
     "output_type": "stream",
     "text": [
      "ep. 0008 (lr 6.55e-05):  20%|##        | 134/669 [00:01<00:04, 109.19it/s, loss=0.424, acc=0.839]"
     ]
    },
    {
     "name": "stdout",
     "output_type": "stream",
     "text": [
      "Gradient overflow.  Skipping step, loss scaler 0 reducing loss scale to 65536.0\n"
     ]
    },
    {
     "name": "stderr",
     "output_type": "stream",
     "text": [
      "ep. 0008 (lr 6.55e-05): 100%|##########| 669/669 [00:06<00:00, 104.91it/s, loss=0.425, acc=0.838]\n",
      "valid: 100%|##########| 125/125 [00:00<00:00, 207.32it/s]\n"
     ]
    },
    {
     "name": "stdout",
     "output_type": "stream",
     "text": [
      "Epoch 8 complete. loss=0.4178, val_loss=0.3008, val_acc=0.8838, val_auc=0.8994\n",
      "Saved model to ../checkpoints//transformer_relu_O1.pth\n"
     ]
    },
    {
     "name": "stderr",
     "output_type": "stream",
     "text": [
      "ep. 0009 (lr 5.78e-05): 100%|##########| 669/669 [00:06<00:00, 101.09it/s, loss=0.428, acc=0.837]\n",
      "valid: 100%|##########| 125/125 [00:00<00:00, 194.78it/s]\n"
     ]
    },
    {
     "name": "stdout",
     "output_type": "stream",
     "text": [
      "Epoch 9 complete. loss=0.4986, val_loss=0.3459, val_acc=0.8704, val_auc=0.9033\n",
      "Saved model to ../checkpoints//transformer_relu_O1_last.pth\n"
     ]
    },
    {
     "name": "stderr",
     "output_type": "stream",
     "text": [
      "ep. 0010 (lr 5.00e-05): 100%|##########| 669/669 [00:06<00:00, 99.13it/s, loss=0.425, acc=0.838] \n",
      "valid: 100%|##########| 125/125 [00:00<00:00, 160.97it/s]\n"
     ]
    },
    {
     "name": "stdout",
     "output_type": "stream",
     "text": [
      "Epoch 10 complete. loss=0.3423, val_loss=0.2882, val_acc=0.8838, val_auc=0.8979\n",
      "Saved model to ../checkpoints//transformer_relu_O1.pth\n"
     ]
    },
    {
     "name": "stderr",
     "output_type": "stream",
     "text": [
      "ep. 0011 (lr 4.22e-05):  59%|#####9    | 398/669 [00:03<00:02, 106.71it/s, loss=0.423, acc=0.838]"
     ]
    },
    {
     "name": "stdout",
     "output_type": "stream",
     "text": [
      "Gradient overflow.  Skipping step, loss scaler 0 reducing loss scale to 65536.0\n"
     ]
    },
    {
     "name": "stderr",
     "output_type": "stream",
     "text": [
      "ep. 0011 (lr 4.22e-05): 100%|##########| 669/669 [00:06<00:00, 102.78it/s, loss=0.424, acc=0.837]\n",
      "valid: 100%|##########| 125/125 [00:00<00:00, 176.58it/s]\n"
     ]
    },
    {
     "name": "stdout",
     "output_type": "stream",
     "text": [
      "Epoch 11 complete. loss=0.6821, val_loss=0.2924, val_acc=0.8852, val_auc=0.9004\n",
      "Saved model to ../checkpoints//transformer_relu_O1_last.pth\n"
     ]
    },
    {
     "name": "stderr",
     "output_type": "stream",
     "text": [
      "ep. 0012 (lr 3.45e-05): 100%|##########| 669/669 [00:06<00:00, 110.20it/s, loss=0.423, acc=0.84] \n",
      "valid: 100%|##########| 125/125 [00:00<00:00, 197.92it/s]\n"
     ]
    },
    {
     "name": "stdout",
     "output_type": "stream",
     "text": [
      "Epoch 12 complete. loss=0.2772, val_loss=0.2974, val_acc=0.8855, val_auc=0.9004\n",
      "Saved model to ../checkpoints//transformer_relu_O1_last.pth\n"
     ]
    },
    {
     "name": "stderr",
     "output_type": "stream",
     "text": [
      "ep. 0013 (lr 2.73e-05): 100%|##########| 669/669 [00:06<00:00, 104.59it/s, loss=0.421, acc=0.841]\n",
      "valid: 100%|##########| 125/125 [00:00<00:00, 182.55it/s]\n"
     ]
    },
    {
     "name": "stdout",
     "output_type": "stream",
     "text": [
      "Epoch 13 complete. loss=0.3834, val_loss=0.2884, val_acc=0.8849, val_auc=0.9014\n",
      "Saved model to ../checkpoints//transformer_relu_O1_last.pth\n"
     ]
    },
    {
     "name": "stderr",
     "output_type": "stream",
     "text": [
      "ep. 0014 (lr 2.06e-05): 100%|##########| 669/669 [00:07<00:00, 89.09it/s, loss=0.42, acc=0.841] \n",
      "valid: 100%|##########| 125/125 [00:00<00:00, 154.45it/s]\n"
     ]
    },
    {
     "name": "stdout",
     "output_type": "stream",
     "text": [
      "Epoch 14 complete. loss=0.3487, val_loss=0.3045, val_acc=0.8866, val_auc=0.9010\n",
      "Saved model to ../checkpoints//transformer_relu_O1_last.pth\n"
     ]
    },
    {
     "name": "stderr",
     "output_type": "stream",
     "text": [
      "ep. 0015 (lr 1.46e-05): 100%|#########9| 668/669 [00:06<00:00, 102.52it/s, loss=0.418, acc=0.843]"
     ]
    },
    {
     "name": "stdout",
     "output_type": "stream",
     "text": [
      "Gradient overflow.  Skipping step, loss scaler 0 reducing loss scale to 65536.0\n"
     ]
    },
    {
     "name": "stderr",
     "output_type": "stream",
     "text": [
      "ep. 0015 (lr 1.46e-05): 100%|##########| 669/669 [00:06<00:00, 105.23it/s, loss=0.418, acc=0.843]\n",
      "valid: 100%|##########| 125/125 [00:00<00:00, 199.76it/s]\n"
     ]
    },
    {
     "name": "stdout",
     "output_type": "stream",
     "text": [
      "Epoch 15 complete. loss=0.4601, val_loss=0.2914, val_acc=0.8865, val_auc=0.9027\n",
      "Saved model to ../checkpoints//transformer_relu_O1_last.pth\n"
     ]
    },
    {
     "name": "stderr",
     "output_type": "stream",
     "text": [
      "ep. 0016 (lr 9.55e-06): 100%|##########| 669/669 [00:06<00:00, 97.05it/s, loss=0.42, acc=0.843]  \n",
      "valid: 100%|##########| 125/125 [00:00<00:00, 173.21it/s]\n"
     ]
    },
    {
     "name": "stdout",
     "output_type": "stream",
     "text": [
      "Epoch 16 complete. loss=0.4848, val_loss=0.3005, val_acc=0.8872, val_auc=0.9022\n",
      "Saved model to ../checkpoints//transformer_relu_O1_last.pth\n"
     ]
    },
    {
     "name": "stderr",
     "output_type": "stream",
     "text": [
      "ep. 0017 (lr 5.45e-06): 100%|##########| 669/669 [00:06<00:00, 103.29it/s, loss=0.417, acc=0.842]\n",
      "valid: 100%|##########| 125/125 [00:00<00:00, 177.84it/s]\n"
     ]
    },
    {
     "name": "stdout",
     "output_type": "stream",
     "text": [
      "Epoch 17 complete. loss=0.4873, val_loss=0.2959, val_acc=0.8866, val_auc=0.9029\n",
      "Saved model to ../checkpoints//transformer_relu_O1_last.pth\n"
     ]
    },
    {
     "name": "stderr",
     "output_type": "stream",
     "text": [
      "ep. 0018 (lr 2.45e-06): 100%|##########| 669/669 [00:06<00:00, 102.97it/s, loss=0.415, acc=0.846]\n",
      "valid: 100%|##########| 125/125 [00:00<00:00, 188.36it/s]\n"
     ]
    },
    {
     "name": "stdout",
     "output_type": "stream",
     "text": [
      "Epoch 18 complete. loss=0.3690, val_loss=0.2936, val_acc=0.8860, val_auc=0.9026\n",
      "Saved model to ../checkpoints//transformer_relu_O1_last.pth\n"
     ]
    },
    {
     "name": "stderr",
     "output_type": "stream",
     "text": [
      "ep. 0019 (lr 6.16e-07): 100%|##########| 669/669 [00:06<00:00, 95.79it/s, loss=0.417, acc=0.843] \n",
      "valid: 100%|##########| 125/125 [00:00<00:00, 173.35it/s]\n"
     ]
    },
    {
     "name": "stdout",
     "output_type": "stream",
     "text": [
      "Epoch 19 complete. loss=0.3388, val_loss=0.2946, val_acc=0.8862, val_auc=0.9026\n",
      "Saved model to ../checkpoints//transformer_relu_O1_last.pth\n"
     ]
    }
   ],
   "source": [
    "trnr.fit()"
   ]
  },
  {
   "cell_type": "markdown",
   "metadata": {},
   "source": [
    "## Prediction"
   ]
  },
  {
   "cell_type": "code",
   "execution_count": 21,
   "metadata": {},
   "outputs": [
    {
     "name": "stdout",
     "output_type": "stream",
     "text": [
      "Load state in automatic mixed precision mode at opt_level=O1\n",
      "Loaded model from ../checkpoints//custom_head_bn_bias=False_O1.pth\n",
      "epoch 19, loss: 0.4936val_loss: 0.2795val_acc: 0.8756val_auc: 0.9041\n"
     ]
    }
   ],
   "source": [
    "trnr.load_checkpoint()"
   ]
  },
  {
   "cell_type": "code",
   "execution_count": 22,
   "metadata": {},
   "outputs": [
    {
     "name": "stderr",
     "output_type": "stream",
     "text": [
      "valid: 100%|##########| 125/125 [00:00<00:00, 181.50it/s]\n"
     ]
    }
   ],
   "source": [
    "pred, loss, acc, auc = trnr.validate()"
   ]
  },
  {
   "cell_type": "code",
   "execution_count": 23,
   "metadata": {},
   "outputs": [
    {
     "data": {
      "text/plain": [
       "0.904126406552101"
      ]
     },
     "execution_count": 23,
     "metadata": {},
     "output_type": "execute_result"
    }
   ],
   "source": [
    "auc"
   ]
  },
  {
   "cell_type": "code",
   "execution_count": 191,
   "metadata": {},
   "outputs": [],
   "source": [
    "from sklearn.metrics import roc_auc_score, accuracy_score\n",
    "from scipy.special import softmax"
   ]
  },
  {
   "cell_type": "code",
   "execution_count": 294,
   "metadata": {},
   "outputs": [
    {
     "data": {
      "text/plain": [
       "array([0.11696827, 0.08446362, 0.09727458, 0.03982643, 0.1031474 ],\n",
       "      dtype=float32)"
      ]
     },
     "execution_count": 294,
     "metadata": {},
     "output_type": "execute_result"
    }
   ],
   "source": [
    "smpred = softmax(pred / 1, 1)[:,1]\n",
    "smpred[:5]"
   ]
  },
  {
   "cell_type": "code",
   "execution_count": 295,
   "metadata": {},
   "outputs": [
    {
     "name": "stdout",
     "output_type": "stream",
     "text": [
      "all: acc 0.8832, auc 0.9042\n",
      "\n",
      "es: acc 0.8704, auc 0.8793\n",
      "it: acc 0.8508, auc 0.8632\n",
      "tr: acc 0.9210, auc 0.9622\n"
     ]
    }
   ],
   "source": [
    "\n",
    "acc = accuracy_score(valid.y, np.round(smpred))\n",
    "auc = roc_auc_score(valid.y, smpred)\n",
    "print(f'all: acc {acc:.4f}, auc {auc:.4f}\\n')\n",
    "\n",
    "for lang in ['es', 'it', 'tr']:\n",
    "    mask = valid.dataset['lang'] == lang\n",
    "    acc = accuracy_score(valid.y[mask], np.round(smpred[mask]))\n",
    "    auc = roc_auc_score(valid.y[mask], smpred[mask])\n",
    "    print(f'{lang}: acc {acc:.4f}, auc {auc:.4f}')\n",
    "    "
   ]
  },
  {
   "cell_type": "code",
   "execution_count": 296,
   "metadata": {},
   "outputs": [],
   "source": [
    "import seaborn as sns"
   ]
  },
  {
   "cell_type": "code",
   "execution_count": 300,
   "metadata": {},
   "outputs": [],
   "source": [
    "from sklearn.calibration import calibration_curve"
   ]
  },
  {
   "cell_type": "code",
   "execution_count": 305,
   "metadata": {},
   "outputs": [
    {
     "data": {
      "image/png": "[encoded data removed]",
      "text/plain": [
       "<Figure size 432x288 with 1 Axes>"
      ]
     },
     "metadata": {
      "needs_background": "light"
     },
     "output_type": "display_data"
    }
   ],
   "source": [
    "plt.plot(*calibration_curve(valid.y, smpred), 's-')\n",
    "plt.title('Calibration plot')\n",
    "plt.show()"
   ]
  },
  {
   "cell_type": "code",
   "execution_count": 299,
   "metadata": {},
   "outputs": [
    {
     "data": {
      "image/png": "[encoded data removed]",
      "text/plain": [
       "<Figure size 432x288 with 1 Axes>"
      ]
     },
     "metadata": {
      "needs_background": "light"
     },
     "output_type": "display_data"
    }
   ],
   "source": [
    "fig, ax = plt.subplots()\n",
    "\n",
    "sns.distplot(smpred[valid.y == 0], ax=ax, label='non-toxic')\n",
    "sns.distplot(smpred[valid.y == 1], ax=ax, label='toxic')\n",
    "plt.legend()\n",
    "plt.title('Score distribution')\n",
    "plt.show()"
   ]
  },
  {
   "cell_type": "code",
   "execution_count": 240,
   "metadata": {},
   "outputs": [
    {
     "name": "stdout",
     "output_type": "stream",
     "text": [
      "es: acc 0.8696, auc 0.8733\n",
      "it: acc 0.8528, auc 0.8532\n",
      "tr: acc 0.9167, auc 0.9672\n"
     ]
    }
   ],
   "source": [
    "for lang in ['es', 'it', 'tr']:\n",
    "    mask = valid.dataset['lang'] == lang\n",
    "    acc = accuracy_score(valid.y[mask], np.round(pred[mask]))\n",
    "    auc = roc_auc_score(valid.y[mask], pred[mask])\n",
    "    print(f'{lang}: acc {acc:.4f}, auc {auc:.4f}')"
   ]
  },
  {
   "cell_type": "code",
   "execution_count": 19,
   "metadata": {},
   "outputs": [
    {
     "name": "stderr",
     "output_type": "stream",
     "text": [
      "test: 100%|##########| 31906/31906 [38:58<00:00, 13.65it/s]\n"
     ]
    }
   ],
   "source": [
    "pred, loss, acc = trnr.test()"
   ]
  }
 ],
 "metadata": {
  "kernelspec": {
   "display_name": "peenv (conda)",
   "language": "python",
   "name": "peenv36"
  },
  "language_info": {
   "codemirror_mode": {
    "name": "ipython",
    "version": 3
   },
   "file_extension": ".py",
   "mimetype": "text/x-python",
   "name": "python",
   "nbconvert_exporter": "python",
   "pygments_lexer": "ipython3",
   "version": "3.7.4"
  }
 },
 "nbformat": 4,
 "nbformat_minor": 2
}
