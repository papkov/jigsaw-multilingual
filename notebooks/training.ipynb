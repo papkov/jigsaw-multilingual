{
 "cells": [
  {
   "cell_type": "code",
   "execution_count": 2,
   "metadata": {},
   "outputs": [
    {
     "name": "stdout",
     "output_type": "stream",
     "text": [
      "Sat May 16 15:47:48 2020       \n",
      "+-----------------------------------------------------------------------------+\n",
      "| NVIDIA-SMI 418.40.04    Driver Version: 418.40.04    CUDA Version: 10.1     |\n",
      "|-------------------------------+----------------------+----------------------+\n",
      "| GPU  Name        Persistence-M| Bus-Id        Disp.A | Volatile Uncorr. ECC |\n",
      "| Fan  Temp  Perf  Pwr:Usage/Cap|         Memory-Usage | GPU-Util  Compute M. |\n",
      "|===============================+======================+======================|\n",
      "|   0  Tesla V100-PCIE...  Off  | 00000000:1A:00.0 Off |                    0 |\n",
      "| N/A   35C    P0    36W / 250W |  15820MiB / 16130MiB |      0%      Default |\n",
      "+-------------------------------+----------------------+----------------------+\n",
      "|   1  Tesla V100-PCIE...  Off  | 00000000:1B:00.0 Off |                    0 |\n",
      "| N/A   34C    P0    36W / 250W |      0MiB / 16130MiB |      0%      Default |\n",
      "+-------------------------------+----------------------+----------------------+\n",
      "|   2  Tesla V100-PCIE...  Off  | 00000000:1C:00.0 Off |                    0 |\n",
      "| N/A   34C    P0    36W / 250W |  15870MiB / 16130MiB |      0%      Default |\n",
      "+-------------------------------+----------------------+----------------------+\n",
      "|   3  Tesla V100-PCIE...  Off  | 00000000:1D:00.0 Off |                    0 |\n",
      "| N/A   72C    P0   228W / 250W |  15900MiB / 16130MiB |    100%      Default |\n",
      "+-------------------------------+----------------------+----------------------+\n",
      "|   4  Tesla V100-PCIE...  Off  | 00000000:1E:00.0 Off |                    0 |\n",
      "| N/A   33C    P0    36W / 250W |      0MiB / 16130MiB |      0%      Default |\n",
      "+-------------------------------+----------------------+----------------------+\n",
      "|   5  Tesla V100-PCIE...  Off  | 00000000:3D:00.0 Off |                    0 |\n",
      "| N/A   39C    P0    37W / 250W |      0MiB / 16130MiB |      0%      Default |\n",
      "+-------------------------------+----------------------+----------------------+\n",
      "|   6  Tesla V100-PCIE...  Off  | 00000000:3E:00.0 Off |                    0 |\n",
      "| N/A   36C    P0    37W / 250W |      0MiB / 16130MiB |      0%      Default |\n",
      "+-------------------------------+----------------------+----------------------+\n",
      "|   7  Tesla V100-PCIE...  Off  | 00000000:3F:00.0 Off |                    0 |\n",
      "| N/A   38C    P0    35W / 250W |      0MiB / 16130MiB |      0%      Default |\n",
      "+-------------------------------+----------------------+----------------------+\n",
      "|   8  Tesla V100-PCIE...  Off  | 00000000:40:00.0 Off |                    0 |\n",
      "| N/A   38C    P0    36W / 250W |      0MiB / 16130MiB |      0%      Default |\n",
      "+-------------------------------+----------------------+----------------------+\n",
      "|   9  Tesla V100-PCIE...  Off  | 00000000:41:00.0 Off |                    0 |\n",
      "| N/A   39C    P0    36W / 250W |      0MiB / 16130MiB |      0%      Default |\n",
      "+-------------------------------+----------------------+----------------------+\n",
      "                                                                               \n",
      "+-----------------------------------------------------------------------------+\n",
      "| Processes:                                                       GPU Memory |\n",
      "|  GPU       PID   Type   Process name                             Usage      |\n",
      "|=============================================================================|\n",
      "|    0     29991      C   ...salumaa/perkinelmer/venv_tf2/bin/python 15809MiB |\n",
      "|    2     67996      C   python                                     15859MiB |\n",
      "|    3    229300      C   ...me/urukov/.conda/envs/NPEEnv/bin/python 15889MiB |\n",
      "+-----------------------------------------------------------------------------+\n"
     ]
    }
   ],
   "source": [
    "!nvidia-smi"
   ]
  },
  {
   "cell_type": "code",
   "execution_count": 1,
   "metadata": {},
   "outputs": [
    {
     "name": "stderr",
     "output_type": "stream",
     "text": [
      "[nltk_data] Downloading package punkt to\n",
      "[nltk_data]     /gpfs/hpc/home/papkov/nltk_data...\n",
      "[nltk_data]   Package punkt is already up-to-date!\n"
     ]
    },
    {
     "name": "stdout",
     "output_type": "stream",
     "text": [
      "INFO: Pandarallel will run on 2 workers.\n",
      "INFO: Pandarallel will use Memory file system to transfer data between the main process and workers.\n",
      "use cuda\n"
     ]
    }
   ],
   "source": [
    "import os\n",
    "import sys\n",
    "from importlib import reload\n",
    "\n",
    "import pandas as pd\n",
    "import numpy as np\n",
    "\n",
    "import matplotlib.pyplot as plt\n",
    "import seaborn as sns\n",
    "import tqdm\n",
    "\n",
    "import torch\n",
    "from torch.utils import data as D\n",
    "# mixed precision\n",
    "from apex import amp\n",
    "\n",
    "# Local imports\n",
    "sys.path.append('../src')\n",
    "import dataset\n",
    "import trainer\n",
    "import models\n",
    "import utils\n",
    "import preprocessing\n",
    "import mix\n",
    "import transforms\n",
    "\n",
    "# Transformers\n",
    "import transformers\n",
    "from transformers import XLMRobertaModel, XLMRobertaTokenizer, XLMRobertaConfig\n",
    "from transformers import AdamW, get_linear_schedule_with_warmup, get_constant_schedule\n",
    "\n",
    "# Prediction analysis\n",
    "from sklearn.metrics import roc_auc_score, accuracy_score\n",
    "from scipy.special import softmax\n",
    "from sklearn.calibration import calibration_curve\n",
    "\n",
    "# Setup device\n",
    "os.environ['CUDA_VISIBLE_DEVICES'] = '1'\n",
    "device = 'cuda' if torch.cuda.is_available() else 'cpu'\n",
    "\n",
    "# Seed \n",
    "utils.seed_everything()\n",
    "\n",
    "print('use', device)"
   ]
  },
  {
   "cell_type": "markdown",
   "metadata": {},
   "source": [
    "## Datasets"
   ]
  },
  {
   "cell_type": "code",
   "execution_count": 2,
   "metadata": {},
   "outputs": [
    {
     "data": {
      "text/plain": [
       "<module 'dataset' from '../src/dataset.py'>"
      ]
     },
     "execution_count": 2,
     "metadata": {},
     "output_type": "execute_result"
    }
   ],
   "source": [
    "reload(dataset)"
   ]
  },
  {
   "cell_type": "code",
   "execution_count": 3,
   "metadata": {},
   "outputs": [],
   "source": [
    "debug = False\n",
    "use_features = True\n",
    "feature_slice = slice(0,3072)"
   ]
  },
  {
   "cell_type": "code",
   "execution_count": 4,
   "metadata": {},
   "outputs": [
    {
     "name": "stdout",
     "output_type": "stream",
     "text": [
      "CPU times: user 0 ns, sys: 162 ms, total: 162 ms\n",
      "Wall time: 667 ms\n"
     ]
    },
    {
     "data": {
      "text/plain": [
       "((8000, 3072), (8000,))"
      ]
     },
     "execution_count": 4,
     "metadata": {},
     "output_type": "execute_result"
    }
   ],
   "source": [
    "%%time\n",
    "if debug:\n",
    "    valid = dataset.Dataset('../input/validatio_debug_32.npz')\n",
    "else:\n",
    "    valid = dataset.Dataset('../input/validation.npz', use_features=use_features, feature_slice=feature_slice)\n",
    "#     valid = dataset.Dataset('../input/jigsaw_miltilingual_valid_translated.npz', use_features=use_features)\n",
    "valid.x.shape, valid.y.shape"
   ]
  },
  {
   "cell_type": "code",
   "execution_count": 5,
   "metadata": {},
   "outputs": [
    {
     "name": "stdout",
     "output_type": "stream",
     "text": [
      "CPU times: user 0 ns, sys: 886 ms, total: 886 ms\n",
      "Wall time: 3.92 s\n"
     ]
    },
    {
     "data": {
      "text/plain": [
       "((63812, 3072), (63812,))"
      ]
     },
     "execution_count": 5,
     "metadata": {},
     "output_type": "execute_result"
    }
   ],
   "source": [
    "%%time\n",
    "if debug:\n",
    "    test = dataset.Dataset('../input/test_debug_32.npz')\n",
    "else:\n",
    "    test = dataset.Dataset('../input/test.npz', use_features=use_features, feature_slice=feature_slice)\n",
    "test.x.shape, test.y.shape"
   ]
  },
  {
   "cell_type": "code",
   "execution_count": 6,
   "metadata": {},
   "outputs": [
    {
     "name": "stdout",
     "output_type": "stream",
     "text": [
      "CPU times: user 239 ms, sys: 2.62 s, total: 2.86 s\n",
      "Wall time: 12.4 s\n"
     ]
    },
    {
     "data": {
      "text/plain": [
       "((223549, 3072), (223549,))"
      ]
     },
     "execution_count": 6,
     "metadata": {},
     "output_type": "execute_result"
    }
   ],
   "source": [
    "%%time\n",
    "if debug:\n",
    "    train = dataset.Dataset('../input/jigsaw-toxic-comment-trai_debug_32.npz')\n",
    "else:\n",
    "    train = dataset.Dataset('../input/jigsaw-toxic-comment-train.npz', use_features=use_features, feature_slice=feature_slice)\n",
    "train.x.shape, train.y.shape"
   ]
  },
  {
   "cell_type": "code",
   "execution_count": 8,
   "metadata": {},
   "outputs": [],
   "source": [
    "np.save('../input/jigsaw_roberta_features/jigsaw-toxic-comment-train_y.npy', train.y)\n",
    "np.save('../input/jigsaw_roberta_features/validation_y.npy', valid.y)\n",
    "np.save('../input/jigsaw_roberta_features/test_y.npy', test.y)"
   ]
  },
  {
   "cell_type": "code",
   "execution_count": 121,
   "metadata": {},
   "outputs": [
    {
     "name": "stdout",
     "output_type": "stream",
     "text": [
      "CPU times: user 14 s, sys: 28.2 s, total: 42.2 s\n",
      "Wall time: 1min 43s\n"
     ]
    },
    {
     "data": {
      "text/plain": [
       "((1902194, 3072), (1902194,))"
      ]
     },
     "execution_count": 121,
     "metadata": {},
     "output_type": "execute_result"
    }
   ],
   "source": [
    "%%time\n",
    "if debug:\n",
    "    train_aux = dataset.Dataset('../input/jigsaw-toxic-comment-trai_debug_32.npz')\n",
    "else:\n",
    "    train_aux = dataset.Dataset('../input/jigsaw-unintended-bias-train.npz', use_features=use_features)\n",
    "train_aux.x.shape, train_aux.y.shape"
   ]
  },
  {
   "cell_type": "code",
   "execution_count": 9,
   "metadata": {},
   "outputs": [],
   "source": [
    "def weighted_sampler(y):\n",
    "    labels, counts = np.unique(y, return_counts=True)\n",
    "    weights = counts[::-1] / counts.sum()\n",
    "    weights = np.array([weights[i] for i in y])\n",
    "    return torch.utils.data.sampler.WeightedRandomSampler(weights, int(counts.min() * 2))"
   ]
  },
  {
   "cell_type": "code",
   "execution_count": 11,
   "metadata": {},
   "outputs": [],
   "source": [
    "sampler = weighted_sampler(train.y)"
   ]
  },
  {
   "cell_type": "code",
   "execution_count": 12,
   "metadata": {},
   "outputs": [
    {
     "data": {
      "text/plain": [
       "tensor([0.0957, 0.0957, 0.0957,  ..., 0.0957, 0.9043, 0.0957],\n",
       "       dtype=torch.float64)"
      ]
     },
     "execution_count": 12,
     "metadata": {},
     "output_type": "execute_result"
    }
   ],
   "source": [
    "sampler.weights"
   ]
  },
  {
   "cell_type": "code",
   "execution_count": 310,
   "metadata": {},
   "outputs": [
    {
     "data": {
      "text/plain": [
       "45228"
      ]
     },
     "execution_count": 310,
     "metadata": {},
     "output_type": "execute_result"
    }
   ],
   "source": [
    "train = torch.utils.data.ConcatDataset([train, valid])\n",
    "train_y = np.concatenate([d.y for d in train.datasets])\n",
    "sampler = weighted_sampler(train_y)\n",
    "len(sampler)"
   ]
  },
  {
   "cell_type": "markdown",
   "metadata": {},
   "source": [
    "## Model"
   ]
  },
  {
   "cell_type": "code",
   "execution_count": 8,
   "metadata": {},
   "outputs": [
    {
     "data": {
      "text/plain": [
       "<module 'mix' from '../src/mix.py'>"
      ]
     },
     "execution_count": 8,
     "metadata": {},
     "output_type": "execute_result"
    }
   ],
   "source": [
    "reload(models)\n",
    "reload(mix)"
   ]
  },
  {
   "cell_type": "code",
   "execution_count": 7,
   "metadata": {},
   "outputs": [
    {
     "data": {
      "application/vnd.jupyter.widget-view+json": {
       "model_id": "a5abdea6bfdb4164bef63a16a7f10937",
       "version_major": 2,
       "version_minor": 0
      },
      "text/plain": [
       "HBox(children=(FloatProgress(value=0.0, description='Downloading', max=2244861551.0, style=ProgressStyle(descr…"
      ]
     },
     "metadata": {},
     "output_type": "display_data"
    },
    {
     "name": "stdout",
     "output_type": "stream",
     "text": [
      "\n"
     ]
    }
   ],
   "source": [
    "backbone_name = 'xlm-roberta-large'\n",
    "# backbone = XLMRobertaModel(XLMRobertaConfig.from_pretrained(backbone_name))\n",
    "backbone = XLMRobertaModel.from_pretrained(backbone_name, output_hidden_states=False, num_labels=1)"
   ]
  },
  {
   "cell_type": "code",
   "execution_count": 24,
   "metadata": {},
   "outputs": [],
   "source": [
    "# to reload the module and not overload gpu\n",
    "del model"
   ]
  },
  {
   "cell_type": "code",
   "execution_count": 7,
   "metadata": {},
   "outputs": [
    {
     "data": {
      "text/plain": [
       "SimplePoolingHead(\n",
       "  (head): Linear(in_features=3072, out_features=2, bias=True)\n",
       "  (dropout): Dropout(p=0.5, inplace=False)\n",
       ")"
      ]
     },
     "execution_count": 7,
     "metadata": {},
     "output_type": "execute_result"
    }
   ],
   "source": [
    "\n",
    "\n",
    "# model = models.Model(backbone, mix=False, dropout=0.55)\n",
    "model = models.SimplePoolingHead(mix=mix.Mixup(), dropout=0.5)\n",
    "# model = models.TransformersPoolingHead(mix=mix.Mixup(), dropout=0.5, relu=True)\n",
    "# model = models.CustomPoolingHead(mix=mix.Cutmix(continuous=False), dropout=0.5)\n",
    "# model = models.CustomPoolingHead(in_features=3072, mix=mix.Mixup(), dropout=0.5)\n",
    "model"
   ]
  },
  {
   "cell_type": "markdown",
   "metadata": {},
   "source": [
    "## Feature extraction"
   ]
  },
  {
   "cell_type": "code",
   "execution_count": 8,
   "metadata": {},
   "outputs": [
    {
     "name": "stdout",
     "output_type": "stream",
     "text": [
      "INFO: Pandarallel will run on 2 workers.\n",
      "INFO: Pandarallel will use Memory file system to transfer data between the main process and workers.\n"
     ]
    },
    {
     "name": "stderr",
     "output_type": "stream",
     "text": [
      "[nltk_data] Downloading package punkt to\n",
      "[nltk_data]     /gpfs/hpc/home/papkov/nltk_data...\n",
      "[nltk_data]   Package punkt is already up-to-date!\n"
     ]
    },
    {
     "data": {
      "text/plain": [
       "<module 'preprocessing' from '../src/preprocessing.py'>"
      ]
     },
     "execution_count": 8,
     "metadata": {},
     "output_type": "execute_result"
    }
   ],
   "source": [
    "reload(preprocessing)"
   ]
  },
  {
   "cell_type": "code",
   "execution_count": 9,
   "metadata": {},
   "outputs": [
    {
     "name": "stderr",
     "output_type": "stream",
     "text": [
      "feature extraction: 100%|##########| 63/63 [04:13<00:00,  4.02s/it]\n"
     ]
    }
   ],
   "source": [
    "preprocessing.extract_roberta_features_to_file('../input/validation.npz', backbone=backbone, device=device)"
   ]
  },
  {
   "cell_type": "code",
   "execution_count": 145,
   "metadata": {},
   "outputs": [
    {
     "name": "stderr",
     "output_type": "stream",
     "text": [
      "feature extraction: 100%|##########| 63/63 [04:14<00:00,  4.03s/it]\n"
     ]
    }
   ],
   "source": [
    "preprocessing.extract_roberta_features_to_file('../input/jigsaw_miltilingual_valid_translated.npz', backbone=backbone, device=device)"
   ]
  },
  {
   "cell_type": "code",
   "execution_count": 10,
   "metadata": {},
   "outputs": [
    {
     "name": "stderr",
     "output_type": "stream",
     "text": [
      "feature extraction: 100%|##########| 499/499 [34:04<00:00,  4.10s/it]\n"
     ]
    }
   ],
   "source": [
    "preprocessing.extract_roberta_features_to_file('../input/test.npz', backbone=backbone, device=device)"
   ]
  },
  {
   "cell_type": "code",
   "execution_count": 9,
   "metadata": {},
   "outputs": [
    {
     "name": "stderr",
     "output_type": "stream",
     "text": [
      "feature extraction: 100%|##########| 63/63 [04:13<00:00,  4.02s/it]\n"
     ]
    }
   ],
   "source": [
    "preprocessing.extract_roberta_features_to_file('../input/jigsaw_miltilingual_test_translated.npz', backbone=backbone, device=device)"
   ]
  },
  {
   "cell_type": "code",
   "execution_count": 11,
   "metadata": {},
   "outputs": [
    {
     "name": "stderr",
     "output_type": "stream",
     "text": [
      "feature extraction: 100%|##########| 1747/1747 [1:58:03<00:00,  4.05s/it]\n"
     ]
    }
   ],
   "source": [
    "preprocessing.extract_roberta_features_to_file('../input/jigsaw-toxic-comment-train.npz', backbone=backbone, device=device, batch_size=128)"
   ]
  },
  {
   "cell_type": "code",
   "execution_count": 113,
   "metadata": {},
   "outputs": [
    {
     "name": "stderr",
     "output_type": "stream",
     "text": [
      "feature extraction:  21%|##        | 3065/14861 [3:26:57<13:17:12,  4.05s/it]IOPub message rate exceeded.\n",
      "The notebook server will temporarily stop sending output\n",
      "to the client in order to avoid crashing it.\n",
      "To change this limit, set the config variable\n",
      "`--NotebookApp.iopub_msg_rate_limit`.\n",
      "\n",
      "Current values:\n",
      "NotebookApp.iopub_msg_rate_limit=1000.0 (msgs/sec)\n",
      "NotebookApp.rate_limit_window=3.0 (secs)\n",
      "\n",
      "feature extraction: 100%|##########| 14861/14861 [16:47:01<00:00,  4.07s/it]  \n"
     ]
    }
   ],
   "source": [
    "preprocessing.extract_roberta_features_to_file('../input/jigsaw-unintended-bias-train.npz', backbone=backbone, device=device, batch_size=128)"
   ]
  },
  {
   "cell_type": "markdown",
   "metadata": {},
   "source": [
    "## Data loaders"
   ]
  },
  {
   "cell_type": "code",
   "execution_count": 8,
   "metadata": {},
   "outputs": [],
   "source": [
    "batch_size = 64\n",
    "num_workers = 8\n",
    "\n",
    "loader_train = D.DataLoader(train, \n",
    "                            sampler=train.weighted_sampler(), \n",
    "#                             sampler=sampler, \n",
    "#                             shuffle=True,\n",
    "                            batch_size=batch_size, num_workers=num_workers)\n",
    "loader_valid = D.DataLoader(valid, \n",
    "                            batch_size=batch_size, num_workers=num_workers)\n",
    "loader_test = D.DataLoader(test, \n",
    "                           batch_size=batch_size, num_workers=num_workers)"
   ]
  },
  {
   "cell_type": "code",
   "execution_count": 9,
   "metadata": {},
   "outputs": [
    {
     "data": {
      "text/plain": [
       "(669, 125, 998)"
      ]
     },
     "execution_count": 9,
     "metadata": {},
     "output_type": "execute_result"
    }
   ],
   "source": [
    "len(loader_train), len(loader_valid), len(loader_test)"
   ]
  },
  {
   "cell_type": "markdown",
   "metadata": {},
   "source": [
    "## Trainer"
   ]
  },
  {
   "cell_type": "code",
   "execution_count": 10,
   "metadata": {},
   "outputs": [
    {
     "data": {
      "text/plain": [
       "<module 'trainer' from '../src/trainer.py'>"
      ]
     },
     "execution_count": 10,
     "metadata": {},
     "output_type": "execute_result"
    }
   ],
   "source": [
    "reload(trainer)"
   ]
  },
  {
   "cell_type": "code",
   "execution_count": 11,
   "metadata": {},
   "outputs": [
    {
     "name": "stdout",
     "output_type": "stream",
     "text": [
      "Use automatic mixed precision at opt_level=O1\n",
      "Selected optimization level O1:  Insert automatic casts around Pytorch functions and Tensor methods.\n",
      "\n",
      "Defaults for this optimization level are:\n",
      "enabled                : True\n",
      "opt_level              : O1\n",
      "cast_model_type        : None\n",
      "patch_torch_functions  : True\n",
      "keep_batchnorm_fp32    : None\n",
      "master_weights         : None\n",
      "loss_scale             : dynamic\n",
      "Processing user overrides (additional kwargs that are not None)...\n",
      "After processing overrides, optimization options are:\n",
      "enabled                : True\n",
      "opt_level              : O1\n",
      "cast_model_type        : None\n",
      "patch_torch_functions  : True\n",
      "keep_batchnorm_fp32    : None\n",
      "master_weights         : None\n",
      "loss_scale             : dynamic\n"
     ]
    }
   ],
   "source": [
    "# we may optimize only head (with encoder pretrained)\n",
    "# optimizer = AdamW(model.head.parameters(), lr=1e-4)\n",
    "optimizer = AdamW(model.parameters(), lr=1e-4)\n",
    "# scheduler = torch.optim.lr_scheduler.CosineAnnealingWarmRestarts(optimizer, 4, T_mult=2, eta_min=0, last_epoch=-1)\n",
    "# criterion = trainer.FocalLoss(gamma=2)\n",
    "# criterion = trainer.DenseCrossEntropy(label_smoothing=0.1)\n",
    "# scheduler = get_linear_schedule_with_warmup(optimizer, 5, 5)\n",
    "\n",
    "trnr = trainer.Trainer('simple', model, \n",
    "                       loader_train, loader_valid, loader_test,\n",
    "                       epochs=20,\n",
    "                       monitor='val_loss',\n",
    "                       optimizer=optimizer,\n",
    "                       opt_level='O1',\n",
    "#                        criterion=criterion,\n",
    "#                        scheduler=scheduler,\n",
    "                      )"
   ]
  },
  {
   "cell_type": "markdown",
   "metadata": {},
   "source": [
    "## Training"
   ]
  },
  {
   "cell_type": "code",
   "execution_count": 12,
   "metadata": {},
   "outputs": [
    {
     "name": "stderr",
     "output_type": "stream",
     "text": [
      "ep. 0000 (lr 1.00e-04):   2%|2         | 15/669 [00:00<03:30,  3.10it/s, loss=0.761, acc=0.505]"
     ]
    },
    {
     "name": "stdout",
     "output_type": "stream",
     "text": [
      "Gradient overflow.  Skipping step, loss scaler 0 reducing loss scale to 32768.0\n",
      "Gradient overflow.  Skipping step, loss scaler 0 reducing loss scale to 16384.0\n",
      "Gradient overflow.  Skipping step, loss scaler 0 reducing loss scale to 8192.0\n",
      "Gradient overflow.  Skipping step, loss scaler 0 reducing loss scale to 4096.0\n"
     ]
    },
    {
     "name": "stderr",
     "output_type": "stream",
     "text": [
      "ep. 0000 (lr 1.00e-04): 100%|##########| 669/669 [00:05<00:00, 121.52it/s, loss=0.61, acc=0.682] \n",
      "/gpfs/hpc/home/papkov/.conda/envs/peenv36/lib/python3.7/site-packages/torch/optim/lr_scheduler.py:113: UserWarning: Seems like `optimizer.step()` has been overridden after learning rate scheduler initialization. Please, make sure to call `optimizer.step()` before `lr_scheduler.step()`. See more details at https://pytorch.org/docs/stable/optim.html#how-to-adjust-learning-rate\n",
      "  \"https://pytorch.org/docs/stable/optim.html#how-to-adjust-learning-rate\", UserWarning)\n",
      "valid: 100%|##########| 125/125 [00:00<00:00, 323.47it/s]\n"
     ]
    },
    {
     "name": "stdout",
     "output_type": "stream",
     "text": [
      "Epoch 0 complete. loss=0.5315, val_loss=0.6072, val_acc=0.6905, val_auc=0.8261\n",
      "Saved model to ../checkpoints//simple_last.pth\n"
     ]
    },
    {
     "name": "stderr",
     "output_type": "stream",
     "text": [
      "ep. 0001 (lr 9.94e-05): 100%|##########| 669/669 [00:12<00:00, 52.91it/s, loss=0.526, acc=0.78]  \n",
      "valid: 100%|##########| 125/125 [00:00<00:00, 281.41it/s]"
     ]
    },
    {
     "name": "stdout",
     "output_type": "stream",
     "text": [
      "Epoch 1 complete. loss=0.4529, val_loss=0.4931, val_acc=0.8300, val_auc=0.8634\n",
      "Saved model to ../checkpoints//simple.pth\n"
     ]
    },
    {
     "name": "stderr",
     "output_type": "stream",
     "text": [
      "\n",
      "ep. 0002 (lr 9.76e-05): 100%|##########| 669/669 [00:13<00:00, 49.95it/s, loss=0.49, acc=0.807] \n",
      "valid: 100%|##########| 125/125 [00:00<00:00, 252.33it/s]\n"
     ]
    },
    {
     "name": "stdout",
     "output_type": "stream",
     "text": [
      "Epoch 2 complete. loss=0.2879, val_loss=0.4436, val_acc=0.8532, val_auc=0.8753\n",
      "Saved model to ../checkpoints//simple.pth\n"
     ]
    },
    {
     "name": "stderr",
     "output_type": "stream",
     "text": [
      "ep. 0003 (lr 9.46e-05): 100%|##########| 669/669 [00:13<00:00, 50.85it/s, loss=0.472, acc=0.815]\n",
      "valid: 100%|##########| 125/125 [00:00<00:00, 268.79it/s]"
     ]
    },
    {
     "name": "stdout",
     "output_type": "stream",
     "text": [
      "Epoch 3 complete. loss=0.3663, val_loss=0.4149, val_acc=0.8656, val_auc=0.8862\n",
      "Saved model to ../checkpoints//simple.pth\n"
     ]
    },
    {
     "name": "stderr",
     "output_type": "stream",
     "text": [
      "\n",
      "ep. 0004 (lr 9.05e-05): 100%|##########| 669/669 [00:13<00:00, 49.11it/s, loss=0.461, acc=0.823]\n",
      "valid: 100%|##########| 125/125 [00:00<00:00, 262.07it/s]"
     ]
    },
    {
     "name": "stdout",
     "output_type": "stream",
     "text": [
      "Epoch 4 complete. loss=0.2656, val_loss=0.3834, val_acc=0.8746, val_auc=0.8900\n",
      "Saved model to ../checkpoints//simple.pth\n"
     ]
    },
    {
     "name": "stderr",
     "output_type": "stream",
     "text": [
      "\n",
      "ep. 0005 (lr 8.54e-05): 100%|##########| 669/669 [00:13<00:00, 50.41it/s, loss=0.452, acc=0.825]"
     ]
    },
    {
     "name": "stdout",
     "output_type": "stream",
     "text": [
      "Gradient overflow.  Skipping step, loss scaler 0 reducing loss scale to 8192.0\n"
     ]
    },
    {
     "name": "stderr",
     "output_type": "stream",
     "text": [
      "\n",
      "valid: 100%|##########| 125/125 [00:00<00:00, 265.45it/s]"
     ]
    },
    {
     "name": "stdout",
     "output_type": "stream",
     "text": [
      "Epoch 5 complete. loss=0.3956, val_loss=0.3441, val_acc=0.8804, val_auc=0.8915\n",
      "Saved model to ../checkpoints//simple.pth\n"
     ]
    },
    {
     "name": "stderr",
     "output_type": "stream",
     "text": [
      "\n",
      "ep. 0006 (lr 7.94e-05): 100%|##########| 669/669 [00:13<00:00, 50.68it/s, loss=0.447, acc=0.831]"
     ]
    },
    {
     "name": "stdout",
     "output_type": "stream",
     "text": [
      "Gradient overflow.  Skipping step, loss scaler 0 reducing loss scale to 4096.0\n"
     ]
    },
    {
     "name": "stderr",
     "output_type": "stream",
     "text": [
      "\n",
      "valid: 100%|##########| 125/125 [00:00<00:00, 214.42it/s]"
     ]
    },
    {
     "name": "stdout",
     "output_type": "stream",
     "text": [
      "Epoch 6 complete. loss=0.6938, val_loss=0.3374, val_acc=0.8804, val_auc=0.8935\n",
      "Saved model to ../checkpoints//simple.pth\n"
     ]
    },
    {
     "name": "stderr",
     "output_type": "stream",
     "text": [
      "\n",
      "ep. 0007 (lr 7.27e-05): 100%|##########| 669/669 [00:13<00:00, 50.34it/s, loss=0.443, acc=0.831]\n",
      "valid: 100%|##########| 125/125 [00:00<00:00, 260.88it/s]"
     ]
    },
    {
     "name": "stdout",
     "output_type": "stream",
     "text": [
      "Epoch 7 complete. loss=0.4939, val_loss=0.3163, val_acc=0.8800, val_auc=0.8936\n",
      "Saved model to ../checkpoints//simple.pth\n"
     ]
    },
    {
     "name": "stderr",
     "output_type": "stream",
     "text": [
      "\n",
      "ep. 0008 (lr 6.55e-05): 100%|##########| 669/669 [00:13<00:00, 50.92it/s, loss=0.438, acc=0.833]\n",
      "valid: 100%|##########| 125/125 [00:00<00:00, 252.57it/s]\n"
     ]
    },
    {
     "name": "stdout",
     "output_type": "stream",
     "text": [
      "Epoch 8 complete. loss=0.4492, val_loss=0.3190, val_acc=0.8820, val_auc=0.8954\n",
      "Saved model to ../checkpoints//simple_last.pth\n"
     ]
    },
    {
     "name": "stderr",
     "output_type": "stream",
     "text": [
      "ep. 0009 (lr 5.78e-05): 100%|##########| 669/669 [00:13<00:00, 49.53it/s, loss=0.436, acc=0.833]\n",
      "valid: 100%|##########| 125/125 [00:00<00:00, 250.12it/s]\n"
     ]
    },
    {
     "name": "stdout",
     "output_type": "stream",
     "text": [
      "Epoch 9 complete. loss=0.4936, val_loss=0.3178, val_acc=0.8805, val_auc=0.8949\n",
      "Saved model to ../checkpoints//simple_last.pth\n"
     ]
    },
    {
     "name": "stderr",
     "output_type": "stream",
     "text": [
      "ep. 0010 (lr 5.00e-05): 100%|##########| 669/669 [00:13<00:00, 50.04it/s, loss=0.439, acc=0.833]\n",
      "valid: 100%|##########| 125/125 [00:00<00:00, 257.16it/s]"
     ]
    },
    {
     "name": "stdout",
     "output_type": "stream",
     "text": [
      "Epoch 10 complete. loss=0.2663, val_loss=0.3196, val_acc=0.8831, val_auc=0.8985\n",
      "Saved model to ../checkpoints//simple_last.pth\n"
     ]
    },
    {
     "name": "stderr",
     "output_type": "stream",
     "text": [
      "\n",
      "ep. 0011 (lr 4.22e-05): 100%|##########| 669/669 [00:13<00:00, 48.80it/s, loss=0.438, acc=0.834]\n",
      "valid: 100%|##########| 125/125 [00:00<00:00, 236.71it/s]"
     ]
    },
    {
     "name": "stdout",
     "output_type": "stream",
     "text": [
      "Epoch 11 complete. loss=0.4614, val_loss=0.3085, val_acc=0.8840, val_auc=0.8974\n",
      "Saved model to ../checkpoints//simple.pth\n"
     ]
    },
    {
     "name": "stderr",
     "output_type": "stream",
     "text": [
      "\n",
      "ep. 0012 (lr 3.45e-05): 100%|##########| 669/669 [00:13<00:00, 48.56it/s, loss=0.432, acc=0.833]"
     ]
    },
    {
     "name": "stdout",
     "output_type": "stream",
     "text": [
      "Gradient overflow.  Skipping step, loss scaler 0 reducing loss scale to 8192.0\n"
     ]
    },
    {
     "name": "stderr",
     "output_type": "stream",
     "text": [
      "\n",
      "valid: 100%|##########| 125/125 [00:00<00:00, 265.71it/s]"
     ]
    },
    {
     "name": "stdout",
     "output_type": "stream",
     "text": [
      "Epoch 12 complete. loss=0.3723, val_loss=0.3125, val_acc=0.8821, val_auc=0.8974\n",
      "Saved model to ../checkpoints//simple_last.pth\n"
     ]
    },
    {
     "name": "stderr",
     "output_type": "stream",
     "text": [
      "\n",
      "ep. 0013 (lr 2.73e-05): 100%|##########| 669/669 [00:13<00:00, 50.57it/s, loss=0.432, acc=0.836]\n",
      "valid: 100%|##########| 125/125 [00:00<00:00, 259.89it/s]"
     ]
    },
    {
     "name": "stdout",
     "output_type": "stream",
     "text": [
      "Epoch 13 complete. loss=0.2774, val_loss=0.3155, val_acc=0.8835, val_auc=0.8992\n",
      "Saved model to ../checkpoints//simple_last.pth\n"
     ]
    },
    {
     "name": "stderr",
     "output_type": "stream",
     "text": [
      "\n",
      "ep. 0014 (lr 2.06e-05): 100%|##########| 669/669 [00:13<00:00, 48.21it/s, loss=0.432, acc=0.838]\n",
      "valid: 100%|##########| 125/125 [00:00<00:00, 255.81it/s]"
     ]
    },
    {
     "name": "stdout",
     "output_type": "stream",
     "text": [
      "Epoch 14 complete. loss=0.5011, val_loss=0.3119, val_acc=0.8826, val_auc=0.8991\n",
      "Saved model to ../checkpoints//simple_last.pth\n"
     ]
    },
    {
     "name": "stderr",
     "output_type": "stream",
     "text": [
      "\n",
      "ep. 0015 (lr 1.46e-05): 100%|##########| 669/669 [00:13<00:00, 47.83it/s, loss=0.429, acc=0.839]"
     ]
    },
    {
     "name": "stdout",
     "output_type": "stream",
     "text": [
      "Gradient overflow.  Skipping step, loss scaler 0 reducing loss scale to 8192.0\n"
     ]
    },
    {
     "name": "stderr",
     "output_type": "stream",
     "text": [
      "\n",
      "valid: 100%|##########| 125/125 [00:00<00:00, 260.70it/s]"
     ]
    },
    {
     "name": "stdout",
     "output_type": "stream",
     "text": [
      "Epoch 15 complete. loss=0.5121, val_loss=0.3044, val_acc=0.8841, val_auc=0.8984\n",
      "Saved model to ../checkpoints//simple.pth\n"
     ]
    },
    {
     "name": "stderr",
     "output_type": "stream",
     "text": [
      "\n",
      "ep. 0016 (lr 9.55e-06): 100%|##########| 669/669 [00:13<00:00, 51.24it/s, loss=0.432, acc=0.837]\n",
      "valid: 100%|##########| 125/125 [00:00<00:00, 232.27it/s]"
     ]
    },
    {
     "name": "stdout",
     "output_type": "stream",
     "text": [
      "Epoch 16 complete. loss=0.5833, val_loss=0.3085, val_acc=0.8834, val_auc=0.8987\n",
      "Saved model to ../checkpoints//simple_last.pth\n"
     ]
    },
    {
     "name": "stderr",
     "output_type": "stream",
     "text": [
      "\n",
      "ep. 0017 (lr 5.45e-06): 100%|##########| 669/669 [00:13<00:00, 49.19it/s, loss=0.429, acc=0.84] \n",
      "valid: 100%|##########| 125/125 [00:00<00:00, 276.21it/s]"
     ]
    },
    {
     "name": "stdout",
     "output_type": "stream",
     "text": [
      "Epoch 17 complete. loss=0.3380, val_loss=0.3085, val_acc=0.8831, val_auc=0.8992\n",
      "Saved model to ../checkpoints//simple_last.pth\n"
     ]
    },
    {
     "name": "stderr",
     "output_type": "stream",
     "text": [
      "\n",
      "ep. 0018 (lr 2.45e-06): 100%|##########| 669/669 [00:11<00:00, 60.22it/s, loss=0.431, acc=0.836] \n",
      "valid: 100%|##########| 125/125 [00:00<00:00, 267.12it/s]"
     ]
    },
    {
     "name": "stdout",
     "output_type": "stream",
     "text": [
      "Epoch 18 complete. loss=0.3478, val_loss=0.3090, val_acc=0.8832, val_auc=0.8995\n",
      "Saved model to ../checkpoints//simple_last.pth\n"
     ]
    },
    {
     "name": "stderr",
     "output_type": "stream",
     "text": [
      "\n",
      "ep. 0019 (lr 6.16e-07):   1%|1         | 9/669 [00:00<00:21, 30.34it/s, loss=0.434, acc=0.838]"
     ]
    },
    {
     "name": "stdout",
     "output_type": "stream",
     "text": [
      "Gradient overflow.  Skipping step, loss scaler 0 reducing loss scale to 8192.0\n"
     ]
    },
    {
     "name": "stderr",
     "output_type": "stream",
     "text": [
      "ep. 0019 (lr 6.16e-07): 100%|##########| 669/669 [00:07<00:00, 85.05it/s, loss=0.43, acc=0.836]  \n",
      "valid: 100%|##########| 125/125 [00:00<00:00, 266.31it/s]"
     ]
    },
    {
     "name": "stdout",
     "output_type": "stream",
     "text": [
      "Epoch 19 complete. loss=0.3339, val_loss=0.3083, val_acc=0.8835, val_auc=0.8995\n",
      "Saved model to ../checkpoints//simple_last.pth\n"
     ]
    },
    {
     "name": "stderr",
     "output_type": "stream",
     "text": [
      "\n"
     ]
    }
   ],
   "source": [
    "trnr.fit()"
   ]
  },
  {
   "cell_type": "markdown",
   "metadata": {},
   "source": [
    "## Prediction"
   ]
  },
  {
   "cell_type": "code",
   "execution_count": 21,
   "metadata": {
    "scrolled": true
   },
   "outputs": [
    {
     "name": "stdout",
     "output_type": "stream",
     "text": [
      "Load state in automatic mixed precision mode at opt_level=O1\n",
      "Loaded model from ../checkpoints//custom_head_bn_bias=False_O1.pth\n",
      "epoch 19, loss: 0.4936val_loss: 0.2795val_acc: 0.8756val_auc: 0.9041\n"
     ]
    }
   ],
   "source": [
    "trnr.load_checkpoint()"
   ]
  },
  {
   "cell_type": "code",
   "execution_count": 22,
   "metadata": {
    "scrolled": true
   },
   "outputs": [
    {
     "name": "stderr",
     "output_type": "stream",
     "text": [
      "valid: 100%|##########| 125/125 [00:00<00:00, 181.50it/s]\n"
     ]
    }
   ],
   "source": [
    "pred, loss, acc, auc = trnr.validate()"
   ]
  },
  {
   "cell_type": "code",
   "execution_count": 294,
   "metadata": {},
   "outputs": [
    {
     "data": {
      "text/plain": [
       "array([0.11696827, 0.08446362, 0.09727458, 0.03982643, 0.1031474 ],\n",
       "      dtype=float32)"
      ]
     },
     "execution_count": 294,
     "metadata": {},
     "output_type": "execute_result"
    }
   ],
   "source": [
    "smpred = softmax(pred / 1, 1)[:,1]\n",
    "smpred[:5]"
   ]
  },
  {
   "cell_type": "code",
   "execution_count": 295,
   "metadata": {},
   "outputs": [
    {
     "name": "stdout",
     "output_type": "stream",
     "text": [
      "all: acc 0.8832, auc 0.9042\n",
      "\n",
      "es: acc 0.8704, auc 0.8793\n",
      "it: acc 0.8508, auc 0.8632\n",
      "tr: acc 0.9210, auc 0.9622\n"
     ]
    }
   ],
   "source": [
    "acc = accuracy_score(valid.y, np.round(smpred))\n",
    "auc = roc_auc_score(valid.y, smpred)\n",
    "print(f'all: acc {acc:.4f}, auc {auc:.4f}\\n')\n",
    "\n",
    "for lang in ['es', 'it', 'tr']:\n",
    "    mask = valid.dataset['lang'] == lang\n",
    "    acc = accuracy_score(valid.y[mask], np.round(smpred[mask]))\n",
    "    auc = roc_auc_score(valid.y[mask], smpred[mask])\n",
    "    print(f'{lang}: acc {acc:.4f}, auc {auc:.4f}')\n",
    "    "
   ]
  },
  {
   "cell_type": "code",
   "execution_count": 305,
   "metadata": {},
   "outputs": [
    {
     "data": {
      "image/png": "[encoded data removed]",
      "text/plain": [
       "<Figure size 432x288 with 1 Axes>"
      ]
     },
     "metadata": {
      "needs_background": "light"
     },
     "output_type": "display_data"
    }
   ],
   "source": [
    "plt.plot(*calibration_curve(valid.y, smpred), 's-')\n",
    "plt.title('Calibration plot')\n",
    "plt.show()"
   ]
  },
  {
   "cell_type": "code",
   "execution_count": 299,
   "metadata": {},
   "outputs": [
    {
     "data": {
      "image/png": "[encoded data removed]",
      "text/plain": [
       "<Figure size 432x288 with 1 Axes>"
      ]
     },
     "metadata": {
      "needs_background": "light"
     },
     "output_type": "display_data"
    }
   ],
   "source": [
    "fig, ax = plt.subplots()\n",
    "\n",
    "sns.distplot(smpred[valid.y == 0], ax=ax, label='non-toxic')\n",
    "sns.distplot(smpred[valid.y == 1], ax=ax, label='toxic')\n",
    "plt.legend()\n",
    "plt.title('Score distribution')\n",
    "plt.show()"
   ]
  },
  {
   "cell_type": "code",
   "execution_count": 240,
   "metadata": {},
   "outputs": [
    {
     "name": "stdout",
     "output_type": "stream",
     "text": [
      "es: acc 0.8696, auc 0.8733\n",
      "it: acc 0.8528, auc 0.8532\n",
      "tr: acc 0.9167, auc 0.9672\n"
     ]
    }
   ],
   "source": [
    "for lang in ['es', 'it', 'tr']:\n",
    "    mask = valid.dataset['lang'] == lang\n",
    "    acc = accuracy_score(valid.y[mask], np.round(pred[mask]))\n",
    "    auc = roc_auc_score(valid.y[mask], pred[mask])\n",
    "    print(f'{lang}: acc {acc:.4f}, auc {auc:.4f}')"
   ]
  },
  {
   "cell_type": "code",
   "execution_count": 19,
   "metadata": {
    "scrolled": true
   },
   "outputs": [
    {
     "name": "stderr",
     "output_type": "stream",
     "text": [
      "test: 100%|##########| 31906/31906 [38:58<00:00, 13.65it/s]\n"
     ]
    }
   ],
   "source": [
    "pred, loss, acc = trnr.test()"
   ]
  },
  {
   "cell_type": "markdown",
   "metadata": {},
   "source": [
    "## Full model training"
   ]
  },
  {
   "cell_type": "code",
   "execution_count": 2,
   "metadata": {},
   "outputs": [
    {
     "data": {
      "text/plain": [
       "<module 'transforms' from '../src/transforms.py'>"
      ]
     },
     "execution_count": 2,
     "metadata": {},
     "output_type": "execute_result"
    }
   ],
   "source": [
    "reload(dataset)\n",
    "reload(transforms)"
   ]
  },
  {
   "cell_type": "code",
   "execution_count": 2,
   "metadata": {},
   "outputs": [],
   "source": [
    "backbone_name = 'xlm-roberta-large'"
   ]
  },
  {
   "cell_type": "markdown",
   "metadata": {},
   "source": [
    "Datasets"
   ]
  },
  {
   "cell_type": "code",
   "execution_count": 3,
   "metadata": {},
   "outputs": [],
   "source": [
    "max_length = 256\n",
    "\n",
    "valid = dataset.TokenizerDataset('../input/jigsaw_miltilingual_valid_translated.csv', max_length=max_length,\n",
    "                                 tokenizer_name=backbone_name, text_column='comment_text')\n",
    "test = dataset.TokenizerDataset('../input/jigsaw_miltilingual_test_translated.csv',  max_length=max_length,\n",
    "                                tokenizer_name=backbone_name, text_column='content')\n",
    "\n",
    "train_transforms = [transforms.ShuffleSentences(p=0.2),\n",
    "                    transforms.SwapWords(p=0.5, swap_p=0.1),\n",
    "                    transforms.DropWords(p=0.5, drop_p=0.05),\n",
    "                    ]\n",
    "\n",
    "train = dataset.TokenizerDataset('../input/jigsaw-toxic-comment-train.csv', max_length=max_length,\n",
    "                                 tokenizer_name=backbone_name, transforms=train_transforms)\n",
    "train_ub = dataset.TokenizerDataset('../input/jigsaw-unintended-bias-train.csv', max_length=max_length, \n",
    "                                    tokenizer_name=backbone_name, transforms=train_transforms)\n",
    "train = dataset.ConcatDataset([train, train_ub])"
   ]
  },
  {
   "cell_type": "code",
   "execution_count": 4,
   "metadata": {},
   "outputs": [
    {
     "data": {
      "text/plain": [
       "(89074, 1000, 7977)"
      ]
     },
     "execution_count": 4,
     "metadata": {},
     "output_type": "execute_result"
    }
   ],
   "source": [
    "batch_size = 3\n",
    "batch_size_val = 8\n",
    "num_workers = 8\n",
    "\n",
    "loader_train = D.DataLoader(train, \n",
    "                            sampler=train.weighted_sampler(), \n",
    "                            batch_size=batch_size, num_workers=num_workers)\n",
    "loader_valid = D.DataLoader(valid, \n",
    "                            batch_size=batch_size_val, num_workers=num_workers)\n",
    "loader_test = D.DataLoader(test, \n",
    "                           batch_size=batch_size_val, num_workers=num_workers)\n",
    "\n",
    "len(loader_train), len(loader_valid), len(loader_test)"
   ]
  },
  {
   "cell_type": "code",
   "execution_count": 5,
   "metadata": {},
   "outputs": [
    {
     "data": {
      "text/plain": [
       "<module 'models' from '../src/models.py'>"
      ]
     },
     "execution_count": 5,
     "metadata": {},
     "output_type": "execute_result"
    }
   ],
   "source": [
    "reload(models)"
   ]
  },
  {
   "cell_type": "code",
   "execution_count": 6,
   "metadata": {},
   "outputs": [],
   "source": [
    "head = models.SimplePoolingHead(in_features=3072, mix=mix.Mixup(), dropout=0.5)"
   ]
  },
  {
   "cell_type": "code",
   "execution_count": 7,
   "metadata": {},
   "outputs": [],
   "source": [
    "backbone = XLMRobertaModel.from_pretrained(backbone_name, output_hidden_states=False, num_labels=1)"
   ]
  },
  {
   "cell_type": "code",
   "execution_count": 8,
   "metadata": {},
   "outputs": [
    {
     "data": {
      "text/plain": [
       "<All keys matched successfully>"
      ]
     },
     "execution_count": 8,
     "metadata": {},
     "output_type": "execute_result"
    }
   ],
   "source": [
    "# Load pretrained head\n",
    "head_cp = '../checkpoints/simple.pth'\n",
    "head.load_state_dict(torch.load(head_cp, map_location='cpu')['model'])"
   ]
  },
  {
   "cell_type": "code",
   "execution_count": 8,
   "metadata": {},
   "outputs": [],
   "source": [
    "model = models.Model(backbone=backbone, head=head)"
   ]
  },
  {
   "cell_type": "code",
   "execution_count": 9,
   "metadata": {},
   "outputs": [
    {
     "data": {
      "text/plain": [
       "<module 'trainer' from '../src/trainer.py'>"
      ]
     },
     "execution_count": 9,
     "metadata": {},
     "output_type": "execute_result"
    }
   ],
   "source": [
    "reload(trainer)"
   ]
  },
  {
   "cell_type": "code",
   "execution_count": 10,
   "metadata": {},
   "outputs": [],
   "source": [
    "optimizer = AdamW(model.parameters(), lr=1e-6)\n",
    "\n",
    "trnr = trainer.Trainer('roberta_simple_head_ub', model, \n",
    "                       loader_train, loader_valid, loader_test,\n",
    "                       epochs=10,\n",
    "                       monitor='val_loss',\n",
    "                       optimizer=optimizer,\n",
    "                       gradient_accumulation=16,\n",
    "#                        opt_level='O1',\n",
    "                      )"
   ]
  },
  {
   "cell_type": "code",
   "execution_count": 11,
   "metadata": {},
   "outputs": [
    {
     "name": "stdout",
     "output_type": "stream",
     "text": [
      "Loaded model from ../checkpoints/roberta_simple_head.pth\n",
      "epoch 1, loss: 0.0328 val_loss: 0.2469 val_acc: 0.8912 val_auc: 0.9279 \n"
     ]
    }
   ],
   "source": [
    "trnr.load_checkpoint('../checkpoints/roberta_simple_head.pth', ignore=['scheduler'])"
   ]
  },
  {
   "cell_type": "code",
   "execution_count": 12,
   "metadata": {},
   "outputs": [],
   "source": [
    "for param_group in trnr.optimizer.param_groups:\n",
    "    param_group['lr'] = 1e-6"
   ]
  },
  {
   "cell_type": "code",
   "execution_count": null,
   "metadata": {},
   "outputs": [
    {
     "name": "stderr",
     "output_type": "stream",
     "text": [
      "ep. 0000 (lr 1.00e-06):   2%|2         | 1872/89074 [10:47<8:27:45,  2.86it/s, loss=0.386, acc=0.828] "
     ]
    }
   ],
   "source": [
    "trnr.fit()"
   ]
  },
  {
   "cell_type": "markdown",
   "metadata": {},
   "source": [
    "Validate"
   ]
  },
  {
   "cell_type": "code",
   "execution_count": 25,
   "metadata": {},
   "outputs": [
    {
     "data": {
      "text/plain": [
       "[0.9259574161472782, 0.9279267692233791, 0.929378054784979]"
      ]
     },
     "execution_count": 25,
     "metadata": {},
     "output_type": "execute_result"
    }
   ],
   "source": [
    "trnr.meters['val_auc'].history"
   ]
  },
  {
   "cell_type": "code",
   "execution_count": null,
   "metadata": {
    "scrolled": true
   },
   "outputs": [],
   "source": [
    "trnr.load_checkpoint()"
   ]
  },
  {
   "cell_type": "code",
   "execution_count": 67,
   "metadata": {},
   "outputs": [
    {
     "data": {
      "text/plain": [
       "<module 'dataset' from '../src/dataset.py'>"
      ]
     },
     "execution_count": 67,
     "metadata": {},
     "output_type": "execute_result"
    }
   ],
   "source": [
    "reload(dataset)"
   ]
  },
  {
   "cell_type": "code",
   "execution_count": 68,
   "metadata": {},
   "outputs": [],
   "source": [
    "valid = dataset.TokenizerDataset('../input/jigsaw_miltilingual_valid_translated.csv', \n",
    "                                 tokenizer_name=backbone_name, text_column='translated')\n",
    "loader_valid = D.DataLoader(valid, batch_size=8, num_workers=num_workers)"
   ]
  },
  {
   "cell_type": "code",
   "execution_count": 49,
   "metadata": {},
   "outputs": [],
   "source": [
    "trnr.loader_valid = loader_valid"
   ]
  },
  {
   "cell_type": "code",
   "execution_count": 50,
   "metadata": {
    "scrolled": false
   },
   "outputs": [
    {
     "name": "stderr",
     "output_type": "stream",
     "text": [
      "valid: 100%|##########| 1000/1000 [04:27<00:00,  3.73it/s]\n"
     ]
    }
   ],
   "source": [
    "pred, loss, acc, auc = trnr.validate()"
   ]
  },
  {
   "cell_type": "code",
   "execution_count": 28,
   "metadata": {},
   "outputs": [
    {
     "data": {
      "text/plain": [
       "array([0.25817168, 0.04423533, 0.4333852 , 0.02166644, 0.05889589],\n",
       "      dtype=float32)"
      ]
     },
     "execution_count": 28,
     "metadata": {},
     "output_type": "execute_result"
    }
   ],
   "source": [
    "smpred = softmax(pred / 1, 1)[:,1]\n",
    "smpred[:5]"
   ]
  },
  {
   "cell_type": "code",
   "execution_count": 51,
   "metadata": {},
   "outputs": [
    {
     "data": {
      "text/plain": [
       "array([0.22302572, 0.02749701, 0.4935527 , 0.03099989, 0.13124225],\n",
       "      dtype=float32)"
      ]
     },
     "execution_count": 51,
     "metadata": {},
     "output_type": "execute_result"
    }
   ],
   "source": [
    "smpred_translated = softmax(pred / 1, 1)[:,1]\n",
    "smpred_translated[:5]"
   ]
  },
  {
   "cell_type": "code",
   "execution_count": 79,
   "metadata": {},
   "outputs": [],
   "source": [
    "def prediction_analysis(smpred):\n",
    "    acc = accuracy_score(valid.y, np.round(smpred))\n",
    "    auc = roc_auc_score(valid.y, smpred)\n",
    "    print(f'    acc {acc:.4f}, auc {auc:.4f}\\n')\n",
    "\n",
    "    for lang in ['es', 'it', 'tr']:\n",
    "        mask = valid.dataset['lang'] == lang\n",
    "        acc = accuracy_score(valid.y[mask], np.round(smpred[mask]))\n",
    "        auc = roc_auc_score(valid.y[mask], smpred[mask])\n",
    "        print(f'{lang}: acc {acc:.4f}, auc {auc:.4f}')\n",
    "        \n",
    "    fig, ax = plt.subplots(ncols=2, figsize=(7,3))\n",
    "    \n",
    "    ax[0].set_title('Score distribution')\n",
    "    sns.distplot(smpred[valid.y == 0], ax=ax[0], label='non-toxic')\n",
    "    sns.distplot(smpred[valid.y == 1], ax=ax[0], label='toxic')\n",
    "    ax[0].legend()\n",
    "    \n",
    "    ax[1].set_title('Calibration plot')\n",
    "    ax[1].plot(*calibration_curve(valid.dataset['toxic'], smpred), 's-')\n",
    "    plt.show()"
   ]
  },
  {
   "cell_type": "code",
   "execution_count": 80,
   "metadata": {},
   "outputs": [
    {
     "name": "stdout",
     "output_type": "stream",
     "text": [
      "    acc 0.8912, auc 0.9279\n",
      "\n",
      "es: acc 0.8788, auc 0.9213\n",
      "it: acc 0.8640, auc 0.9071\n",
      "tr: acc 0.9243, auc 0.9837\n"
     ]
    },
    {
     "data": {
      "image/png": "[encoded data removed]",
      "text/plain": [
       "<Figure size 504x216 with 2 Axes>"
      ]
     },
     "metadata": {
      "needs_background": "light"
     },
     "output_type": "display_data"
    }
   ],
   "source": [
    "prediction_analysis(smpred)"
   ]
  },
  {
   "cell_type": "code",
   "execution_count": 81,
   "metadata": {},
   "outputs": [
    {
     "name": "stdout",
     "output_type": "stream",
     "text": [
      "    acc 0.8816, auc 0.9255\n",
      "\n",
      "es: acc 0.8392, auc 0.9026\n",
      "it: acc 0.8344, auc 0.8849\n",
      "tr: acc 0.9563, auc 0.9820\n"
     ]
    },
    {
     "data": {
      "image/png": "[encoded data removed]",
      "text/plain": [
       "<Figure size 504x216 with 2 Axes>"
      ]
     },
     "metadata": {
      "needs_background": "light"
     },
     "output_type": "display_data"
    }
   ],
   "source": [
    "prediction_analysis(smpred_translated)"
   ]
  },
  {
   "cell_type": "code",
   "execution_count": 82,
   "metadata": {},
   "outputs": [
    {
     "name": "stdout",
     "output_type": "stream",
     "text": [
      "    acc 0.8929, auc 0.9346\n",
      "\n",
      "es: acc 0.8664, auc 0.9194\n",
      "it: acc 0.8616, auc 0.9069\n",
      "tr: acc 0.9410, auc 0.9869\n"
     ]
    },
    {
     "data": {
      "image/png": "[encoded data removed]",
      "text/plain": [
       "<Figure size 504x216 with 2 Axes>"
      ]
     },
     "metadata": {
      "needs_background": "light"
     },
     "output_type": "display_data"
    }
   ],
   "source": [
    "alpha = 0.6\n",
    "prediction_analysis(smpred_translated * (1-alpha) + smpred * alpha )"
   ]
  }
 ],
 "metadata": {
  "kernelspec": {
   "display_name": "peenv (conda)",
   "language": "python",
   "name": "peenv36"
  },
  "language_info": {
   "codemirror_mode": {
    "name": "ipython",
    "version": 3
   },
   "file_extension": ".py",
   "mimetype": "text/x-python",
   "name": "python",
   "nbconvert_exporter": "python",
   "pygments_lexer": "ipython3",
   "version": "3.7.4"
  }
 },
 "nbformat": 4,
 "nbformat_minor": 2
}
