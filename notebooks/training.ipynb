{
 "cells": [
  {
   "cell_type": "code",
   "execution_count": 1,
   "metadata": {},
   "outputs": [
    {
     "name": "stderr",
     "output_type": "stream",
     "text": [
      "[nltk_data] Downloading package punkt to\n",
      "[nltk_data]     /gpfs/hpc/home/papkov/nltk_data...\n",
      "[nltk_data]   Package punkt is already up-to-date!\n"
     ]
    },
    {
     "name": "stdout",
     "output_type": "stream",
     "text": [
      "INFO: Pandarallel will run on 2 workers.\n",
      "INFO: Pandarallel will use Memory file system to transfer data between the main process and workers.\n",
      "use cuda\n"
     ]
    }
   ],
   "source": [
    "import os\n",
    "import sys\n",
    "from importlib import reload\n",
    "\n",
    "import pandas as pd\n",
    "import numpy as np\n",
    "\n",
    "import matplotlib.pyplot as plt\n",
    "import seaborn as sns\n",
    "import tqdm\n",
    "\n",
    "import torch\n",
    "from torch.utils import data as D\n",
    "# mixed precision\n",
    "from apex import amp\n",
    "\n",
    "# Local imports\n",
    "sys.path.append('../src')\n",
    "import dataset\n",
    "import trainer\n",
    "import models\n",
    "import utils\n",
    "import preprocessing\n",
    "import mix\n",
    "import transforms\n",
    "\n",
    "# Transformers\n",
    "import transformers\n",
    "from transformers import XLMRobertaModel, XLMRobertaTokenizer, XLMRobertaConfig\n",
    "from transformers import AdamW, get_linear_schedule_with_warmup, get_constant_schedule\n",
    "\n",
    "# Prediction analysis\n",
    "from sklearn.metrics import roc_auc_score, accuracy_score\n",
    "from scipy.special import softmax\n",
    "from sklearn.calibration import calibration_curve\n",
    "\n",
    "# Setup device\n",
    "os.environ['CUDA_VISIBLE_DEVICES'] = '0'\n",
    "device = 'cuda' if torch.cuda.is_available() else 'cpu'\n",
    "\n",
    "# Seed \n",
    "util.seed_everything()\n",
    "\n",
    "print('use', device)"
   ]
  },
  {
   "cell_type": "markdown",
   "metadata": {},
   "source": [
    "# Full model training"
   ]
  },
  {
   "cell_type": "code",
   "execution_count": 2,
   "metadata": {},
   "outputs": [
    {
     "data": {
      "text/plain": [
       "<module 'transforms' from '../src/transforms.py'>"
      ]
     },
     "execution_count": 2,
     "metadata": {},
     "output_type": "execute_result"
    }
   ],
   "source": [
    "reload(dataset)\n",
    "reload(transforms)"
   ]
  },
  {
   "cell_type": "code",
   "execution_count": 3,
   "metadata": {},
   "outputs": [],
   "source": [
    "backbone_name = 'xlm-roberta-large'"
   ]
  },
  {
   "cell_type": "markdown",
   "metadata": {},
   "source": [
    "## Datasets"
   ]
  },
  {
   "cell_type": "code",
   "execution_count": 4,
   "metadata": {},
   "outputs": [],
   "source": [
    "from transformers import AutoTokenizer, XLMRobertaTokenizer, XLMRobertaConfig\n",
    "tokenizer = AutoTokenizer.from_pretrained(backbone_name)"
   ]
  },
  {
   "cell_type": "code",
   "execution_count": 5,
   "metadata": {},
   "outputs": [],
   "source": [
    "batch_size = 8\n",
    "batch_size_val = 8\n",
    "num_workers = 8\n",
    "max_length = 256\n",
    "# max_length = 512"
   ]
  },
  {
   "cell_type": "code",
   "execution_count": 6,
   "metadata": {},
   "outputs": [],
   "source": [
    "util.seed_everything()\n",
    "clean = False\n",
    "\n",
    "valid = dataset.TokenizerDataset('../input/jigsaw_miltilingual_valid_translated.csv', max_length=max_length, \n",
    "                                 clean=clean,\n",
    "                                 tokenizer=tokenizer, text_column='comment_text')\n",
    "test = dataset.TokenizerDataset('../input/jigsaw_miltilingual_test_translated.csv', max_length=max_length,\n",
    "                                clean=clean,\n",
    "                                tokenizer=tokenizer, text_column='content')\n",
    "\n",
    "train_transforms = [\n",
    "#                     transforms.ShuffleSentences(p=0.5),\n",
    "#                     transforms.PickRandomSentence(p=0.5),\n",
    "#                     transforms.SwapWords(p=0.5, swap_p=0.1),\n",
    "#                     transforms.DropWords(p=0.5, drop_p=0.05),\n",
    "                    ]\n",
    "\n",
    "# train = dataset.TokenizerDataset('../input/jigsaw-toxic-comment-train.csv', max_length=max_length,\n",
    "#                                  tokenizer=tokenizer, transforms=train_transforms)\n",
    "# train_ub = dataset.TokenizerDataset('../input/jigsaw-unintended-bias-train.csv', max_length=max_length, \n",
    "#                                     tokenizer=tokenizer, transforms=train_transforms)\n",
    "# train = dataset.ConcatDataset([train, train_ub])\n",
    "\n",
    "# train = dataset.MultilingualTrainTokenizerDataset(path_pattern='../input/multilingual-train-ludovick/jigsaw-toxic-comment-train_{}_clean.csv',\n",
    "train = dataset.MultilingualTrainTokenizerDataset(path_pattern='../input/multilingual-train/jigsaw-toxic-comment-train-google-{}-cleaned.csv',\n",
    "                                                  langs=['es', 'tr', 'ru', 'fr', 'it', 'pt', 'en'],\n",
    "                                                  filter_bad=False,\n",
    "                                                  filter_short=0,\n",
    "                                                  lang_batch_sample=0,\n",
    "#                                                   p_en=0.5,\n",
    "#                                                   filter_long=1000,\n",
    "                                                  clean=clean,\n",
    "                                                  max_length=max_length, tokenizer=tokenizer, transforms=train_transforms)\n",
    "\n",
    "# valid_ml = dataset.MultilingualTrainTokenizerDataset(path_pattern='../input/multilingual-train-ludovick/validation_{}.csv',\n",
    "#                                                      langs=['es', 'tr', 'ru', 'fr', 'it', 'pt', 'en'],\n",
    "#                                                      remove_lang=valid.dataset.lang,\n",
    "#                                                      p_en=1/6,\n",
    "#                                                      clean=True,\n",
    "#                                                      max_length=max_length, tokenizer=tokenizer, transforms=train_transforms)\n",
    "# train = dataset.ConcatDataset([train, valid_ml])\n",
    "# train_ub = dataset.MultilingualTrainTokenizerDataset(path_pattern='../input/multilingual-train-ludovick/jigsaw-unintended-bias-train_{}_clean.csv',\n",
    "#                                                      max_length=max_length, tokenizer=tokenizer, transforms=train_transforms)\n",
    "# train = dataset.ConcatDataset([train, train_ub])"
   ]
  },
  {
   "cell_type": "code",
   "execution_count": 7,
   "metadata": {},
   "outputs": [],
   "source": [
    "def worker_init_fn(worker_id):  \n",
    "    \"\"\"\n",
    "    Sets different seed for each worker\n",
    "    https://github.com/pytorch/pytorch/issues/5059\n",
    "    \"\"\"\n",
    "    np.random.seed(np.random.get_state()[1][0] + worker_id)"
   ]
  },
  {
   "cell_type": "code",
   "execution_count": 8,
   "metadata": {},
   "outputs": [
    {
     "data": {
      "text/plain": [
       "(2670, 1000, 7977)"
      ]
     },
     "execution_count": 8,
     "metadata": {},
     "output_type": "execute_result"
    }
   ],
   "source": [
    "loader_train = D.DataLoader(train, \n",
    "                            sampler=train.weighted_sampler(scale_factor=0.5, replacement=False), \n",
    "#                             worker_init_fn=worker_init_fn,\n",
    "                            batch_size=batch_size, num_workers=num_workers)\n",
    "\n",
    "# loader_train_ub = D.DataLoader(train_ub, \n",
    "#                             sampler=train_ub.weighted_sampler(scale_factor=0.2, replacement=False), \n",
    "#                             batch_size=batch_size, num_workers=num_workers)\n",
    "\n",
    "loader_valid = D.DataLoader(valid, \n",
    "                            batch_size=batch_size_val, num_workers=num_workers)\n",
    "\n",
    "loader_test = D.DataLoader(test, \n",
    "                           batch_size=batch_size_val, num_workers=num_workers)\n",
    "\n",
    "len(loader_train), len(loader_valid), len(loader_test)"
   ]
  },
  {
   "cell_type": "markdown",
   "metadata": {},
   "source": [
    "## Models"
   ]
  },
  {
   "cell_type": "code",
   "execution_count": 9,
   "metadata": {},
   "outputs": [
    {
     "data": {
      "text/plain": [
       "<module 'models' from '../src/models.py'>"
      ]
     },
     "execution_count": 9,
     "metadata": {},
     "output_type": "execute_result"
    }
   ],
   "source": [
    "reload(models)"
   ]
  },
  {
   "cell_type": "code",
   "execution_count": 20,
   "metadata": {},
   "outputs": [],
   "source": [
    "del model, backbone, head, optimizer"
   ]
  },
  {
   "cell_type": "code",
   "execution_count": 11,
   "metadata": {},
   "outputs": [],
   "source": [
    "def convert_tf():\n",
    "    from transformers import AutoConfig\n",
    "    config = AutoConfig.from_pretrained(backbone_name)\n",
    "    backbone = XLMRobertaModel.from_pretrained('../checkpoints/tf_model.h5', from_tf=True, config=config)\n",
    "    torch.save(backbone.state_dict(), '../checkpoints/mlm_tf_6000.pth')"
   ]
  },
  {
   "cell_type": "code",
   "execution_count": 9,
   "metadata": {},
   "outputs": [],
   "source": [
    "head = models.SimplePoolingHead(in_features=1024, mix=None, dropout=0.0, activation='tanh')\n",
    "backbone = XLMRobertaModel.from_pretrained(backbone_name, output_hidden_states=False, num_labels=1)\n",
    "model = models.Model(backbone=backbone, head=head, mix=None, mix_pos='sent', features=['cls'])\n",
    "# model = models.Model(backbone=backbone, head=head, features=['cls'])"
   ]
  },
  {
   "cell_type": "code",
   "execution_count": 10,
   "metadata": {},
   "outputs": [],
   "source": [
    "# Load pretrained head\n",
    "#head_cp = '../checkpoints/simple_cls.pth'\n",
    "#model.head.load_state_dict(torch.load(head_cp, map_location='cpu')['model'])"
   ]
  },
  {
   "cell_type": "code",
   "execution_count": 10,
   "metadata": {},
   "outputs": [
    {
     "data": {
      "text/plain": [
       "<All keys matched successfully>"
      ]
     },
     "execution_count": 10,
     "metadata": {},
     "output_type": "execute_result"
    }
   ],
   "source": [
    "model.backbone.load_state_dict(torch.load('../checkpoints/mlm_tf_6000.pth', map_location='cpu'))"
   ]
  },
  {
   "cell_type": "code",
   "execution_count": 49,
   "metadata": {},
   "outputs": [],
   "source": [
    "# Freeze first BertLayers\n",
    "# freeze_first = 4\n",
    "# # model.backbone.embeddings.requires_grad_(False);\n",
    "# for i in range(freeze_first):\n",
    "#     model.backbone.encoder.layer[i].requires_grad_(False)\n",
    "# print(f'Frozen first {freeze_first} out of {len(model.backbone.encoder.layer)}')"
   ]
  },
  {
   "cell_type": "markdown",
   "metadata": {},
   "source": [
    "## Train"
   ]
  },
  {
   "cell_type": "code",
   "execution_count": 11,
   "metadata": {},
   "outputs": [
    {
     "data": {
      "text/plain": [
       "<module 'mix' from '../src/mix.py'>"
      ]
     },
     "execution_count": 11,
     "metadata": {},
     "output_type": "execute_result"
    }
   ],
   "source": [
    "reload(trainer)\n",
    "reload(mix)"
   ]
  },
  {
   "cell_type": "code",
   "execution_count": 12,
   "metadata": {},
   "outputs": [],
   "source": [
    "from torchcontrib.optim import SWA"
   ]
  },
  {
   "cell_type": "code",
   "execution_count": 14,
   "metadata": {},
   "outputs": [],
   "source": [
    "# criterion = trainer.DiceDenseCrossEntropy(ce=0.75, dice=0.25)\n",
    "\n",
    "# optimizer = AdamW(model.parameters(), lr=2e-5, eps=1e-8, weight_decay=0)\n",
    "optimizer = AdamW([{'params': model.head.parameters(), 'lr': 1e-3}, \n",
    "                  {'params': model.backbone.parameters()}],\n",
    "                   lr=1e-5, eps=1e-8, weight_decay=0)\n",
    "# optimizer = torch.optim.SGD(model.parameters(), lr=1e-4, momentum=0.9, weight_decay=0)\n",
    "# swa_opt = SWA(optimizer)\n",
    "# scheduler = torch.optim.lr_scheduler.CyclicLR(swa_opt, \n",
    "#                                               base_lr=[1e-4, 1e-6], \n",
    "#                                               max_lr=[1e-3, 1e-5], \n",
    "#                                               step_size_up=3, #len(loader_train)/2/16, \n",
    "#                                               cycle_momentum=False)\n",
    "\n",
    "# scheduler = torch.optim.lr_scheduler.CosineAnnealingWarmRestarts(optimizer, T_0=len(loader_train)//16)\n",
    "\n",
    "# setattr(swa_opt, 'defaults', optimizer.defaults) # fix a bug with save\n",
    "\n",
    "trnr = trainer.Trainer('roberta_simple_cls_multilingual_translated_1e-3_1e-5_wd=0_tanh_do=0_from_mlm_6000', model, \n",
    "                       loader_train, loader_valid, loader_test,\n",
    "                       epochs=4,\n",
    "                       monitor='val_auc',\n",
    "                       optimizer=optimizer,\n",
    "                       gradient_accumulation=16,\n",
    "#                        num_warmup_steps=3,\n",
    "#                        scheduler=scheduler,\n",
    "#                        criterion=criterion,\n",
    "#                        opt_level='O1',\n",
    "                      )"
   ]
  },
  {
   "cell_type": "code",
   "execution_count": 15,
   "metadata": {},
   "outputs": [
    {
     "name": "stderr",
     "output_type": "stream",
     "text": [
      "ep. 0000: 100%|##########| 2670/2670 [17:56<00:00,  2.48it/s, loss=0.318, acc=0.861, lr=7.51e-6]\n",
      "valid: 100%|##########| 1000/1000 [02:16<00:00,  7.33it/s]\n"
     ]
    },
    {
     "name": "stdout",
     "output_type": "stream",
     "text": [
      "Epoch 0 complete. loss=0.3184, val_loss=0.2685, val_acc=0.8615, val_auc=0.9444\n",
      "Saved model to ../checkpoints//roberta_simple_cls_multilingual_translated_1e-3_1e-5_wd=0_tanh_do=0_from_mlm_6000.pth\n"
     ]
    },
    {
     "name": "stderr",
     "output_type": "stream",
     "text": [
      "ep. 0001: 100%|##########| 2670/2670 [17:55<00:00,  2.48it/s, loss=0.218, acc=0.911, lr=5.02e-6]\n",
      "valid: 100%|##########| 1000/1000 [02:16<00:00,  7.34it/s]\n"
     ]
    },
    {
     "name": "stdout",
     "output_type": "stream",
     "text": [
      "Epoch 1 complete. loss=0.2181, val_loss=0.2620, val_acc=0.8696, val_auc=0.9457\n",
      "Saved model to ../checkpoints//roberta_simple_cls_multilingual_translated_1e-3_1e-5_wd=0_tanh_do=0_from_mlm_6000.pth\n"
     ]
    },
    {
     "name": "stderr",
     "output_type": "stream",
     "text": [
      "ep. 0002: 100%|##########| 2670/2670 [17:56<00:00,  2.48it/s, loss=0.205, acc=0.917, lr=2.53e-6]\n",
      "valid: 100%|##########| 1000/1000 [02:16<00:00,  7.33it/s]\n"
     ]
    },
    {
     "name": "stdout",
     "output_type": "stream",
     "text": [
      "Epoch 2 complete. loss=0.2054, val_loss=0.2966, val_acc=0.8478, val_auc=0.9459\n",
      "Saved model to ../checkpoints//roberta_simple_cls_multilingual_translated_1e-3_1e-5_wd=0_tanh_do=0_from_mlm_6000.pth\n"
     ]
    },
    {
     "name": "stderr",
     "output_type": "stream",
     "text": [
      "ep. 0003: 100%|##########| 2670/2670 [17:57<00:00,  2.48it/s, loss=0.199, acc=0.917, lr=4.5e-8] \n",
      "valid: 100%|##########| 1000/1000 [02:16<00:00,  7.33it/s]\n"
     ]
    },
    {
     "name": "stdout",
     "output_type": "stream",
     "text": [
      "Epoch 3 complete. loss=0.1995, val_loss=0.2843, val_acc=0.8595, val_auc=0.9466\n",
      "Saved model to ../checkpoints//roberta_simple_cls_multilingual_translated_1e-3_1e-5_wd=0_tanh_do=0_from_mlm_6000.pth\n"
     ]
    }
   ],
   "source": [
    "trnr.fit()"
   ]
  },
  {
   "cell_type": "code",
   "execution_count": null,
   "metadata": {},
   "outputs": [
    {
     "name": "stderr",
     "output_type": "stream",
     "text": [
      "ep. 0000:  53%|#####2    | 1412/2670 [09:28<08:29,  2.47it/s, loss=0.229, acc=0.906, lr=8.68e-6]"
     ]
    }
   ],
   "source": [
    "trnr.reset_scheduler()\n",
    "trnr.fit()"
   ]
  },
  {
   "cell_type": "markdown",
   "metadata": {},
   "source": [
    "## Validate"
   ]
  },
  {
   "cell_type": "code",
   "execution_count": 4,
   "metadata": {
    "collapsed": true,
    "jupyter": {
     "outputs_hidden": true
    }
   },
   "outputs": [],
   "source": [
    "#state = torch.load('../checkpoints/roberta_simple_cls_multilingual_translated_2e-5_tanh_do=0_no_worker_init_no_reinit_old_sampling.pth', map_location='cpu')"
   ]
  },
  {
   "cell_type": "code",
   "execution_count": 16,
   "metadata": {},
   "outputs": [
    {
     "name": "stdout",
     "output_type": "stream",
     "text": [
      "Loaded model from ../checkpoints//roberta_simple_cls_multilingual_translated_1e-3_1e-5_wd=0_tanh_do=0_from_mlm_uncleaned_cosine.pth\n",
      "epoch 2, loss: 0.2160 val_loss: 0.2804 val_acc: 0.8600 val_auc: 0.9456 \n"
     ]
    }
   ],
   "source": [
    "trnr.load_checkpoint()"
   ]
  },
  {
   "cell_type": "code",
   "execution_count": 67,
   "metadata": {},
   "outputs": [
    {
     "data": {
      "text/plain": [
       "<module 'dataset' from '../src/dataset.py'>"
      ]
     },
     "execution_count": 67,
     "metadata": {},
     "output_type": "execute_result"
    }
   ],
   "source": [
    "reload(dataset)"
   ]
  },
  {
   "cell_type": "code",
   "execution_count": 9,
   "metadata": {},
   "outputs": [
    {
     "name": "stderr",
     "output_type": "stream",
     "text": [
      "ep. 0002:  21%|##        | 548/2670 [04:47<14:19,  2.47it/s, loss=0.207, acc=0.916, lr=1.12e-5]"
     ]
    },
    {
     "name": "stdout",
     "output_type": "stream",
     "text": [
      "Loaded model from ../checkpoints/roberta_simple_cls_multilingual_translated_2e-5_ga=16_do=0_tanh.pth\n",
      "epoch 1, loss: 0.2062 val_loss: 0.2561 val_acc: 0.8759 val_auc: 0.9461 \n"
     ]
    }
   ],
   "source": [
    "trnr.load_checkpoint('../checkpoints/roberta_simple_cls_multilingual_translated_2e-5_ga=16_do=0_tanh.pth')"
   ]
  },
  {
   "cell_type": "code",
   "execution_count": 24,
   "metadata": {},
   "outputs": [
    {
     "name": "stderr",
     "output_type": "stream",
     "text": [
      "[nltk_data] Downloading package punkt to\n",
      "[nltk_data]     /gpfs/hpc/home/papkov/nltk_data...\n",
      "[nltk_data]   Package punkt is already up-to-date!\n"
     ]
    },
    {
     "name": "stdout",
     "output_type": "stream",
     "text": [
      "INFO: Pandarallel will run on 2 workers.\n",
      "INFO: Pandarallel will use Memory file system to transfer data between the main process and workers.\n",
      "<module 'preprocessing' from '../src/preprocessing.py'>\n",
      "<module 'dataset' from '../src/dataset.py'>\n"
     ]
    }
   ],
   "source": [
    "print(reload(preprocessing))\n",
    "print(reload(dataset))\n",
    "valid = dataset.TokenizerDataset('../input/jigsaw_miltilingual_valid_translated.csv', max_length=512, \n",
    "                                 tokenizer=tokenizer, text_column='comment_text')\n",
    "# valid = dataset.Dataset('../input/validation.npz')\n",
    "loader_valid = D.DataLoader(valid, batch_size=batch_size_val, num_workers=num_workers)"
   ]
  },
  {
   "cell_type": "code",
   "execution_count": 21,
   "metadata": {
    "scrolled": true
   },
   "outputs": [
    {
     "name": "stderr",
     "output_type": "stream",
     "text": [
      "predict: 100%|##########| 1000/1000 [02:17<00:00,  7.30it/s]\n"
     ]
    },
    {
     "data": {
      "text/plain": [
       "(0.9490025338953535, 0.862625, 0.27622192503511905)"
      ]
     },
     "execution_count": 21,
     "metadata": {},
     "output_type": "execute_result"
    }
   ],
   "source": [
    "# 256\n",
    "pred, loss, acc, auc = trnr.predict(loader=loader_valid)\n",
    "auc, acc, loss"
   ]
  },
  {
   "cell_type": "code",
   "execution_count": 15,
   "metadata": {
    "scrolled": true
   },
   "outputs": [
    {
     "name": "stderr",
     "output_type": "stream",
     "text": [
      "predict: 100%|##########| 1000/1000 [02:16<00:00,  7.30it/s]\n"
     ]
    },
    {
     "data": {
      "text/plain": [
       "(0.9429217854955506, 0.8695, 0.2694804871231318)"
      ]
     },
     "execution_count": 15,
     "metadata": {},
     "output_type": "execute_result"
    }
   ],
   "source": [
    "# 256\n",
    "pred, loss, acc, auc = trnr.predict(loader=loader_valid)\n",
    "auc, acc, loss"
   ]
  },
  {
   "cell_type": "code",
   "execution_count": 25,
   "metadata": {
    "scrolled": true
   },
   "outputs": [
    {
     "name": "stderr",
     "output_type": "stream",
     "text": [
      "predict: 100%|##########| 1000/1000 [04:35<00:00,  3.62it/s]\n"
     ]
    },
    {
     "data": {
      "text/plain": [
       "(0.9450920488525417, 0.868375, 0.2564316531121731)"
      ]
     },
     "execution_count": 25,
     "metadata": {},
     "output_type": "execute_result"
    }
   ],
   "source": [
    "# 512\n",
    "pred, loss, acc, auc = trnr.predict(loader=loader_valid)\n",
    "auc, acc, loss"
   ]
  },
  {
   "cell_type": "code",
   "execution_count": 45,
   "metadata": {},
   "outputs": [
    {
     "data": {
      "text/plain": [
       "<module 'transforms' from '../src/transforms.py'>"
      ]
     },
     "execution_count": 45,
     "metadata": {},
     "output_type": "execute_result"
    }
   ],
   "source": [
    "reload(transforms)"
   ]
  },
  {
   "cell_type": "code",
   "execution_count": 37,
   "metadata": {
    "collapsed": true,
    "jupyter": {
     "outputs_hidden": true
    }
   },
   "outputs": [],
   "source": [
    "valid_last_sent = dataset.TokenizerDataset('../input/jigsaw_miltilingual_valid_translated.csv', max_length=max_length,\n",
    "                                           tokenizer=tokenizer, text_column='comment_text',\n",
    "                                           transforms=[transforms.PickLastSentence(p=1)])\n",
    "loader_valid_last_sent = D.DataLoader(valid_last_sent, batch_size=batch_size_val, num_workers=num_workers)"
   ]
  },
  {
   "cell_type": "code",
   "execution_count": 38,
   "metadata": {},
   "outputs": [
    {
     "name": "stderr",
     "output_type": "stream",
     "text": [
      "predict:  76%|#######6  | 760/1000 [01:43<00:32,  7.32it/s]"
     ]
    },
    {
     "name": "stdout",
     "output_type": "stream",
     "text": [
      "<class 'transforms.PickLastSentence'> was failed to apply to [] due to [list index out of range]\n"
     ]
    },
    {
     "name": "stderr",
     "output_type": "stream",
     "text": [
      "predict: 100%|##########| 1000/1000 [02:16<00:00,  7.34it/s]\n"
     ]
    },
    {
     "data": {
      "text/plain": [
       "(0.7752584333081145, 0.82325, 0.4869999413564801)"
      ]
     },
     "execution_count": 38,
     "metadata": {},
     "output_type": "execute_result"
    }
   ],
   "source": [
    "pred_last, loss, acc, auc = trnr.predict(loader_valid_last_sent)\n",
    "auc, acc, loss"
   ]
  },
  {
   "cell_type": "code",
   "execution_count": 58,
   "metadata": {
    "collapsed": true,
    "jupyter": {
     "outputs_hidden": true
    }
   },
   "outputs": [],
   "source": [
    "valid.text_column='translated'"
   ]
  },
  {
   "cell_type": "code",
   "execution_count": 59,
   "metadata": {},
   "outputs": [
    {
     "name": "stderr",
     "output_type": "stream",
     "text": [
      "predict: 100%|##########| 1000/1000 [02:16<00:00,  7.30it/s]\n"
     ]
    },
    {
     "data": {
      "text/plain": [
       "(0.9310278488309256, 0.879375, 0.260242011398077)"
      ]
     },
     "execution_count": 59,
     "metadata": {},
     "output_type": "execute_result"
    }
   ],
   "source": [
    "pred_translated, loss, acc, auc = trnr.predict(loader=loader_valid)\n",
    "auc, acc, loss"
   ]
  },
  {
   "cell_type": "code",
   "execution_count": 16,
   "metadata": {},
   "outputs": [
    {
     "data": {
      "text/plain": [
       "array([0.6461915 , 0.0961536 , 0.94487524, 0.01293857, 0.01563411],\n",
       "      dtype=float32)"
      ]
     },
     "execution_count": 16,
     "metadata": {},
     "output_type": "execute_result"
    }
   ],
   "source": [
    "smpred = softmax(pred / 1, 1)[:,1]\n",
    "smpred[:5]"
   ]
  },
  {
   "cell_type": "code",
   "execution_count": 82,
   "metadata": {},
   "outputs": [
    {
     "data": {
      "text/plain": [
       "array([0.46674946, 0.052074  , 0.91198564, 0.04765975, 0.05153814],\n",
       "      dtype=float32)"
      ]
     },
     "execution_count": 82,
     "metadata": {},
     "output_type": "execute_result"
    }
   ],
   "source": [
    "smpred_prev = softmax(pred / 1, 1)[:,1]\n",
    "smpred_prev[:5]"
   ]
  },
  {
   "cell_type": "code",
   "execution_count": 64,
   "metadata": {},
   "outputs": [
    {
     "data": {
      "text/plain": [
       "array([0.14376275, 0.01694615, 0.96574783, 0.02020077, 0.07131837],\n",
       "      dtype=float32)"
      ]
     },
     "execution_count": 64,
     "metadata": {},
     "output_type": "execute_result"
    }
   ],
   "source": [
    "smpred_last = softmax(pred_last / 1, 1)[:,1]\n",
    "smpred_last[:5]"
   ]
  },
  {
   "cell_type": "code",
   "execution_count": 61,
   "metadata": {},
   "outputs": [
    {
     "data": {
      "text/plain": [
       "array([3.8540781e-01, 3.4235546e-04, 8.4419376e-01, 1.8401514e-06,\n",
       "       2.3138556e-03], dtype=float32)"
      ]
     },
     "execution_count": 61,
     "metadata": {},
     "output_type": "execute_result"
    }
   ],
   "source": [
    "smpred_translated = softmax(pred_translated / 1, 1)[:,1]\n",
    "smpred_translated[:5]"
   ]
  },
  {
   "cell_type": "code",
   "execution_count": 17,
   "metadata": {},
   "outputs": [],
   "source": [
    "def prediction_analysis(smpred):\n",
    "    acc = accuracy_score(valid.y, np.round(smpred))\n",
    "    auc = roc_auc_score(valid.y, smpred)\n",
    "    print(f'    acc {acc:.4f}, auc {auc:.4f}\\n')\n",
    "\n",
    "    for lang in ['es', 'it', 'tr']:\n",
    "        mask = valid.dataset['lang'] == lang\n",
    "        acc = accuracy_score(valid.y[mask], np.round(smpred[mask]))\n",
    "        auc = roc_auc_score(valid.y[mask], smpred[mask])\n",
    "        print(f'{lang}: acc {acc:.4f}, auc {auc:.4f}')\n",
    "        \n",
    "    fig, ax = plt.subplots(ncols=2, figsize=(7,3))\n",
    "    \n",
    "    ax[0].set_title('Score distribution')\n",
    "    sns.distplot(smpred[valid.y == 0], ax=ax[0], label='non-toxic')\n",
    "    sns.distplot(smpred[valid.y == 1], ax=ax[0], label='toxic')\n",
    "    ax[0].legend()\n",
    "    \n",
    "    ax[1].set_title('Calibration plot')\n",
    "    ax[1].plot(*calibration_curve(valid.y, smpred), 's-')\n",
    "    plt.show()"
   ]
  },
  {
   "cell_type": "code",
   "execution_count": 18,
   "metadata": {},
   "outputs": [],
   "source": [
    "def minmax_scaling(smpred):\n",
    "    mi = smpred.min()\n",
    "    ma = smpred.max()\n",
    "    return (smpred-mi) / (ma-mi)"
   ]
  },
  {
   "cell_type": "code",
   "execution_count": 86,
   "metadata": {
    "collapsed": true,
    "jupyter": {
     "outputs_hidden": true
    }
   },
   "outputs": [],
   "source": [
    "smpred_rounded = smpred.copy()\n",
    "smpred_rounded[smpred_rounded < 0.01] = 0\n",
    "smpred_rounded[smpred_rounded > 0.99] = 1"
   ]
  },
  {
   "cell_type": "code",
   "execution_count": 64,
   "metadata": {},
   "outputs": [
    {
     "name": "stdout",
     "output_type": "stream",
     "text": [
      "    acc 0.8686, auc 0.9450\n",
      "\n",
      "es: acc 0.8212, auc 0.9307\n",
      "it: acc 0.8020, auc 0.9093\n",
      "tr: acc 0.9637, auc 0.9860\n"
     ]
    },
    {
     "data": {
      "image/png": "[encoded data removed]",
      "text/plain": [
       "<Figure size 504x216 with 2 Axes>"
      ]
     },
     "metadata": {
      "needs_background": "light"
     },
     "output_type": "display_data"
    }
   ],
   "source": [
    "prediction_analysis(smpred)"
   ]
  },
  {
   "cell_type": "code",
   "execution_count": 13,
   "metadata": {
    "scrolled": true
   },
   "outputs": [
    {
     "name": "stdout",
     "output_type": "stream",
     "text": [
      "    acc 0.8759, auc 0.9461\n",
      "\n",
      "es: acc 0.8308, auc 0.9321\n",
      "it: acc 0.8152, auc 0.9104\n",
      "tr: acc 0.9640, auc 0.9858\n"
     ]
    },
    {
     "data": {
      "image/png": "[encoded data removed]",
      "text/plain": [
       "<Figure size 504x216 with 2 Axes>"
      ]
     },
     "metadata": {
      "needs_background": "light"
     },
     "output_type": "display_data"
    }
   ],
   "source": [
    "prediction_analysis(smpred)"
   ]
  },
  {
   "cell_type": "code",
   "execution_count": 19,
   "metadata": {
    "scrolled": true
   },
   "outputs": [
    {
     "name": "stdout",
     "output_type": "stream",
     "text": [
      "    acc 0.8695, auc 0.9429\n",
      "\n",
      "es: acc 0.8232, auc 0.9287\n",
      "it: acc 0.8060, auc 0.9086\n",
      "tr: acc 0.9610, auc 0.9847\n"
     ]
    },
    {
     "data": {
      "image/png": "[encoded data removed]",
      "text/plain": [
       "<Figure size 504x216 with 2 Axes>"
      ]
     },
     "metadata": {
      "needs_background": "light"
     },
     "output_type": "display_data"
    }
   ],
   "source": [
    "prediction_analysis(smpred)"
   ]
  },
  {
   "cell_type": "code",
   "execution_count": 25,
   "metadata": {},
   "outputs": [
    {
     "name": "stdout",
     "output_type": "stream",
     "text": [
      "    acc 0.8626, auc 0.9490\n",
      "\n",
      "es: acc 0.8148, auc 0.9365\n",
      "it: acc 0.7884, auc 0.9182\n",
      "tr: acc 0.9643, auc 0.9870\n"
     ]
    },
    {
     "data": {
      "image/png": "[encoded data removed]",
      "text/plain": [
       "<Figure size 504x216 with 2 Axes>"
      ]
     },
     "metadata": {
      "needs_background": "light"
     },
     "output_type": "display_data"
    }
   ],
   "source": [
    "# with translated val\n",
    "prediction_analysis(smpred)"
   ]
  },
  {
   "cell_type": "code",
   "execution_count": 87,
   "metadata": {},
   "outputs": [
    {
     "name": "stdout",
     "output_type": "stream",
     "text": [
      "    acc 0.8686, auc 0.9442\n",
      "\n",
      "es: acc 0.8212, auc 0.9294\n",
      "it: acc 0.8020, auc 0.9092\n",
      "tr: acc 0.9637, auc 0.9839\n"
     ]
    },
    {
     "data": {
      "image/png": "[encoded data removed]",
      "text/plain": [
       "<Figure size 504x216 with 2 Axes>"
      ]
     },
     "metadata": {
      "needs_background": "light"
     },
     "output_type": "display_data"
    }
   ],
   "source": [
    "prediction_analysis(smpred_rounded)"
   ]
  },
  {
   "cell_type": "code",
   "execution_count": 85,
   "metadata": {},
   "outputs": [
    {
     "name": "stdout",
     "output_type": "stream",
     "text": [
      "    acc 0.8490, auc 0.9399\n",
      "\n",
      "es: acc 0.7964, auc 0.9273\n",
      "it: acc 0.7744, auc 0.9000\n",
      "tr: acc 0.9550, auc 0.9824\n"
     ]
    },
    {
     "data": {
      "image/png": "[encoded data removed]",
      "text/plain": [
       "<Figure size 504x216 with 2 Axes>"
      ]
     },
     "metadata": {
      "needs_background": "light"
     },
     "output_type": "display_data"
    }
   ],
   "source": [
    "prediction_analysis(smpred_prev)"
   ]
  },
  {
   "cell_type": "code",
   "execution_count": 66,
   "metadata": {},
   "outputs": [
    {
     "name": "stdout",
     "output_type": "stream",
     "text": [
      "    acc 0.8744, auc 0.9275\n",
      "\n",
      "es: acc 0.8368, auc 0.9086\n",
      "it: acc 0.8180, auc 0.8834\n",
      "tr: acc 0.9527, auc 0.9730\n"
     ]
    },
    {
     "data": {
      "image/png": "[encoded data removed]",
      "text/plain": [
       "<Figure size 504x216 with 2 Axes>"
      ]
     },
     "metadata": {
      "needs_background": "light"
     },
     "output_type": "display_data"
    }
   ],
   "source": [
    "prediction_analysis(smpred_last)"
   ]
  },
  {
   "cell_type": "code",
   "execution_count": 65,
   "metadata": {},
   "outputs": [
    {
     "name": "stdout",
     "output_type": "stream",
     "text": [
      "    acc 0.8794, auc 0.9310\n",
      "\n",
      "es: acc 0.8444, auc 0.9167\n",
      "it: acc 0.8288, auc 0.8902\n",
      "tr: acc 0.9507, auc 0.9821\n"
     ]
    },
    {
     "data": {
      "image/png": "[encoded data removed]",
      "text/plain": [
       "<Figure size 504x216 with 2 Axes>"
      ]
     },
     "metadata": {
      "needs_background": "light"
     },
     "output_type": "display_data"
    }
   ],
   "source": [
    "prediction_analysis(smpred_translated)"
   ]
  },
  {
   "cell_type": "code",
   "execution_count": 73,
   "metadata": {},
   "outputs": [
    {
     "name": "stdout",
     "output_type": "stream",
     "text": [
      "    acc 0.8691, auc 0.9453\n",
      "\n",
      "es: acc 0.8208, auc 0.9306\n",
      "it: acc 0.8036, auc 0.9098\n",
      "tr: acc 0.9640, auc 0.9864\n"
     ]
    },
    {
     "data": {
      "image/png": "[encoded data removed]",
      "text/plain": [
       "<Figure size 504x216 with 2 Axes>"
      ]
     },
     "metadata": {
      "needs_background": "light"
     },
     "output_type": "display_data"
    }
   ],
   "source": [
    "alpha = 0.95\n",
    "prediction_analysis(smpred_translated * (1-alpha) + smpred * alpha )"
   ]
  },
  {
   "cell_type": "markdown",
   "metadata": {},
   "source": [
    "## Pseudolabeling on val data"
   ]
  },
  {
   "cell_type": "code",
   "execution_count": 25,
   "metadata": {},
   "outputs": [
    {
     "data": {
      "text/plain": [
       "<module 'dataset' from '../src/dataset.py'>"
      ]
     },
     "execution_count": 25,
     "metadata": {},
     "output_type": "execute_result"
    }
   ],
   "source": [
    "reload(dataset)"
   ]
  },
  {
   "cell_type": "code",
   "execution_count": 57,
   "metadata": {},
   "outputs": [
    {
     "name": "stdout",
     "output_type": "stream",
     "text": [
      "Use 4216 rows for pseudolabels from 8000\n"
     ]
    }
   ],
   "source": [
    "valid_pseudo = dataset.PseudolabelDataset(scores=smpred, threshold=0.95, \n",
    "                                          fn='../input/jigsaw_miltilingual_valid_translated.csv', \n",
    "                                          max_length=max_length,\n",
    "                                          tokenizer=tokenizer, text_column='comment_text',\n",
    "                                          transforms=train_transforms)"
   ]
  },
  {
   "cell_type": "code",
   "execution_count": 58,
   "metadata": {},
   "outputs": [
    {
     "data": {
      "text/plain": [
       "75"
      ]
     },
     "execution_count": 58,
     "metadata": {},
     "output_type": "execute_result"
    }
   ],
   "source": [
    "loader_valid_pseudo = D.DataLoader(valid_pseudo, \n",
    "                                   sampler=valid_pseudo.weighted_sampler(),\n",
    "                                   batch_size=batch_size_val, num_workers=num_workers)\n",
    "len(loader_valid_pseudo)"
   ]
  },
  {
   "cell_type": "code",
   "execution_count": 59,
   "metadata": {
    "collapsed": true,
    "jupyter": {
     "outputs_hidden": true
    }
   },
   "outputs": [],
   "source": [
    "optimizer = AdamW(model.parameters(), lr=1e-6, eps=1e-8)\n",
    "\n",
    "trnr = trainer.Trainer('roberta_simple_cls_freeze_4_pseudo_val_2', model, \n",
    "                       loader_valid_pseudo, loader_valid, loader_test,\n",
    "                       epochs=4,\n",
    "                       monitor='val_auc',\n",
    "                       optimizer=optimizer,\n",
    "                       gradient_accumulation=4\n",
    "                      )"
   ]
  },
  {
   "cell_type": "code",
   "execution_count": 62,
   "metadata": {},
   "outputs": [
    {
     "name": "stderr",
     "output_type": "stream",
     "text": [
      "ep. 0000:   0%|          | 0/75 [00:46<?, ?it/s, acc=0, loss=0, lr=5e-6]cc=0.75, lr=4.95e-6]]]e-6]"
     ]
    },
    {
     "name": "stdout",
     "output_type": "stream",
     "text": [
      "Loaded model from ../checkpoints/roberta_simple_cls_freeze_4_pseudo_val.pth\n",
      "epoch 1, loss: 0.4357 val_loss: 0.2650 val_acc: 0.8736 val_auc: 0.9628 \n"
     ]
    },
    {
     "data": {
      "text/plain": [
       "[5e-06]"
      ]
     },
     "execution_count": 62,
     "metadata": {},
     "output_type": "execute_result"
    }
   ],
   "source": [
    "trnr.load_checkpoint('../checkpoints/roberta_simple_cls_freeze_4_pseudo_val.pth')\n",
    "trnr.reset_scheduler()\n",
    "trnr.scheduler.get_last_lr()"
   ]
  },
  {
   "cell_type": "code",
   "execution_count": null,
   "metadata": {},
   "outputs": [],
   "source": [
    "trnr.fit()"
   ]
  },
  {
   "cell_type": "markdown",
   "metadata": {},
   "source": [
    "## Fine-tuning on val"
   ]
  },
  {
   "cell_type": "code",
   "execution_count": 9,
   "metadata": {},
   "outputs": [
    {
     "data": {
      "text/plain": [
       "308"
      ]
     },
     "execution_count": 9,
     "metadata": {},
     "output_type": "execute_result"
    }
   ],
   "source": [
    "loader_valid_ml = D.DataLoader(valid_ml, \n",
    "                               sampler=valid_ml.weighted_sampler(scale_factor=1, replacement=False), \n",
    "                               batch_size=batch_size, num_workers=num_workers)\n",
    "len(loader_valid_ml)"
   ]
  },
  {
   "cell_type": "code",
   "execution_count": 10,
   "metadata": {
    "collapsed": true,
    "jupyter": {
     "outputs_hidden": true
    }
   },
   "outputs": [],
   "source": [
    "optimizer = AdamW(model.parameters(), lr=5e-6, eps=1e-8, weight_decay=0)\n",
    "\n",
    "trnr = trainer.Trainer('roberta_simple_cls_multilingual_translated_2e-5_ga=16_do=0_tanh_on_val_4_5e-6', model, \n",
    "                       loader_valid_ml, loader_valid, loader_test,\n",
    "                       epochs=4,\n",
    "                       monitor='val_auc',\n",
    "                       optimizer=optimizer,\n",
    "                       gradient_accumulation=16\n",
    "                      )"
   ]
  },
  {
   "cell_type": "code",
   "execution_count": 11,
   "metadata": {},
   "outputs": [
    {
     "name": "stdout",
     "output_type": "stream",
     "text": [
      "Loaded model from ../checkpoints/roberta_simple_cls_multilingual_translated_2e-5_ga=16_do=0_tanh.pth\n",
      "epoch 1, loss: 0.2062 val_loss: 0.2561 val_acc: 0.8759 val_auc: 0.9461 \n"
     ]
    }
   ],
   "source": [
    "trnr.load_checkpoint('../checkpoints/roberta_simple_cls_multilingual_translated_2e-5_ga=16_do=0_tanh.pth', \n",
    "                     ignore=['optimizer', 'scheduler'])"
   ]
  },
  {
   "cell_type": "code",
   "execution_count": 12,
   "metadata": {},
   "outputs": [
    {
     "name": "stderr",
     "output_type": "stream",
     "text": [
      "ep. 0000: 100%|##########| 308/308 [02:04<00:00,  2.47it/s, loss=0.356, acc=0.838, lr=3.77e-6]\n",
      "valid: 100%|##########| 1000/1000 [02:17<00:00,  7.29it/s]\n"
     ]
    },
    {
     "name": "stdout",
     "output_type": "stream",
     "text": [
      "Epoch 0 complete. loss=0.3563, val_loss=0.2700, val_acc=0.8448, val_auc=0.9468\n",
      "Saved model to ../checkpoints//roberta_simple_cls_multilingual_translated_2e-5_ga=16_do=0_tanh_on_val_4_5e-6.pth\n"
     ]
    },
    {
     "name": "stderr",
     "output_type": "stream",
     "text": [
      "ep. 0001: 100%|##########| 308/308 [02:04<00:00,  2.47it/s, loss=0.32, acc=0.847, lr=2.53e-6] \n",
      "valid: 100%|##########| 1000/1000 [02:17<00:00,  7.29it/s]\n"
     ]
    },
    {
     "name": "stdout",
     "output_type": "stream",
     "text": [
      "Epoch 1 complete. loss=0.3204, val_loss=0.2521, val_acc=0.8548, val_auc=0.9487\n",
      "Saved model to ../checkpoints//roberta_simple_cls_multilingual_translated_2e-5_ga=16_do=0_tanh_on_val_4_5e-6.pth\n"
     ]
    },
    {
     "name": "stderr",
     "output_type": "stream",
     "text": [
      "ep. 0002: 100%|##########| 308/308 [02:04<00:00,  2.47it/s, loss=0.314, acc=0.845, lr=1.3e-6] \n",
      "valid: 100%|##########| 1000/1000 [02:17<00:00,  7.28it/s]\n"
     ]
    },
    {
     "name": "stdout",
     "output_type": "stream",
     "text": [
      "Epoch 2 complete. loss=0.3142, val_loss=0.2810, val_acc=0.8405, val_auc=0.9507\n",
      "Saved model to ../checkpoints//roberta_simple_cls_multilingual_translated_2e-5_ga=16_do=0_tanh_on_val_4_5e-6.pth\n"
     ]
    },
    {
     "name": "stderr",
     "output_type": "stream",
     "text": [
      "ep. 0003: 100%|##########| 308/308 [02:04<00:00,  2.47it/s, loss=0.3, acc=0.852, lr=6.49e-8]  \n",
      "valid: 100%|##########| 1000/1000 [02:17<00:00,  7.27it/s]\n"
     ]
    },
    {
     "name": "stdout",
     "output_type": "stream",
     "text": [
      "Epoch 3 complete. loss=0.2996, val_loss=0.2771, val_acc=0.8450, val_auc=0.9513\n",
      "Saved model to ../checkpoints//roberta_simple_cls_multilingual_translated_2e-5_ga=16_do=0_tanh_on_val_4_5e-6.pth\n"
     ]
    }
   ],
   "source": [
    "trnr.fit()"
   ]
  },
  {
   "cell_type": "markdown",
   "metadata": {},
   "source": [
    "Test"
   ]
  },
  {
   "cell_type": "code",
   "execution_count": 26,
   "metadata": {},
   "outputs": [
    {
     "name": "stderr",
     "output_type": "stream",
     "text": [
      "test: 100%|##########| 7977/7977 [18:17<00:00,  7.27it/s]\n"
     ]
    }
   ],
   "source": [
    "pred_test, loss_test, acc_test, auc_test = trnr.test()"
   ]
  },
  {
   "cell_type": "code",
   "execution_count": 27,
   "metadata": {
    "collapsed": true,
    "jupyter": {
     "outputs_hidden": true
    }
   },
   "outputs": [],
   "source": [
    "sub = pd.read_csv('../input/sample_submission.csv')\n",
    "sub.toxic = softmax(pred_test / 1, 1)[:,1]\n",
    "sub.to_csv('../submissions/submission_multilingual_with_valid_ml.csv', index=False)"
   ]
  },
  {
   "cell_type": "code",
   "execution_count": 28,
   "metadata": {},
   "outputs": [
    {
     "data": {
      "text/plain": [
       "<matplotlib.axes._subplots.AxesSubplot at 0x7f9edd6c1250>"
      ]
     },
     "execution_count": 28,
     "metadata": {},
     "output_type": "execute_result"
    },
    {
     "data": {
      "image/png": "[encoded data removed]",
      "text/plain": [
       "<Figure size 432x288 with 1 Axes>"
      ]
     },
     "metadata": {
      "needs_background": "light"
     },
     "output_type": "display_data"
    }
   ],
   "source": [
    "sns.distplot(sub.toxic)"
   ]
  }
 ],
 "metadata": {
  "kernelspec": {
   "display_name": "peenv (conda)",
   "language": "python",
   "name": "peenv36"
  },
  "language_info": {
   "codemirror_mode": {
    "name": "ipython",
    "version": 3
   },
   "file_extension": ".py",
   "mimetype": "text/x-python",
   "name": "python",
   "nbconvert_exporter": "python",
   "pygments_lexer": "ipython3",
   "version": "3.7.4"
  }
 },
 "nbformat": 4,
 "nbformat_minor": 4
}
