{
 "cells": [
  {
   "cell_type": "code",
   "execution_count": 2,
   "metadata": {},
   "outputs": [
    {
     "name": "stderr",
     "output_type": "stream",
     "text": [
      "[nltk_data] Downloading package punkt to\n",
      "[nltk_data]     /gpfs/hpc/home/papkov/nltk_data...\n",
      "[nltk_data]   Package punkt is already up-to-date!\n"
     ]
    },
    {
     "name": "stdout",
     "output_type": "stream",
     "text": [
      "INFO: Pandarallel will run on 2 workers.\n",
      "INFO: Pandarallel will use Memory file system to transfer data between the main process and workers.\n",
      "use cuda\n"
     ]
    }
   ],
   "source": [
    "import os\n",
    "import sys\n",
    "from importlib import reload\n",
    "\n",
    "import pandas as pd\n",
    "import numpy as np\n",
    "\n",
    "import matplotlib.pyplot as plt\n",
    "import seaborn as sns\n",
    "import tqdm\n",
    "\n",
    "import torch\n",
    "from torch.utils import data as D\n",
    "\n",
    "# Local imports\n",
    "sys.path.append('../src')\n",
    "import dataset\n",
    "import trainer\n",
    "import models\n",
    "import utils\n",
    "import preprocessing\n",
    "\n",
    "# Transformers\n",
    "import transformers\n",
    "from transformers import XLMRobertaModel, XLMRobertaTokenizer, XLMRobertaConfig\n",
    "from transformers import AdamW, get_linear_schedule_with_warmup, get_constant_schedule\n",
    "\n",
    "# Setup device\n",
    "os.environ['CUDA_VISIBLE_DEVICES'] = '0'\n",
    "device = 'cuda' if torch.cuda.is_available() else 'cpu'\n",
    "\n",
    "# Seed \n",
    "utils.seed_everything()\n",
    "\n",
    "print('use', device)"
   ]
  },
  {
   "cell_type": "markdown",
   "metadata": {},
   "source": [
    "## Datasets"
   ]
  },
  {
   "cell_type": "code",
   "execution_count": 3,
   "metadata": {},
   "outputs": [
    {
     "data": {
      "text/plain": [
       "<module 'dataset' from '../src/dataset.py'>"
      ]
     },
     "execution_count": 3,
     "metadata": {},
     "output_type": "execute_result"
    }
   ],
   "source": [
    "reload(dataset)"
   ]
  },
  {
   "cell_type": "code",
   "execution_count": 4,
   "metadata": {},
   "outputs": [],
   "source": [
    "debug = False\n",
    "use_features = True"
   ]
  },
  {
   "cell_type": "code",
   "execution_count": 5,
   "metadata": {},
   "outputs": [
    {
     "name": "stdout",
     "output_type": "stream",
     "text": [
      "CPU times: user 0 ns, sys: 147 ms, total: 147 ms\n",
      "Wall time: 345 ms\n"
     ]
    },
    {
     "data": {
      "text/plain": [
       "((8000, 3072), (8000,))"
      ]
     },
     "execution_count": 5,
     "metadata": {},
     "output_type": "execute_result"
    }
   ],
   "source": [
    "%%time\n",
    "if debug:\n",
    "    valid = dataset.Dataset('../input/validatio_debug_32.npz')\n",
    "else:\n",
    "    valid = dataset.Dataset('../input/validation.npz', use_features=use_features)\n",
    "valid.x.shape, valid.y.shape"
   ]
  },
  {
   "cell_type": "code",
   "execution_count": 6,
   "metadata": {},
   "outputs": [
    {
     "name": "stdout",
     "output_type": "stream",
     "text": [
      "CPU times: user 236 ms, sys: 990 ms, total: 1.23 s\n",
      "Wall time: 1.53 s\n"
     ]
    },
    {
     "data": {
      "text/plain": [
       "((63812, 3072), (63812,))"
      ]
     },
     "execution_count": 6,
     "metadata": {},
     "output_type": "execute_result"
    }
   ],
   "source": [
    "%%time\n",
    "if debug:\n",
    "    test = dataset.Dataset('../input/test_debug_32.npz')\n",
    "else:\n",
    "    test = dataset.Dataset('../input/test.npz', use_features=use_features)\n",
    "test.x.shape, test.y.shape"
   ]
  },
  {
   "cell_type": "code",
   "execution_count": 7,
   "metadata": {},
   "outputs": [
    {
     "name": "stdout",
     "output_type": "stream",
     "text": [
      "CPU times: user 910 ms, sys: 1.47 s, total: 2.38 s\n",
      "Wall time: 3.02 s\n"
     ]
    },
    {
     "data": {
      "text/plain": [
       "((223549, 3072), (223549,))"
      ]
     },
     "execution_count": 7,
     "metadata": {},
     "output_type": "execute_result"
    }
   ],
   "source": [
    "%%time\n",
    "if debug:\n",
    "    train = dataset.Dataset('../input/jigsaw-toxic-comment-trai_debug_32.npz')\n",
    "else:\n",
    "    train = dataset.Dataset('../input/jigsaw-toxic-comment-train.npz', use_features=use_features)\n",
    "train.x.shape, train.y.shape"
   ]
  },
  {
   "cell_type": "markdown",
   "metadata": {},
   "source": [
    "## Model"
   ]
  },
  {
   "cell_type": "code",
   "execution_count": 8,
   "metadata": {},
   "outputs": [
    {
     "data": {
      "text/plain": [
       "<module 'models' from '../src/models.py'>"
      ]
     },
     "execution_count": 8,
     "metadata": {},
     "output_type": "execute_result"
    }
   ],
   "source": [
    "reload(models)"
   ]
  },
  {
   "cell_type": "code",
   "execution_count": 4,
   "metadata": {},
   "outputs": [],
   "source": [
    "backbone = XLMRobertaModel(XLMRobertaConfig.from_pretrained('xlm-roberta-large'))"
   ]
  },
  {
   "cell_type": "code",
   "execution_count": 150,
   "metadata": {},
   "outputs": [],
   "source": [
    "# to reload the module and not overload gpu\n",
    "del model"
   ]
  },
  {
   "cell_type": "code",
   "execution_count": 11,
   "metadata": {},
   "outputs": [],
   "source": [
    "model = models.Model(backbone, mix=True, dropout=0.25)"
   ]
  },
  {
   "cell_type": "code",
   "execution_count": 9,
   "metadata": {},
   "outputs": [],
   "source": [
    "model = models.SimplePoolingHead(mix=False, dropout=0.5)\n",
    "# model = models.TransformersPoolingHead(mix=False, dropout=0.5)"
   ]
  },
  {
   "cell_type": "markdown",
   "metadata": {},
   "source": [
    "## Feature extraction"
   ]
  },
  {
   "cell_type": "code",
   "execution_count": 5,
   "metadata": {},
   "outputs": [
    {
     "name": "stdout",
     "output_type": "stream",
     "text": [
      "INFO: Pandarallel will run on 2 workers.\n",
      "INFO: Pandarallel will use Memory file system to transfer data between the main process and workers.\n"
     ]
    },
    {
     "name": "stderr",
     "output_type": "stream",
     "text": [
      "[nltk_data] Downloading package punkt to\n",
      "[nltk_data]     /gpfs/hpc/home/papkov/nltk_data...\n",
      "[nltk_data]   Package punkt is already up-to-date!\n"
     ]
    },
    {
     "data": {
      "text/plain": [
       "<module 'preprocessing' from '../src/preprocessing.py'>"
      ]
     },
     "execution_count": 5,
     "metadata": {},
     "output_type": "execute_result"
    }
   ],
   "source": [
    "reload(preprocessing)"
   ]
  },
  {
   "cell_type": "code",
   "execution_count": 6,
   "metadata": {},
   "outputs": [
    {
     "name": "stderr",
     "output_type": "stream",
     "text": [
      "feature extraction: 100%|##########| 63/63 [04:36<00:00,  4.38s/it]\n"
     ]
    }
   ],
   "source": [
    "preprocessing.extract_roberta_features_to_file('../input/validation.npz', backbone=backbone, device=device)"
   ]
  },
  {
   "cell_type": "code",
   "execution_count": 14,
   "metadata": {},
   "outputs": [
    {
     "name": "stderr",
     "output_type": "stream",
     "text": [
      "feature extraction: 100%|##########| 499/499 [36:46<00:00,  4.42s/it]\n"
     ]
    }
   ],
   "source": [
    "preprocessing.extract_roberta_features_to_file('../input/test.npz', backbone=backbone, device=device)"
   ]
  },
  {
   "cell_type": "code",
   "execution_count": null,
   "metadata": {},
   "outputs": [
    {
     "name": "stderr",
     "output_type": "stream",
     "text": [
      "feature extraction:  28%|##8       | 490/1747 [36:10<1:32:47,  4.43s/it]"
     ]
    }
   ],
   "source": [
    "preprocessing.extract_roberta_features_to_file('../input/jigsaw-toxic-comment-train.npz', backbone=backbone, device=device, batch_size=128)"
   ]
  },
  {
   "cell_type": "markdown",
   "metadata": {},
   "source": [
    "## Data loaders"
   ]
  },
  {
   "cell_type": "code",
   "execution_count": 22,
   "metadata": {},
   "outputs": [],
   "source": [
    "batch_size = 64\n",
    "num_workers = 8\n",
    "\n",
    "loader_train = D.DataLoader(train, \n",
    "                            sampler=train.weighted_sampler(), \n",
    "#                             shuffle=True,\n",
    "                            batch_size=batch_size, num_workers=num_workers)\n",
    "loader_valid = D.DataLoader(valid, \n",
    "                            batch_size=batch_size, num_workers=num_workers)\n",
    "loader_test = D.DataLoader(test, \n",
    "                           batch_size=batch_size, num_workers=num_workers)"
   ]
  },
  {
   "cell_type": "code",
   "execution_count": 11,
   "metadata": {},
   "outputs": [
    {
     "data": {
      "text/plain": [
       "(3493, 125, 998)"
      ]
     },
     "execution_count": 11,
     "metadata": {},
     "output_type": "execute_result"
    }
   ],
   "source": [
    "len(loader_train), len(loader_valid), len(loader_test)"
   ]
  },
  {
   "cell_type": "markdown",
   "metadata": {},
   "source": [
    "## Trainer"
   ]
  },
  {
   "cell_type": "code",
   "execution_count": 18,
   "metadata": {},
   "outputs": [
    {
     "data": {
      "text/plain": [
       "<module 'trainer' from '../src/trainer.py'>"
      ]
     },
     "execution_count": 18,
     "metadata": {},
     "output_type": "execute_result"
    }
   ],
   "source": [
    "reload(trainer)"
   ]
  },
  {
   "cell_type": "code",
   "execution_count": 19,
   "metadata": {},
   "outputs": [],
   "source": [
    "# we may optimize only head (with encoder pretrained)\n",
    "# optimizer = AdamW(model.head.parameters(), lr=1e-4)\n",
    "optimizer = AdamW(model.parameters(), lr=1e-4, weight_decay=1e-6)\n",
    "criterion = trainer.FocalLoss(gamma=2)\n",
    "scheduler = get_linear_schedule_with_warmup(optimizer, 5, 5)"
   ]
  },
  {
   "cell_type": "code",
   "execution_count": 23,
   "metadata": {},
   "outputs": [],
   "source": [
    "trnr = trainer.Trainer('head', model, \n",
    "                       loader_train, loader_valid, loader_test,\n",
    "                       epochs=10,\n",
    "                       monitor='val_loss',\n",
    "                       optimizer=optimizer,\n",
    "#                        criterion=criterion,\n",
    "#                        scheduler=scheduler,\n",
    "                      )"
   ]
  },
  {
   "cell_type": "markdown",
   "metadata": {},
   "source": [
    "Sanity check for output"
   ]
  },
  {
   "cell_type": "code",
   "execution_count": 34,
   "metadata": {},
   "outputs": [],
   "source": [
    "x, y, am = next(iter(loader_train))"
   ]
  },
  {
   "cell_type": "code",
   "execution_count": 21,
   "metadata": {},
   "outputs": [],
   "source": [
    "#out, loss = trnr(x, y, am)"
   ]
  },
  {
   "cell_type": "code",
   "execution_count": 22,
   "metadata": {
    "scrolled": true
   },
   "outputs": [
    {
     "data": {
      "text/plain": [
       "tensor([[1.0928, 1.2950],\n",
       "        [0.8992, 1.2395],\n",
       "        [1.1048, 1.3800],\n",
       "        [1.1402, 1.3978]], device='cuda:0', grad_fn=<AddmmBackward>)"
      ]
     },
     "execution_count": 22,
     "metadata": {},
     "output_type": "execute_result"
    }
   ],
   "source": [
    "#out"
   ]
  },
  {
   "cell_type": "code",
   "execution_count": 23,
   "metadata": {},
   "outputs": [
    {
     "data": {
      "text/plain": [
       "tensor(0.6357, device='cuda:0', grad_fn=<MeanBackward0>)"
      ]
     },
     "execution_count": 23,
     "metadata": {},
     "output_type": "execute_result"
    }
   ],
   "source": [
    "#loss"
   ]
  },
  {
   "cell_type": "markdown",
   "metadata": {},
   "source": [
    "## Training"
   ]
  },
  {
   "cell_type": "code",
   "execution_count": 24,
   "metadata": {},
   "outputs": [
    {
     "name": "stderr",
     "output_type": "stream",
     "text": [
      "ep. 0000 (lr 1.00e-04): 100%|##########| 669/669 [00:05<00:00, 132.90it/s, loss=0.64, acc=0.64]  \n",
      "valid: 100%|##########| 125/125 [00:00<00:00, 232.76it/s]\n",
      "ep. 0002 (lr 9.05e-05):  58%|#####7    | 2015/3493 [00:37<00:12, 118.20it/s, loss=0.297, acc=0.904]"
     ]
    },
    {
     "name": "stdout",
     "output_type": "stream",
     "text": [
      "Epoch 0 complete. loss=0.6002, val_loss=0.7908, val_acc=0.3807, val_auc=0.5613\n",
      "Saved model to ../checkpoints//head_last.pth\n"
     ]
    },
    {
     "name": "stderr",
     "output_type": "stream",
     "text": [
      "ep. 0001 (lr 9.76e-05): 100%|##########| 669/669 [00:05<00:00, 133.50it/s, loss=0.636, acc=0.644]\n",
      "valid: 100%|##########| 125/125 [00:00<00:00, 175.08it/s]\n",
      "ep. 0002 (lr 9.05e-05):  58%|#####7    | 2015/3493 [00:45<00:12, 118.20it/s, loss=0.297, acc=0.904]"
     ]
    },
    {
     "name": "stdout",
     "output_type": "stream",
     "text": [
      "Epoch 1 complete. loss=0.6212, val_loss=0.6470, val_acc=0.6541, val_auc=0.5606\n",
      "Saved model to ../checkpoints//head.pth\n"
     ]
    },
    {
     "name": "stderr",
     "output_type": "stream",
     "text": [
      "ep. 0002 (lr 9.05e-05): 100%|##########| 669/669 [00:05<00:00, 120.23it/s, loss=0.63, acc=0.648] \n",
      "valid: 100%|##########| 125/125 [00:00<00:00, 186.84it/s]\n",
      "ep. 0002 (lr 9.05e-05):  58%|#####7    | 2015/3493 [00:53<00:12, 118.20it/s, loss=0.297, acc=0.904]"
     ]
    },
    {
     "name": "stdout",
     "output_type": "stream",
     "text": [
      "Epoch 2 complete. loss=0.6243, val_loss=0.6557, val_acc=0.6396, val_auc=0.5638\n",
      "Saved model to ../checkpoints//head_last.pth\n"
     ]
    },
    {
     "name": "stderr",
     "output_type": "stream",
     "text": [
      "ep. 0003 (lr 7.94e-05): 100%|##########| 669/669 [00:04<00:00, 137.44it/s, loss=0.628, acc=0.651]\n",
      "valid: 100%|##########| 125/125 [00:00<00:00, 230.02it/s]\n",
      "ep. 0002 (lr 9.05e-05):  58%|#####7    | 2015/3493 [01:00<00:12, 118.20it/s, loss=0.297, acc=0.904]"
     ]
    },
    {
     "name": "stdout",
     "output_type": "stream",
     "text": [
      "Epoch 3 complete. loss=0.4341, val_loss=0.6606, val_acc=0.6295, val_auc=0.5663\n",
      "Saved model to ../checkpoints//head_last.pth\n"
     ]
    },
    {
     "name": "stderr",
     "output_type": "stream",
     "text": [
      "ep. 0004 (lr 6.55e-05): 100%|##########| 669/669 [00:05<00:00, 122.36it/s, loss=0.634, acc=0.646]\n",
      "valid: 100%|##########| 125/125 [00:00<00:00, 212.83it/s]\n",
      "ep. 0002 (lr 9.05e-05):  58%|#####7    | 2015/3493 [01:07<00:12, 118.20it/s, loss=0.297, acc=0.904]"
     ]
    },
    {
     "name": "stdout",
     "output_type": "stream",
     "text": [
      "Epoch 4 complete. loss=0.5589, val_loss=0.7334, val_acc=0.4850, val_auc=0.5658\n",
      "Saved model to ../checkpoints//head_last.pth\n"
     ]
    },
    {
     "name": "stderr",
     "output_type": "stream",
     "text": [
      "ep. 0005 (lr 5.00e-05): 100%|##########| 669/669 [00:05<00:00, 126.22it/s, loss=0.626, acc=0.652]\n",
      "valid: 100%|##########| 125/125 [00:00<00:00, 225.68it/s]\n",
      "ep. 0002 (lr 9.05e-05):  58%|#####7    | 2015/3493 [01:15<00:12, 118.20it/s, loss=0.297, acc=0.904]"
     ]
    },
    {
     "name": "stdout",
     "output_type": "stream",
     "text": [
      "Epoch 5 complete. loss=0.7629, val_loss=0.6771, val_acc=0.6008, val_auc=0.5653\n",
      "Saved model to ../checkpoints//head_last.pth\n"
     ]
    },
    {
     "name": "stderr",
     "output_type": "stream",
     "text": [
      "ep. 0006 (lr 3.45e-05): 100%|##########| 669/669 [00:05<00:00, 118.32it/s, loss=0.625, acc=0.653]\n",
      "valid: 100%|##########| 125/125 [00:00<00:00, 176.28it/s]\n",
      "ep. 0002 (lr 9.05e-05):  58%|#####7    | 2015/3493 [01:23<00:12, 118.20it/s, loss=0.297, acc=0.904]"
     ]
    },
    {
     "name": "stdout",
     "output_type": "stream",
     "text": [
      "Epoch 6 complete. loss=0.6498, val_loss=0.6605, val_acc=0.6320, val_auc=0.5664\n",
      "Saved model to ../checkpoints//head_last.pth\n"
     ]
    },
    {
     "name": "stderr",
     "output_type": "stream",
     "text": [
      "ep. 0007 (lr 2.06e-05): 100%|##########| 669/669 [00:04<00:00, 137.56it/s, loss=0.621, acc=0.658]\n",
      "valid: 100%|##########| 125/125 [00:00<00:00, 214.33it/s]\n",
      "ep. 0002 (lr 9.05e-05):  58%|#####7    | 2015/3493 [01:30<00:12, 118.20it/s, loss=0.297, acc=0.904]"
     ]
    },
    {
     "name": "stdout",
     "output_type": "stream",
     "text": [
      "Epoch 7 complete. loss=0.6559, val_loss=0.5858, val_acc=0.7488, val_auc=0.5660\n",
      "Saved model to ../checkpoints//head.pth\n"
     ]
    },
    {
     "name": "stderr",
     "output_type": "stream",
     "text": [
      "ep. 0008 (lr 9.55e-06): 100%|##########| 669/669 [00:05<00:00, 131.19it/s, loss=0.622, acc=0.659]\n",
      "valid: 100%|##########| 125/125 [00:00<00:00, 193.00it/s]\n",
      "ep. 0002 (lr 9.05e-05):  58%|#####7    | 2015/3493 [01:38<00:12, 118.20it/s, loss=0.297, acc=0.904]"
     ]
    },
    {
     "name": "stdout",
     "output_type": "stream",
     "text": [
      "Epoch 8 complete. loss=0.4891, val_loss=0.6460, val_acc=0.6591, val_auc=0.5654\n",
      "Saved model to ../checkpoints//head_last.pth\n"
     ]
    },
    {
     "name": "stderr",
     "output_type": "stream",
     "text": [
      "ep. 0009 (lr 2.45e-06): 100%|##########| 669/669 [00:05<00:00, 122.64it/s, loss=0.619, acc=0.661]\n",
      "valid: 100%|##########| 125/125 [00:00<00:00, 221.04it/s]\n",
      "ep. 0002 (lr 9.05e-05):  58%|#####7    | 2015/3493 [01:46<00:12, 118.20it/s, loss=0.297, acc=0.904]"
     ]
    },
    {
     "name": "stdout",
     "output_type": "stream",
     "text": [
      "Epoch 9 complete. loss=0.5682, val_loss=0.6390, val_acc=0.6744, val_auc=0.5654\n",
      "Saved model to ../checkpoints//head_last.pth\n"
     ]
    }
   ],
   "source": [
    "trnr.fit()"
   ]
  },
  {
   "cell_type": "markdown",
   "metadata": {},
   "source": [
    "## Prediction"
   ]
  },
  {
   "cell_type": "code",
   "execution_count": 148,
   "metadata": {},
   "outputs": [
    {
     "name": "stderr",
     "output_type": "stream",
     "text": [
      "valid: 100%|##########| 125/125 [00:00<00:00, 217.28it/s]\n"
     ]
    }
   ],
   "source": [
    "pred, loss, acc, auc = trnr.validate()"
   ]
  },
  {
   "cell_type": "code",
   "execution_count": 19,
   "metadata": {},
   "outputs": [
    {
     "name": "stderr",
     "output_type": "stream",
     "text": [
      "test: 100%|##########| 31906/31906 [38:58<00:00, 13.65it/s]\n"
     ]
    }
   ],
   "source": [
    "pred, loss, acc = trnr.test()"
   ]
  },
  {
   "cell_type": "code",
   "execution_count": 22,
   "metadata": {},
   "outputs": [
    {
     "data": {
      "text/plain": [
       "2.320265071657932"
      ]
     },
     "execution_count": 22,
     "metadata": {},
     "output_type": "execute_result"
    }
   ],
   "source": [
    "loss"
   ]
  }
 ],
 "metadata": {
  "kernelspec": {
   "display_name": "peenv (conda)",
   "language": "python",
   "name": "peenv36"
  },
  "language_info": {
   "codemirror_mode": {
    "name": "ipython",
    "version": 3
   },
   "file_extension": ".py",
   "mimetype": "text/x-python",
   "name": "python",
   "nbconvert_exporter": "python",
   "pygments_lexer": "ipython3",
   "version": "3.7.4"
  }
 },
 "nbformat": 4,
 "nbformat_minor": 2
}
