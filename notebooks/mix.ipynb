{
 "cells": [
  {
   "cell_type": "code",
   "execution_count": 4,
   "metadata": {},
   "outputs": [],
   "source": [
    "import os\n",
    "import sys\n",
    "from importlib import reload\n",
    "\n",
    "sys.path.append('../src')\n",
    "\n",
    "import mix\n",
    "import torch"
   ]
  },
  {
   "cell_type": "code",
   "execution_count": 15,
   "metadata": {},
   "outputs": [
    {
     "data": {
      "text/plain": [
       "tensor([[0, 1],\n",
       "        [0, 1],\n",
       "        [0, 1],\n",
       "        [0, 1],\n",
       "        [0, 1],\n",
       "        [0, 1],\n",
       "        [0, 1],\n",
       "        [1, 0],\n",
       "        [1, 0],\n",
       "        [1, 0],\n",
       "        [1, 0],\n",
       "        [1, 0],\n",
       "        [1, 0],\n",
       "        [1, 0],\n",
       "        [1, 0]])"
      ]
     },
     "execution_count": 15,
     "metadata": {},
     "output_type": "execute_result"
    }
   ],
   "source": [
    "x = torch.tensor([[0,1],\n",
    "                 [0,1],\n",
    "                 [0,1],\n",
    "                 [0,1],\n",
    "                 [0,1],\n",
    "                 [0,1],\n",
    "                 [0,1],\n",
    "                 [1,0],\n",
    "                 [1,0],\n",
    "                 [1,0],\n",
    "                 [1,0],\n",
    "                 [1,0],\n",
    "                 [1,0],\n",
    "                 [1,0],\n",
    "                 [1,0],]\n",
    "                )\n",
    "x"
   ]
  },
  {
   "cell_type": "code",
   "execution_count": 16,
   "metadata": {},
   "outputs": [],
   "source": [
    "reload(mix)\n",
    "mixup = mix.Mixup()"
   ]
  },
  {
   "cell_type": "code",
   "execution_count": 18,
   "metadata": {},
   "outputs": [
    {
     "data": {
      "text/plain": [
       "tensor([[8.3067e-03, 9.9169e-01],\n",
       "        [2.8268e-01, 7.1732e-01],\n",
       "        [3.3389e-01, 6.6611e-01],\n",
       "        [0.0000e+00, 1.0000e+00],\n",
       "        [0.0000e+00, 1.0000e+00],\n",
       "        [0.0000e+00, 1.0000e+00],\n",
       "        [2.8399e-03, 9.9716e-01],\n",
       "        [1.0000e+00, 0.0000e+00],\n",
       "        [9.9988e-01, 1.1861e-04],\n",
       "        [8.1798e-01, 1.8202e-01],\n",
       "        [1.0000e+00, 0.0000e+00],\n",
       "        [1.0000e+00, 0.0000e+00],\n",
       "        [1.0000e+00, 0.0000e+00],\n",
       "        [9.9989e-01, 1.1009e-04],\n",
       "        [9.4692e-01, 5.3079e-02]])"
      ]
     },
     "execution_count": 18,
     "metadata": {},
     "output_type": "execute_result"
    }
   ],
   "source": [
    "mixup(x)"
   ]
  },
  {
   "cell_type": "code",
   "execution_count": 174,
   "metadata": {},
   "outputs": [],
   "source": [
    "reload(mix)\n",
    "cutmix = mix.Cutmix(continuous=False)"
   ]
  },
  {
   "cell_type": "code",
   "execution_count": 175,
   "metadata": {},
   "outputs": [
    {
     "data": {
      "text/plain": [
       "tensor([[0, 9, 3, 1, 9, 2, 6, 2, 7, 0, 7, 2, 1, 1, 7, 9, 1, 4, 0, 3, 4, 8, 5, 7,\n",
       "         5, 0, 7, 1, 9, 6, 5, 3, 8, 3, 1, 6, 9, 2, 0, 6, 7, 6, 1, 2, 5, 0, 3, 3,\n",
       "         8, 1, 1, 8, 7, 0, 3, 1, 7, 0, 8, 7, 4, 0, 8, 0, 8, 0, 7, 0, 1, 1, 5, 8,\n",
       "         2, 7, 5, 4, 2, 3, 2, 7, 9, 3, 8, 9, 4, 0, 6, 3, 7, 6, 9, 1, 0, 6, 5, 1,\n",
       "         1, 2, 5, 6],\n",
       "        [6, 3, 4, 1, 3, 9, 1, 5, 3, 4, 7, 4, 7, 4, 8, 5, 7, 0, 5, 9, 6, 7, 0, 0,\n",
       "         2, 3, 1, 0, 2, 4, 7, 8, 3, 6, 5, 2, 1, 5, 1, 2, 9, 6, 2, 0, 4, 9, 5, 4,\n",
       "         0, 8, 1, 3, 7, 5, 0, 1, 4, 3, 4, 1, 4, 6, 9, 4, 1, 9, 1, 0, 9, 9, 9, 2,\n",
       "         9, 2, 5, 5, 1, 1, 7, 9, 1, 8, 0, 5, 2, 6, 4, 9, 2, 2, 4, 4, 8, 3, 6, 5,\n",
       "         3, 2, 4, 4],\n",
       "        [7, 5, 7, 2, 1, 7, 1, 7, 1, 5, 0, 7, 2, 8, 4, 3, 0, 5, 1, 6, 5, 2, 6, 7,\n",
       "         6, 1, 8, 4, 9, 7, 6, 9, 2, 0, 8, 5, 2, 1, 5, 3, 4, 5, 8, 5, 6, 4, 6, 7,\n",
       "         6, 9, 0, 8, 9, 3, 9, 7, 8, 7, 5, 6, 9, 0, 6, 8, 0, 9, 1, 4, 5, 5, 0, 1,\n",
       "         0, 7, 8, 1, 5, 2, 2, 8, 7, 7, 3, 9, 8, 8, 2, 9, 1, 8, 0, 3, 6, 8, 1, 5,\n",
       "         7, 1, 8, 7],\n",
       "        [5, 1, 8, 5, 2, 5, 6, 7, 6, 7, 0, 7, 1, 5, 8, 6, 6, 6, 9, 9, 9, 8, 7, 5,\n",
       "         1, 4, 8, 0, 9, 8, 7, 1, 3, 2, 5, 2, 0, 7, 7, 0, 7, 2, 8, 6, 9, 4, 0, 9,\n",
       "         1, 1, 8, 0, 1, 7, 3, 0, 1, 9, 9, 1, 9, 2, 1, 0, 5, 7, 6, 5, 5, 8, 2, 2,\n",
       "         4, 3, 5, 9, 1, 0, 0, 4, 0, 9, 7, 5, 6, 4, 4, 5, 9, 9, 3, 5, 7, 3, 3, 8,\n",
       "         7, 3, 1, 4]])"
      ]
     },
     "execution_count": 175,
     "metadata": {},
     "output_type": "execute_result"
    }
   ],
   "source": [
    "x = (torch.rand(4,100) * 10).long()\n",
    "x"
   ]
  },
  {
   "cell_type": "code",
   "execution_count": 177,
   "metadata": {},
   "outputs": [
    {
     "data": {
      "text/plain": [
       "tensor([[5, 9, 3, 1, 2, 5, 6, 7, 7, 7, 0, 2, 1, 1, 8, 9, 1, 4, 0, 9, 9, 8, 5, 5,\n",
       "         5, 0, 7, 0, 9, 8, 5, 3, 8, 3, 5, 6, 0, 7, 7, 6, 7, 6, 1, 2, 5, 0, 3, 9,\n",
       "         8, 1, 1, 0, 7, 0, 3, 0, 1, 0, 8, 1, 9, 2, 1, 0, 8, 0, 7, 5, 5, 1, 5, 8,\n",
       "         2, 7, 5, 4, 1, 3, 2, 7, 9, 3, 8, 9, 4, 4, 4, 5, 9, 6, 9, 5, 0, 3, 5, 1,\n",
       "         1, 2, 5, 4],\n",
       "        [6, 3, 4, 1, 3, 9, 1, 5, 3, 4, 7, 4, 7, 4, 8, 5, 0, 0, 5, 6, 6, 7, 0, 7,\n",
       "         2, 1, 8, 0, 9, 7, 7, 8, 3, 6, 8, 2, 1, 5, 5, 3, 9, 6, 2, 0, 4, 9, 5, 4,\n",
       "         0, 8, 1, 3, 7, 3, 0, 1, 4, 7, 4, 1, 4, 6, 9, 4, 1, 9, 1, 0, 9, 9, 9, 2,\n",
       "         9, 2, 8, 5, 1, 1, 7, 9, 1, 7, 0, 5, 8, 8, 2, 9, 2, 8, 4, 3, 6, 3, 6, 5,\n",
       "         3, 2, 4, 4],\n",
       "        [7, 5, 7, 2, 9, 7, 1, 2, 1, 0, 7, 2, 1, 8, 4, 3, 1, 5, 1, 6, 4, 2, 5, 7,\n",
       "         5, 1, 7, 4, 9, 6, 6, 3, 2, 0, 8, 6, 2, 2, 5, 3, 4, 6, 8, 5, 5, 4, 6, 7,\n",
       "         6, 1, 0, 8, 9, 3, 3, 7, 8, 7, 5, 6, 9, 0, 6, 0, 8, 9, 1, 0, 5, 5, 0, 8,\n",
       "         0, 7, 8, 1, 5, 2, 2, 7, 7, 3, 8, 9, 8, 0, 2, 3, 7, 8, 0, 1, 6, 8, 5, 1,\n",
       "         1, 1, 5, 6],\n",
       "        [5, 3, 8, 5, 2, 5, 6, 7, 6, 7, 0, 7, 1, 5, 8, 6, 6, 6, 9, 9, 9, 8, 7, 5,\n",
       "         1, 4, 8, 0, 9, 8, 7, 1, 3, 2, 5, 2, 0, 7, 7, 0, 7, 2, 8, 0, 9, 4, 0, 9,\n",
       "         1, 1, 8, 0, 1, 7, 3, 0, 4, 9, 9, 1, 9, 2, 1, 4, 5, 7, 6, 0, 9, 8, 2, 2,\n",
       "         4, 3, 5, 9, 1, 0, 7, 4, 0, 9, 7, 5, 6, 6, 4, 5, 9, 9, 3, 5, 7, 3, 3, 8,\n",
       "         7, 3, 1, 4]])"
      ]
     },
     "execution_count": 177,
     "metadata": {},
     "output_type": "execute_result"
    }
   ],
   "source": [
    "cutmix(x)"
   ]
  },
  {
   "cell_type": "code",
   "execution_count": 178,
   "metadata": {},
   "outputs": [
    {
     "data": {
      "text/plain": [
       "tensor([0.6342, 0.7987, 0.6191, 0.9104])"
      ]
     },
     "execution_count": 178,
     "metadata": {},
     "output_type": "execute_result"
    }
   ],
   "source": [
    "cutmix.lam"
   ]
  },
  {
   "cell_type": "code",
   "execution_count": 179,
   "metadata": {},
   "outputs": [
    {
     "data": {
      "text/plain": [
       "torch.Size([4, 100])"
      ]
     },
     "execution_count": 179,
     "metadata": {},
     "output_type": "execute_result"
    }
   ],
   "source": [
    "cutmix.mask.shape"
   ]
  },
  {
   "cell_type": "code",
   "execution_count": 180,
   "metadata": {},
   "outputs": [
    {
     "data": {
      "text/plain": [
       "tensor([[ True, False, False, False,  True,  True, False,  True, False,  True,\n",
       "          True, False,  True, False,  True, False, False, False, False,  True,\n",
       "          True,  True, False,  True, False, False, False,  True,  True,  True,\n",
       "         False, False, False, False,  True, False,  True,  True,  True, False,\n",
       "         False, False, False, False, False, False, False,  True, False, False,\n",
       "         False,  True, False, False, False,  True,  True, False, False,  True,\n",
       "          True,  True,  True, False, False, False, False,  True,  True, False,\n",
       "         False, False, False, False, False, False,  True, False, False, False,\n",
       "         False, False, False, False, False,  True,  True,  True,  True, False,\n",
       "         False,  True, False,  True, False, False, False, False, False,  True],\n",
       "        [False, False, False, False, False, False, False, False, False, False,\n",
       "         False, False, False, False, False, False,  True, False, False,  True,\n",
       "         False, False, False,  True, False,  True,  True, False,  True,  True,\n",
       "         False, False, False, False,  True, False, False, False,  True,  True,\n",
       "         False, False, False, False, False, False, False, False, False, False,\n",
       "         False, False, False,  True, False, False, False,  True, False, False,\n",
       "         False, False, False, False, False, False, False, False, False, False,\n",
       "         False, False, False, False,  True, False, False, False, False, False,\n",
       "         False,  True, False, False,  True,  True,  True, False, False,  True,\n",
       "         False,  True,  True, False, False,  True, False, False, False, False],\n",
       "        [False, False, False, False,  True, False, False,  True, False,  True,\n",
       "          True,  True,  True, False, False, False,  True, False, False, False,\n",
       "          True, False,  True,  True,  True, False,  True, False, False,  True,\n",
       "         False,  True, False, False, False,  True, False,  True, False, False,\n",
       "         False,  True, False, False,  True, False, False, False, False,  True,\n",
       "         False,  True, False, False,  True, False, False, False, False, False,\n",
       "         False,  True, False,  True,  True, False, False,  True, False, False,\n",
       "         False,  True, False,  True, False, False, False, False, False,  True,\n",
       "         False,  True,  True, False, False,  True, False,  True,  True, False,\n",
       "         False,  True, False, False,  True,  True,  True, False,  True,  True],\n",
       "        [False,  True, False, False, False, False, False, False, False, False,\n",
       "         False, False, False, False, False, False, False, False, False, False,\n",
       "         False, False, False, False, False, False, False, False, False, False,\n",
       "         False, False, False, False, False, False, False, False, False, False,\n",
       "         False, False, False,  True, False, False, False, False, False, False,\n",
       "         False, False, False, False, False, False,  True, False, False, False,\n",
       "         False, False, False,  True, False, False, False,  True,  True, False,\n",
       "         False, False, False, False, False, False, False, False,  True, False,\n",
       "         False, False, False,  True, False,  True, False, False, False, False,\n",
       "         False, False, False, False, False, False, False, False, False, False]])"
      ]
     },
     "execution_count": 180,
     "metadata": {},
     "output_type": "execute_result"
    }
   ],
   "source": [
    "cutmix.mask"
   ]
  },
  {
   "cell_type": "code",
   "execution_count": 115,
   "metadata": {},
   "outputs": [
    {
     "data": {
      "text/plain": [
       "True"
      ]
     },
     "execution_count": 115,
     "metadata": {},
     "output_type": "execute_result"
    }
   ],
   "source": [
    "bool(1)"
   ]
  },
  {
   "cell_type": "code",
   "execution_count": 106,
   "metadata": {},
   "outputs": [
    {
     "data": {
      "text/plain": [
       "tensor([0.9814, 0.7586, 0.9977, 0.6013])"
      ]
     },
     "execution_count": 106,
     "metadata": {},
     "output_type": "execute_result"
    }
   ],
   "source": [
    "cutmix.lam"
   ]
  },
  {
   "cell_type": "code",
   "execution_count": 108,
   "metadata": {},
   "outputs": [
    {
     "data": {
      "text/plain": [
       "tensor([1, 1, 1, 1])"
      ]
     },
     "execution_count": 108,
     "metadata": {},
     "output_type": "execute_result"
    }
   ],
   "source": [
    "cutmix.mask.sum(1)"
   ]
  },
  {
   "cell_type": "code",
   "execution_count": null,
   "metadata": {},
   "outputs": [],
   "source": []
  }
 ],
 "metadata": {
  "kernelspec": {
   "display_name": "peenv (conda)",
   "language": "python",
   "name": "peenv36"
  },
  "language_info": {
   "codemirror_mode": {
    "name": "ipython",
    "version": 3
   },
   "file_extension": ".py",
   "mimetype": "text/x-python",
   "name": "python",
   "nbconvert_exporter": "python",
   "pygments_lexer": "ipython3",
   "version": "3.7.4"
  }
 },
 "nbformat": 4,
 "nbformat_minor": 2
}
