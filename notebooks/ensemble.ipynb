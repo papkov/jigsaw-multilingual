{
 "cells": [
  {
   "cell_type": "code",
   "execution_count": 1,
   "metadata": {},
   "outputs": [
    {
     "name": "stderr",
     "output_type": "stream",
     "text": [
      "[nltk_data] Downloading package punkt to\n",
      "[nltk_data]     /gpfs/hpc/home/papkov/nltk_data...\n",
      "[nltk_data]   Package punkt is already up-to-date!\n"
     ]
    },
    {
     "name": "stdout",
     "output_type": "stream",
     "text": [
      "INFO: Pandarallel will run on 2 workers.\n",
      "INFO: Pandarallel will use Memory file system to transfer data between the main process and workers.\n",
      "use cuda\n"
     ]
    }
   ],
   "source": [
    "import os\n",
    "import sys\n",
    "from importlib import reload\n",
    "\n",
    "import pandas as pd\n",
    "import numpy as np\n",
    "\n",
    "import matplotlib.pyplot as plt\n",
    "import seaborn as sns\n",
    "from tqdm import tqdm\n",
    "\n",
    "import torch\n",
    "from torch.utils import data as D\n",
    "# mixed precision\n",
    "from apex import amp\n",
    "\n",
    "# Local imports\n",
    "sys.path.append('../src')\n",
    "import dataset\n",
    "import trainer\n",
    "import models\n",
    "import utils\n",
    "import preprocessing\n",
    "import mix\n",
    "import transforms\n",
    "\n",
    "# Transformers\n",
    "import transformers\n",
    "from transformers import XLMRobertaModel, XLMRobertaTokenizer, XLMRobertaConfig\n",
    "from transformers import AdamW, get_linear_schedule_with_warmup, get_constant_schedule\n",
    "\n",
    "# Prediction analysis\n",
    "from sklearn.metrics import roc_auc_score, accuracy_score\n",
    "from scipy.special import softmax\n",
    "from sklearn.calibration import calibration_curve\n",
    "\n",
    "# Setup device\n",
    "os.environ['CUDA_VISIBLE_DEVICES'] = '0'\n",
    "device = 'cuda' if torch.cuda.is_available() else 'cpu'\n",
    "\n",
    "# Seed \n",
    "util.seed_everything()\n",
    "\n",
    "print('use', device)"
   ]
  },
  {
   "cell_type": "code",
   "execution_count": 2,
   "metadata": {},
   "outputs": [],
   "source": [
    "from transformers import AutoTokenizer \n",
    "backbone_name = 'xlm-roberta-large'\n",
    "tokenizer = AutoTokenizer.from_pretrained(backbone_name)"
   ]
  },
  {
   "cell_type": "code",
   "execution_count": 3,
   "metadata": {},
   "outputs": [
    {
     "data": {
      "text/plain": [
       "(1000, 7977)"
      ]
     },
     "execution_count": 3,
     "metadata": {},
     "output_type": "execute_result"
    }
   ],
   "source": [
    "batch_size = 8\n",
    "batch_size_val = 8\n",
    "num_workers = 8\n",
    "max_length = 256\n",
    "\n",
    "valid = dataset.TokenizerDataset('../input/jigsaw_miltilingual_valid_translated.csv', max_length=max_length,\n",
    "                                 tokenizer=tokenizer, text_column='comment_text')\n",
    "test = dataset.TokenizerDataset('../input/jigsaw_miltilingual_test_translated.csv', max_length=max_length,\n",
    "                                tokenizer=tokenizer, text_column='content')\n",
    "\n",
    "loader_valid = D.DataLoader(valid, \n",
    "                            batch_size=batch_size_val, num_workers=num_workers)\n",
    "\n",
    "loader_test = D.DataLoader(test, \n",
    "                           batch_size=batch_size_val, num_workers=num_workers)\n",
    "\n",
    "len(loader_valid), len(loader_test)"
   ]
  },
  {
   "cell_type": "code",
   "execution_count": 4,
   "metadata": {},
   "outputs": [],
   "source": [
    "model_list = ['roberta_simple_cls_multilingual_translated_1e-3_1e-5_wd=1e-5_tanh_do=0_from_mlm_uncleaned',\n",
    "              'roberta_simple_cls_multilingual_translated_2e-5_tanh_do=0_from_mlm',\n",
    "              'roberta_simple_cls_multilingual_translated_1e-3_1e-5_tanh_do=0_from_mlm_uncleaned']"
   ]
  },
  {
   "cell_type": "markdown",
   "metadata": {},
   "source": [
    "### Average model weights"
   ]
  },
  {
   "cell_type": "code",
   "execution_count": 5,
   "metadata": {},
   "outputs": [],
   "source": [
    "def average_weights(model_list, root='../checkpoints/'):\n",
    "    states = [torch.load(f'{root}/{model_name}.pth', map_location='cpu')['model'] for model_name in tqdm(model_list, position=0, desc='load model')]\n",
    "    output_state = states[0]\n",
    "    for k in tqdm(output_state.keys(), position=0, desc='copy keys'):\n",
    "        output_state[k] = torch.stack([s[k] for s in states]).mean(0)\n",
    "    return output_state"
   ]
  },
  {
   "cell_type": "code",
   "execution_count": 6,
   "metadata": {},
   "outputs": [],
   "source": [
    "# del model, head, backbone, optimizer"
   ]
  },
  {
   "cell_type": "code",
   "execution_count": 7,
   "metadata": {},
   "outputs": [],
   "source": [
    "head = models.SimplePoolingHead(in_features=1024, mix=None, dropout=0.0, activation='tanh')\n",
    "backbone = XLMRobertaModel.from_pretrained(backbone_name, output_hidden_states=False, num_labels=1)\n",
    "model = models.Model(backbone=backbone, head=head, mix=None, mix_pos='word', features=['cls'])"
   ]
  },
  {
   "cell_type": "code",
   "execution_count": 8,
   "metadata": {},
   "outputs": [
    {
     "name": "stderr",
     "output_type": "stream",
     "text": [
      "load model: 100%|██████████| 3/3 [00:43<00:00, 14.38s/it]\n",
      "copy keys: 100%|██████████| 393/393 [00:04<00:00, 92.03it/s] \n"
     ]
    },
    {
     "data": {
      "text/plain": [
       "<All keys matched successfully>"
      ]
     },
     "execution_count": 8,
     "metadata": {},
     "output_type": "execute_result"
    }
   ],
   "source": [
    "state = average_weights(model_list)\n",
    "model.load_state_dict(state)"
   ]
  },
  {
   "cell_type": "code",
   "execution_count": null,
   "metadata": {},
   "outputs": [],
   "source": [
    "trnr = trainer.Trainer('test', model, loader_valid, loader_valid, loader_test)"
   ]
  },
  {
   "cell_type": "code",
   "execution_count": 11,
   "metadata": {},
   "outputs": [],
   "source": [
    "trnr.model.to(device);"
   ]
  },
  {
   "cell_type": "code",
   "execution_count": 12,
   "metadata": {},
   "outputs": [
    {
     "name": "stderr",
     "output_type": "stream",
     "text": [
      "predict: 100%|##########| 1000/1000 [02:16<00:00,  7.32it/s]\n"
     ]
    }
   ],
   "source": [
    "pred_wa, loss, acc, auc = trnr.predict(loader=loader_valid)"
   ]
  },
  {
   "cell_type": "code",
   "execution_count": 13,
   "metadata": {},
   "outputs": [
    {
     "data": {
      "text/plain": [
       "0.9477328241524661"
      ]
     },
     "execution_count": 13,
     "metadata": {},
     "output_type": "execute_result"
    }
   ],
   "source": [
    "auc"
   ]
  },
  {
   "cell_type": "code",
   "execution_count": 14,
   "metadata": {},
   "outputs": [
    {
     "name": "stdout",
     "output_type": "stream",
     "text": [
      "Loaded model from ../checkpoints//roberta_simple_cls_multilingual_translated_1e-3_1e-5_wd=1e-5_tanh_do=0_from_mlm_uncleaned.pth\n",
      "epoch 3, loss: 0.2006 val_loss: 0.2828 val_acc: 0.8602 val_auc: 0.9470 \n"
     ]
    },
    {
     "name": "stderr",
     "output_type": "stream",
     "text": [
      "predict: 100%|##########| 1000/1000 [02:17<00:00,  7.28it/s]\n"
     ]
    },
    {
     "name": "stdout",
     "output_type": "stream",
     "text": [
      "Loaded model from ../checkpoints//roberta_simple_cls_multilingual_translated_2e-5_tanh_do=0_from_mlm.pth\n",
      "epoch 1, loss: 0.2018 val_loss: 0.2948 val_acc: 0.8542 val_auc: 0.9465 \n"
     ]
    },
    {
     "name": "stderr",
     "output_type": "stream",
     "text": [
      "predict: 100%|##########| 1000/1000 [02:17<00:00,  7.26it/s]\n"
     ]
    },
    {
     "name": "stdout",
     "output_type": "stream",
     "text": [
      "Loaded model from ../checkpoints//roberta_simple_cls_multilingual_translated_1e-3_1e-5_tanh_do=0_from_mlm_uncleaned.pth\n",
      "epoch 1, loss: 0.2111 val_loss: 0.2619 val_acc: 0.8724 val_auc: 0.9470 \n"
     ]
    },
    {
     "name": "stderr",
     "output_type": "stream",
     "text": [
      "predict: 100%|##########| 1000/1000 [02:18<00:00,  7.24it/s]\n"
     ]
    }
   ],
   "source": [
    "predictions = []\n",
    "for name in model_list:\n",
    "    trnr = trainer.Trainer(name, model, loader_valid, loader_valid, loader_test)\n",
    "    trnr.load_checkpoint(ignore=['optimizer', 'scheduler'])\n",
    "    predictions.append(trnr.predict(loader=loader_valid)[0])"
   ]
  },
  {
   "cell_type": "code",
   "execution_count": 15,
   "metadata": {},
   "outputs": [],
   "source": [
    "def prediction_analysis(pred, y):\n",
    "    smpred = softmax(pred / 1, 1)[:,1]\n",
    "    acc = accuracy_score(y, np.round(smpred))\n",
    "    auc = roc_auc_score(y, smpred)\n",
    "    print(f'    acc {acc:.4f}, auc {auc:.4f}\\n')\n",
    "\n",
    "    for lang in ['es', 'it', 'tr']:\n",
    "        mask = valid.dataset['lang'] == lang\n",
    "        acc = accuracy_score(y[mask], np.round(smpred[mask]))\n",
    "        auc = roc_auc_score(y[mask], smpred[mask])\n",
    "        print(f'{lang}: acc {acc:.4f}, auc {auc:.4f}')\n",
    "        \n",
    "    fig, ax = plt.subplots(ncols=2, figsize=(7,3))\n",
    "    \n",
    "    ax[0].set_title('Score distribution')\n",
    "    sns.distplot(smpred[y == 0], ax=ax[0], label='non-toxic')\n",
    "    sns.distplot(smpred[y == 1], ax=ax[0], label='toxic')\n",
    "    ax[0].legend()\n",
    "    \n",
    "    ax[1].set_title('Calibration plot')\n",
    "    ax[1].plot(*calibration_curve(y, smpred), 's-')\n",
    "    plt.show()"
   ]
  },
  {
   "cell_type": "code",
   "execution_count": 16,
   "metadata": {},
   "outputs": [
    {
     "name": "stdout",
     "output_type": "stream",
     "text": [
      "    acc 0.8604, auc 0.9471\n",
      "\n",
      "es: acc 0.8064, auc 0.9340\n",
      "it: acc 0.7936, auc 0.9131\n",
      "tr: acc 0.9610, auc 0.9878\n"
     ]
    },
    {
     "data": {
      "image/png": "[encoded data removed]",
      "text/plain": [
       "<Figure size 504x216 with 2 Axes>"
      ]
     },
     "metadata": {
      "needs_background": "light"
     },
     "output_type": "display_data"
    }
   ],
   "source": [
    "prediction_analysis(predictions[0], valid.y)"
   ]
  },
  {
   "cell_type": "code",
   "execution_count": 17,
   "metadata": {},
   "outputs": [
    {
     "name": "stdout",
     "output_type": "stream",
     "text": [
      "    acc 0.8542, auc 0.9465\n",
      "\n",
      "es: acc 0.7964, auc 0.9313\n",
      "it: acc 0.7844, auc 0.9114\n",
      "tr: acc 0.9607, auc 0.9858\n"
     ]
    },
    {
     "data": {
      "image/png": "[encoded data removed]",
      "text/plain": [
       "<Figure size 504x216 with 2 Axes>"
      ]
     },
     "metadata": {
      "needs_background": "light"
     },
     "output_type": "display_data"
    }
   ],
   "source": [
    "prediction_analysis(predictions[1], valid.y)"
   ]
  },
  {
   "cell_type": "code",
   "execution_count": 18,
   "metadata": {},
   "outputs": [
    {
     "name": "stdout",
     "output_type": "stream",
     "text": [
      "    acc 0.8725, auc 0.9471\n",
      "\n",
      "es: acc 0.8176, auc 0.9298\n",
      "it: acc 0.8188, auc 0.9163\n",
      "tr: acc 0.9630, auc 0.9863\n"
     ]
    },
    {
     "data": {
      "image/png": "[encoded data removed]",
      "text/plain": [
       "<Figure size 504x216 with 2 Axes>"
      ]
     },
     "metadata": {
      "needs_background": "light"
     },
     "output_type": "display_data"
    }
   ],
   "source": [
    "prediction_analysis(predictions[2], valid.y)"
   ]
  },
  {
   "cell_type": "code",
   "execution_count": 19,
   "metadata": {},
   "outputs": [
    {
     "name": "stdout",
     "output_type": "stream",
     "text": [
      "    acc 0.8580, auc 0.9477\n",
      "\n",
      "es: acc 0.8008, auc 0.9330\n",
      "it: acc 0.7904, auc 0.9152\n",
      "tr: acc 0.9620, auc 0.9869\n"
     ]
    },
    {
     "data": {
      "image/png": "[encoded data removed]",
      "text/plain": [
       "<Figure size 504x216 with 2 Axes>"
      ]
     },
     "metadata": {
      "needs_background": "light"
     },
     "output_type": "display_data"
    }
   ],
   "source": [
    "prediction_analysis(pred_wa, valid.y)"
   ]
  },
  {
   "cell_type": "code",
   "execution_count": 26,
   "metadata": {},
   "outputs": [
    {
     "name": "stdout",
     "output_type": "stream",
     "text": [
      "    acc 0.8656, auc 0.9482\n",
      "\n",
      "es: acc 0.8112, auc 0.9330\n",
      "it: acc 0.8028, auc 0.9155\n",
      "tr: acc 0.9633, auc 0.9873\n"
     ]
    },
    {
     "data": {
      "image/png": "[encoded data removed]",
      "text/plain": [
       "<Figure size 504x216 with 2 Axes>"
      ]
     },
     "metadata": {
      "needs_background": "light"
     },
     "output_type": "display_data"
    }
   ],
   "source": [
    "prediction_analysis(np.sum([p * k for p, k in zip(predictions, [0.35,0.3,0.35])], axis=0), valid.y)"
   ]
  },
  {
   "cell_type": "code",
   "execution_count": 55,
   "metadata": {},
   "outputs": [],
   "source": [
    "from sklearn.metrics import confusion_matrix"
   ]
  },
  {
   "cell_type": "code",
   "execution_count": 60,
   "metadata": {},
   "outputs": [
    {
     "data": {
      "text/plain": [
       "array([[6398,  372],\n",
       "       [ 377,  853]])"
      ]
     },
     "execution_count": 60,
     "metadata": {},
     "output_type": "execute_result"
    }
   ],
   "source": [
    "confusion_matrix(valid.y, softmax(np.mean(predictions, 0), 1)[:,1] > 0.8)"
   ]
  },
  {
   "cell_type": "markdown",
   "metadata": {},
   "source": [
    "## Wrong predictions"
   ]
  },
  {
   "cell_type": "code",
   "execution_count": 24,
   "metadata": {},
   "outputs": [
    {
     "data": {
      "text/html": [
       "<div>\n",
       "<style scoped>\n",
       "    .dataframe tbody tr th:only-of-type {\n",
       "        vertical-align: middle;\n",
       "    }\n",
       "\n",
       "    .dataframe tbody tr th {\n",
       "        vertical-align: top;\n",
       "    }\n",
       "\n",
       "    .dataframe thead th {\n",
       "        text-align: right;\n",
       "    }\n",
       "</style>\n",
       "<table border=\"1\" class=\"dataframe\">\n",
       "  <thead>\n",
       "    <tr style=\"text-align: right;\">\n",
       "      <th></th>\n",
       "      <th>comment_text</th>\n",
       "      <th>translated</th>\n",
       "      <th>toxic</th>\n",
       "      <th>score</th>\n",
       "    </tr>\n",
       "  </thead>\n",
       "  <tbody>\n",
       "    <tr>\n",
       "      <th>0</th>\n",
       "      <td>Este usuario ni siquiera llega al rango de    hereje   . Por lo tanto debería ser quemado en la barbacoa para purificar su alma y nuestro aparato digestivo mediante su ingestión.    Skipe linkin 22px   Honor, valor, leltad.      17:48 13 mar 2008 (UTC)</td>\n",
       "      <td>This user does not even make it to the rank of heretic . It should therefore be burned in the barbecue to purify his soul and to our digestive system through ingestion. Skipe linkin 22px Honor, courage, leltad. 17:48 13 mar 2008 (UTC)</td>\n",
       "      <td>0</td>\n",
       "      <td>0.571012</td>\n",
       "    </tr>\n",
       "    <tr>\n",
       "      <th>21</th>\n",
       "      <td>Nihilo sigue empeñado en calificar a García Oliver de líder. Rogaría que nos de una explicación, ya que etiquetar a un anarquista de  líder  es harto ridículo, si se me permite la expresión... García</td>\n",
       "      <td>Nihilo remains committed to qualify to García Oliver as a leader. Would urge you to give us an explanation, since that labeling an anarchist leader is very ridiculous, if I may be allowed the expression... Garcia</td>\n",
       "      <td>1</td>\n",
       "      <td>0.112298</td>\n",
       "    </tr>\n",
       "    <tr>\n",
       "      <th>23</th>\n",
       "      <td>El artículo de víctimas más generales esta hecho un desastre. No pueden fundirse.SanchoPanzaXXI Tu mensaje a la Insula de</td>\n",
       "      <td>The article of victims, more general, this is a mess. Can't melt.SanchoPanzaXXI Your message to the Insula de</td>\n",
       "      <td>0</td>\n",
       "      <td>0.548228</td>\n",
       "    </tr>\n",
       "    <tr>\n",
       "      <th>25</th>\n",
       "      <td>Coincido. Lo de Feinmann ni siquiera es periodismo, es apenas el ejercicio torpe de un vocero inconsistente de los sectores infames que le abonan el sueldo.</td>\n",
       "      <td>I agree. What of Feinmann's not even journalism, it's just the exercise awkward a spokesman for inconsistent sectors despicable that we pay the salary.</td>\n",
       "      <td>0</td>\n",
       "      <td>0.664710</td>\n",
       "    </tr>\n",
       "    <tr>\n",
       "      <th>35</th>\n",
       "      <td>ti fa così schifo lasciare il doppio spazio?Mpiz (msg)  ah, inveve è proprio bello avere tutti i paragrafi appiccicati che non si capisce nemmeno dove inizia uno e finisce l altro..si si proprio belloMpiz (msg)  si ma le linee cosi sono tutte appiccicate e non si capisce una beneamata. col doppio spazio rimanendo leggermente piu distanziate, anche a colpo d occhio vedi dove finisce uno ed inizia il successivo.Mpiz (msg)</td>\n",
       "      <td>makes you so disgusting, leave double space?Mpiz (msg) ah, inveve is really nice to have all the paragraphs stuck that you don't know even where start one and ends the other..it is just belloMpiz (msg) is, but the lines so they are all stuck and do not understand a football club. with the double space remaining slightly more spaced out, even at a glance see where finishes one and starts the next.Mpiz (msg)</td>\n",
       "      <td>1</td>\n",
       "      <td>0.379988</td>\n",
       "    </tr>\n",
       "    <tr>\n",
       "      <th>40</th>\n",
       "      <td>Beh, anche io, se per quello, mi considero prima europeo, italiano, sardo e poi cagliaritano (cit.). Ciò nonostante, vivo a Casteddu da sempre! Non per farmi i ca**i tuoi, ma la tua risposta mista alla tua pagina utente (da cui evinco che hai la mia età (31) o più, ma non direi meno) mi ha incuriosito parecchio. A ciò aggiungi il fatto che Cagliari non è, che so, Cremona, dove qualunque persona del nord può veramente  bazzicare , magari sbagliando uscita dell A1. Se vieni qua la prima volta, non essendoci nato o non avendoci parenti, è per un motivo preciso (principalmente vacanze, lavoro, rapporti personali/sentimentali), anche se poi conosco tanta gente che non è riuscita a staccarsi per molto tempo (cit.). Ad ogni modo, mi piacerebbe sapere qual è il tuo motivo. Al tempo stesso, sei ovviamente liberissimo di dirmi di farmi i cavoli miei! Ciao,    KS   «...»</td>\n",
       "      <td>Well, I for one, consider myself european, Italian, sardinian, and then cagliari (cit.). Nevertheless, I live in Casteddu always! Not for me i ca**your, but your mixed response to your user page (from which the competition notice sets out that you are my age (31) or more, but I would not say less) intrigued me a lot. To this add the fact that Cagliari is not, that I know, Cremona, where any person of the north is really pursuing a career , perhaps taking the wrong exit of the A1 motorway. If you come here the first time, not being born or not having relatives, it is for a reason (mainly to vacation, work, personal relationships/emotions), even though I know a lot of people that failed to come off for a long time (cit.). Anyway, I'd like to know what is your reason. At the same time, you are of course perfectly free to tell me to get me a cabbage my! Hello, KS \"...\"</td>\n",
       "      <td>0</td>\n",
       "      <td>0.904608</td>\n",
       "    </tr>\n",
       "    <tr>\n",
       "      <th>61</th>\n",
       "      <td>La pagina è stata protetta perché un tale Andrea112233 che non aveva nulla da fare se non copiare le pagine di wiki sui propri compiti in classe, ha capito che la professoressa avrebbe potuto in qualche modo capire il suo trucco. Non molto furbo è? Ma pensa, c è di più!! Il nostro amico ha creato due sockpuppets (utenti da lui manovrati) che usava, una volta vistosi scoperto, per modificare la voce Mastro-don Gesualdo e un altra voce che adesso non ricordo. Ma si capiva subito che era lui perché modificava le voci sempre allo stesso modo. Vuoi un esempio? Guarda qui e qui. La prima modifica la fatta Andrea112233, la seconda un tale utente:Jkljkl... ti ricorda qualcuno? Quindi, adesso fai un bel sorriso, prega chi vuoi che non ti scoprano ma vedi di piantarla di prenderci tutti per il culo perché qui, come avrai ben capito, non è l asilo nido....   Adelchi      scrivimi    Ah, dimenticavo, non è proprio il caso che cancelli la tua pagina di discussione, tanto te la ripristino in un attimo, così come ho chiesto la protezione anche per l amico ritrovato. Bella mossa.   Adelchi      scrivimi</td>\n",
       "      <td>The page has been protected because such a Andrea112233 that it had nothing to do if you do not copy the wiki pages on their tasks in class, he realized that the professor could somehow understand her makeup. Not very clever is it? But think, there is more!! Our friend has created two sockpuppets (users he manoeuvred) who used to, once garish discovered, to change the voice of Mastro-don Gesualdo, and another item that now I can't remember. But you knew immediately that it was him because he changed the entries always the same way. Would you like an example? Look here and here. The first change is made Andrea112233, the second such user:Jkljkl... reminds you of someone? So, now do a nice smile, pray to whoever you want that does not find you out but you see and call it a day to take all for the ass because here, as you well understand, it is not the nursery.... Adelchi me Ah, I forgot, it is not just the case that you delete your discussion page, so you restore in a snap, so as I asked for protection for his re-discovered friend. Nice move. Adelchi write me</td>\n",
       "      <td>0</td>\n",
       "      <td>0.803493</td>\n",
       "    </tr>\n",
       "    <tr>\n",
       "      <th>71</th>\n",
       "      <td>Muhatab bile alınmayan, muhatab bile alınmaz! Bırakıyorum ki, bazıları sadece gelişimin önünde paçadan geriye çeksin, kendi yanlışını başkasına atsın. Ben Türkçe bilimin paylaşımı için çalışmalarıma devam edeceğim ve kendini sırf bir yere ait hissetmek isteyenlerde güçsüz, güçlerini kullanmaya devam etsinler. Güneş sıvanmaz ancak sıvanmaya çalışılır.</td>\n",
       "      <td>Even allowing you are not taken, allowing you can't buy! So I leave, some just pull it back away from the front of the development, cast someone else for your own mistakes. I will continue my studies for sharing Turkish science and will continue to use their power those who feel weak in yourself just belong somewhere. Not the sun, but it tries to the covering the covering.</td>\n",
       "      <td>1</td>\n",
       "      <td>0.184800</td>\n",
       "    </tr>\n",
       "    <tr>\n",
       "      <th>73</th>\n",
       "      <td>Me parece un mamarracho que, al tener un nombre todos los clásicos tradicionales, al de Huracán - San Lorenzo (tercero en importancia después de Racing - Independiente y River - Boca) lo nombren como  Clasico Entre Huracan y San Lorenzo , cuando lo podrian llamar con cualquiera de sus dos nombres populares:  Clásico de Barrio , o  Clásico Porteño  (en mi caso, opto por el segundo). Saludos.</td>\n",
       "      <td>It seems to Me a mamarracho that, to have a name all of the traditional classics, the Hurricane - San Lorenzo (third in importance after Racing - Independiente, and River - Mouth) appointment as a Classic Between Huracan and San Lorenzo , when they could call with any of its two popular names: Classic, Neighborhood , or Classic Porteño (in my case, I opt for the second). Greetings.</td>\n",
       "      <td>1</td>\n",
       "      <td>0.044563</td>\n",
       "    </tr>\n",
       "    <tr>\n",
       "      <th>79</th>\n",
       "      <td>Sí, la cagada es que dejarla solamente en  Categoría:Beatles  me dio no sé qué por ser muy general y pensé que era mejor en discografías, pero la cagada es que la categoría se llama  anexo:discografías  entonces bueno... no sé qué decirte la verdad Equi    →    Respondeme    →    ♪ &amp;</td>\n",
       "      <td>Yes, the plan is to leave it only in Category:Beatles gave me I don't know what for to be very general and I thought that it was better in discographies, but the plan is that the category is called annex:discographies then good... I don't know what to tell you the truth Equi → Respondeme → ♪ &amp;</td>\n",
       "      <td>0</td>\n",
       "      <td>0.796695</td>\n",
       "    </tr>\n",
       "    <tr>\n",
       "      <th>80</th>\n",
       "      <td>Porque solo muestran cosas positivas de Catalunya??, ahora resulta que siempre presumieron de tirar del resto de España, etc etc, pero ahora estan empufados hasta las orejas, teniendo que pedir dinero prestado al ESTADO, DE TODOS LOS ESPAÑOLES, y por encima quieren poner ellos las condiciones.... Desde cuando el que pide pone condiciones?? Como que es dinero de los Catalanes esos 5700 millones que piden???.... Expliquen la catastrófica situacion catalana por favor... xq es una verguenza.</td>\n",
       "      <td>Because they only show positive things in Catalunya??, it is now always presumed to pull the rest of Spain, etc etc, but now they are empufados up the ears, having to borrow money from the STATE, OF ALL THE SPANIARDS, and above want to put them the conditions..... Since when that asks for put conditions?? As it is money of the Catalans those 5700 million they ask???.... Explain the catastrophic situation of Catalan please... xq is a shame.</td>\n",
       "      <td>0</td>\n",
       "      <td>0.515603</td>\n",
       "    </tr>\n",
       "    <tr>\n",
       "      <th>81</th>\n",
       "      <td>Ci sguazzi come il topo nel formaggio, con questi poveri amministratori, stai attento che sei nel mirino, mi dispiacerebbe perdere un ottimo avvocato come te.....</td>\n",
       "      <td>We wallow like the mouse in the cheese, with these poor administrators, be aware that you are in the viewfinder, I'd hate to lose a great lawyer like you.....</td>\n",
       "      <td>0</td>\n",
       "      <td>0.872344</td>\n",
       "    </tr>\n",
       "    <tr>\n",
       "      <th>87</th>\n",
       "      <td>14/05/07 yo creo que si tiene el reconocimiento internacional, pero el nacional que es el que importa no lo tiene, por ser un espurio y pelele, ademas de que no gano la eleccion si no que fue impuesto y es un usurpador</td>\n",
       "      <td>14/05/07 I think that if you have the international recognition, but the national is not a matter of what you have, for being a spurious and rompers, plus they do not win the election if there was tax and is a usurper</td>\n",
       "      <td>0</td>\n",
       "      <td>0.945260</td>\n",
       "    </tr>\n",
       "    <tr>\n",
       "      <th>104</th>\n",
       "      <td>Me gustaría saber si aquí hay algún moderador que sea neutral y aséptico a las mentiras y mediocridades de los ya conocidos. Saludos. Nigredo98</td>\n",
       "      <td>I would like to know if there are any moderator who is neutral and aseptic to the lies and mediocrities of the already known. Greetings. Nigredo98</td>\n",
       "      <td>0</td>\n",
       "      <td>0.623079</td>\n",
       "    </tr>\n",
       "    <tr>\n",
       "      <th>117</th>\n",
       "      <td>ciao jollyroger... sono veramente seccato -)... io cerco di salvare una voce (epinfrai, visto l andazzo non sono intervenuto sugli altri pifferai) e non mi caga nessuno... tu cambi idea e montagne di utenti ti seguono e solo sulla fiducia... direi che non è giusto per niente... e tra l altro tu manco li hai sentiti suonare...</td>\n",
       "      <td>hello jollyroger... I'm really annoyed -)... I try to save an entry (epinfrai, seen the bad trend have not intervened on the other pipers) and I don't shit nobody... you change your mind, and the mountains of the users you follow, and only on trust... I would say that is not right for nothing... and you miss it have you heard from them to play...</td>\n",
       "      <td>0</td>\n",
       "      <td>0.919468</td>\n",
       "    </tr>\n",
       "    <tr>\n",
       "      <th>118</th>\n",
       "      <td>State eludendo il problema.Qui non si tratta solo di migliorare.Qui ci sono IMBECILLI che trattano gli articoli, che costano fatica, come bistecche da sezionare; la polpa la mangiano,il grasso lo scartano e le ossa ed il resto ai cani......E non necessariamente in quest ordine. Ribadisco quanto sopra.E poi questo non è N-Pov.Ma l Articolo su Sacerdozio non lo ha mai iniziato a scrivere nessuno.Ho iniziato io.IO! e subito mi sono trovato N-Pov e successivamente la divisione dei pani e dei pesci.SENZA DISCUSSIONE!!! Mi spiegate il perchè? E se adesso se lo sono spartito in sotto-articoli, mi spiegate PERCHE  NON CI SCRIVONO? Semplice,l importante era isolare ( il solito dividi et impera di romana memoria) e screditare. Ma i fatti?Dove sono i loro contributi? Per favore , togliete N-Pov al Sacerdozio.....mormone ( sigh sigh sigh ) e fate un gesto di razionalità. Non hanno nemmeno controbattuto in fase di discussione con argomenti inerenti e documentati....Oramai si sono divertiti a macellare, lasciate libero almeno il cadavere. Cordialmente,Salsa salsasarda1964@yahoo.it</td>\n",
       "      <td>You are evading the issue.Here it is not only improve.Here there are IDIOTS who treat items, that cost effort, such as steaks to dissect; the flesh they eat,the fat the discard and the bones and the rest to the dogs......And not necessarily in this order. Repeat the above.And then this is not the N-Pov.But the Article on the Priesthood has not ever started to write, none.I started.I! and I soon found N-Pov, and, subsequently, the division of the loaves and fishes.WITHOUT DISCUSSION!!! I explained the why? And now if they score in the sub-articles, I explained WHY NOT WRITE to US? Simple,the important thing was to isolate ( the usual divide et impera \" of the roman memory), and discredit. But the facts?Where are their contributions? Please , remove the N-Pov to the Priesthood.....mormon ( sigh sigh sigh ) and make a gesture of rationality. They don't even countered in the discussion with topics related to and documented....Now have fun slaughtering, leave free at least the corpse. Cordially,Sauce salsasarda1964@yahoo.it</td>\n",
       "      <td>0</td>\n",
       "      <td>0.851414</td>\n",
       "    </tr>\n",
       "    <tr>\n",
       "      <th>124</th>\n",
       "      <td>¿Usuario expulsando creando guerra de edición? Pero si yo era el que estaba añadiendo información correctamente, con sus referencias, con todo, y sin plagiar, a pesar de que han alegado eso. Sois unos sinvergüen-zas, el vándalo no soy yo, ha quedado más que claro en ese artículo. Y encima, para colmo, borráis el resumen de edición, el culpa os inculpa del delito que cometéis. 77.208.181.</td>\n",
       "      <td>What user ejecting creating war edition? But if I was the one who was adding information correctly, with references, to everything, and without plagiarizing, despite the fact that have claimed that. You are rascals, the vandal is not me, has been more than clear in that article. And on top, to top, erase the edit summary, the guilt I charged of the crime that you commit. 77.208.181.</td>\n",
       "      <td>0</td>\n",
       "      <td>0.751416</td>\n",
       "    </tr>\n",
       "    <tr>\n",
       "      <th>139</th>\n",
       "      <td>Perchè sono scemo!!!! Avevo visto le tue due modifiche al Template:Icona e ho copia-incollato la riga sbagliata!!! -(((((((( (la vecchiaia) Pil56 (msg)</td>\n",
       "      <td>Because I am an idiot!!!! I had seen your two changes to the Template:Icon and I copy-pasted the line wrong!!! -(((((((( (the old-age pension) Pil56 (msg)</td>\n",
       "      <td>0</td>\n",
       "      <td>0.941970</td>\n",
       "    </tr>\n",
       "    <tr>\n",
       "      <th>148</th>\n",
       "      <td>Ma come cavolo è possibile che sia considerata  enciclopedica  la mania - senza offesa - del collezionare bustine di zucchero, quando raccolte di dati statistici sullo sport (ma non solo) devono venir passate al vaglio più e più volte ? 87.17.41.</td>\n",
       "      <td>But how the hell can that be considered encyclopedic mania - no offence - collecting sugar packets, when collected statistical data on sports (but not only) must be passed to the screen over and over again ? 87.17.41.</td>\n",
       "      <td>0</td>\n",
       "      <td>0.662543</td>\n",
       "    </tr>\n",
       "    <tr>\n",
       "      <th>149</th>\n",
       "      <td>questo ragazzo è troppo vanitoso e in più crede di essere un nuovo re del pop. si crede imbattibile, invece dovrebbe imparare ad essere pù umile. si è montato troppo la testa, questo conferma che è solo un ragazzino.</td>\n",
       "      <td>this guy is too vain and believed to be a new king of pop. it is believed unbeatable, and instead should learn to be more humble. it is mounted too the head, this confirmation that he is only a kid.</td>\n",
       "      <td>0</td>\n",
       "      <td>0.711918</td>\n",
       "    </tr>\n",
       "    <tr>\n",
       "      <th>153</th>\n",
       "      <td>Hombre de paja no es un apelativo que le dirija a usted sino el nombre de una falacia argumental (haga clic aquí: hombre de paja). El texto sobre estas líneas que emitió usted es una colección de hombres de paja (puntos 1, 2, 3 y 4) y de difamaciones (el resto), además de una falta de civismo general.</td>\n",
       "      <td>Straw man is not a name that has directed to you but rather the name of a fallacy of argument (click here: straw man). The text on these lines that issued you is a collection of straw men (points 1, 2, 3 and 4) and for defamation (the rest), in addition to a lack of civility generally.</td>\n",
       "      <td>0</td>\n",
       "      <td>0.643172</td>\n",
       "    </tr>\n",
       "    <tr>\n",
       "      <th>155</th>\n",
       "      <td>de la republica independiente de tarija: para empezar tengo dos amigos pelotudos que dicen que todos los perros nacen sin cola sus nombres son:Enzo y juan pablo pereyra</td>\n",
       "      <td>of the independent republic of tarija: to start with I have two friends pelotudos who say that all dogs are born without a tail their names are Enzo and juan pablo pereyra</td>\n",
       "      <td>1</td>\n",
       "      <td>0.214342</td>\n",
       "    </tr>\n",
       "    <tr>\n",
       "      <th>159</th>\n",
       "      <td>Patti fue electo diputado pero como a los señores democráticos no les gustó su elección le rechazaron el diploma. La Argentina es una farsa y la democracia también (soy argentino).</td>\n",
       "      <td>Patti was elected as a deputy but as to the gentlemen of the democratic I liked your choice will reject the diploma. Argentina is a farce and democracy also (I'm argentine).</td>\n",
       "      <td>0</td>\n",
       "      <td>0.725476</td>\n",
       "    </tr>\n",
       "    <tr>\n",
       "      <th>161</th>\n",
       "      <td>Vd. es un fascista de los que quedan pocos en España, siga asi, campeón, la agrupación republicana es un partido al igual que cualquier otro y esto no es un lugar de debate estilo Salsa Rosa para que venga a decir traidores o no y que pierden o no... Sintiendolo mucho, la Pic no va a perder 4 concejales, creame... Otra cosa, en Coslada no hay gobierno de derechas porque el alcalde es Huélamo, López sólo se hace fotos con la presidenta y no te dejan ni ponerlas aquí...</td>\n",
       "      <td>You are a fascist of which there are few in Spain, keep it that way, champion, the grouping republican is a party like any other and this is not a place of debate-style Pink Sauce to come to say traitors or not, and they lose or not... Sintiendolo much, the Pic is not going to lose 4 councillors, believe me... Another thing, in Coslada there is no right wing government because the mayor is Huélamo, Lopez only made photos with the president and not leave you or put them here...</td>\n",
       "      <td>0</td>\n",
       "      <td>0.826163</td>\n",
       "    </tr>\n",
       "    <tr>\n",
       "      <th>181</th>\n",
       "      <td>fermati per carità di dio non sei un medico stai facendo un pasticcio enorme lascia a fare chi le capisce ste cose per pietà!79.50.36.</td>\n",
       "      <td>stop for the love of god, you are not a doctor you're making a huge mess leave to those who understand these things for pity's sake!79.50.36.</td>\n",
       "      <td>0</td>\n",
       "      <td>0.817935</td>\n",
       "    </tr>\n",
       "    <tr>\n",
       "      <th>182</th>\n",
       "      <td>Yanıtını okudum. Bence acemi olabileceklere biraz daha süre tanımamızda (en azından 10 dk) fayda var diye düşünüyorum. Panelhurry</td>\n",
       "      <td>The response I read. I think what might've been the time to give a novice a little more time (at least 10 min There is a benefit I think. Hurry panel</td>\n",
       "      <td>0</td>\n",
       "      <td>0.689335</td>\n",
       "    </tr>\n",
       "    <tr>\n",
       "      <th>201</th>\n",
       "      <td>La foto que tiene en este momento no se le ve la cara y yo consegui una y cada rato me la quitan esos malparidos</td>\n",
       "      <td>The photo that you have in this moment he sees the face and I got a and each time I delete these malparidos</td>\n",
       "      <td>0</td>\n",
       "      <td>0.835993</td>\n",
       "    </tr>\n",
       "    <tr>\n",
       "      <th>202</th>\n",
       "      <td>Se ha dado una serie de casos en facebook cual la señorita Gomez tiene fans Homosexuales pues las chicas estas tienen fantasias sexuales con su idola, el punto es? la señorita gomez acepta la homosexualidad?</td>\n",
       "      <td>There has been a series of cases on facebook, which miss Gomez has fans Gay because the girls they have sexual fantasies with their idols, the point is it? miss gomez accepts homosexuality?</td>\n",
       "      <td>0</td>\n",
       "      <td>0.769029</td>\n",
       "    </tr>\n",
       "    <tr>\n",
       "      <th>217</th>\n",
       "      <td>Mi spiace ma non vedo la rilevanza, allo stato. Ti dirò invece che ha qualche chance come fumettista. Forse. Sono passato a tagliare l erba, penso che qualcuno si i****zzerà A dopo, mi fa sempre piacere incrociartiTostapane  corrispondenze</td>\n",
       "      <td>I'm sorry but I don't see the relevance, to the state. I'll tell you instead that has a chance as a cartoonist. Maybe. I went to cut grass, I think that someone is the****zzerà after, I always like to incrociartiTostapane matches</td>\n",
       "      <td>0</td>\n",
       "      <td>0.662507</td>\n",
       "    </tr>\n",
       "    <tr>\n",
       "      <th>224</th>\n",
       "      <td>Si es que te complicas la vida! Ahora la Frau Bundeskanzlerin lo pone facilito para aprender alemán! Aunque oye tú, yo igual tiraría del suajilí....</td>\n",
       "      <td>If it is that you engage life! Now the Frau Bundeskanzlerin puts it eased to learn German! Although hey you, I like you would of the suajilí....</td>\n",
       "      <td>0</td>\n",
       "      <td>0.614679</td>\n",
       "    </tr>\n",
       "  </tbody>\n",
       "</table>\n",
       "</div>"
      ],
      "text/plain": [
       "                                                                                                                                                                                                                                                                                                                                                                                                                                                                                                                                                                                                                                                                                                                                                                                                                                                                                                                                                                                                                                                                                                                                            comment_text  \\\n",
       "0    Este usuario ni siquiera llega al rango de    hereje   . Por lo tanto debería ser quemado en la barbacoa para purificar su alma y nuestro aparato digestivo mediante su ingestión.    Skipe linkin 22px   Honor, valor, leltad.      17:48 13 mar 2008 (UTC)                                                                                                                                                                                                                                                                                                                                                                                                                                                                                                                                                                                                                                                                                                                                                                                                                                                                                          \n",
       "21   Nihilo sigue empeñado en calificar a García Oliver de líder. Rogaría que nos de una explicación, ya que etiquetar a un anarquista de  líder  es harto ridículo, si se me permite la expresión... García                                                                                                                                                                                                                                                                                                                                                                                                                                                                                                                                                                                                                                                                                                                                                                                                                                                                                                                                               \n",
       "23   El artículo de víctimas más generales esta hecho un desastre. No pueden fundirse.SanchoPanzaXXI Tu mensaje a la Insula de                                                                                                                                                                                                                                                                                                                                                                                                                                                                                                                                                                                                                                                                                                                                                                                                                                                                                                                                                                                                                             \n",
       "25   Coincido. Lo de Feinmann ni siquiera es periodismo, es apenas el ejercicio torpe de un vocero inconsistente de los sectores infames que le abonan el sueldo.                                                                                                                                                                                                                                                                                                                                                                                                                                                                                                                                                                                                                                                                                                                                                                                                                                                                                                                                                                                          \n",
       "35   ti fa così schifo lasciare il doppio spazio?Mpiz (msg)  ah, inveve è proprio bello avere tutti i paragrafi appiccicati che non si capisce nemmeno dove inizia uno e finisce l altro..si si proprio belloMpiz (msg)  si ma le linee cosi sono tutte appiccicate e non si capisce una beneamata. col doppio spazio rimanendo leggermente piu distanziate, anche a colpo d occhio vedi dove finisce uno ed inizia il successivo.Mpiz (msg)                                                                                                                                                                                                                                                                                                                                                                                                                                                                                                                                                                                                                                                                                                               \n",
       "40   Beh, anche io, se per quello, mi considero prima europeo, italiano, sardo e poi cagliaritano (cit.). Ciò nonostante, vivo a Casteddu da sempre! Non per farmi i ca**i tuoi, ma la tua risposta mista alla tua pagina utente (da cui evinco che hai la mia età (31) o più, ma non direi meno) mi ha incuriosito parecchio. A ciò aggiungi il fatto che Cagliari non è, che so, Cremona, dove qualunque persona del nord può veramente  bazzicare , magari sbagliando uscita dell A1. Se vieni qua la prima volta, non essendoci nato o non avendoci parenti, è per un motivo preciso (principalmente vacanze, lavoro, rapporti personali/sentimentali), anche se poi conosco tanta gente che non è riuscita a staccarsi per molto tempo (cit.). Ad ogni modo, mi piacerebbe sapere qual è il tuo motivo. Al tempo stesso, sei ovviamente liberissimo di dirmi di farmi i cavoli miei! Ciao,    KS   «...»                                                                                                                                                                                                                                              \n",
       "61   La pagina è stata protetta perché un tale Andrea112233 che non aveva nulla da fare se non copiare le pagine di wiki sui propri compiti in classe, ha capito che la professoressa avrebbe potuto in qualche modo capire il suo trucco. Non molto furbo è? Ma pensa, c è di più!! Il nostro amico ha creato due sockpuppets (utenti da lui manovrati) che usava, una volta vistosi scoperto, per modificare la voce Mastro-don Gesualdo e un altra voce che adesso non ricordo. Ma si capiva subito che era lui perché modificava le voci sempre allo stesso modo. Vuoi un esempio? Guarda qui e qui. La prima modifica la fatta Andrea112233, la seconda un tale utente:Jkljkl... ti ricorda qualcuno? Quindi, adesso fai un bel sorriso, prega chi vuoi che non ti scoprano ma vedi di piantarla di prenderci tutti per il culo perché qui, come avrai ben capito, non è l asilo nido....   Adelchi      scrivimi    Ah, dimenticavo, non è proprio il caso che cancelli la tua pagina di discussione, tanto te la ripristino in un attimo, così come ho chiesto la protezione anche per l amico ritrovato. Bella mossa.   Adelchi      scrivimi      \n",
       "71   Muhatab bile alınmayan, muhatab bile alınmaz! Bırakıyorum ki, bazıları sadece gelişimin önünde paçadan geriye çeksin, kendi yanlışını başkasına atsın. Ben Türkçe bilimin paylaşımı için çalışmalarıma devam edeceğim ve kendini sırf bir yere ait hissetmek isteyenlerde güçsüz, güçlerini kullanmaya devam etsinler. Güneş sıvanmaz ancak sıvanmaya çalışılır.                                                                                                                                                                                                                                                                                                                                                                                                                                                                                                                                                                                                                                                                                                                                                                                      \n",
       "73   Me parece un mamarracho que, al tener un nombre todos los clásicos tradicionales, al de Huracán - San Lorenzo (tercero en importancia después de Racing - Independiente y River - Boca) lo nombren como  Clasico Entre Huracan y San Lorenzo , cuando lo podrian llamar con cualquiera de sus dos nombres populares:  Clásico de Barrio , o  Clásico Porteño  (en mi caso, opto por el segundo). Saludos.                                                                                                                                                                                                                                                                                                                                                                                                                                                                                                                                                                                                                                                                                                                                             \n",
       "79   Sí, la cagada es que dejarla solamente en  Categoría:Beatles  me dio no sé qué por ser muy general y pensé que era mejor en discografías, pero la cagada es que la categoría se llama  anexo:discografías  entonces bueno... no sé qué decirte la verdad Equi    →    Respondeme    →    ♪ &                                                                                                                                                                                                                                                                                                                                                                                                                                                                                                                                                                                                                                                                                                                                                                                                                                                          \n",
       "80   Porque solo muestran cosas positivas de Catalunya??, ahora resulta que siempre presumieron de tirar del resto de España, etc etc, pero ahora estan empufados hasta las orejas, teniendo que pedir dinero prestado al ESTADO, DE TODOS LOS ESPAÑOLES, y por encima quieren poner ellos las condiciones.... Desde cuando el que pide pone condiciones?? Como que es dinero de los Catalanes esos 5700 millones que piden???.... Expliquen la catastrófica situacion catalana por favor... xq es una verguenza.                                                                                                                                                                                                                                                                                                                                                                                                                                                                                                                                                                                                                                          \n",
       "81   Ci sguazzi come il topo nel formaggio, con questi poveri amministratori, stai attento che sei nel mirino, mi dispiacerebbe perdere un ottimo avvocato come te.....                                                                                                                                                                                                                                                                                                                                                                                                                                                                                                                                                                                                                                                                                                                                                                                                                                                                                                                                                                                    \n",
       "87   14/05/07 yo creo que si tiene el reconocimiento internacional, pero el nacional que es el que importa no lo tiene, por ser un espurio y pelele, ademas de que no gano la eleccion si no que fue impuesto y es un usurpador                                                                                                                                                                                                                                                                                                                                                                                                                                                                                                                                                                                                                                                                                                                                                                                                                                                                                                                            \n",
       "104  Me gustaría saber si aquí hay algún moderador que sea neutral y aséptico a las mentiras y mediocridades de los ya conocidos. Saludos. Nigredo98                                                                                                                                                                                                                                                                                                                                                                                                                                                                                                                                                                                                                                                                                                                                                                                                                                                                                                                                                                                                       \n",
       "117  ciao jollyroger... sono veramente seccato -)... io cerco di salvare una voce (epinfrai, visto l andazzo non sono intervenuto sugli altri pifferai) e non mi caga nessuno... tu cambi idea e montagne di utenti ti seguono e solo sulla fiducia... direi che non è giusto per niente... e tra l altro tu manco li hai sentiti suonare...                                                                                                                                                                                                                                                                                                                                                                                                                                                                                                                                                                                                                                                                                                                                                                                                               \n",
       "118  State eludendo il problema.Qui non si tratta solo di migliorare.Qui ci sono IMBECILLI che trattano gli articoli, che costano fatica, come bistecche da sezionare; la polpa la mangiano,il grasso lo scartano e le ossa ed il resto ai cani......E non necessariamente in quest ordine. Ribadisco quanto sopra.E poi questo non è N-Pov.Ma l Articolo su Sacerdozio non lo ha mai iniziato a scrivere nessuno.Ho iniziato io.IO! e subito mi sono trovato N-Pov e successivamente la divisione dei pani e dei pesci.SENZA DISCUSSIONE!!! Mi spiegate il perchè? E se adesso se lo sono spartito in sotto-articoli, mi spiegate PERCHE  NON CI SCRIVONO? Semplice,l importante era isolare ( il solito dividi et impera di romana memoria) e screditare. Ma i fatti?Dove sono i loro contributi? Per favore , togliete N-Pov al Sacerdozio.....mormone ( sigh sigh sigh ) e fate un gesto di razionalità. Non hanno nemmeno controbattuto in fase di discussione con argomenti inerenti e documentati....Oramai si sono divertiti a macellare, lasciate libero almeno il cadavere. Cordialmente,Salsa salsasarda1964@yahoo.it                           \n",
       "124  ¿Usuario expulsando creando guerra de edición? Pero si yo era el que estaba añadiendo información correctamente, con sus referencias, con todo, y sin plagiar, a pesar de que han alegado eso. Sois unos sinvergüen-zas, el vándalo no soy yo, ha quedado más que claro en ese artículo. Y encima, para colmo, borráis el resumen de edición, el culpa os inculpa del delito que cometéis. 77.208.181.                                                                                                                                                                                                                                                                                                                                                                                                                                                                                                                                                                                                                                                                                                                                                \n",
       "139  Perchè sono scemo!!!! Avevo visto le tue due modifiche al Template:Icona e ho copia-incollato la riga sbagliata!!! -(((((((( (la vecchiaia) Pil56 (msg)                                                                                                                                                                                                                                                                                                                                                                                                                                                                                                                                                                                                                                                                                                                                                                                                                                                                                                                                                                                               \n",
       "148  Ma come cavolo è possibile che sia considerata  enciclopedica  la mania - senza offesa - del collezionare bustine di zucchero, quando raccolte di dati statistici sullo sport (ma non solo) devono venir passate al vaglio più e più volte ? 87.17.41.                                                                                                                                                                                                                                                                                                                                                                                                                                                                                                                                                                                                                                                                                                                                                                                                                                                                                                \n",
       "149  questo ragazzo è troppo vanitoso e in più crede di essere un nuovo re del pop. si crede imbattibile, invece dovrebbe imparare ad essere pù umile. si è montato troppo la testa, questo conferma che è solo un ragazzino.                                                                                                                                                                                                                                                                                                                                                                                                                                                                                                                                                                                                                                                                                                                                                                                                                                                                                                                              \n",
       "153  Hombre de paja no es un apelativo que le dirija a usted sino el nombre de una falacia argumental (haga clic aquí: hombre de paja). El texto sobre estas líneas que emitió usted es una colección de hombres de paja (puntos 1, 2, 3 y 4) y de difamaciones (el resto), además de una falta de civismo general.                                                                                                                                                                                                                                                                                                                                                                                                                                                                                                                                                                                                                                                                                                                                                                                                                                        \n",
       "155  de la republica independiente de tarija: para empezar tengo dos amigos pelotudos que dicen que todos los perros nacen sin cola sus nombres son:Enzo y juan pablo pereyra                                                                                                                                                                                                                                                                                                                                                                                                                                                                                                                                                                                                                                                                                                                                                                                                                                                                                                                                                                              \n",
       "159   Patti fue electo diputado pero como a los señores democráticos no les gustó su elección le rechazaron el diploma. La Argentina es una farsa y la democracia también (soy argentino).                                                                                                                                                                                                                                                                                                                                                                                                                                                                                                                                                                                                                                                                                                                                                                                                                                                                                                                                                                 \n",
       "161  Vd. es un fascista de los que quedan pocos en España, siga asi, campeón, la agrupación republicana es un partido al igual que cualquier otro y esto no es un lugar de debate estilo Salsa Rosa para que venga a decir traidores o no y que pierden o no... Sintiendolo mucho, la Pic no va a perder 4 concejales, creame... Otra cosa, en Coslada no hay gobierno de derechas porque el alcalde es Huélamo, López sólo se hace fotos con la presidenta y no te dejan ni ponerlas aquí...                                                                                                                                                                                                                                                                                                                                                                                                                                                                                                                                                                                                                                                              \n",
       "181  fermati per carità di dio non sei un medico stai facendo un pasticcio enorme lascia a fare chi le capisce ste cose per pietà!79.50.36.                                                                                                                                                                                                                                                                                                                                                                                                                                                                                                                                                                                                                                                                                                                                                                                                                                                                                                                                                                                                                \n",
       "182   Yanıtını okudum. Bence acemi olabileceklere biraz daha süre tanımamızda (en azından 10 dk) fayda var diye düşünüyorum. Panelhurry                                                                                                                                                                                                                                                                                                                                                                                                                                                                                                                                                                                                                                                                                                                                                                                                                                                                                                                                                                                                                    \n",
       "201  La foto que tiene en este momento no se le ve la cara y yo consegui una y cada rato me la quitan esos malparidos                                                                                                                                                                                                                                                                                                                                                                                                                                                                                                                                                                                                                                                                                                                                                                                                                                                                                                                                                                                                                                      \n",
       "202  Se ha dado una serie de casos en facebook cual la señorita Gomez tiene fans Homosexuales pues las chicas estas tienen fantasias sexuales con su idola, el punto es? la señorita gomez acepta la homosexualidad?                                                                                                                                                                                                                                                                                                                                                                                                                                                                                                                                                                                                                                                                                                                                                                                                                                                                                                                                       \n",
       "217  Mi spiace ma non vedo la rilevanza, allo stato. Ti dirò invece che ha qualche chance come fumettista. Forse. Sono passato a tagliare l erba, penso che qualcuno si i****zzerà A dopo, mi fa sempre piacere incrociartiTostapane  corrispondenze                                                                                                                                                                                                                                                                                                                                                                                                                                                                                                                                                                                                                                                                                                                                                                                                                                                                                                       \n",
       "224  Si es que te complicas la vida! Ahora la Frau Bundeskanzlerin lo pone facilito para aprender alemán! Aunque oye tú, yo igual tiraría del suajilí....                                                                                                                                                                                                                                                                                                                                                                                                                                                                                                                                                                                                                                                                                                                                                                                                                                                                                                                                                                                                  \n",
       "\n",
       "                                                                                                                                                                                                                                                                                                                                                                                                                                                                                                                                                                                                                                                                                                                                                                                                                                                                                                                                                                                                                                                                                                             translated  \\\n",
       "0    This user does not even make it to the rank of heretic . It should therefore be burned in the barbecue to purify his soul and to our digestive system through ingestion. Skipe linkin 22px Honor, courage, leltad. 17:48 13 mar 2008 (UTC)                                                                                                                                                                                                                                                                                                                                                                                                                                                                                                                                                                                                                                                                                                                                                                                                                                                                           \n",
       "21   Nihilo remains committed to qualify to García Oliver as a leader. Would urge you to give us an explanation, since that labeling an anarchist leader is very ridiculous, if I may be allowed the expression... Garcia                                                                                                                                                                                                                                                                                                                                                                                                                                                                                                                                                                                                                                                                                                                                                                                                                                                                                                 \n",
       "23   The article of victims, more general, this is a mess. Can't melt.SanchoPanzaXXI Your message to the Insula de                                                                                                                                                                                                                                                                                                                                                                                                                                                                                                                                                                                                                                                                                                                                                                                                                                                                                                                                                                                                        \n",
       "25   I agree. What of Feinmann's not even journalism, it's just the exercise awkward a spokesman for inconsistent sectors despicable that we pay the salary.                                                                                                                                                                                                                                                                                                                                                                                                                                                                                                                                                                                                                                                                                                                                                                                                                                                                                                                                                              \n",
       "35   makes you so disgusting, leave double space?Mpiz (msg) ah, inveve is really nice to have all the paragraphs stuck that you don't know even where start one and ends the other..it is just belloMpiz (msg) is, but the lines so they are all stuck and do not understand a football club. with the double space remaining slightly more spaced out, even at a glance see where finishes one and starts the next.Mpiz (msg)                                                                                                                                                                                                                                                                                                                                                                                                                                                                                                                                                                                                                                                                                            \n",
       "40   Well, I for one, consider myself european, Italian, sardinian, and then cagliari (cit.). Nevertheless, I live in Casteddu always! Not for me i ca**your, but your mixed response to your user page (from which the competition notice sets out that you are my age (31) or more, but I would not say less) intrigued me a lot. To this add the fact that Cagliari is not, that I know, Cremona, where any person of the north is really pursuing a career , perhaps taking the wrong exit of the A1 motorway. If you come here the first time, not being born or not having relatives, it is for a reason (mainly to vacation, work, personal relationships/emotions), even though I know a lot of people that failed to come off for a long time (cit.). Anyway, I'd like to know what is your reason. At the same time, you are of course perfectly free to tell me to get me a cabbage my! Hello, KS \"...\"                                                                                                                                                                                                        \n",
       "61   The page has been protected because such a Andrea112233 that it had nothing to do if you do not copy the wiki pages on their tasks in class, he realized that the professor could somehow understand her makeup. Not very clever is it? But think, there is more!! Our friend has created two sockpuppets (users he manoeuvred) who used to, once garish discovered, to change the voice of Mastro-don Gesualdo, and another item that now I can't remember. But you knew immediately that it was him because he changed the entries always the same way. Would you like an example? Look here and here. The first change is made Andrea112233, the second such user:Jkljkl... reminds you of someone? So, now do a nice smile, pray to whoever you want that does not find you out but you see and call it a day to take all for the ass because here, as you well understand, it is not the nursery.... Adelchi me Ah, I forgot, it is not just the case that you delete your discussion page, so you restore in a snap, so as I asked for protection for his re-discovered friend. Nice move. Adelchi write me    \n",
       "71   Even allowing you are not taken, allowing you can't buy! So I leave, some just pull it back away from the front of the development, cast someone else for your own mistakes. I will continue my studies for sharing Turkish science and will continue to use their power those who feel weak in yourself just belong somewhere. Not the sun, but it tries to the covering the covering.                                                                                                                                                                                                                                                                                                                                                                                                                                                                                                                                                                                                                                                                                                                              \n",
       "73   It seems to Me a mamarracho that, to have a name all of the traditional classics, the Hurricane - San Lorenzo (third in importance after Racing - Independiente, and River - Mouth) appointment as a Classic Between Huracan and San Lorenzo , when they could call with any of its two popular names: Classic, Neighborhood , or Classic Porteño (in my case, I opt for the second). Greetings.                                                                                                                                                                                                                                                                                                                                                                                                                                                                                                                                                                                                                                                                                                                     \n",
       "79   Yes, the plan is to leave it only in Category:Beatles gave me I don't know what for to be very general and I thought that it was better in discographies, but the plan is that the category is called annex:discographies then good... I don't know what to tell you the truth Equi → Respondeme → ♪ &                                                                                                                                                                                                                                                                                                                                                                                                                                                                                                                                                                                                                                                                                                                                                                                                               \n",
       "80   Because they only show positive things in Catalunya??, it is now always presumed to pull the rest of Spain, etc etc, but now they are empufados up the ears, having to borrow money from the STATE, OF ALL THE SPANIARDS, and above want to put them the conditions..... Since when that asks for put conditions?? As it is money of the Catalans those 5700 million they ask???.... Explain the catastrophic situation of Catalan please... xq is a shame.                                                                                                                                                                                                                                                                                                                                                                                                                                                                                                                                                                                                                                                          \n",
       "81   We wallow like the mouse in the cheese, with these poor administrators, be aware that you are in the viewfinder, I'd hate to lose a great lawyer like you.....                                                                                                                                                                                                                                                                                                                                                                                                                                                                                                                                                                                                                                                                                                                                                                                                                                                                                                                                                       \n",
       "87   14/05/07 I think that if you have the international recognition, but the national is not a matter of what you have, for being a spurious and rompers, plus they do not win the election if there was tax and is a usurper                                                                                                                                                                                                                                                                                                                                                                                                                                                                                                                                                                                                                                                                                                                                                                                                                                                                                            \n",
       "104  I would like to know if there are any moderator who is neutral and aseptic to the lies and mediocrities of the already known. Greetings. Nigredo98                                                                                                                                                                                                                                                                                                                                                                                                                                                                                                                                                                                                                                                                                                                                                                                                                                                                                                                                                                   \n",
       "117  hello jollyroger... I'm really annoyed -)... I try to save an entry (epinfrai, seen the bad trend have not intervened on the other pipers) and I don't shit nobody... you change your mind, and the mountains of the users you follow, and only on trust... I would say that is not right for nothing... and you miss it have you heard from them to play...                                                                                                                                                                                                                                                                                                                                                                                                                                                                                                                                                                                                                                                                                                                                                         \n",
       "118  You are evading the issue.Here it is not only improve.Here there are IDIOTS who treat items, that cost effort, such as steaks to dissect; the flesh they eat,the fat the discard and the bones and the rest to the dogs......And not necessarily in this order. Repeat the above.And then this is not the N-Pov.But the Article on the Priesthood has not ever started to write, none.I started.I! and I soon found N-Pov, and, subsequently, the division of the loaves and fishes.WITHOUT DISCUSSION!!! I explained the why? And now if they score in the sub-articles, I explained WHY NOT WRITE to US? Simple,the important thing was to isolate ( the usual divide et impera \" of the roman memory), and discredit. But the facts?Where are their contributions? Please , remove the N-Pov to the Priesthood.....mormon ( sigh sigh sigh ) and make a gesture of rationality. They don't even countered in the discussion with topics related to and documented....Now have fun slaughtering, leave free at least the corpse. Cordially,Sauce salsasarda1964@yahoo.it                                           \n",
       "124  What user ejecting creating war edition? But if I was the one who was adding information correctly, with references, to everything, and without plagiarizing, despite the fact that have claimed that. You are rascals, the vandal is not me, has been more than clear in that article. And on top, to top, erase the edit summary, the guilt I charged of the crime that you commit. 77.208.181.                                                                                                                                                                                                                                                                                                                                                                                                                                                                                                                                                                                                                                                                                                                    \n",
       "139  Because I am an idiot!!!! I had seen your two changes to the Template:Icon and I copy-pasted the line wrong!!! -(((((((( (the old-age pension) Pil56 (msg)                                                                                                                                                                                                                                                                                                                                                                                                                                                                                                                                                                                                                                                                                                                                                                                                                                                                                                                                                           \n",
       "148  But how the hell can that be considered encyclopedic mania - no offence - collecting sugar packets, when collected statistical data on sports (but not only) must be passed to the screen over and over again ? 87.17.41.                                                                                                                                                                                                                                                                                                                                                                                                                                                                                                                                                                                                                                                                                                                                                                                                                                                                                            \n",
       "149  this guy is too vain and believed to be a new king of pop. it is believed unbeatable, and instead should learn to be more humble. it is mounted too the head, this confirmation that he is only a kid.                                                                                                                                                                                                                                                                                                                                                                                                                                                                                                                                                                                                                                                                                                                                                                                                                                                                                                               \n",
       "153  Straw man is not a name that has directed to you but rather the name of a fallacy of argument (click here: straw man). The text on these lines that issued you is a collection of straw men (points 1, 2, 3 and 4) and for defamation (the rest), in addition to a lack of civility generally.                                                                                                                                                                                                                                                                                                                                                                                                                                                                                                                                                                                                                                                                                                                                                                                                                       \n",
       "155  of the independent republic of tarija: to start with I have two friends pelotudos who say that all dogs are born without a tail their names are Enzo and juan pablo pereyra                                                                                                                                                                                                                                                                                                                                                                                                                                                                                                                                                                                                                                                                                                                                                                                                                                                                                                                                          \n",
       "159   Patti was elected as a deputy but as to the gentlemen of the democratic I liked your choice will reject the diploma. Argentina is a farce and democracy also (I'm argentine).                                                                                                                                                                                                                                                                                                                                                                                                                                                                                                                                                                                                                                                                                                                                                                                                                                                                                                                                       \n",
       "161  You are a fascist of which there are few in Spain, keep it that way, champion, the grouping republican is a party like any other and this is not a place of debate-style Pink Sauce to come to say traitors or not, and they lose or not... Sintiendolo much, the Pic is not going to lose 4 councillors, believe me... Another thing, in Coslada there is no right wing government because the mayor is Huélamo, Lopez only made photos with the president and not leave you or put them here...                                                                                                                                                                                                                                                                                                                                                                                                                                                                                                                                                                                                                    \n",
       "181  stop for the love of god, you are not a doctor you're making a huge mess leave to those who understand these things for pity's sake!79.50.36.                                                                                                                                                                                                                                                                                                                                                                                                                                                                                                                                                                                                                                                                                                                                                                                                                                                                                                                                                                        \n",
       "182   The response I read. I think what might've been the time to give a novice a little more time (at least 10 min There is a benefit I think. Hurry panel                                                                                                                                                                                                                                                                                                                                                                                                                                                                                                                                                                                                                                                                                                                                                                                                                                                                                                                                                               \n",
       "201  The photo that you have in this moment he sees the face and I got a and each time I delete these malparidos                                                                                                                                                                                                                                                                                                                                                                                                                                                                                                                                                                                                                                                                                                                                                                                                                                                                                                                                                                                                          \n",
       "202  There has been a series of cases on facebook, which miss Gomez has fans Gay because the girls they have sexual fantasies with their idols, the point is it? miss gomez accepts homosexuality?                                                                                                                                                                                                                                                                                                                                                                                                                                                                                                                                                                                                                                                                                                                                                                                                                                                                                                                        \n",
       "217  I'm sorry but I don't see the relevance, to the state. I'll tell you instead that has a chance as a cartoonist. Maybe. I went to cut grass, I think that someone is the****zzerà after, I always like to incrociartiTostapane matches                                                                                                                                                                                                                                                                                                                                                                                                                                                                                                                                                                                                                                                                                                                                                                                                                                                                                \n",
       "224  If it is that you engage life! Now the Frau Bundeskanzlerin puts it eased to learn German! Although hey you, I like you would of the suajilí....                                                                                                                                                                                                                                                                                                                                                                                                                                                                                                                                                                                                                                                                                                                                                                                                                                                                                                                                                                     \n",
       "\n",
       "     toxic     score  \n",
       "0    0      0.571012  \n",
       "21   1      0.112298  \n",
       "23   0      0.548228  \n",
       "25   0      0.664710  \n",
       "35   1      0.379988  \n",
       "40   0      0.904608  \n",
       "61   0      0.803493  \n",
       "71   1      0.184800  \n",
       "73   1      0.044563  \n",
       "79   0      0.796695  \n",
       "80   0      0.515603  \n",
       "81   0      0.872344  \n",
       "87   0      0.945260  \n",
       "104  0      0.623079  \n",
       "117  0      0.919468  \n",
       "118  0      0.851414  \n",
       "124  0      0.751416  \n",
       "139  0      0.941970  \n",
       "148  0      0.662543  \n",
       "149  0      0.711918  \n",
       "153  0      0.643172  \n",
       "155  1      0.214342  \n",
       "159  0      0.725476  \n",
       "161  0      0.826163  \n",
       "181  0      0.817935  \n",
       "182  0      0.689335  \n",
       "201  0      0.835993  \n",
       "202  0      0.769029  \n",
       "217  0      0.662507  \n",
       "224  0      0.614679  "
      ]
     },
     "execution_count": 24,
     "metadata": {},
     "output_type": "execute_result"
    }
   ],
   "source": [
    "pd.set_option('display.max_colwidth', -1)\n",
    "valid.dataset[np.argmax(pred_wa, 1) != valid.y][['comment_text', 'translated', 'toxic']].assign(score=softmax(pred_wa, 1)[np.argmax(pred_wa, 1) != valid.y,1]).head(30)"
   ]
  },
  {
   "cell_type": "markdown",
   "metadata": {},
   "source": [
    "## Pseudolabeling "
   ]
  },
  {
   "cell_type": "code",
   "execution_count": 58,
   "metadata": {},
   "outputs": [
    {
     "data": {
      "text/plain": [
       "<module 'dataset' from '../src/dataset.py'>"
      ]
     },
     "execution_count": 58,
     "metadata": {},
     "output_type": "execute_result"
    }
   ],
   "source": [
    "reload(dataset)"
   ]
  },
  {
   "cell_type": "code",
   "execution_count": 59,
   "metadata": {},
   "outputs": [
    {
     "name": "stdout",
     "output_type": "stream",
     "text": [
      "Use 6885 rows for pseudolabels from 8000\n",
      "Pseudolabeling accuracy:  0.9236020334059549\n"
     ]
    }
   ],
   "source": [
    "valid_pseudo = dataset.PseudolabelMultilingualDataset(\n",
    "#     fn='../input/jigsaw_miltilingual_valid_translated.csv', \n",
    "                                   threshold=0.75,\n",
    "                                 scores=softmax(np.mean([p[0] for p in predictions], axis=0), 1)[:,1],\n",
    "                                 max_length=256,\n",
    "                                 tokenizer=tokenizer, \n",
    "#                                  text_column='comment_text',\n",
    ")"
   ]
  },
  {
   "cell_type": "code",
   "execution_count": 60,
   "metadata": {},
   "outputs": [
    {
     "data": {
      "text/plain": [
       "336"
      ]
     },
     "execution_count": 60,
     "metadata": {},
     "output_type": "execute_result"
    }
   ],
   "source": [
    "utils.seed_everything()\n",
    "loader_valid_pseudo = D.DataLoader(valid_pseudo, batch_size=batch_size, num_workers=num_workers, \n",
    "#                                    shuffle=True,\n",
    "                                   sampler=valid_pseudo.weighted_sampler()\n",
    "                                  )\n",
    "len(loader_valid_pseudo)"
   ]
  },
  {
   "cell_type": "code",
   "execution_count": 61,
   "metadata": {},
   "outputs": [],
   "source": [
    "optimizer = AdamW(model.parameters(), lr=1e-6, eps=1e-8, weight_decay=0)\n",
    "\n",
    "trnr = trainer.Trainer('roberta_simple_cls_multilingual_translated_1e-6_tanh_do=0_pseudo_val', model, \n",
    "                       loader_valid_pseudo, loader_valid, loader_test,\n",
    "                       epochs=5,\n",
    "                       monitor='val_auc',\n",
    "                       optimizer=optimizer,\n",
    "                       gradient_accumulation=16,\n",
    "                       num_warmup_steps=2,\n",
    "                      )"
   ]
  },
  {
   "cell_type": "code",
   "execution_count": 62,
   "metadata": {},
   "outputs": [
    {
     "name": "stderr",
     "output_type": "stream",
     "text": [
      "ep. 0003:  47%|####7     | 48/102 [02:14<00:22,  2.40it/s, loss=0.035, acc=0.992, lr=4.76e-7]-6]"
     ]
    },
    {
     "name": "stdout",
     "output_type": "stream",
     "text": [
      "Loaded model from ../checkpoints/roberta_simple_cls_multilingual_translated_2e-5_tanh_do=0_from_mlm.pth\n",
      "epoch 1, loss: 0.2018 val_loss: 0.2948 val_acc: 0.8542 val_auc: 0.9465 \n"
     ]
    }
   ],
   "source": [
    "trnr.load_checkpoint('../checkpoints/roberta_simple_cls_multilingual_translated_2e-5_tanh_do=0_from_mlm.pth', \n",
    "                     ignore=['optimizer', 'scheduler'])"
   ]
  },
  {
   "cell_type": "code",
   "execution_count": null,
   "metadata": {},
   "outputs": [
    {
     "name": "stderr",
     "output_type": "stream",
     "text": [
      "ep. 0000: 100%|##########| 336/336 [02:15<00:00,  2.49it/s, loss=0.167, acc=0.935, lr=8.16e-7]\n",
      "valid: 100%|##########| 1000/1000 [02:17<00:00,  7.29it/s]\n",
      "ep. 0003:  47%|####7     | 48/102 [06:59<00:22,  2.40it/s, loss=0.035, acc=0.992, lr=4.76e-7]-6]"
     ]
    },
    {
     "name": "stdout",
     "output_type": "stream",
     "text": [
      "Epoch 0 complete. loss=0.1672, val_loss=0.5031, val_acc=0.7985, val_auc=0.9462\n"
     ]
    },
    {
     "name": "stderr",
     "output_type": "stream",
     "text": [
      "ep. 0003:  47%|####7     | 48/102 [07:03<00:22,  2.40it/s, loss=0.035, acc=0.992, lr=4.76e-7]-6]"
     ]
    },
    {
     "name": "stdout",
     "output_type": "stream",
     "text": [
      "Saved model to ../checkpoints//roberta_simple_cls_multilingual_translated_1e-6_tanh_do=0_pseudo_val.pth\n"
     ]
    },
    {
     "name": "stderr",
     "output_type": "stream",
     "text": [
      "valid: 100%|##########| 1000/1000 [02:17<00:00,  7.27it/s] loss=0.179, acc=0.935, lr=7.86e-7]\n",
      "ep. 0003:  47%|####7     | 48/102 [11:39<00:22,  2.40it/s, loss=0.035, acc=0.992, lr=4.76e-7]-6]"
     ]
    },
    {
     "name": "stdout",
     "output_type": "stream",
     "text": [
      "Epoch 1 complete. loss=0.1513, val_loss=0.4360, val_acc=0.8204, val_auc=0.9465\n"
     ]
    },
    {
     "name": "stderr",
     "output_type": "stream",
     "text": [
      "ep. 0003:  47%|####7     | 48/102 [11:42<00:22,  2.40it/s, loss=0.035, acc=0.992, lr=4.76e-7]-6]"
     ]
    },
    {
     "name": "stdout",
     "output_type": "stream",
     "text": [
      "Saved model to ../checkpoints//roberta_simple_cls_multilingual_translated_1e-6_tanh_do=0_pseudo_val.pth\n"
     ]
    },
    {
     "name": "stderr",
     "output_type": "stream",
     "text": [
      "ep. 0002: 100%|##########| 336/336 [02:15<00:00,  2.47it/s, loss=0.145, acc=0.946, lr=4.08e-7]\n",
      "valid: 100%|##########| 1000/1000 [02:17<00:00,  7.28it/s]\n",
      "ep. 0003:  47%|####7     | 48/102 [16:17<00:22,  2.40it/s, loss=0.035, acc=0.992, lr=4.76e-7]-6]"
     ]
    },
    {
     "name": "stdout",
     "output_type": "stream",
     "text": [
      "Epoch 2 complete. loss=0.1445, val_loss=0.5126, val_acc=0.8076, val_auc=0.9464\n"
     ]
    },
    {
     "name": "stderr",
     "output_type": "stream",
     "text": [
      "ep. 0003:  47%|####7     | 48/102 [16:21<00:22,  2.40it/s, loss=0.035, acc=0.992, lr=4.76e-7]-6]"
     ]
    },
    {
     "name": "stdout",
     "output_type": "stream",
     "text": [
      "Saved model to ../checkpoints//roberta_simple_cls_multilingual_translated_1e-6_tanh_do=0_pseudo_val_last.pth\n"
     ]
    },
    {
     "name": "stderr",
     "output_type": "stream",
     "text": [
      "ep. 0003:  38%|###8      | 128/336 [00:52<01:26,  2.39it/s, loss=0.142, acc=0.946, lr=3.3e-7]IOPub message rate exceeded.\n",
      "The notebook server will temporarily stop sending output\n",
      "to the client in order to avoid crashing it.\n",
      "To change this limit, set the config variable\n",
      "`--NotebookApp.iopub_msg_rate_limit`.\n",
      "\n",
      "Current values:\n",
      "NotebookApp.iopub_msg_rate_limit=1000.0 (msgs/sec)\n",
      "NotebookApp.rate_limit_window=3.0 (secs)\n",
      "\n"
     ]
    }
   ],
   "source": [
    "trnr.fit()"
   ]
  },
  {
   "cell_type": "code",
   "execution_count": 65,
   "metadata": {},
   "outputs": [
    {
     "data": {
      "text/plain": [
       "[0.29480347167700527,\n",
       " 0.5030960928276181,\n",
       " 0.43603468834236264,\n",
       " 0.512638290790841,\n",
       " 0.5280257150679827,\n",
       " 0.5219983436428011]"
      ]
     },
     "execution_count": 65,
     "metadata": {},
     "output_type": "execute_result"
    }
   ],
   "source": [
    "trnr.meters['val_loss'].history"
   ]
  },
  {
   "cell_type": "markdown",
   "metadata": {},
   "source": [
    "### Fine-tuning"
   ]
  },
  {
   "cell_type": "code",
   "execution_count": 29,
   "metadata": {},
   "outputs": [],
   "source": [
    "valid = dataset.TokenizerDataset('../input/jigsaw_miltilingual_valid_translated.csv', max_length=max_length,\n",
    "                                 tokenizer=tokenizer, text_column='comment_text', clean=False)"
   ]
  },
  {
   "cell_type": "code",
   "execution_count": 28,
   "metadata": {},
   "outputs": [],
   "source": [
    "from torch.utils.data import random_split"
   ]
  },
  {
   "cell_type": "code",
   "execution_count": 42,
   "metadata": {},
   "outputs": [
    {
     "name": "stderr",
     "output_type": "stream",
     "text": [
      "ep. 0000:   0%|          | 0/6000 [01:46<?, ?it/s, acc=0, loss=0, lr=5e-6]"
     ]
    },
    {
     "name": "stdout",
     "output_type": "stream",
     "text": [
      "Loaded model from ../checkpoints/roberta_simple_cls_multilingual_translated_1e-3_1e-5_wd=1e-5_tanh_do=0_from_mlm_uncleaned.pth\n",
      "epoch 3, loss: 0.2006 val_loss: 0.2828 val_acc: 0.8602 val_auc: 0.9470 \n"
     ]
    },
    {
     "name": "stderr",
     "output_type": "stream",
     "text": [
      "ep. 0000: 100%|##########| 230/230 [01:45<00:00,  2.18it/s, loss=0.309, acc=0.852, lr=4e-6]   \n",
      "valid: 100%|##########| 250/250 [00:34<00:00,  7.26it/s]\n",
      "ep. 0000:   0%|          | 0/6000 [04:08<?, ?it/s, acc=0, loss=0, lr=5e-6]"
     ]
    },
    {
     "name": "stdout",
     "output_type": "stream",
     "text": [
      "Epoch 0 complete. loss=0.3095, val_loss=0.2378, val_acc=0.8720, val_auc=0.9564\n"
     ]
    },
    {
     "name": "stderr",
     "output_type": "stream",
     "text": [
      "ep. 0000:   0%|          | 0/6000 [04:12<?, ?it/s, acc=0, loss=0, lr=5e-6]"
     ]
    },
    {
     "name": "stdout",
     "output_type": "stream",
     "text": [
      "Saved model to ../checkpoints//roberta_simple_cls_multilingual_translated_1e-3_1e-5_wd=1e-5_tanh_do=0_from_mlm_uncleaned_val00.pth\n"
     ]
    },
    {
     "name": "stderr",
     "output_type": "stream",
     "text": [
      "ep. 0001: 100%|##########| 230/230 [01:45<00:00,  2.18it/s, loss=0.248, acc=0.893, lr=3e-6]   \n",
      "valid: 100%|##########| 250/250 [00:34<00:00,  7.24it/s]\n",
      "ep. 0000:   0%|          | 0/6000 [06:34<?, ?it/s, acc=0, loss=0, lr=5e-6]"
     ]
    },
    {
     "name": "stdout",
     "output_type": "stream",
     "text": [
      "Epoch 1 complete. loss=0.2479, val_loss=0.1944, val_acc=0.9105, val_auc=0.9548\n"
     ]
    },
    {
     "name": "stderr",
     "output_type": "stream",
     "text": [
      "ep. 0000:   0%|          | 0/6000 [06:38<?, ?it/s, acc=0, loss=0, lr=5e-6]"
     ]
    },
    {
     "name": "stdout",
     "output_type": "stream",
     "text": [
      "Saved model to ../checkpoints//roberta_simple_cls_multilingual_translated_1e-3_1e-5_wd=1e-5_tanh_do=0_from_mlm_uncleaned_val00_last.pth\n"
     ]
    },
    {
     "name": "stderr",
     "output_type": "stream",
     "text": [
      "ep. 0002: 100%|##########| 230/230 [01:46<00:00,  2.17it/s, loss=0.224, acc=0.9, lr=2e-6]     \n",
      "valid: 100%|##########| 250/250 [00:34<00:00,  7.24it/s]\n",
      "ep. 0000:   0%|          | 0/6000 [09:00<?, ?it/s, acc=0, loss=0, lr=5e-6]"
     ]
    },
    {
     "name": "stdout",
     "output_type": "stream",
     "text": [
      "Epoch 2 complete. loss=0.2243, val_loss=0.2265, val_acc=0.8900, val_auc=0.9558\n"
     ]
    },
    {
     "name": "stderr",
     "output_type": "stream",
     "text": [
      "ep. 0000:   0%|          | 0/6000 [09:05<?, ?it/s, acc=0, loss=0, lr=5e-6]"
     ]
    },
    {
     "name": "stdout",
     "output_type": "stream",
     "text": [
      "Saved model to ../checkpoints//roberta_simple_cls_multilingual_translated_1e-3_1e-5_wd=1e-5_tanh_do=0_from_mlm_uncleaned_val00_last.pth\n"
     ]
    },
    {
     "name": "stderr",
     "output_type": "stream",
     "text": [
      "ep. 0003: 100%|##########| 230/230 [01:46<00:00,  2.16it/s, loss=0.192, acc=0.922, lr=1e-6]   \n",
      "valid: 100%|##########| 250/250 [00:34<00:00,  7.21it/s]\n",
      "ep. 0000:   0%|          | 0/6000 [11:27<?, ?it/s, acc=0, loss=0, lr=5e-6]"
     ]
    },
    {
     "name": "stdout",
     "output_type": "stream",
     "text": [
      "Epoch 3 complete. loss=0.1916, val_loss=0.2273, val_acc=0.8965, val_auc=0.9578\n"
     ]
    },
    {
     "name": "stderr",
     "output_type": "stream",
     "text": [
      "ep. 0000:   0%|          | 0/6000 [11:32<?, ?it/s, acc=0, loss=0, lr=5e-6]"
     ]
    },
    {
     "name": "stdout",
     "output_type": "stream",
     "text": [
      "Saved model to ../checkpoints//roberta_simple_cls_multilingual_translated_1e-3_1e-5_wd=1e-5_tanh_do=0_from_mlm_uncleaned_val00.pth\n"
     ]
    },
    {
     "name": "stderr",
     "output_type": "stream",
     "text": [
      "ep. 0004: 100%|##########| 230/230 [01:57<00:00,  1.97it/s, loss=0.165, acc=0.933, lr=0]      \n",
      "valid: 100%|##########| 250/250 [00:44<00:00,  5.66it/s]\n",
      "ep. 0000:   0%|          | 0/6000 [14:15<?, ?it/s, acc=0, loss=0, lr=5e-6]"
     ]
    },
    {
     "name": "stdout",
     "output_type": "stream",
     "text": [
      "Epoch 4 complete. loss=0.1655, val_loss=0.2296, val_acc=0.8980, val_auc=0.9570\n"
     ]
    },
    {
     "name": "stderr",
     "output_type": "stream",
     "text": [
      "ep. 0000:   0%|          | 0/6000 [14:20<?, ?it/s, acc=0, loss=0, lr=5e-6]"
     ]
    },
    {
     "name": "stdout",
     "output_type": "stream",
     "text": [
      "Saved model to ../checkpoints//roberta_simple_cls_multilingual_translated_1e-3_1e-5_wd=1e-5_tanh_do=0_from_mlm_uncleaned_val00_last.pth\n"
     ]
    },
    {
     "name": "stderr",
     "output_type": "stream",
     "text": [
      "ep. 0000:   0%|          | 0/6000 [14:32<?, ?it/s, acc=0, loss=0, lr=5e-6]"
     ]
    },
    {
     "name": "stdout",
     "output_type": "stream",
     "text": [
      "Loaded model from ../checkpoints/roberta_simple_cls_multilingual_translated_2e-5_tanh_do=0_from_mlm.pth\n",
      "epoch 1, loss: 0.2018 val_loss: 0.2948 val_acc: 0.8542 val_auc: 0.9465 \n"
     ]
    },
    {
     "name": "stderr",
     "output_type": "stream",
     "text": [
      "ep. 0000: 100%|##########| 230/230 [01:46<00:00,  2.17it/s, loss=0.302, acc=0.865, lr=4e-6]   \n",
      "valid: 100%|##########| 250/250 [00:34<00:00,  7.20it/s]\n",
      "ep. 0000:   0%|          | 0/6000 [16:55<?, ?it/s, acc=0, loss=0, lr=5e-6]"
     ]
    },
    {
     "name": "stdout",
     "output_type": "stream",
     "text": [
      "Epoch 0 complete. loss=0.3024, val_loss=0.2276, val_acc=0.8715, val_auc=0.9521\n"
     ]
    },
    {
     "name": "stderr",
     "output_type": "stream",
     "text": [
      "ep. 0000:   0%|          | 0/6000 [16:58<?, ?it/s, acc=0, loss=0, lr=5e-6]"
     ]
    },
    {
     "name": "stdout",
     "output_type": "stream",
     "text": [
      "Saved model to ../checkpoints//roberta_simple_cls_multilingual_translated_2e-5_tanh_do=0_from_mlm_val01.pth\n"
     ]
    },
    {
     "name": "stderr",
     "output_type": "stream",
     "text": [
      "ep. 0001: 100%|##########| 230/230 [01:45<00:00,  2.17it/s, loss=0.234, acc=0.892, lr=3e-6]   \n",
      "valid: 100%|##########| 250/250 [00:34<00:00,  7.20it/s]\n",
      "ep. 0000:   0%|          | 0/6000 [19:21<?, ?it/s, acc=0, loss=0, lr=5e-6]"
     ]
    },
    {
     "name": "stdout",
     "output_type": "stream",
     "text": [
      "Epoch 1 complete. loss=0.2337, val_loss=0.2508, val_acc=0.8630, val_auc=0.9556\n"
     ]
    },
    {
     "name": "stderr",
     "output_type": "stream",
     "text": [
      "ep. 0000:   0%|          | 0/6000 [19:23<?, ?it/s, acc=0, loss=0, lr=5e-6]"
     ]
    },
    {
     "name": "stdout",
     "output_type": "stream",
     "text": [
      "Saved model to ../checkpoints//roberta_simple_cls_multilingual_translated_2e-5_tanh_do=0_from_mlm_val01.pth\n"
     ]
    },
    {
     "name": "stderr",
     "output_type": "stream",
     "text": [
      "ep. 0002: 100%|##########| 230/230 [01:57<00:00,  1.97it/s, loss=0.205, acc=0.909, lr=2e-6]   \n",
      "valid: 100%|##########| 250/250 [00:34<00:00,  7.21it/s]\n",
      "ep. 0000:   0%|          | 0/6000 [21:58<?, ?it/s, acc=0, loss=0, lr=5e-6]"
     ]
    },
    {
     "name": "stdout",
     "output_type": "stream",
     "text": [
      "Epoch 2 complete. loss=0.2051, val_loss=0.1974, val_acc=0.9075, val_auc=0.9553\n"
     ]
    },
    {
     "name": "stderr",
     "output_type": "stream",
     "text": [
      "ep. 0000:   0%|          | 0/6000 [22:02<?, ?it/s, acc=0, loss=0, lr=5e-6]"
     ]
    },
    {
     "name": "stdout",
     "output_type": "stream",
     "text": [
      "Saved model to ../checkpoints//roberta_simple_cls_multilingual_translated_2e-5_tanh_do=0_from_mlm_val01_last.pth\n"
     ]
    },
    {
     "name": "stderr",
     "output_type": "stream",
     "text": [
      "ep. 0003: 100%|##########| 230/230 [01:47<00:00,  2.14it/s, loss=0.177, acc=0.92, lr=1e-6]    \n",
      "valid: 100%|##########| 250/250 [00:34<00:00,  7.19it/s]\n",
      "ep. 0000:   0%|          | 0/6000 [24:27<?, ?it/s, acc=0, loss=0, lr=5e-6]"
     ]
    },
    {
     "name": "stdout",
     "output_type": "stream",
     "text": [
      "Epoch 3 complete. loss=0.1769, val_loss=0.2442, val_acc=0.8905, val_auc=0.9552\n"
     ]
    },
    {
     "name": "stderr",
     "output_type": "stream",
     "text": [
      "ep. 0000:   0%|          | 0/6000 [24:32<?, ?it/s, acc=0, loss=0, lr=5e-6]"
     ]
    },
    {
     "name": "stdout",
     "output_type": "stream",
     "text": [
      "Saved model to ../checkpoints//roberta_simple_cls_multilingual_translated_2e-5_tanh_do=0_from_mlm_val01_last.pth\n"
     ]
    },
    {
     "name": "stderr",
     "output_type": "stream",
     "text": [
      "ep. 0004: 100%|##########| 230/230 [01:46<00:00,  2.16it/s, loss=0.167, acc=0.927, lr=0]      \n",
      "valid: 100%|##########| 250/250 [00:35<00:00,  7.12it/s]\n",
      "ep. 0000:   0%|          | 0/6000 [26:56<?, ?it/s, acc=0, loss=0, lr=5e-6]"
     ]
    },
    {
     "name": "stdout",
     "output_type": "stream",
     "text": [
      "Epoch 4 complete. loss=0.1667, val_loss=0.2245, val_acc=0.8970, val_auc=0.9569\n"
     ]
    },
    {
     "name": "stderr",
     "output_type": "stream",
     "text": [
      "ep. 0000:   0%|          | 0/6000 [27:06<?, ?it/s, acc=0, loss=0, lr=5e-6]"
     ]
    },
    {
     "name": "stdout",
     "output_type": "stream",
     "text": [
      "Saved model to ../checkpoints//roberta_simple_cls_multilingual_translated_2e-5_tanh_do=0_from_mlm_val01.pth\n"
     ]
    },
    {
     "name": "stderr",
     "output_type": "stream",
     "text": [
      "ep. 0000:   0%|          | 0/6000 [27:19<?, ?it/s, acc=0, loss=0, lr=5e-6]"
     ]
    },
    {
     "name": "stdout",
     "output_type": "stream",
     "text": [
      "Loaded model from ../checkpoints/roberta_simple_cls_multilingual_translated_1e-3_1e-5_tanh_do=0_from_mlm_uncleaned.pth\n",
      "epoch 1, loss: 0.2111 val_loss: 0.2619 val_acc: 0.8724 val_auc: 0.9470 \n"
     ]
    },
    {
     "name": "stderr",
     "output_type": "stream",
     "text": [
      "ep. 0000: 100%|##########| 227/227 [01:46<00:00,  2.13it/s, loss=0.289, acc=0.869, lr=4e-6]   \n",
      "valid: 100%|##########| 250/250 [00:34<00:00,  7.15it/s]\n",
      "ep. 0000:   0%|          | 0/6000 [29:43<?, ?it/s, acc=0, loss=0, lr=5e-6]"
     ]
    },
    {
     "name": "stdout",
     "output_type": "stream",
     "text": [
      "Epoch 0 complete. loss=0.2894, val_loss=0.2207, val_acc=0.8930, val_auc=0.9468\n"
     ]
    },
    {
     "name": "stderr",
     "output_type": "stream",
     "text": [
      "ep. 0001: 100%|##########| 227/227 [01:46<00:00,  2.14it/s, loss=0.268, acc=0.875, lr=3e-6]   \n",
      "valid: 100%|##########| 250/250 [00:34<00:00,  7.19it/s]\n",
      "ep. 0000:   0%|          | 0/6000 [32:11<?, ?it/s, acc=0, loss=0, lr=5e-6]"
     ]
    },
    {
     "name": "stdout",
     "output_type": "stream",
     "text": [
      "Epoch 1 complete. loss=0.2682, val_loss=0.2001, val_acc=0.9080, val_auc=0.9501\n"
     ]
    },
    {
     "name": "stderr",
     "output_type": "stream",
     "text": [
      "ep. 0000:   0%|          | 0/6000 [32:17<?, ?it/s, acc=0, loss=0, lr=5e-6]"
     ]
    },
    {
     "name": "stdout",
     "output_type": "stream",
     "text": [
      "Saved model to ../checkpoints//roberta_simple_cls_multilingual_translated_1e-3_1e-5_tanh_do=0_from_mlm_uncleaned_val02.pth\n"
     ]
    },
    {
     "name": "stderr",
     "output_type": "stream",
     "text": [
      "ep. 0002: 100%|##########| 227/227 [01:46<00:00,  2.13it/s, loss=0.217, acc=0.903, lr=2e-6]   \n",
      "valid: 100%|##########| 250/250 [00:34<00:00,  7.19it/s]\n",
      "ep. 0000:   0%|          | 0/6000 [34:40<?, ?it/s, acc=0, loss=0, lr=5e-6]"
     ]
    },
    {
     "name": "stdout",
     "output_type": "stream",
     "text": [
      "Epoch 2 complete. loss=0.2174, val_loss=0.2198, val_acc=0.8950, val_auc=0.9521\n"
     ]
    },
    {
     "name": "stderr",
     "output_type": "stream",
     "text": [
      "ep. 0000:   0%|          | 0/6000 [34:46<?, ?it/s, acc=0, loss=0, lr=5e-6]"
     ]
    },
    {
     "name": "stdout",
     "output_type": "stream",
     "text": [
      "Saved model to ../checkpoints//roberta_simple_cls_multilingual_translated_1e-3_1e-5_tanh_do=0_from_mlm_uncleaned_val02.pth\n"
     ]
    },
    {
     "name": "stderr",
     "output_type": "stream",
     "text": [
      "ep. 0003: 100%|##########| 227/227 [01:45<00:00,  2.14it/s, loss=0.178, acc=0.927, lr=1e-6]   \n",
      "valid: 100%|##########| 250/250 [00:34<00:00,  7.18it/s]\n",
      "ep. 0000:   0%|          | 0/6000 [37:09<?, ?it/s, acc=0, loss=0, lr=5e-6]"
     ]
    },
    {
     "name": "stdout",
     "output_type": "stream",
     "text": [
      "Epoch 3 complete. loss=0.1778, val_loss=0.2240, val_acc=0.9070, val_auc=0.9520\n"
     ]
    },
    {
     "name": "stderr",
     "output_type": "stream",
     "text": [
      "ep. 0000:   0%|          | 0/6000 [37:15<?, ?it/s, acc=0, loss=0, lr=5e-6]"
     ]
    },
    {
     "name": "stdout",
     "output_type": "stream",
     "text": [
      "Saved model to ../checkpoints//roberta_simple_cls_multilingual_translated_1e-3_1e-5_tanh_do=0_from_mlm_uncleaned_val02_last.pth\n"
     ]
    },
    {
     "name": "stderr",
     "output_type": "stream",
     "text": [
      "ep. 0004: 100%|##########| 227/227 [01:46<00:00,  2.13it/s, loss=0.173, acc=0.922, lr=0]      \n",
      "valid: 100%|##########| 250/250 [00:34<00:00,  7.19it/s]\n",
      "ep. 0000:   0%|          | 0/6000 [39:38<?, ?it/s, acc=0, loss=0, lr=5e-6]"
     ]
    },
    {
     "name": "stdout",
     "output_type": "stream",
     "text": [
      "Epoch 4 complete. loss=0.1726, val_loss=0.2504, val_acc=0.8915, val_auc=0.9521\n"
     ]
    },
    {
     "name": "stderr",
     "output_type": "stream",
     "text": [
      "ep. 0000:   0%|          | 0/6000 [39:43<?, ?it/s, acc=0, loss=0, lr=5e-6]"
     ]
    },
    {
     "name": "stdout",
     "output_type": "stream",
     "text": [
      "Saved model to ../checkpoints//roberta_simple_cls_multilingual_translated_1e-3_1e-5_tanh_do=0_from_mlm_uncleaned_val02_last.pth\n"
     ]
    }
   ],
   "source": [
    "for i, name in enumerate(model_list):\n",
    "    torch.manual_seed(i)\n",
    "    valid_train, valid_test = random_split(valid, [6000, 2000])\n",
    "    \n",
    "    loader_valid_train = D.DataLoader(valid_train, batch_size=batch_size, num_workers=num_workers, \n",
    "                                      sampler=dataset.weighted_sampler(valid.y[valid_train.indices]))\n",
    "    loader_valid_test = D.DataLoader(valid_test, batch_size=batch_size, num_workers=num_workers)\n",
    "    \n",
    "    optimizer = AdamW(model.parameters(), lr=5e-6, eps=1e-8, weight_decay=0)\n",
    "    trnr = trainer.Trainer(f'{name}_val{i:02d}', model, loader_valid_train, loader_valid_test, loader_test, optimizer=optimizer, epochs=5, save='best')\n",
    "    trnr.load_checkpoint(f'../checkpoints/{name}.pth', ignore=['optimizer', 'scheduler'])\n",
    "    trnr.fit()"
   ]
  },
  {
   "cell_type": "code",
   "execution_count": 43,
   "metadata": {},
   "outputs": [
    {
     "name": "stderr",
     "output_type": "stream",
     "text": [
      "ep. 0000:   0%|          | 0/6000 [39:48<?, ?it/s, acc=0, loss=0, lr=5e-6]"
     ]
    },
    {
     "name": "stdout",
     "output_type": "stream",
     "text": [
      "Loaded model from ../checkpoints//roberta_simple_cls_multilingual_translated_1e-3_1e-5_wd=1e-5_tanh_do=0_from_mlm_uncleaned_val00.pth\n",
      "epoch 3, loss: 0.1916 val_loss: 0.2273 val_acc: 0.8965 val_auc: 0.9578 \n"
     ]
    },
    {
     "name": "stderr",
     "output_type": "stream",
     "text": [
      "test: 100%|##########| 7977/7977 [18:24<00:00,  7.22it/s]\n",
      "ep. 0000:   0%|          | 0/6000 [58:18<?, ?it/s, acc=0, loss=0, lr=5e-6]"
     ]
    },
    {
     "name": "stdout",
     "output_type": "stream",
     "text": [
      "Loaded model from ../checkpoints//roberta_simple_cls_multilingual_translated_2e-5_tanh_do=0_from_mlm_val01.pth\n",
      "epoch 4, loss: 0.1667 val_loss: 0.2245 val_acc: 0.8970 val_auc: 0.9569 \n"
     ]
    },
    {
     "name": "stderr",
     "output_type": "stream",
     "text": [
      "test: 100%|##########| 7977/7977 [18:23<00:00,  7.23it/s]\n",
      "ep. 0000:   0%|          | 0/6000 [1:16:47<?, ?it/s, acc=0, loss=0, lr=5e-6]"
     ]
    },
    {
     "name": "stdout",
     "output_type": "stream",
     "text": [
      "Loaded model from ../checkpoints//roberta_simple_cls_multilingual_translated_1e-3_1e-5_tanh_do=0_from_mlm_uncleaned_val02.pth\n",
      "epoch 2, loss: 0.2174 val_loss: 0.2198 val_acc: 0.8950 val_auc: 0.9521 \n"
     ]
    },
    {
     "name": "stderr",
     "output_type": "stream",
     "text": [
      "test: 100%|##########| 7977/7977 [18:24<00:00,  7.22it/s]\n"
     ]
    }
   ],
   "source": [
    "test_pred = []\n",
    "for i, name in enumerate(model_list):\n",
    "    trnr = trainer.Trainer(f'{name}_val{i:02d}', model, loader_valid_train, loader_valid_test, loader_test)\n",
    "    trnr.load_checkpoint(ignore=['optimizer', 'scheduler'])\n",
    "    test_pred.append(trnr.test()[0])"
   ]
  },
  {
   "cell_type": "code",
   "execution_count": 45,
   "metadata": {},
   "outputs": [],
   "source": [
    "for p, m in zip(test_pred, model_list):\n",
    "    np.save(f'../output/{m}.npy', p)"
   ]
  },
  {
   "cell_type": "code",
   "execution_count": 47,
   "metadata": {},
   "outputs": [],
   "source": [
    "averaged = np.mean(test_pred, 0)"
   ]
  },
  {
   "cell_type": "code",
   "execution_count": 48,
   "metadata": {},
   "outputs": [],
   "source": [
    "submission = pd.read_csv('../input/sample_submission.csv')"
   ]
  },
  {
   "cell_type": "code",
   "execution_count": 51,
   "metadata": {},
   "outputs": [
    {
     "data": {
      "text/html": [
       "<div>\n",
       "<style scoped>\n",
       "    .dataframe tbody tr th:only-of-type {\n",
       "        vertical-align: middle;\n",
       "    }\n",
       "\n",
       "    .dataframe tbody tr th {\n",
       "        vertical-align: top;\n",
       "    }\n",
       "\n",
       "    .dataframe thead th {\n",
       "        text-align: right;\n",
       "    }\n",
       "</style>\n",
       "<table border=\"1\" class=\"dataframe\">\n",
       "  <thead>\n",
       "    <tr style=\"text-align: right;\">\n",
       "      <th></th>\n",
       "      <th>id</th>\n",
       "      <th>toxic</th>\n",
       "    </tr>\n",
       "  </thead>\n",
       "  <tbody>\n",
       "    <tr>\n",
       "      <th>0</th>\n",
       "      <td>0</td>\n",
       "      <td>0.000244</td>\n",
       "    </tr>\n",
       "    <tr>\n",
       "      <th>1</th>\n",
       "      <td>1</td>\n",
       "      <td>0.000143</td>\n",
       "    </tr>\n",
       "    <tr>\n",
       "      <th>2</th>\n",
       "      <td>2</td>\n",
       "      <td>0.582583</td>\n",
       "    </tr>\n",
       "    <tr>\n",
       "      <th>3</th>\n",
       "      <td>3</td>\n",
       "      <td>0.000276</td>\n",
       "    </tr>\n",
       "    <tr>\n",
       "      <th>4</th>\n",
       "      <td>4</td>\n",
       "      <td>0.000166</td>\n",
       "    </tr>\n",
       "  </tbody>\n",
       "</table>\n",
       "</div>"
      ],
      "text/plain": [
       "   id     toxic\n",
       "0  0   0.000244\n",
       "1  1   0.000143\n",
       "2  2   0.582583\n",
       "3  3   0.000276\n",
       "4  4   0.000166"
      ]
     },
     "execution_count": 51,
     "metadata": {},
     "output_type": "execute_result"
    }
   ],
   "source": [
    "submission['toxic'] = softmax(averaged, 1)[:,1]\n",
    "submission.head()"
   ]
  },
  {
   "cell_type": "code",
   "execution_count": 52,
   "metadata": {},
   "outputs": [
    {
     "data": {
      "text/plain": [
       "<matplotlib.axes._subplots.AxesSubplot at 0x7f46cc5879d0>"
      ]
     },
     "execution_count": 52,
     "metadata": {},
     "output_type": "execute_result"
    },
    {
     "data": {
      "image/png": "[encoded data removed]",
      "text/plain": [
       "<Figure size 432x288 with 1 Axes>"
      ]
     },
     "metadata": {
      "needs_background": "light"
     },
     "output_type": "display_data"
    }
   ],
   "source": [
    "sns.distplot(submission.toxic)"
   ]
  },
  {
   "cell_type": "code",
   "execution_count": 53,
   "metadata": {},
   "outputs": [],
   "source": [
    "submission.to_csv('../submissions/submission_multilingual_ensemble.csv', index=False)"
   ]
  }
 ],
 "metadata": {
  "kernelspec": {
   "display_name": "peenv (conda)",
   "language": "python",
   "name": "peenv36"
  },
  "language_info": {
   "codemirror_mode": {
    "name": "ipython",
    "version": 3
   },
   "file_extension": ".py",
   "mimetype": "text/x-python",
   "name": "python",
   "nbconvert_exporter": "python",
   "pygments_lexer": "ipython3",
   "version": "3.7.4"
  }
 },
 "nbformat": 4,
 "nbformat_minor": 4
}
